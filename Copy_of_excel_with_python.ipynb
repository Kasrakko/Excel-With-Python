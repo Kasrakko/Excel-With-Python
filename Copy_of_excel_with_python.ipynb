{
  "nbformat": 4,
  "nbformat_minor": 0,
  "metadata": {
    "colab": {
      "provenance": [],
      "collapsed_sections": [
        "UPzH4cvDLGig",
        "DFdi5EuBJH6U",
        "uEfA1n7a48D-",
        "tG3PkY-NEeDR"
      ],
      "authorship_tag": "ABX9TyNu5mBtjV3tNi/OEmuvoYYm",
      "include_colab_link": true
    },
    "kernelspec": {
      "name": "python3",
      "display_name": "Python 3"
    },
    "language_info": {
      "name": "python"
    }
  },
  "cells": [
    {
      "cell_type": "markdown",
      "metadata": {
        "id": "view-in-github",
        "colab_type": "text"
      },
      "source": [
        "<a href=\"https://colab.research.google.com/github/Kasrakko/Excel-With-Python/blob/main/Copy_of_excel_with_python.ipynb\" target=\"_parent\"><img src=\"https://colab.research.google.com/assets/colab-badge.svg\" alt=\"Open In Colab\"/></a>"
      ]
    },
    {
      "cell_type": "markdown",
      "source": [
        "# workimg with excel in python"
      ],
      "metadata": {
        "id": "MSCq4d28sxzg"
      }
    },
    {
      "cell_type": "markdown",
      "source": [
        "## Import the librarries"
      ],
      "metadata": {
        "id": "dkFszdivA7vi"
      }
    },
    {
      "cell_type": "code",
      "source": [
        "import openpyxl as pyx\n",
        "import numpy as np\n",
        "import pandas as pd\n",
        "import matplotlib.pyplot as plt"
      ],
      "metadata": {
        "id": "8MH8f2ivAqBd"
      },
      "execution_count": 1,
      "outputs": []
    },
    {
      "cell_type": "markdown",
      "source": [
        "## Open the file"
      ],
      "metadata": {
        "id": "5mTDwItXCAjz"
      }
    },
    {
      "cell_type": "code",
      "source": [
        "wb = pyx.load_workbook('دیتا بیس گزارشات روزانه (3).xlsx')"
      ],
      "metadata": {
        "id": "avV4AD7XCE3b"
      },
      "execution_count": 2,
      "outputs": []
    },
    {
      "cell_type": "markdown",
      "source": [
        "## Select the sheet that we want"
      ],
      "metadata": {
        "id": "0JfgkOY9CE1a"
      }
    },
    {
      "cell_type": "code",
      "source": [
        "ws = wb['عملیات اجرایی']"
      ],
      "metadata": {
        "id": "g6vF2DFmCEy6"
      },
      "execution_count": 3,
      "outputs": []
    },
    {
      "cell_type": "markdown",
      "source": [
        "## Basic things for start"
      ],
      "metadata": {
        "id": "eyTn6PhOCEwK"
      }
    },
    {
      "cell_type": "markdown",
      "source": [
        "### Count the rows and columns"
      ],
      "metadata": {
        "id": "AoZfkzUVC9yq"
      }
    },
    {
      "cell_type": "code",
      "source": [
        "print(f\"Total number of rows: {ws.max_row} \\nTotal number columns: {ws.max_column}\")"
      ],
      "metadata": {
        "colab": {
          "base_uri": "https://localhost:8080/"
        },
        "id": "k8MQB4DnFyXy",
        "outputId": "b8c0ac30-b4ca-46f3-88c5-154ad342c61a"
      },
      "execution_count": 4,
      "outputs": [
        {
          "output_type": "stream",
          "name": "stdout",
          "text": [
            "Total number of rows: 216 \n",
            "Total number columns: 10\n"
          ]
        }
      ]
    },
    {
      "cell_type": "markdown",
      "source": [
        "### Reading data from a cell"
      ],
      "metadata": {
        "id": "eqcHgNJjDmp6"
      }
    },
    {
      "cell_type": "markdown",
      "source": [
        "#### The value of exact cell read be like this"
      ],
      "metadata": {
        "id": "uJnQCSyeDl7q"
      }
    },
    {
      "cell_type": "code",
      "source": [
        "print(f\"The value of cell A1 is: {ws['f2'].value}\")"
      ],
      "metadata": {
        "colab": {
          "base_uri": "https://localhost:8080/"
        },
        "id": "pDzQhlrZC9uF",
        "outputId": "9d30baaf-2f1c-4fed-e884-a1bf61d098a2"
      },
      "execution_count": 5,
      "outputs": [
        {
          "output_type": "stream",
          "name": "stdout",
          "text": [
            "The value of cell A1 is: اجرای عملیات تخریب دیوار ضلع جنوبی کارگاه\n"
          ]
        }
      ]
    },
    {
      "cell_type": "markdown",
      "source": [
        "#### Reading data from multiple cells"
      ],
      "metadata": {
        "id": "vTOS6vYrC9py"
      }
    },
    {
      "cell_type": "code",
      "source": [
        "values = [ws.cell(row=1, column=i).value\n",
        "          for i in range(1, ws.max_column+1)]\n",
        "print(values)"
      ],
      "metadata": {
        "colab": {
          "base_uri": "https://localhost:8080/"
        },
        "id": "NWGVz1E4C9nr",
        "outputId": "400d3bdd-6a4d-4f62-84f9-f4b1ec2653e0"
      },
      "execution_count": 6,
      "outputs": [
        {
          "output_type": "stream",
          "name": "stdout",
          "text": [
            "['ردیف', 'تاریخ', 'شماره گزارش', 'موضوع', 'تراز', 'شرح', 'حجم كل', 'مقدار', 'واحد', 'کد WBS']\n"
          ]
        }
      ]
    },
    {
      "cell_type": "code",
      "source": [
        "myColumnValues = [ws.cell(row=i, column=6).value\n",
        "                  for i in range(2, ws.max_row+1)]\n",
        "# if we want to get data in specefic area we could write any array in `range()`\n",
        "# you can uncomment the below code and see the resualt\n",
        "# for i in myColumnValues:\n",
        "#   print (i)\n"
      ],
      "metadata": {
        "id": "jYyWfMAXC9i6"
      },
      "execution_count": 7,
      "outputs": []
    },
    {
      "cell_type": "markdown",
      "source": [
        "#### Reading data from any range of columns"
      ],
      "metadata": {
        "id": "UPzH4cvDLGig"
      }
    },
    {
      "cell_type": "code",
      "source": [
        "my_report_list = list()\n",
        "data_list = list()\n",
        "\n",
        "for value in ws.iter_rows(\n",
        "    min_row=1, max_row=11, min_col=1, max_col=6,\n",
        "    values_only=True):\n",
        "  my_report_list.append(value)\n",
        "\n",
        "for i in my_report_list[1:]:\n",
        "  data_list.append(i)\n",
        "#data_list\n",
        "\n",
        "## Make it numPy array, so we can get shape of its\n",
        "data_list = np.array(data_list)\n",
        "data_list.shape\n"
      ],
      "metadata": {
        "colab": {
          "base_uri": "https://localhost:8080/"
        },
        "id": "QyIYGB4BLGga",
        "outputId": "fc15dabb-0ae7-499b-af03-5eb4b519b268"
      },
      "execution_count": 8,
      "outputs": [
        {
          "output_type": "execute_result",
          "data": {
            "text/plain": [
              "(10, 6)"
            ]
          },
          "metadata": {},
          "execution_count": 8
        }
      ]
    },
    {
      "cell_type": "markdown",
      "source": [
        "### Writing into excel file"
      ],
      "metadata": {
        "id": "aGzr4wE-CEcC"
      }
    },
    {
      "cell_type": "markdown",
      "source": [
        "#### `ws['Your cell location'] = 'The data that U want to add'`"
      ],
      "metadata": {
        "id": "T5SXLcDuCEaS"
      }
    },
    {
      "cell_type": "markdown",
      "source": [
        "#### `wb.save('ديتابيس گزارس روزانه.xlsx')`"
      ],
      "metadata": {
        "id": "MLPOYnPJh5v1"
      }
    },
    {
      "cell_type": "markdown",
      "source": [
        "`row_position = 173`\n",
        "`col_position = 7`\n",
        "\n",
        "`total_value = ((ws.cell(row=row_position, column=col_position).value)*`\n",
        "              ` (ws.cell(row=row_position, column=col_position+1).value))`\n",
        "\n",
        "`ws.cell(row=173,column=11).value=total_value`\n",
        "`wb.save('دیتا بیس گزارشات روزانه (3).xlsx')`"
      ],
      "metadata": {
        "id": "EK24ekWmje7Q"
      }
    },
    {
      "cell_type": "markdown",
      "source": [
        "#### Remmember that if u want to edit the file while you had id open somewhere you will reach to an eroor"
      ],
      "metadata": {
        "id": "y4ynzg2Ph5t3"
      }
    },
    {
      "cell_type": "markdown",
      "source": [
        "### Make our file to a Dataframe to change it with Pandas and felixiable to changing"
      ],
      "metadata": {
        "id": "E3mRgLPri3M7"
      }
    },
    {
      "cell_type": "markdown",
      "source": [
        "#### Make all the column a list()"
      ],
      "metadata": {
        "id": "CAuca1Yr-UGh"
      }
    },
    {
      "cell_type": "code",
      "source": [
        "col1 = [ws.cell(row=i, column=1).value\n",
        "                  for i in range(2, ws.max_row+1)]\n",
        "# len(col1)\n",
        "\n",
        "col2 = [ws.cell(row=i, column=2).value\n",
        "                  for i in range(2, ws.max_row+1)]\n",
        "# len(col2)\n",
        "\n",
        "col3 = [ws.cell(row=i, column=3).value\n",
        "                  for i in range(2, ws.max_row+1)]\n",
        "# len(col3)\n",
        "\n",
        "col4 = [ws.cell(row=i, column=4).value\n",
        "                  for i in range(2, ws.max_row+1)]\n",
        "# len(col4)\n",
        "\n",
        "col5 = [ws.cell(row=i, column=5).value\n",
        "                  for i in range(2, ws.max_row+1)]\n",
        "# len(col5)\n",
        "\n",
        "col6 = [ws.cell(row=i, column=6).value\n",
        "                  for i in range(2, ws.max_row+1)]\n",
        "# len(col6)\n",
        "\n",
        "col8 = [ws.cell(row=i, column=8).value\n",
        "                  for i in range(2, ws.max_row+1)]\n",
        "# len(col8)\n",
        "\n",
        "col9 = [ws.cell(row=i, column=9).value\n",
        "                  for i in range(2, ws.max_row+1)]\n",
        "# len(col9)\n",
        "\n",
        "col10 = [ws.cell(row=i, column=10).value\n",
        "                  for i in range(2, ws.max_row+1)]\n",
        "# len(col10)\n",
        "\n",
        "col7 = [ws.cell(row=i, column=7).value\n",
        "                  for i in range(2, ws.max_row+1)]\n",
        "# len(col7)"
      ],
      "metadata": {
        "id": "aqnISln7BW_s"
      },
      "execution_count": 9,
      "outputs": []
    },
    {
      "cell_type": "markdown",
      "source": [
        "#### Now make all of the lists to a datagram"
      ],
      "metadata": {
        "id": "nlmbjeeL-clB"
      }
    },
    {
      "cell_type": "code",
      "source": [
        "# We have to convert the list to data frame to work with pandas and make the null values to zero\n",
        "# Do it for ALL Column\n",
        "\n",
        "df_col1 = pd.DataFrame(col1, columns=['رديف'])\n",
        "df_col1['رديف'] = df_col1['رديف'].fillna(0)\n",
        "\n",
        "df_col2 = pd.DataFrame(col2, columns=['تاريخ'])\n",
        "df_col2['تاريخ'] = df_col2['تاريخ'].fillna(0)\n",
        "\n",
        "\n",
        "df_col3 = pd.DataFrame(col3, columns=['شماره گزارش'])\n",
        "df_col3['شماره گزارش'] = df_col3['شماره گزارش'].fillna(0)\n",
        "\n",
        "\n",
        "df_col4 = pd.DataFrame(col4, columns=['موضوع'])\n",
        "df_col4['موضوع'] = df_col4['موضوع'].fillna(0)\n",
        "\n",
        "\n",
        "df_col5 = pd.DataFrame(col5, columns=['تراز'])\n",
        "df_col5['تراز'] = df_col5['تراز'].fillna(0)\n",
        "\n",
        "\n",
        "df_col6 = pd.DataFrame(col6, columns=['شرح'])\n",
        "df_col6['شرح'] = df_col6['شرح'].fillna(0)\n",
        "\n",
        "\n",
        "df_col7 = pd.DataFrame(col7, columns=['حجم كل'])\n",
        "df_col7['حجم كل'] = df_col7['حجم كل'].fillna(0)\n",
        "\n",
        "\n",
        "\n",
        "df_col8 = pd.DataFrame(col8, columns=['مقدار'])\n",
        "df_col8['مقدار'] = df_col8['مقدار'].fillna(0)\n",
        "\n",
        "df_col9 = df = pd.DataFrame(col9, columns=['واحد'])\n",
        "df_col9['واحد'] = df_col9['واحد'].fillna(0)\n",
        "\n",
        "df_col10 = df = pd.DataFrame(col10, columns=['كد WBS'])\n",
        "df_col10['كد WBS'] = df_col10['كد WBS'].fillna(0)\n",
        "\n",
        "print (df_col1['رديف'][171])\n",
        "print (df_col2['تاريخ'][171])\n",
        "print (df_col3['شماره گزارش'][171])\n",
        "print (df_col4['موضوع'][171])\n",
        "print (df_col5['تراز'][171])\n",
        "print (df_col6['شرح'][171])\n",
        "print (df_col7['حجم كل'][171])\n",
        "print (df_col8['مقدار'][171])\n",
        "print (df_col9['واحد'][171])\n",
        "print (df_col10['كد WBS'][171])"
      ],
      "metadata": {
        "colab": {
          "base_uri": "https://localhost:8080/"
        },
        "id": "SSLaSlHXRWlK",
        "outputId": "0ac3add3-2587-4aaa-a961-0cc059b92206"
      },
      "execution_count": 10,
      "outputs": [
        {
          "output_type": "stream",
          "name": "stdout",
          "text": [
            "0.0\n",
            "2023-07-19 00:00:00\n",
            "85\n",
            "0\n",
            "0\n",
            "خم و برش آرماتور هاي ستون ها و ديوار هاي حائل\n",
            "43.249\n",
            "2.478\n",
            "تن\n",
            "0\n"
          ]
        }
      ]
    },
    {
      "cell_type": "markdown",
      "source": [
        "#### Join all of the Daaframes and make a table"
      ],
      "metadata": {
        "id": "Zydn3WA2-kg5"
      }
    },
    {
      "cell_type": "code",
      "source": [
        "# Joingong the data frames as column and create the main data frame\n",
        "full_file = pd.concat([df_col1, df_col2, df_col3, df_col4, df_col5, df_col6, df_col7, df_col8, df_col9, df_col10], axis=1, join='inner')\n",
        "display(full_file)"
      ],
      "metadata": {
        "colab": {
          "base_uri": "https://localhost:8080/",
          "height": 424
        },
        "id": "gsPU2dJBWilr",
        "outputId": "cd18af8d-dd33-4e02-f340-5537fa0b3098"
      },
      "execution_count": 11,
      "outputs": [
        {
          "output_type": "display_data",
          "data": {
            "text/plain": [
              "     رديف      تاريخ  شماره گزارش  موضوع  تراز  \\\n",
              "0     1.0 2023-05-22           27      0     0   \n",
              "1     2.0 2023-05-22           27      0     0   \n",
              "2     1.0 2023-05-23           28      0     0   \n",
              "3     2.0 2023-05-23           28      0     0   \n",
              "4     3.0 2023-05-23           28      0     0   \n",
              "..    ...        ...          ...    ...   ...   \n",
              "210   0.0 2023-08-07          104      0     0   \n",
              "211   0.0 2023-08-08          105      0     0   \n",
              "212   0.0 2023-08-08          105      0     0   \n",
              "213   0.0 2023-08-08          105      0     0   \n",
              "214   0.0 2023-08-08          105      0     0   \n",
              "\n",
              "                                                   شرح  حجم كل  مقدار واحد  \\\n",
              "0            اجرای عملیات تخریب دیوار ضلع جنوبی کارگاه     0.0    0.0    0   \n",
              "1    اجرایی زیرسازی و پایه گذاری حصار کارگاه ضلع جنوبی     0.0    0.0    0   \n",
              "2            اجرای عملیات تخریب دیوار ضلع جنوبی کارگاه     0.0    0.0    0   \n",
              "3    اجرایی زیرسازی و پایه گذاری حصار کارگاه ضلع جنوبی     0.0    0.0    0   \n",
              "4                           تعمیر و اصلاحیه برق کارگاه     0.0    0.0    0   \n",
              "..                                                 ...     ...    ...  ...   \n",
              "210                                 نصب تاور کرین 8 تن     0.0    0.0    0   \n",
              "211        نصب پلیت های زیر سری شاسی کشی کانکس های فنی     0.0    0.0    0   \n",
              "212                                 نصب تاور کرین 8 تن     0.0    0.0    0   \n",
              "213                     آرماتوربندی پارت یک دیوار حائل     0.0    2.1   تن   \n",
              "214                  راه اندازی دو دستگاه دیزل ژنراتور     0.0    0.0    0   \n",
              "\n",
              "    كد WBS  \n",
              "0    1.4.1  \n",
              "1    1.4.1  \n",
              "2    1.4.1  \n",
              "3    1.4.1  \n",
              "4    1.4.1  \n",
              "..     ...  \n",
              "210      0  \n",
              "211      0  \n",
              "212      0  \n",
              "213      0  \n",
              "214      0  \n",
              "\n",
              "[215 rows x 10 columns]"
            ],
            "text/html": [
              "\n",
              "\n",
              "  <div id=\"df-5f7d6166-9bab-4b31-9998-f2968de63f57\">\n",
              "    <div class=\"colab-df-container\">\n",
              "      <div>\n",
              "<style scoped>\n",
              "    .dataframe tbody tr th:only-of-type {\n",
              "        vertical-align: middle;\n",
              "    }\n",
              "\n",
              "    .dataframe tbody tr th {\n",
              "        vertical-align: top;\n",
              "    }\n",
              "\n",
              "    .dataframe thead th {\n",
              "        text-align: right;\n",
              "    }\n",
              "</style>\n",
              "<table border=\"1\" class=\"dataframe\">\n",
              "  <thead>\n",
              "    <tr style=\"text-align: right;\">\n",
              "      <th></th>\n",
              "      <th>رديف</th>\n",
              "      <th>تاريخ</th>\n",
              "      <th>شماره گزارش</th>\n",
              "      <th>موضوع</th>\n",
              "      <th>تراز</th>\n",
              "      <th>شرح</th>\n",
              "      <th>حجم كل</th>\n",
              "      <th>مقدار</th>\n",
              "      <th>واحد</th>\n",
              "      <th>كد WBS</th>\n",
              "    </tr>\n",
              "  </thead>\n",
              "  <tbody>\n",
              "    <tr>\n",
              "      <th>0</th>\n",
              "      <td>1.0</td>\n",
              "      <td>2023-05-22</td>\n",
              "      <td>27</td>\n",
              "      <td>0</td>\n",
              "      <td>0</td>\n",
              "      <td>اجرای عملیات تخریب دیوار ضلع جنوبی کارگاه</td>\n",
              "      <td>0.0</td>\n",
              "      <td>0.0</td>\n",
              "      <td>0</td>\n",
              "      <td>1.4.1</td>\n",
              "    </tr>\n",
              "    <tr>\n",
              "      <th>1</th>\n",
              "      <td>2.0</td>\n",
              "      <td>2023-05-22</td>\n",
              "      <td>27</td>\n",
              "      <td>0</td>\n",
              "      <td>0</td>\n",
              "      <td>اجرایی زیرسازی و پایه گذاری حصار کارگاه ضلع جنوبی</td>\n",
              "      <td>0.0</td>\n",
              "      <td>0.0</td>\n",
              "      <td>0</td>\n",
              "      <td>1.4.1</td>\n",
              "    </tr>\n",
              "    <tr>\n",
              "      <th>2</th>\n",
              "      <td>1.0</td>\n",
              "      <td>2023-05-23</td>\n",
              "      <td>28</td>\n",
              "      <td>0</td>\n",
              "      <td>0</td>\n",
              "      <td>اجرای عملیات تخریب دیوار ضلع جنوبی کارگاه</td>\n",
              "      <td>0.0</td>\n",
              "      <td>0.0</td>\n",
              "      <td>0</td>\n",
              "      <td>1.4.1</td>\n",
              "    </tr>\n",
              "    <tr>\n",
              "      <th>3</th>\n",
              "      <td>2.0</td>\n",
              "      <td>2023-05-23</td>\n",
              "      <td>28</td>\n",
              "      <td>0</td>\n",
              "      <td>0</td>\n",
              "      <td>اجرایی زیرسازی و پایه گذاری حصار کارگاه ضلع جنوبی</td>\n",
              "      <td>0.0</td>\n",
              "      <td>0.0</td>\n",
              "      <td>0</td>\n",
              "      <td>1.4.1</td>\n",
              "    </tr>\n",
              "    <tr>\n",
              "      <th>4</th>\n",
              "      <td>3.0</td>\n",
              "      <td>2023-05-23</td>\n",
              "      <td>28</td>\n",
              "      <td>0</td>\n",
              "      <td>0</td>\n",
              "      <td>تعمیر و اصلاحیه برق کارگاه</td>\n",
              "      <td>0.0</td>\n",
              "      <td>0.0</td>\n",
              "      <td>0</td>\n",
              "      <td>1.4.1</td>\n",
              "    </tr>\n",
              "    <tr>\n",
              "      <th>...</th>\n",
              "      <td>...</td>\n",
              "      <td>...</td>\n",
              "      <td>...</td>\n",
              "      <td>...</td>\n",
              "      <td>...</td>\n",
              "      <td>...</td>\n",
              "      <td>...</td>\n",
              "      <td>...</td>\n",
              "      <td>...</td>\n",
              "      <td>...</td>\n",
              "    </tr>\n",
              "    <tr>\n",
              "      <th>210</th>\n",
              "      <td>0.0</td>\n",
              "      <td>2023-08-07</td>\n",
              "      <td>104</td>\n",
              "      <td>0</td>\n",
              "      <td>0</td>\n",
              "      <td>نصب تاور کرین 8 تن</td>\n",
              "      <td>0.0</td>\n",
              "      <td>0.0</td>\n",
              "      <td>0</td>\n",
              "      <td>0</td>\n",
              "    </tr>\n",
              "    <tr>\n",
              "      <th>211</th>\n",
              "      <td>0.0</td>\n",
              "      <td>2023-08-08</td>\n",
              "      <td>105</td>\n",
              "      <td>0</td>\n",
              "      <td>0</td>\n",
              "      <td>نصب پلیت های زیر سری شاسی کشی کانکس های فنی</td>\n",
              "      <td>0.0</td>\n",
              "      <td>0.0</td>\n",
              "      <td>0</td>\n",
              "      <td>0</td>\n",
              "    </tr>\n",
              "    <tr>\n",
              "      <th>212</th>\n",
              "      <td>0.0</td>\n",
              "      <td>2023-08-08</td>\n",
              "      <td>105</td>\n",
              "      <td>0</td>\n",
              "      <td>0</td>\n",
              "      <td>نصب تاور کرین 8 تن</td>\n",
              "      <td>0.0</td>\n",
              "      <td>0.0</td>\n",
              "      <td>0</td>\n",
              "      <td>0</td>\n",
              "    </tr>\n",
              "    <tr>\n",
              "      <th>213</th>\n",
              "      <td>0.0</td>\n",
              "      <td>2023-08-08</td>\n",
              "      <td>105</td>\n",
              "      <td>0</td>\n",
              "      <td>0</td>\n",
              "      <td>آرماتوربندی پارت یک دیوار حائل</td>\n",
              "      <td>0.0</td>\n",
              "      <td>2.1</td>\n",
              "      <td>تن</td>\n",
              "      <td>0</td>\n",
              "    </tr>\n",
              "    <tr>\n",
              "      <th>214</th>\n",
              "      <td>0.0</td>\n",
              "      <td>2023-08-08</td>\n",
              "      <td>105</td>\n",
              "      <td>0</td>\n",
              "      <td>0</td>\n",
              "      <td>راه اندازی دو دستگاه دیزل ژنراتور</td>\n",
              "      <td>0.0</td>\n",
              "      <td>0.0</td>\n",
              "      <td>0</td>\n",
              "      <td>0</td>\n",
              "    </tr>\n",
              "  </tbody>\n",
              "</table>\n",
              "<p>215 rows × 10 columns</p>\n",
              "</div>\n",
              "      <button class=\"colab-df-convert\" onclick=\"convertToInteractive('df-5f7d6166-9bab-4b31-9998-f2968de63f57')\"\n",
              "              title=\"Convert this dataframe to an interactive table.\"\n",
              "              style=\"display:none;\">\n",
              "\n",
              "  <svg xmlns=\"http://www.w3.org/2000/svg\" height=\"24px\"viewBox=\"0 0 24 24\"\n",
              "       width=\"24px\">\n",
              "    <path d=\"M0 0h24v24H0V0z\" fill=\"none\"/>\n",
              "    <path d=\"M18.56 5.44l.94 2.06.94-2.06 2.06-.94-2.06-.94-.94-2.06-.94 2.06-2.06.94zm-11 1L8.5 8.5l.94-2.06 2.06-.94-2.06-.94L8.5 2.5l-.94 2.06-2.06.94zm10 10l.94 2.06.94-2.06 2.06-.94-2.06-.94-.94-2.06-.94 2.06-2.06.94z\"/><path d=\"M17.41 7.96l-1.37-1.37c-.4-.4-.92-.59-1.43-.59-.52 0-1.04.2-1.43.59L10.3 9.45l-7.72 7.72c-.78.78-.78 2.05 0 2.83L4 21.41c.39.39.9.59 1.41.59.51 0 1.02-.2 1.41-.59l7.78-7.78 2.81-2.81c.8-.78.8-2.07 0-2.86zM5.41 20L4 18.59l7.72-7.72 1.47 1.35L5.41 20z\"/>\n",
              "  </svg>\n",
              "      </button>\n",
              "\n",
              "\n",
              "\n",
              "    <div id=\"df-2d8cce0c-63ce-47b7-b26e-dacbdca61b88\">\n",
              "      <button class=\"colab-df-quickchart\" onclick=\"quickchart('df-2d8cce0c-63ce-47b7-b26e-dacbdca61b88')\"\n",
              "              title=\"Suggest charts.\"\n",
              "              style=\"display:none;\">\n",
              "\n",
              "<svg xmlns=\"http://www.w3.org/2000/svg\" height=\"24px\"viewBox=\"0 0 24 24\"\n",
              "     width=\"24px\">\n",
              "    <g>\n",
              "        <path d=\"M19 3H5c-1.1 0-2 .9-2 2v14c0 1.1.9 2 2 2h14c1.1 0 2-.9 2-2V5c0-1.1-.9-2-2-2zM9 17H7v-7h2v7zm4 0h-2V7h2v10zm4 0h-2v-4h2v4z\"/>\n",
              "    </g>\n",
              "</svg>\n",
              "      </button>\n",
              "    </div>\n",
              "\n",
              "<style>\n",
              "  .colab-df-quickchart {\n",
              "    background-color: #E8F0FE;\n",
              "    border: none;\n",
              "    border-radius: 50%;\n",
              "    cursor: pointer;\n",
              "    display: none;\n",
              "    fill: #1967D2;\n",
              "    height: 32px;\n",
              "    padding: 0 0 0 0;\n",
              "    width: 32px;\n",
              "  }\n",
              "\n",
              "  .colab-df-quickchart:hover {\n",
              "    background-color: #E2EBFA;\n",
              "    box-shadow: 0px 1px 2px rgba(60, 64, 67, 0.3), 0px 1px 3px 1px rgba(60, 64, 67, 0.15);\n",
              "    fill: #174EA6;\n",
              "  }\n",
              "\n",
              "  [theme=dark] .colab-df-quickchart {\n",
              "    background-color: #3B4455;\n",
              "    fill: #D2E3FC;\n",
              "  }\n",
              "\n",
              "  [theme=dark] .colab-df-quickchart:hover {\n",
              "    background-color: #434B5C;\n",
              "    box-shadow: 0px 1px 3px 1px rgba(0, 0, 0, 0.15);\n",
              "    filter: drop-shadow(0px 1px 2px rgba(0, 0, 0, 0.3));\n",
              "    fill: #FFFFFF;\n",
              "  }\n",
              "</style>\n",
              "\n",
              "    <script>\n",
              "      async function quickchart(key) {\n",
              "        const containerElement = document.querySelector('#' + key);\n",
              "        const charts = await google.colab.kernel.invokeFunction(\n",
              "            'suggestCharts', [key], {});\n",
              "      }\n",
              "    </script>\n",
              "\n",
              "      <script>\n",
              "\n",
              "function displayQuickchartButton(domScope) {\n",
              "  let quickchartButtonEl =\n",
              "    domScope.querySelector('#df-2d8cce0c-63ce-47b7-b26e-dacbdca61b88 button.colab-df-quickchart');\n",
              "  quickchartButtonEl.style.display =\n",
              "    google.colab.kernel.accessAllowed ? 'block' : 'none';\n",
              "}\n",
              "\n",
              "        displayQuickchartButton(document);\n",
              "      </script>\n",
              "      <style>\n",
              "    .colab-df-container {\n",
              "      display:flex;\n",
              "      flex-wrap:wrap;\n",
              "      gap: 12px;\n",
              "    }\n",
              "\n",
              "    .colab-df-convert {\n",
              "      background-color: #E8F0FE;\n",
              "      border: none;\n",
              "      border-radius: 50%;\n",
              "      cursor: pointer;\n",
              "      display: none;\n",
              "      fill: #1967D2;\n",
              "      height: 32px;\n",
              "      padding: 0 0 0 0;\n",
              "      width: 32px;\n",
              "    }\n",
              "\n",
              "    .colab-df-convert:hover {\n",
              "      background-color: #E2EBFA;\n",
              "      box-shadow: 0px 1px 2px rgba(60, 64, 67, 0.3), 0px 1px 3px 1px rgba(60, 64, 67, 0.15);\n",
              "      fill: #174EA6;\n",
              "    }\n",
              "\n",
              "    [theme=dark] .colab-df-convert {\n",
              "      background-color: #3B4455;\n",
              "      fill: #D2E3FC;\n",
              "    }\n",
              "\n",
              "    [theme=dark] .colab-df-convert:hover {\n",
              "      background-color: #434B5C;\n",
              "      box-shadow: 0px 1px 3px 1px rgba(0, 0, 0, 0.15);\n",
              "      filter: drop-shadow(0px 1px 2px rgba(0, 0, 0, 0.3));\n",
              "      fill: #FFFFFF;\n",
              "    }\n",
              "  </style>\n",
              "\n",
              "      <script>\n",
              "        const buttonEl =\n",
              "          document.querySelector('#df-5f7d6166-9bab-4b31-9998-f2968de63f57 button.colab-df-convert');\n",
              "        buttonEl.style.display =\n",
              "          google.colab.kernel.accessAllowed ? 'block' : 'none';\n",
              "\n",
              "        async function convertToInteractive(key) {\n",
              "          const element = document.querySelector('#df-5f7d6166-9bab-4b31-9998-f2968de63f57');\n",
              "          const dataTable =\n",
              "            await google.colab.kernel.invokeFunction('convertToInteractive',\n",
              "                                                     [key], {});\n",
              "          if (!dataTable) return;\n",
              "\n",
              "          const docLinkHtml = 'Like what you see? Visit the ' +\n",
              "            '<a target=\"_blank\" href=https://colab.research.google.com/notebooks/data_table.ipynb>data table notebook</a>'\n",
              "            + ' to learn more about interactive tables.';\n",
              "          element.innerHTML = '';\n",
              "          dataTable['output_type'] = 'display_data';\n",
              "          await google.colab.output.renderOutput(dataTable, element);\n",
              "          const docLink = document.createElement('div');\n",
              "          docLink.innerHTML = docLinkHtml;\n",
              "          element.appendChild(docLink);\n",
              "        }\n",
              "      </script>\n",
              "    </div>\n",
              "  </div>\n"
            ]
          },
          "metadata": {}
        }
      ]
    },
    {
      "cell_type": "markdown",
      "source": [
        "#### Add a column to table for total price"
      ],
      "metadata": {
        "id": "dTNn99JW-rqp"
      }
    },
    {
      "cell_type": "code",
      "source": [
        "# Adding new column as total calculator\n",
        "total = full_file['مقدار'] * full_file['حجم كل']\n",
        "full_file['جمع كل'] = total\n",
        "full_file\n",
        "#full_file['جمع كل'][171]"
      ],
      "metadata": {
        "colab": {
          "base_uri": "https://localhost:8080/",
          "height": 424
        },
        "id": "8QxCGaWcZr7l",
        "outputId": "64c0c8fd-1951-4f88-9c45-e938bea17a81"
      },
      "execution_count": 12,
      "outputs": [
        {
          "output_type": "execute_result",
          "data": {
            "text/plain": [
              "     رديف      تاريخ  شماره گزارش  موضوع  تراز  \\\n",
              "0     1.0 2023-05-22           27      0     0   \n",
              "1     2.0 2023-05-22           27      0     0   \n",
              "2     1.0 2023-05-23           28      0     0   \n",
              "3     2.0 2023-05-23           28      0     0   \n",
              "4     3.0 2023-05-23           28      0     0   \n",
              "..    ...        ...          ...    ...   ...   \n",
              "210   0.0 2023-08-07          104      0     0   \n",
              "211   0.0 2023-08-08          105      0     0   \n",
              "212   0.0 2023-08-08          105      0     0   \n",
              "213   0.0 2023-08-08          105      0     0   \n",
              "214   0.0 2023-08-08          105      0     0   \n",
              "\n",
              "                                                   شرح  حجم كل  مقدار واحد  \\\n",
              "0            اجرای عملیات تخریب دیوار ضلع جنوبی کارگاه     0.0    0.0    0   \n",
              "1    اجرایی زیرسازی و پایه گذاری حصار کارگاه ضلع جنوبی     0.0    0.0    0   \n",
              "2            اجرای عملیات تخریب دیوار ضلع جنوبی کارگاه     0.0    0.0    0   \n",
              "3    اجرایی زیرسازی و پایه گذاری حصار کارگاه ضلع جنوبی     0.0    0.0    0   \n",
              "4                           تعمیر و اصلاحیه برق کارگاه     0.0    0.0    0   \n",
              "..                                                 ...     ...    ...  ...   \n",
              "210                                 نصب تاور کرین 8 تن     0.0    0.0    0   \n",
              "211        نصب پلیت های زیر سری شاسی کشی کانکس های فنی     0.0    0.0    0   \n",
              "212                                 نصب تاور کرین 8 تن     0.0    0.0    0   \n",
              "213                     آرماتوربندی پارت یک دیوار حائل     0.0    2.1   تن   \n",
              "214                  راه اندازی دو دستگاه دیزل ژنراتور     0.0    0.0    0   \n",
              "\n",
              "    كد WBS  جمع كل  \n",
              "0    1.4.1     0.0  \n",
              "1    1.4.1     0.0  \n",
              "2    1.4.1     0.0  \n",
              "3    1.4.1     0.0  \n",
              "4    1.4.1     0.0  \n",
              "..     ...     ...  \n",
              "210      0     0.0  \n",
              "211      0     0.0  \n",
              "212      0     0.0  \n",
              "213      0     0.0  \n",
              "214      0     0.0  \n",
              "\n",
              "[215 rows x 11 columns]"
            ],
            "text/html": [
              "\n",
              "\n",
              "  <div id=\"df-a4a8fc56-b626-4fd2-af51-557c4a84a9d7\">\n",
              "    <div class=\"colab-df-container\">\n",
              "      <div>\n",
              "<style scoped>\n",
              "    .dataframe tbody tr th:only-of-type {\n",
              "        vertical-align: middle;\n",
              "    }\n",
              "\n",
              "    .dataframe tbody tr th {\n",
              "        vertical-align: top;\n",
              "    }\n",
              "\n",
              "    .dataframe thead th {\n",
              "        text-align: right;\n",
              "    }\n",
              "</style>\n",
              "<table border=\"1\" class=\"dataframe\">\n",
              "  <thead>\n",
              "    <tr style=\"text-align: right;\">\n",
              "      <th></th>\n",
              "      <th>رديف</th>\n",
              "      <th>تاريخ</th>\n",
              "      <th>شماره گزارش</th>\n",
              "      <th>موضوع</th>\n",
              "      <th>تراز</th>\n",
              "      <th>شرح</th>\n",
              "      <th>حجم كل</th>\n",
              "      <th>مقدار</th>\n",
              "      <th>واحد</th>\n",
              "      <th>كد WBS</th>\n",
              "      <th>جمع كل</th>\n",
              "    </tr>\n",
              "  </thead>\n",
              "  <tbody>\n",
              "    <tr>\n",
              "      <th>0</th>\n",
              "      <td>1.0</td>\n",
              "      <td>2023-05-22</td>\n",
              "      <td>27</td>\n",
              "      <td>0</td>\n",
              "      <td>0</td>\n",
              "      <td>اجرای عملیات تخریب دیوار ضلع جنوبی کارگاه</td>\n",
              "      <td>0.0</td>\n",
              "      <td>0.0</td>\n",
              "      <td>0</td>\n",
              "      <td>1.4.1</td>\n",
              "      <td>0.0</td>\n",
              "    </tr>\n",
              "    <tr>\n",
              "      <th>1</th>\n",
              "      <td>2.0</td>\n",
              "      <td>2023-05-22</td>\n",
              "      <td>27</td>\n",
              "      <td>0</td>\n",
              "      <td>0</td>\n",
              "      <td>اجرایی زیرسازی و پایه گذاری حصار کارگاه ضلع جنوبی</td>\n",
              "      <td>0.0</td>\n",
              "      <td>0.0</td>\n",
              "      <td>0</td>\n",
              "      <td>1.4.1</td>\n",
              "      <td>0.0</td>\n",
              "    </tr>\n",
              "    <tr>\n",
              "      <th>2</th>\n",
              "      <td>1.0</td>\n",
              "      <td>2023-05-23</td>\n",
              "      <td>28</td>\n",
              "      <td>0</td>\n",
              "      <td>0</td>\n",
              "      <td>اجرای عملیات تخریب دیوار ضلع جنوبی کارگاه</td>\n",
              "      <td>0.0</td>\n",
              "      <td>0.0</td>\n",
              "      <td>0</td>\n",
              "      <td>1.4.1</td>\n",
              "      <td>0.0</td>\n",
              "    </tr>\n",
              "    <tr>\n",
              "      <th>3</th>\n",
              "      <td>2.0</td>\n",
              "      <td>2023-05-23</td>\n",
              "      <td>28</td>\n",
              "      <td>0</td>\n",
              "      <td>0</td>\n",
              "      <td>اجرایی زیرسازی و پایه گذاری حصار کارگاه ضلع جنوبی</td>\n",
              "      <td>0.0</td>\n",
              "      <td>0.0</td>\n",
              "      <td>0</td>\n",
              "      <td>1.4.1</td>\n",
              "      <td>0.0</td>\n",
              "    </tr>\n",
              "    <tr>\n",
              "      <th>4</th>\n",
              "      <td>3.0</td>\n",
              "      <td>2023-05-23</td>\n",
              "      <td>28</td>\n",
              "      <td>0</td>\n",
              "      <td>0</td>\n",
              "      <td>تعمیر و اصلاحیه برق کارگاه</td>\n",
              "      <td>0.0</td>\n",
              "      <td>0.0</td>\n",
              "      <td>0</td>\n",
              "      <td>1.4.1</td>\n",
              "      <td>0.0</td>\n",
              "    </tr>\n",
              "    <tr>\n",
              "      <th>...</th>\n",
              "      <td>...</td>\n",
              "      <td>...</td>\n",
              "      <td>...</td>\n",
              "      <td>...</td>\n",
              "      <td>...</td>\n",
              "      <td>...</td>\n",
              "      <td>...</td>\n",
              "      <td>...</td>\n",
              "      <td>...</td>\n",
              "      <td>...</td>\n",
              "      <td>...</td>\n",
              "    </tr>\n",
              "    <tr>\n",
              "      <th>210</th>\n",
              "      <td>0.0</td>\n",
              "      <td>2023-08-07</td>\n",
              "      <td>104</td>\n",
              "      <td>0</td>\n",
              "      <td>0</td>\n",
              "      <td>نصب تاور کرین 8 تن</td>\n",
              "      <td>0.0</td>\n",
              "      <td>0.0</td>\n",
              "      <td>0</td>\n",
              "      <td>0</td>\n",
              "      <td>0.0</td>\n",
              "    </tr>\n",
              "    <tr>\n",
              "      <th>211</th>\n",
              "      <td>0.0</td>\n",
              "      <td>2023-08-08</td>\n",
              "      <td>105</td>\n",
              "      <td>0</td>\n",
              "      <td>0</td>\n",
              "      <td>نصب پلیت های زیر سری شاسی کشی کانکس های فنی</td>\n",
              "      <td>0.0</td>\n",
              "      <td>0.0</td>\n",
              "      <td>0</td>\n",
              "      <td>0</td>\n",
              "      <td>0.0</td>\n",
              "    </tr>\n",
              "    <tr>\n",
              "      <th>212</th>\n",
              "      <td>0.0</td>\n",
              "      <td>2023-08-08</td>\n",
              "      <td>105</td>\n",
              "      <td>0</td>\n",
              "      <td>0</td>\n",
              "      <td>نصب تاور کرین 8 تن</td>\n",
              "      <td>0.0</td>\n",
              "      <td>0.0</td>\n",
              "      <td>0</td>\n",
              "      <td>0</td>\n",
              "      <td>0.0</td>\n",
              "    </tr>\n",
              "    <tr>\n",
              "      <th>213</th>\n",
              "      <td>0.0</td>\n",
              "      <td>2023-08-08</td>\n",
              "      <td>105</td>\n",
              "      <td>0</td>\n",
              "      <td>0</td>\n",
              "      <td>آرماتوربندی پارت یک دیوار حائل</td>\n",
              "      <td>0.0</td>\n",
              "      <td>2.1</td>\n",
              "      <td>تن</td>\n",
              "      <td>0</td>\n",
              "      <td>0.0</td>\n",
              "    </tr>\n",
              "    <tr>\n",
              "      <th>214</th>\n",
              "      <td>0.0</td>\n",
              "      <td>2023-08-08</td>\n",
              "      <td>105</td>\n",
              "      <td>0</td>\n",
              "      <td>0</td>\n",
              "      <td>راه اندازی دو دستگاه دیزل ژنراتور</td>\n",
              "      <td>0.0</td>\n",
              "      <td>0.0</td>\n",
              "      <td>0</td>\n",
              "      <td>0</td>\n",
              "      <td>0.0</td>\n",
              "    </tr>\n",
              "  </tbody>\n",
              "</table>\n",
              "<p>215 rows × 11 columns</p>\n",
              "</div>\n",
              "      <button class=\"colab-df-convert\" onclick=\"convertToInteractive('df-a4a8fc56-b626-4fd2-af51-557c4a84a9d7')\"\n",
              "              title=\"Convert this dataframe to an interactive table.\"\n",
              "              style=\"display:none;\">\n",
              "\n",
              "  <svg xmlns=\"http://www.w3.org/2000/svg\" height=\"24px\"viewBox=\"0 0 24 24\"\n",
              "       width=\"24px\">\n",
              "    <path d=\"M0 0h24v24H0V0z\" fill=\"none\"/>\n",
              "    <path d=\"M18.56 5.44l.94 2.06.94-2.06 2.06-.94-2.06-.94-.94-2.06-.94 2.06-2.06.94zm-11 1L8.5 8.5l.94-2.06 2.06-.94-2.06-.94L8.5 2.5l-.94 2.06-2.06.94zm10 10l.94 2.06.94-2.06 2.06-.94-2.06-.94-.94-2.06-.94 2.06-2.06.94z\"/><path d=\"M17.41 7.96l-1.37-1.37c-.4-.4-.92-.59-1.43-.59-.52 0-1.04.2-1.43.59L10.3 9.45l-7.72 7.72c-.78.78-.78 2.05 0 2.83L4 21.41c.39.39.9.59 1.41.59.51 0 1.02-.2 1.41-.59l7.78-7.78 2.81-2.81c.8-.78.8-2.07 0-2.86zM5.41 20L4 18.59l7.72-7.72 1.47 1.35L5.41 20z\"/>\n",
              "  </svg>\n",
              "      </button>\n",
              "\n",
              "\n",
              "\n",
              "    <div id=\"df-a302104c-1886-4cc1-872a-271b016ec698\">\n",
              "      <button class=\"colab-df-quickchart\" onclick=\"quickchart('df-a302104c-1886-4cc1-872a-271b016ec698')\"\n",
              "              title=\"Suggest charts.\"\n",
              "              style=\"display:none;\">\n",
              "\n",
              "<svg xmlns=\"http://www.w3.org/2000/svg\" height=\"24px\"viewBox=\"0 0 24 24\"\n",
              "     width=\"24px\">\n",
              "    <g>\n",
              "        <path d=\"M19 3H5c-1.1 0-2 .9-2 2v14c0 1.1.9 2 2 2h14c1.1 0 2-.9 2-2V5c0-1.1-.9-2-2-2zM9 17H7v-7h2v7zm4 0h-2V7h2v10zm4 0h-2v-4h2v4z\"/>\n",
              "    </g>\n",
              "</svg>\n",
              "      </button>\n",
              "    </div>\n",
              "\n",
              "<style>\n",
              "  .colab-df-quickchart {\n",
              "    background-color: #E8F0FE;\n",
              "    border: none;\n",
              "    border-radius: 50%;\n",
              "    cursor: pointer;\n",
              "    display: none;\n",
              "    fill: #1967D2;\n",
              "    height: 32px;\n",
              "    padding: 0 0 0 0;\n",
              "    width: 32px;\n",
              "  }\n",
              "\n",
              "  .colab-df-quickchart:hover {\n",
              "    background-color: #E2EBFA;\n",
              "    box-shadow: 0px 1px 2px rgba(60, 64, 67, 0.3), 0px 1px 3px 1px rgba(60, 64, 67, 0.15);\n",
              "    fill: #174EA6;\n",
              "  }\n",
              "\n",
              "  [theme=dark] .colab-df-quickchart {\n",
              "    background-color: #3B4455;\n",
              "    fill: #D2E3FC;\n",
              "  }\n",
              "\n",
              "  [theme=dark] .colab-df-quickchart:hover {\n",
              "    background-color: #434B5C;\n",
              "    box-shadow: 0px 1px 3px 1px rgba(0, 0, 0, 0.15);\n",
              "    filter: drop-shadow(0px 1px 2px rgba(0, 0, 0, 0.3));\n",
              "    fill: #FFFFFF;\n",
              "  }\n",
              "</style>\n",
              "\n",
              "    <script>\n",
              "      async function quickchart(key) {\n",
              "        const containerElement = document.querySelector('#' + key);\n",
              "        const charts = await google.colab.kernel.invokeFunction(\n",
              "            'suggestCharts', [key], {});\n",
              "      }\n",
              "    </script>\n",
              "\n",
              "      <script>\n",
              "\n",
              "function displayQuickchartButton(domScope) {\n",
              "  let quickchartButtonEl =\n",
              "    domScope.querySelector('#df-a302104c-1886-4cc1-872a-271b016ec698 button.colab-df-quickchart');\n",
              "  quickchartButtonEl.style.display =\n",
              "    google.colab.kernel.accessAllowed ? 'block' : 'none';\n",
              "}\n",
              "\n",
              "        displayQuickchartButton(document);\n",
              "      </script>\n",
              "      <style>\n",
              "    .colab-df-container {\n",
              "      display:flex;\n",
              "      flex-wrap:wrap;\n",
              "      gap: 12px;\n",
              "    }\n",
              "\n",
              "    .colab-df-convert {\n",
              "      background-color: #E8F0FE;\n",
              "      border: none;\n",
              "      border-radius: 50%;\n",
              "      cursor: pointer;\n",
              "      display: none;\n",
              "      fill: #1967D2;\n",
              "      height: 32px;\n",
              "      padding: 0 0 0 0;\n",
              "      width: 32px;\n",
              "    }\n",
              "\n",
              "    .colab-df-convert:hover {\n",
              "      background-color: #E2EBFA;\n",
              "      box-shadow: 0px 1px 2px rgba(60, 64, 67, 0.3), 0px 1px 3px 1px rgba(60, 64, 67, 0.15);\n",
              "      fill: #174EA6;\n",
              "    }\n",
              "\n",
              "    [theme=dark] .colab-df-convert {\n",
              "      background-color: #3B4455;\n",
              "      fill: #D2E3FC;\n",
              "    }\n",
              "\n",
              "    [theme=dark] .colab-df-convert:hover {\n",
              "      background-color: #434B5C;\n",
              "      box-shadow: 0px 1px 3px 1px rgba(0, 0, 0, 0.15);\n",
              "      filter: drop-shadow(0px 1px 2px rgba(0, 0, 0, 0.3));\n",
              "      fill: #FFFFFF;\n",
              "    }\n",
              "  </style>\n",
              "\n",
              "      <script>\n",
              "        const buttonEl =\n",
              "          document.querySelector('#df-a4a8fc56-b626-4fd2-af51-557c4a84a9d7 button.colab-df-convert');\n",
              "        buttonEl.style.display =\n",
              "          google.colab.kernel.accessAllowed ? 'block' : 'none';\n",
              "\n",
              "        async function convertToInteractive(key) {\n",
              "          const element = document.querySelector('#df-a4a8fc56-b626-4fd2-af51-557c4a84a9d7');\n",
              "          const dataTable =\n",
              "            await google.colab.kernel.invokeFunction('convertToInteractive',\n",
              "                                                     [key], {});\n",
              "          if (!dataTable) return;\n",
              "\n",
              "          const docLinkHtml = 'Like what you see? Visit the ' +\n",
              "            '<a target=\"_blank\" href=https://colab.research.google.com/notebooks/data_table.ipynb>data table notebook</a>'\n",
              "            + ' to learn more about interactive tables.';\n",
              "          element.innerHTML = '';\n",
              "          dataTable['output_type'] = 'display_data';\n",
              "          await google.colab.output.renderOutput(dataTable, element);\n",
              "          const docLink = document.createElement('div');\n",
              "          docLink.innerHTML = docLinkHtml;\n",
              "          element.appendChild(docLink);\n",
              "        }\n",
              "      </script>\n",
              "    </div>\n",
              "  </div>\n"
            ]
          },
          "metadata": {},
          "execution_count": 12
        }
      ]
    },
    {
      "cell_type": "markdown",
      "source": [
        "#### I just do it for training and it wasnt one of project's goal so I wont save this part in in our output excel file"
      ],
      "metadata": {
        "id": "ValIXiIYAn92"
      }
    },
    {
      "cell_type": "code",
      "source": [
        "# row_position = 2\n",
        "# col_position = 'k'\n",
        "# for i in full_file['جمع كل']:\n",
        "#     ws[col_position + str(row_position)].value = i\n",
        "#     row_position += 1\n",
        "\n",
        "# ws['k198'].value\n",
        "# wb.save('دیتا بیس گزارشات روزانه (3).xlsx')"
      ],
      "metadata": {
        "id": "lDg4gEdwJmIC"
      },
      "execution_count": 13,
      "outputs": []
    },
    {
      "cell_type": "markdown",
      "source": [
        "#### Finding our data by DATE by `df['target column'].loc[(df['date column'])]`"
      ],
      "metadata": {
        "id": "AiENR1gT-5GM"
      }
    },
    {
      "cell_type": "code",
      "source": [
        "# some type test\n",
        "pd.to_datetime(full_file['تاريخ'])\n",
        "type(full_file['تاريخ'][173])"
      ],
      "metadata": {
        "colab": {
          "base_uri": "https://localhost:8080/"
        },
        "id": "Rd1knK2inKBJ",
        "outputId": "dd0e891b-639a-4e7e-f239-3468fefa01b0"
      },
      "execution_count": 14,
      "outputs": [
        {
          "output_type": "execute_result",
          "data": {
            "text/plain": [
              "pandas._libs.tslibs.timestamps.Timestamp"
            ]
          },
          "metadata": {},
          "execution_count": 14
        }
      ]
    },
    {
      "cell_type": "code",
      "source": [
        "# Locating the data that we want by date and save it in a variable\n",
        "date = input('give me a date\\n')\n",
        "date = pd.Timestamp(date)\n",
        "print(\"\\n\")\n",
        "descriptions_value = full_file['شرح'].loc[(full_file['تاريخ'] == date)]\n",
        "singleAmount_value = full_file['مقدار'].loc[(full_file['تاريخ'] == date)]\n",
        "# Determine the fullAmount_value afterwards\n",
        "number_value = full_file['شماره گزارش'].loc[(full_file['تاريخ'] == date)]\n",
        "\n",
        "unit_value = full_file['واحد'].loc[(full_file['تاريخ'] == date)]\n",
        "print(type(descriptions_value))\n",
        "print(type(singleAmount_value))\n",
        "print(type(unit_value))\n",
        "print(type(number_value))"
      ],
      "metadata": {
        "colab": {
          "base_uri": "https://localhost:8080/"
        },
        "id": "syKTgggtiAn3",
        "outputId": "35a19d1e-90d7-4bed-f6ff-5584af12724d"
      },
      "execution_count": 15,
      "outputs": [
        {
          "output_type": "stream",
          "name": "stdout",
          "text": [
            "give me a date\n",
            "2023-08-08\n",
            "\n",
            "\n",
            "<class 'pandas.core.series.Series'>\n",
            "<class 'pandas.core.series.Series'>\n",
            "<class 'pandas.core.series.Series'>\n",
            "<class 'pandas.core.series.Series'>\n"
          ]
        }
      ]
    },
    {
      "cell_type": "markdown",
      "source": [
        "### moving through the final target"
      ],
      "metadata": {
        "id": "xf3H2Ppbpgl5"
      }
    },
    {
      "cell_type": "markdown",
      "source": [
        "#### Enter to the target sheet"
      ],
      "metadata": {
        "id": "3_W_DKbP4Muf"
      }
    },
    {
      "cell_type": "code",
      "source": [
        "ws_des = wb['1']"
      ],
      "metadata": {
        "id": "ATUpmLPIjd_P"
      },
      "execution_count": 16,
      "outputs": []
    },
    {
      "cell_type": "markdown",
      "source": [
        "#### Some basics things"
      ],
      "metadata": {
        "id": "ggYy4ljO4VN_"
      }
    },
    {
      "cell_type": "code",
      "source": [
        "print(f\"Total number of rows: {ws_des.max_row} \\nTotal number columns: {ws_des.max_column}\")"
      ],
      "metadata": {
        "colab": {
          "base_uri": "https://localhost:8080/"
        },
        "id": "5zZVaoODAKYa",
        "outputId": "ef6d1909-973e-4eaa-f189-ba0dd53aafb5"
      },
      "execution_count": 17,
      "outputs": [
        {
          "output_type": "stream",
          "name": "stdout",
          "text": [
            "Total number of rows: 25 \n",
            "Total number columns: 36\n"
          ]
        }
      ]
    },
    {
      "cell_type": "code",
      "source": [
        "row_pos = 6\n",
        "col_pos = \"j\"\n",
        "ws_des[col_pos + str(row_pos)].value"
      ],
      "metadata": {
        "id": "hjjEcrPHAQGe"
      },
      "execution_count": 18,
      "outputs": []
    },
    {
      "cell_type": "markdown",
      "source": [
        "#### The Final-Step"
      ],
      "metadata": {
        "id": "RogpPRLh4cf3"
      }
    },
    {
      "cell_type": "code",
      "source": [
        "for i in descriptions_value:\n",
        "  ws_des[col_pos + str(row_pos)].value = i\n",
        "  row_pos += 1\n",
        "ws_des['j6'].value\n",
        "\n",
        "ws_des[col_pos + str(row_pos)].value\n"
      ],
      "metadata": {
        "id": "oBHm-UsjDFZi"
      },
      "execution_count": 19,
      "outputs": []
    },
    {
      "cell_type": "markdown",
      "source": [
        "#### Save it\n",
        "dont forgot to save changes on the file"
      ],
      "metadata": {
        "id": "DFdi5EuBJH6U"
      }
    },
    {
      "cell_type": "code",
      "source": [
        "wb.save('دیتا بیس گزارشات روزانه (3).xlsx')"
      ],
      "metadata": {
        "id": "_IJvhbVfHQKz"
      },
      "execution_count": 20,
      "outputs": []
    },
    {
      "cell_type": "markdown",
      "source": [
        "### Advance Mode\n",
        "here we want to make our work looks like a real project and work on details"
      ],
      "metadata": {
        "id": "PDtBIE3W5BBl"
      }
    },
    {
      "cell_type": "markdown",
      "source": [
        " #### Make the date cell dynamiclly change by our 'INPUT'\n",
        "\n",
        ">>Lets start whith changing data dynimicly\n",
        ">>The 'AF3' cell is our target date, lets see its statics value\n",
        "\n",
        ">>In >> `ws_des['AF3'].value`\n",
        "\n",
        ">>Out >> datetime.datetime(2023, 7, 1, 0, 0)\n",
        "\n",
        ">>Now lets make it equal to the value of INPUT yhat we tookit before"
      ],
      "metadata": {
        "id": "uEfA1n7a48D-"
      }
    },
    {
      "cell_type": "code",
      "source": [
        "# Fill the date cell\n",
        "# As we do it many times in past we do it here easily\n",
        "ws_des['AF3'].value = date\n",
        "ws_des['AF3'].value\n",
        "\n",
        "# Dont forget to save it\n",
        "wb.save('دیتا بیس گزارشات روزانه (3).xlsx')"
      ],
      "metadata": {
        "id": "9k4286-K4_Sm"
      },
      "execution_count": 21,
      "outputs": []
    },
    {
      "cell_type": "markdown",
      "source": [
        "#### Have a look throght the outputs that we have by our date\n",
        "\n",
        "`number_value` >> `ws_des[AF2:]`  The easiest one, we start with this, It shows us which report number is our letter\n",
        "\n",
        "`descriptions_value` >> `ws_des[J6:]` I ment it starts from J6 and move-on but code doesnt understood [J6:]\n",
        "\n",
        "`singleAmount_value` >> `ws_des[AH6:]` I ment it starts from J6 and move-on but code doesnt understood [AH6:]\n",
        "\n",
        "`unit_value` >> `ws_des[AH6:]` I ment it starts from J6 and move-on but code doesnt understood [AH6:]\n",
        "\n",
        "`totalAmount_value` >> `ws_des[AB6:]` I ment it starts from J6 and move-on but code doesnt understood [J6:]\n",
        "\n",
        "For this, we have to look through the \"description_value\" and back to the `ws[]` main sheet check when ever we seen this value again to sum-up the \"مقدار\" values together"
      ],
      "metadata": {
        "id": "aLnbIQmyEiE4"
      }
    },
    {
      "cell_type": "markdown",
      "source": [
        "#### Start from easy to hard STEP BY STEP\n",
        "\n",
        "1- number_value\n",
        "\n",
        "2- unit_value\n",
        "\n",
        "3- singleAmount_value\n",
        "\n",
        "4- totalAMountValue"
      ],
      "metadata": {
        "id": "tG3PkY-NEeDR"
      }
    },
    {
      "cell_type": "code",
      "source": [
        "# Start with number_value\n",
        "from os import WIFSIGNALED\n",
        "number_array = list()\n",
        "for i in number_value:\n",
        "  if str(i) not in number_array:\n",
        "    number_array.append(str(i))\n",
        "\n",
        "number_filed_final = number_array[0] + \" - \" + number_array[-1]\n",
        "ws_des['AF2'].value = number_filed_final\n",
        "\n",
        "# save it\n",
        "wb.save('دیتا بیس گزارشات روزانه (3).xlsx')\n",
        "ws_des['AF2'].value\n"
      ],
      "metadata": {
        "colab": {
          "base_uri": "https://localhost:8080/",
          "height": 0
        },
        "id": "y01bqxRyExcb",
        "outputId": "fc363273-8c4a-4ea7-f661-edf63c33cb8b"
      },
      "execution_count": 22,
      "outputs": [
        {
          "output_type": "execute_result",
          "data": {
            "text/plain": [
              "'105 - 105'"
            ],
            "application/vnd.google.colaboratory.intrinsic+json": {
              "type": "string"
            }
          },
          "metadata": {},
          "execution_count": 22
        }
      ]
    },
    {
      "cell_type": "code",
      "source": [
        "# Go for the unit_value\n",
        "col_pos = \"AH\"\n",
        "row_pos = 6\n",
        "for i in unit_value:\n",
        "  ws_des[col_pos + str(row_pos)].value = i\n",
        "  row_pos += 1\n",
        "ws_des['AH6'].value\n",
        "\n",
        "# Save it\n",
        "wb.save('دیتا بیس گزارشات روزانه (3).xlsx')\n",
        "\n",
        "#ws_des[col_pos + str(row_pos)].value\n"
      ],
      "metadata": {
        "id": "glE4p9wHExaR"
      },
      "execution_count": 23,
      "outputs": []
    },
    {
      "cell_type": "code",
      "source": [
        "# SingleAmount value\n",
        "col_pos = \"AE\"\n",
        "row_pos = 6\n",
        "for i in singleAmount_value:\n",
        "  if (i!= 0):\n",
        "    ws_des[col_pos + str(row_pos)].value = i\n",
        "    row_pos += 1\n",
        "  else:\n",
        "    ws_des[col_pos + str(row_pos)].value = \"\"\n",
        "    row_pos += 1\n",
        "\n",
        "ws_des['AE6'].value\n",
        "\n",
        "# Save it\n",
        "wb.save('دیتا بیس گزارشات روزانه (3).xlsx')"
      ],
      "metadata": {
        "id": "umGxPsK6ExYA"
      },
      "execution_count": 24,
      "outputs": []
    },
    {
      "cell_type": "code",
      "source": [
        "# totlaAmount_value at the end\n",
        "row_pos = 6\n",
        "col_pos = \"AB\"\n",
        "total_amount_dict = dict()\n",
        "totalAmount_value = dict()\n",
        "for i in descriptions_value:\n",
        "  total_amount_dict [i] = full_file['مقدار'].loc[(full_file['شرح'] == i)]\n",
        "\n",
        "for j in total_amount_dict.keys():\n",
        "  totalAmount_value[j] = total_amount_dict[j]\n",
        "  ws_des[col_pos + str(row_pos)].value = totalAmount_value[j].sum()\n",
        "  if (ws_des[col_pos + str(row_pos)].value == 0):\n",
        "    ws_des[col_pos + str(row_pos)].value = \"\"\n",
        "  row_pos += 1\n",
        "\n",
        "wb.save('دیتا بیس گزارشات روزانه (3).xlsx')\n",
        "ws_des[\"AB6\"].value"
      ],
      "metadata": {
        "colab": {
          "base_uri": "https://localhost:8080/",
          "height": 0
        },
        "id": "JWIc4g7qmuDE",
        "outputId": "bb62cff2-6360-4e7a-a5c5-b538b935f155"
      },
      "execution_count": 25,
      "outputs": [
        {
          "output_type": "execute_result",
          "data": {
            "text/plain": [
              "''"
            ],
            "application/vnd.google.colaboratory.intrinsic+json": {
              "type": "string"
            }
          },
          "metadata": {},
          "execution_count": 25
        }
      ]
    },
    {
      "cell_type": "markdown",
      "source": [
        "### Now lets go ahead to another sheet and another jurney"
      ],
      "metadata": {
        "id": "C73iqGx2zYcP"
      }
    },
    {
      "cell_type": "markdown",
      "source": [
        "#### Make our sheet table to dataFrame to work with it easiley"
      ],
      "metadata": {
        "id": "__-sEK2UQKhc"
      }
    },
    {
      "cell_type": "code",
      "source": [
        "ws_human_resource = wb['نیروی انسانی']\n",
        "print(f\"Total number of rows: {ws_human_resource.max_row} \\nTotal number columns: {ws_human_resource.max_column}\")"
      ],
      "metadata": {
        "colab": {
          "base_uri": "https://localhost:8080/"
        },
        "id": "da5qzEG6QKkq",
        "outputId": "bef19d27-4275-4c56-9133-f416a5473def"
      },
      "execution_count": 26,
      "outputs": [
        {
          "output_type": "stream",
          "name": "stdout",
          "text": [
            "Total number of rows: 1690 \n",
            "Total number columns: 5\n"
          ]
        }
      ]
    },
    {
      "cell_type": "code",
      "source": [
        "## Extract the columns\n",
        "col1 = [ws_human_resource.cell(row=i, column=1).value\n",
        "                  for i in range(2, ws_human_resource.max_row+1)]\n",
        "\n",
        "col2 = [ws_human_resource.cell(row=i, column=2).value\n",
        "                  for i in range(2, ws_human_resource.max_row+1)]\n",
        "\n",
        "col3 = [ws_human_resource.cell(row=i, column=3).value\n",
        "                  for i in range(2, ws_human_resource.max_row+1)]\n",
        "\n",
        "col4 = [ws_human_resource.cell(row=i, column=4).value\n",
        "                  for i in range(2, ws_human_resource.max_row+1)]\n",
        "\n",
        "col5 = [ws_human_resource.cell(row=i, column=5).value\n",
        "                  for i in range(2, ws_human_resource.max_row+1)]\n",
        "## Make them dataframe\n",
        "df_col1 = pd.DataFrame(col1, columns=['رديف'])\n",
        "df_col1['رديف'] = df_col1['رديف'].fillna(0)\n",
        "\n",
        "df_col2 = pd.DataFrame(col2, columns=['تاریخ'])\n",
        "df_col2['تاریخ'] = df_col2['تاریخ'].fillna(0)\n",
        "\n",
        "df_col3 = pd.DataFrame(col3, columns=['عنوان'])\n",
        "df_col3['عنوان'] = df_col3['عنوان'].fillna(0)\n",
        "\n",
        "df_col4 = pd.DataFrame(col4, columns=['تعداد حاضر'])\n",
        "df_col4['تعداد حاضر'] = df_col4['تعداد حاضر'].fillna(0)\n",
        "\n",
        "df_col5 = pd.DataFrame(col5, columns=['پيمانكار/ ستاد'])\n",
        "df_col5['پيمانكار/ ستاد'] = df_col5['پيمانكار/ ستاد'].fillna(0)\n",
        "\n",
        "\n",
        "# Joingong the data frames as column and create the main data frame\n",
        "full_file_humanResource = pd.concat([df_col1, df_col2, df_col3, df_col4, df_col5], axis=1, join='inner')\n",
        "full_file_humanResource"
      ],
      "metadata": {
        "colab": {
          "base_uri": "https://localhost:8080/",
          "height": 424
        },
        "id": "8hLS9dL_QKdC",
        "outputId": "1186a31c-d865-4e34-854a-d612c61f4507"
      },
      "execution_count": 27,
      "outputs": [
        {
          "output_type": "execute_result",
          "data": {
            "text/plain": [
              "      رديف      تاریخ             عنوان تعداد حاضر پيمانكار/ ستاد\n",
              "0      1.0 2023-05-22        مدیر پروژه          0           ستاد\n",
              "1      2.0 2023-05-22     سرپرست کارگاه          1           ستاد\n",
              "2      3.0 2023-05-22   سرپرست دفتر فنی          0           ستاد\n",
              "3      4.0 2023-05-22          دفتر فنی          3           ستاد\n",
              "4      5.0 2023-05-22       سرپرست اجرا          1           ستاد\n",
              "...    ...        ...               ...        ...            ...\n",
              "1684   0.0 2023-08-08     سند بلاست كار          0              0\n",
              "1685   0.0 2023-08-08     نصاب تاوركرين          4              0\n",
              "1686   0.0 2023-08-08  اپراتور تاورکرین          1              0\n",
              "1687   0.0 2023-08-08      تاسيسات برقي          2              0\n",
              "1688   0.0 2023-08-08      نصاب ژنراتور          2              0\n",
              "\n",
              "[1689 rows x 5 columns]"
            ],
            "text/html": [
              "\n",
              "\n",
              "  <div id=\"df-b72e0c8a-3c1b-45eb-86ba-f0f98bb459f6\">\n",
              "    <div class=\"colab-df-container\">\n",
              "      <div>\n",
              "<style scoped>\n",
              "    .dataframe tbody tr th:only-of-type {\n",
              "        vertical-align: middle;\n",
              "    }\n",
              "\n",
              "    .dataframe tbody tr th {\n",
              "        vertical-align: top;\n",
              "    }\n",
              "\n",
              "    .dataframe thead th {\n",
              "        text-align: right;\n",
              "    }\n",
              "</style>\n",
              "<table border=\"1\" class=\"dataframe\">\n",
              "  <thead>\n",
              "    <tr style=\"text-align: right;\">\n",
              "      <th></th>\n",
              "      <th>رديف</th>\n",
              "      <th>تاریخ</th>\n",
              "      <th>عنوان</th>\n",
              "      <th>تعداد حاضر</th>\n",
              "      <th>پيمانكار/ ستاد</th>\n",
              "    </tr>\n",
              "  </thead>\n",
              "  <tbody>\n",
              "    <tr>\n",
              "      <th>0</th>\n",
              "      <td>1.0</td>\n",
              "      <td>2023-05-22</td>\n",
              "      <td>مدیر پروژه</td>\n",
              "      <td>0</td>\n",
              "      <td>ستاد</td>\n",
              "    </tr>\n",
              "    <tr>\n",
              "      <th>1</th>\n",
              "      <td>2.0</td>\n",
              "      <td>2023-05-22</td>\n",
              "      <td>سرپرست کارگاه</td>\n",
              "      <td>1</td>\n",
              "      <td>ستاد</td>\n",
              "    </tr>\n",
              "    <tr>\n",
              "      <th>2</th>\n",
              "      <td>3.0</td>\n",
              "      <td>2023-05-22</td>\n",
              "      <td>سرپرست دفتر فنی</td>\n",
              "      <td>0</td>\n",
              "      <td>ستاد</td>\n",
              "    </tr>\n",
              "    <tr>\n",
              "      <th>3</th>\n",
              "      <td>4.0</td>\n",
              "      <td>2023-05-22</td>\n",
              "      <td>دفتر فنی</td>\n",
              "      <td>3</td>\n",
              "      <td>ستاد</td>\n",
              "    </tr>\n",
              "    <tr>\n",
              "      <th>4</th>\n",
              "      <td>5.0</td>\n",
              "      <td>2023-05-22</td>\n",
              "      <td>سرپرست اجرا</td>\n",
              "      <td>1</td>\n",
              "      <td>ستاد</td>\n",
              "    </tr>\n",
              "    <tr>\n",
              "      <th>...</th>\n",
              "      <td>...</td>\n",
              "      <td>...</td>\n",
              "      <td>...</td>\n",
              "      <td>...</td>\n",
              "      <td>...</td>\n",
              "    </tr>\n",
              "    <tr>\n",
              "      <th>1684</th>\n",
              "      <td>0.0</td>\n",
              "      <td>2023-08-08</td>\n",
              "      <td>سند بلاست كار</td>\n",
              "      <td>0</td>\n",
              "      <td>0</td>\n",
              "    </tr>\n",
              "    <tr>\n",
              "      <th>1685</th>\n",
              "      <td>0.0</td>\n",
              "      <td>2023-08-08</td>\n",
              "      <td>نصاب تاوركرين</td>\n",
              "      <td>4</td>\n",
              "      <td>0</td>\n",
              "    </tr>\n",
              "    <tr>\n",
              "      <th>1686</th>\n",
              "      <td>0.0</td>\n",
              "      <td>2023-08-08</td>\n",
              "      <td>اپراتور تاورکرین</td>\n",
              "      <td>1</td>\n",
              "      <td>0</td>\n",
              "    </tr>\n",
              "    <tr>\n",
              "      <th>1687</th>\n",
              "      <td>0.0</td>\n",
              "      <td>2023-08-08</td>\n",
              "      <td>تاسيسات برقي</td>\n",
              "      <td>2</td>\n",
              "      <td>0</td>\n",
              "    </tr>\n",
              "    <tr>\n",
              "      <th>1688</th>\n",
              "      <td>0.0</td>\n",
              "      <td>2023-08-08</td>\n",
              "      <td>نصاب ژنراتور</td>\n",
              "      <td>2</td>\n",
              "      <td>0</td>\n",
              "    </tr>\n",
              "  </tbody>\n",
              "</table>\n",
              "<p>1689 rows × 5 columns</p>\n",
              "</div>\n",
              "      <button class=\"colab-df-convert\" onclick=\"convertToInteractive('df-b72e0c8a-3c1b-45eb-86ba-f0f98bb459f6')\"\n",
              "              title=\"Convert this dataframe to an interactive table.\"\n",
              "              style=\"display:none;\">\n",
              "\n",
              "  <svg xmlns=\"http://www.w3.org/2000/svg\" height=\"24px\"viewBox=\"0 0 24 24\"\n",
              "       width=\"24px\">\n",
              "    <path d=\"M0 0h24v24H0V0z\" fill=\"none\"/>\n",
              "    <path d=\"M18.56 5.44l.94 2.06.94-2.06 2.06-.94-2.06-.94-.94-2.06-.94 2.06-2.06.94zm-11 1L8.5 8.5l.94-2.06 2.06-.94-2.06-.94L8.5 2.5l-.94 2.06-2.06.94zm10 10l.94 2.06.94-2.06 2.06-.94-2.06-.94-.94-2.06-.94 2.06-2.06.94z\"/><path d=\"M17.41 7.96l-1.37-1.37c-.4-.4-.92-.59-1.43-.59-.52 0-1.04.2-1.43.59L10.3 9.45l-7.72 7.72c-.78.78-.78 2.05 0 2.83L4 21.41c.39.39.9.59 1.41.59.51 0 1.02-.2 1.41-.59l7.78-7.78 2.81-2.81c.8-.78.8-2.07 0-2.86zM5.41 20L4 18.59l7.72-7.72 1.47 1.35L5.41 20z\"/>\n",
              "  </svg>\n",
              "      </button>\n",
              "\n",
              "\n",
              "\n",
              "    <div id=\"df-bc16b0f2-602b-48d4-a897-125724adc3bf\">\n",
              "      <button class=\"colab-df-quickchart\" onclick=\"quickchart('df-bc16b0f2-602b-48d4-a897-125724adc3bf')\"\n",
              "              title=\"Suggest charts.\"\n",
              "              style=\"display:none;\">\n",
              "\n",
              "<svg xmlns=\"http://www.w3.org/2000/svg\" height=\"24px\"viewBox=\"0 0 24 24\"\n",
              "     width=\"24px\">\n",
              "    <g>\n",
              "        <path d=\"M19 3H5c-1.1 0-2 .9-2 2v14c0 1.1.9 2 2 2h14c1.1 0 2-.9 2-2V5c0-1.1-.9-2-2-2zM9 17H7v-7h2v7zm4 0h-2V7h2v10zm4 0h-2v-4h2v4z\"/>\n",
              "    </g>\n",
              "</svg>\n",
              "      </button>\n",
              "    </div>\n",
              "\n",
              "<style>\n",
              "  .colab-df-quickchart {\n",
              "    background-color: #E8F0FE;\n",
              "    border: none;\n",
              "    border-radius: 50%;\n",
              "    cursor: pointer;\n",
              "    display: none;\n",
              "    fill: #1967D2;\n",
              "    height: 32px;\n",
              "    padding: 0 0 0 0;\n",
              "    width: 32px;\n",
              "  }\n",
              "\n",
              "  .colab-df-quickchart:hover {\n",
              "    background-color: #E2EBFA;\n",
              "    box-shadow: 0px 1px 2px rgba(60, 64, 67, 0.3), 0px 1px 3px 1px rgba(60, 64, 67, 0.15);\n",
              "    fill: #174EA6;\n",
              "  }\n",
              "\n",
              "  [theme=dark] .colab-df-quickchart {\n",
              "    background-color: #3B4455;\n",
              "    fill: #D2E3FC;\n",
              "  }\n",
              "\n",
              "  [theme=dark] .colab-df-quickchart:hover {\n",
              "    background-color: #434B5C;\n",
              "    box-shadow: 0px 1px 3px 1px rgba(0, 0, 0, 0.15);\n",
              "    filter: drop-shadow(0px 1px 2px rgba(0, 0, 0, 0.3));\n",
              "    fill: #FFFFFF;\n",
              "  }\n",
              "</style>\n",
              "\n",
              "    <script>\n",
              "      async function quickchart(key) {\n",
              "        const containerElement = document.querySelector('#' + key);\n",
              "        const charts = await google.colab.kernel.invokeFunction(\n",
              "            'suggestCharts', [key], {});\n",
              "      }\n",
              "    </script>\n",
              "\n",
              "      <script>\n",
              "\n",
              "function displayQuickchartButton(domScope) {\n",
              "  let quickchartButtonEl =\n",
              "    domScope.querySelector('#df-bc16b0f2-602b-48d4-a897-125724adc3bf button.colab-df-quickchart');\n",
              "  quickchartButtonEl.style.display =\n",
              "    google.colab.kernel.accessAllowed ? 'block' : 'none';\n",
              "}\n",
              "\n",
              "        displayQuickchartButton(document);\n",
              "      </script>\n",
              "      <style>\n",
              "    .colab-df-container {\n",
              "      display:flex;\n",
              "      flex-wrap:wrap;\n",
              "      gap: 12px;\n",
              "    }\n",
              "\n",
              "    .colab-df-convert {\n",
              "      background-color: #E8F0FE;\n",
              "      border: none;\n",
              "      border-radius: 50%;\n",
              "      cursor: pointer;\n",
              "      display: none;\n",
              "      fill: #1967D2;\n",
              "      height: 32px;\n",
              "      padding: 0 0 0 0;\n",
              "      width: 32px;\n",
              "    }\n",
              "\n",
              "    .colab-df-convert:hover {\n",
              "      background-color: #E2EBFA;\n",
              "      box-shadow: 0px 1px 2px rgba(60, 64, 67, 0.3), 0px 1px 3px 1px rgba(60, 64, 67, 0.15);\n",
              "      fill: #174EA6;\n",
              "    }\n",
              "\n",
              "    [theme=dark] .colab-df-convert {\n",
              "      background-color: #3B4455;\n",
              "      fill: #D2E3FC;\n",
              "    }\n",
              "\n",
              "    [theme=dark] .colab-df-convert:hover {\n",
              "      background-color: #434B5C;\n",
              "      box-shadow: 0px 1px 3px 1px rgba(0, 0, 0, 0.15);\n",
              "      filter: drop-shadow(0px 1px 2px rgba(0, 0, 0, 0.3));\n",
              "      fill: #FFFFFF;\n",
              "    }\n",
              "  </style>\n",
              "\n",
              "      <script>\n",
              "        const buttonEl =\n",
              "          document.querySelector('#df-b72e0c8a-3c1b-45eb-86ba-f0f98bb459f6 button.colab-df-convert');\n",
              "        buttonEl.style.display =\n",
              "          google.colab.kernel.accessAllowed ? 'block' : 'none';\n",
              "\n",
              "        async function convertToInteractive(key) {\n",
              "          const element = document.querySelector('#df-b72e0c8a-3c1b-45eb-86ba-f0f98bb459f6');\n",
              "          const dataTable =\n",
              "            await google.colab.kernel.invokeFunction('convertToInteractive',\n",
              "                                                     [key], {});\n",
              "          if (!dataTable) return;\n",
              "\n",
              "          const docLinkHtml = 'Like what you see? Visit the ' +\n",
              "            '<a target=\"_blank\" href=https://colab.research.google.com/notebooks/data_table.ipynb>data table notebook</a>'\n",
              "            + ' to learn more about interactive tables.';\n",
              "          element.innerHTML = '';\n",
              "          dataTable['output_type'] = 'display_data';\n",
              "          await google.colab.output.renderOutput(dataTable, element);\n",
              "          const docLink = document.createElement('div');\n",
              "          docLink.innerHTML = docLinkHtml;\n",
              "          element.appendChild(docLink);\n",
              "        }\n",
              "      </script>\n",
              "    </div>\n",
              "  </div>\n"
            ]
          },
          "metadata": {},
          "execution_count": 27
        }
      ]
    },
    {
      "cell_type": "markdown",
      "source": [
        "##### Human Resource"
      ],
      "metadata": {
        "id": "ts06kimsfk2V"
      }
    },
    {
      "cell_type": "code",
      "source": [
        "# Inserting the report sheet 2\n",
        "ws_des2 = wb['2']\n",
        "print(f\"Total number of rows: {ws_des2.max_row} \\nTotal number columns: {ws_des2.max_column}\")"
      ],
      "metadata": {
        "colab": {
          "base_uri": "https://localhost:8080/"
        },
        "id": "DuLp3gHEgfLD",
        "outputId": "c78ee489-91d5-4b1b-98bc-83c4fe371cc4"
      },
      "execution_count": 28,
      "outputs": [
        {
          "output_type": "stream",
          "name": "stdout",
          "text": [
            "Total number of rows: 39 \n",
            "Total number columns: 36\n"
          ]
        }
      ]
    },
    {
      "cell_type": "code",
      "source": [
        "# Choose what we want to selectm from humanresource\n",
        "humanResource = full_file_humanResource['عنوان'].loc[(full_file_humanResource['تاریخ'] == date)]\n",
        "count = full_file_humanResource['تعداد حاضر'].loc[(full_file_humanResource['تاریخ'] == date)]"
      ],
      "metadata": {
        "id": "VKN6d8NQQKaa"
      },
      "execution_count": 29,
      "outputs": []
    },
    {
      "cell_type": "code",
      "source": [
        "# Intitate a for loop to fill data in excel file for human resource titles\n",
        "row_pos = 6\n",
        "col_pos_1 = \"C\"\n",
        "col_pos_2 = \"O\"\n",
        "col_pos_3 = \"AA\"\n",
        "for i in humanResource[0:10]:\n",
        "  ws_des2[col_pos_1 + str(row_pos)].value = i\n",
        "  row_pos += 1\n",
        "  #print(f\"{col_pos_1}{row_pos} : {ws_des2[col_pos_1 + str(row_pos)].value}\")\n",
        "\n",
        "row_pos = 6\n",
        "for j in humanResource[10:20]:\n",
        "  ws_des2[col_pos_2 + str(row_pos)].value = j\n",
        "  row_pos += 1\n",
        "  #print(f\"{col_pos_2}{row_pos} : {ws_des2[col_pos_2 + str(row_pos)].value}\")\n",
        "\n",
        "row_pos = 6\n",
        "for k in humanResource[20:]:\n",
        "  ws_des2[col_pos_3 + str(row_pos)].value = k\n",
        "  row_pos += 1\n",
        "  if (ws_des2[col_pos_3 + str(row_pos)].value == ws_des2[col_pos_3 + str(row_pos-1)].value):\n",
        "    ws_des2[col_pos_3 + str(row_pos)].value =\"\"\n",
        "  #print(f\"{col_pos_3}{row_pos} : {ws_des2[col_pos_3 + str(row_pos)].value}\")\n",
        "\n",
        "wb.save('دیتا بیس گزارشات روزانه (3).xlsx')"
      ],
      "metadata": {
        "colab": {
          "base_uri": "https://localhost:8080/"
        },
        "id": "4aPiPSDEdu1b",
        "outputId": "f5c3dacf-aa63-4fa4-a505-cd4525b73494"
      },
      "execution_count": 30,
      "outputs": [
        {
          "output_type": "stream",
          "name": "stdout",
          "text": [
            "C7 : None\n",
            "C8 : None\n",
            "C9 : None\n",
            "C10 : None\n",
            "C11 : None\n",
            "C12 : None\n",
            "C13 : None\n",
            "C14 : None\n",
            "C15 : None\n",
            "C16 : None\n",
            "O7 : None\n",
            "O8 : None\n",
            "O9 : None\n",
            "O10 : None\n",
            "O11 : None\n",
            "O12 : None\n",
            "O13 : None\n",
            "O14 : None\n",
            "O15 : None\n",
            "O16 : None\n",
            "AA7 : None\n",
            "AA8 : None\n",
            "AA9 : None\n",
            "AA10 : None\n",
            "AA11 : None\n",
            "AA12 : None\n",
            "AA13 : None\n"
          ]
        }
      ]
    },
    {
      "cell_type": "code",
      "source": [
        "count[0:10]"
      ],
      "metadata": {
        "colab": {
          "base_uri": "https://localhost:8080/"
        },
        "id": "oY-4RRxnIEkC",
        "outputId": "bf029434-f361-4336-8bcb-1e022ec305a5"
      },
      "execution_count": 31,
      "outputs": [
        {
          "output_type": "execute_result",
          "data": {
            "text/plain": [
              "1662    0\n",
              "1663    1\n",
              "1664    0\n",
              "1665    1\n",
              "1666    0\n",
              "1667    1\n",
              "1668    1\n",
              "1669    0\n",
              "1670    1\n",
              "1671    2\n",
              "Name: تعداد حاضر, dtype: object"
            ]
          },
          "metadata": {},
          "execution_count": 31
        }
      ]
    },
    {
      "cell_type": "code",
      "source": [
        "# Intitate a for loop to fill data in excel file for human Count\n",
        "row_pos = 6\n",
        "col_pos_1 = \"K\"\n",
        "col_pos_2 = \"W\"\n",
        "col_pos_3 = \"AI\"\n",
        "for i in count[0:10]:\n",
        "  ws_des2[col_pos_1 + str(row_pos)].value = i\n",
        "  row_pos += 1\n",
        "  #print(f\"{col_pos_1}{row_pos} : {ws_des2[col_pos_1 + str(row_pos)].value}\")\n",
        "\n",
        "row_pos = 6\n",
        "for j in count[10:20]:\n",
        "  ws_des2[col_pos_2 + str(row_pos)].value = j\n",
        "  row_pos += 1\n",
        "  #print(f\"{col_pos_2}{row_pos} : {ws_des2[col_pos_2 + str(row_pos)].value}\")\n",
        "\n",
        "row_pos = 6\n",
        "for k in count[20:]:\n",
        "  ws_des2[col_pos_3 + str(row_pos)].value = k\n",
        "  row_pos += 1\n",
        "  if (ws_des2[col_pos_3 + str(row_pos)].value == ws_des2[col_pos_3 + str(row_pos-1)].value):\n",
        "    ws_des2[col_pos_3 + str(row_pos)].value =\"\"\n",
        "  #print(f\"{col_pos_3}{row_pos} : {ws_des2[col_pos_3 + str(row_pos)].value}\")\n",
        "\n",
        "wb.save('دیتا بیس گزارشات روزانه (3).xlsx')"
      ],
      "metadata": {
        "colab": {
          "base_uri": "https://localhost:8080/"
        },
        "id": "oTI8Q1bCJW19",
        "outputId": "3d59eb8b-98c9-4858-b4f4-977ecd5fcf38"
      },
      "execution_count": 32,
      "outputs": [
        {
          "output_type": "stream",
          "name": "stdout",
          "text": [
            "K7 : None\n",
            "K8 : None\n",
            "K9 : None\n",
            "K10 : None\n",
            "K11 : None\n",
            "K12 : None\n",
            "K13 : None\n",
            "K14 : None\n",
            "K15 : None\n",
            "K16 : None\n",
            "W7 : None\n",
            "W8 : None\n",
            "W9 : None\n",
            "W10 : None\n",
            "W11 : None\n",
            "W12 : None\n",
            "W13 : None\n",
            "W14 : None\n",
            "W15 : None\n",
            "W16 : None\n",
            "AI7 : None\n",
            "AI8 : None\n",
            "AI9 : None\n",
            "AI10 : None\n",
            "AI11 : None\n",
            "AI12 : None\n",
            "AI13 : None\n"
          ]
        }
      ]
    },
    {
      "cell_type": "markdown",
      "source": [
        "##### Machinery"
      ],
      "metadata": {
        "id": "cSDasp0GfjE9"
      }
    },
    {
      "cell_type": "code",
      "source": [
        "# Insert the sheet\n",
        "ws_machinery = wb['ماشین آلات']\n",
        "print(f\"Total number of rows: {ws_machinery.max_row} \\nTotal number columns: {ws_machinery.max_column}\")"
      ],
      "metadata": {
        "colab": {
          "base_uri": "https://localhost:8080/"
        },
        "id": "t8f_f0JefjDA",
        "outputId": "7eee97e8-c99d-4456-aef5-2d9c497d6abc"
      },
      "execution_count": 33,
      "outputs": [
        {
          "output_type": "stream",
          "name": "stdout",
          "text": [
            "Total number of rows: 826 \n",
            "Total number columns: 7\n"
          ]
        }
      ]
    },
    {
      "cell_type": "code",
      "source": [
        "## Extract the columns\n",
        "col1 = [ws_machinery.cell(row=i, column=1).value\n",
        "                  for i in range(2, ws_machinery.max_row+1)]\n",
        "\n",
        "col2 = [ws_machinery.cell(row=i, column=2).value\n",
        "                  for i in range(2, ws_machinery.max_row+1)]\n",
        "\n",
        "col3 = [ws_machinery.cell(row=i, column=3).value\n",
        "                  for i in range(2, ws_machinery.max_row+1)]\n",
        "\n",
        "col4 = [ws_machinery.cell(row=i, column=4).value\n",
        "                  for i in range(2, ws_machinery.max_row+1)]\n",
        "\n",
        "col5 = [ws_machinery.cell(row=i, column=5).value\n",
        "                  for i in range(2, ws_machinery.max_row+1)]\n",
        "\n",
        "col6 = [ws_machinery.cell(row=i, column=6).value\n",
        "                  for i in range(2, ws_machinery.max_row+1)]\n",
        "\n",
        "# col7 = [ws_machinery.cell(row=i, column=7).value\n",
        "#                   for i in range(2, ws_machinery.max_row+1)]\n",
        "\n",
        "\n",
        "## Make them dataframe\n",
        "df_col1 = pd.DataFrame(col1, columns=['رديف'])\n",
        "df_col1['رديف'] = df_col1['رديف'].fillna(0)\n",
        "\n",
        "df_col2 = pd.DataFrame(col2, columns=['تاریخ'])\n",
        "df_col2['تاریخ'] = df_col2['تاریخ'].fillna(0)\n",
        "\n",
        "df_col3 = pd.DataFrame(col3, columns=['نوع'])\n",
        "df_col3['نوع'] = df_col3['نوع'].fillna(0)\n",
        "\n",
        "df_col4 = pd.DataFrame(col4, columns=['فعال'])\n",
        "df_col4['فعال'] = df_col4['فعال'].fillna(0)\n",
        "\n",
        "df_col5 = pd.DataFrame(col5, columns=['غیر فعال'])\n",
        "df_col5['غیر فعال'] = df_col5['غیر فعال'].fillna(0)\n",
        "\n",
        "df_col6 = pd.DataFrame(col6, columns=['درحال تعمیر'])\n",
        "df_col6['درحال تعمیر'] = df_col6['درحال تعمیر'].fillna(0)\n",
        "\n",
        "# df_col7 = pd.DataFrame(col7, columns=['تعداد کل'])\n",
        "# df_col7['تعداد کل'] = df_col7['تعداد کل'].fillna(0)\n",
        "\n",
        "\n",
        "# Joingong the data frames as column and create the main data frame\n",
        "full_file_machinery = pd.concat([df_col1, df_col2, df_col3, df_col4, df_col5, df_col6], axis=1, join='inner')\n",
        "full_file_machinery"
      ],
      "metadata": {
        "colab": {
          "base_uri": "https://localhost:8080/",
          "height": 424
        },
        "id": "20HKavkSfjAX",
        "outputId": "b9d801e1-849c-4d8f-bbda-02e80ee92903"
      },
      "execution_count": 34,
      "outputs": [
        {
          "output_type": "execute_result",
          "data": {
            "text/plain": [
              "     رديف      تاریخ                 نوع  فعال  غیر فعال  درحال تعمیر\n",
              "0     1.0 2023-05-22               سواری   2.0       0.0            0\n",
              "1     2.0 2023-05-22  دوربین نقشه برداری   1.0       0.0            0\n",
              "2     1.0 2023-05-23               سواری   2.0       0.0            0\n",
              "3     2.0 2023-05-23  دوربین نقشه برداری   1.0       0.0            0\n",
              "4     1.0 2023-05-24               سواری   2.0       0.0            0\n",
              "..    ...        ...                 ...   ...       ...          ...\n",
              "820   0.0 2023-08-08       خم كن آرماتور   0.0       2.0            0\n",
              "821   0.0 2023-08-08             رزوه زن   0.0       1.0            0\n",
              "822   0.0 2023-08-08              بالابر   0.0       1.0            0\n",
              "823   0.0 2023-08-08          دستگاه جوش   1.0       0.0            0\n",
              "824   0.0 2023-08-08        ديزل ژنراتور   0.0       2.0            0\n",
              "\n",
              "[825 rows x 6 columns]"
            ],
            "text/html": [
              "\n",
              "\n",
              "  <div id=\"df-35c7dbbb-9a35-48b4-a82d-6d14fdff4817\">\n",
              "    <div class=\"colab-df-container\">\n",
              "      <div>\n",
              "<style scoped>\n",
              "    .dataframe tbody tr th:only-of-type {\n",
              "        vertical-align: middle;\n",
              "    }\n",
              "\n",
              "    .dataframe tbody tr th {\n",
              "        vertical-align: top;\n",
              "    }\n",
              "\n",
              "    .dataframe thead th {\n",
              "        text-align: right;\n",
              "    }\n",
              "</style>\n",
              "<table border=\"1\" class=\"dataframe\">\n",
              "  <thead>\n",
              "    <tr style=\"text-align: right;\">\n",
              "      <th></th>\n",
              "      <th>رديف</th>\n",
              "      <th>تاریخ</th>\n",
              "      <th>نوع</th>\n",
              "      <th>فعال</th>\n",
              "      <th>غیر فعال</th>\n",
              "      <th>درحال تعمیر</th>\n",
              "    </tr>\n",
              "  </thead>\n",
              "  <tbody>\n",
              "    <tr>\n",
              "      <th>0</th>\n",
              "      <td>1.0</td>\n",
              "      <td>2023-05-22</td>\n",
              "      <td>سواری</td>\n",
              "      <td>2.0</td>\n",
              "      <td>0.0</td>\n",
              "      <td>0</td>\n",
              "    </tr>\n",
              "    <tr>\n",
              "      <th>1</th>\n",
              "      <td>2.0</td>\n",
              "      <td>2023-05-22</td>\n",
              "      <td>دوربین نقشه برداری</td>\n",
              "      <td>1.0</td>\n",
              "      <td>0.0</td>\n",
              "      <td>0</td>\n",
              "    </tr>\n",
              "    <tr>\n",
              "      <th>2</th>\n",
              "      <td>1.0</td>\n",
              "      <td>2023-05-23</td>\n",
              "      <td>سواری</td>\n",
              "      <td>2.0</td>\n",
              "      <td>0.0</td>\n",
              "      <td>0</td>\n",
              "    </tr>\n",
              "    <tr>\n",
              "      <th>3</th>\n",
              "      <td>2.0</td>\n",
              "      <td>2023-05-23</td>\n",
              "      <td>دوربین نقشه برداری</td>\n",
              "      <td>1.0</td>\n",
              "      <td>0.0</td>\n",
              "      <td>0</td>\n",
              "    </tr>\n",
              "    <tr>\n",
              "      <th>4</th>\n",
              "      <td>1.0</td>\n",
              "      <td>2023-05-24</td>\n",
              "      <td>سواری</td>\n",
              "      <td>2.0</td>\n",
              "      <td>0.0</td>\n",
              "      <td>0</td>\n",
              "    </tr>\n",
              "    <tr>\n",
              "      <th>...</th>\n",
              "      <td>...</td>\n",
              "      <td>...</td>\n",
              "      <td>...</td>\n",
              "      <td>...</td>\n",
              "      <td>...</td>\n",
              "      <td>...</td>\n",
              "    </tr>\n",
              "    <tr>\n",
              "      <th>820</th>\n",
              "      <td>0.0</td>\n",
              "      <td>2023-08-08</td>\n",
              "      <td>خم كن آرماتور</td>\n",
              "      <td>0.0</td>\n",
              "      <td>2.0</td>\n",
              "      <td>0</td>\n",
              "    </tr>\n",
              "    <tr>\n",
              "      <th>821</th>\n",
              "      <td>0.0</td>\n",
              "      <td>2023-08-08</td>\n",
              "      <td>رزوه زن</td>\n",
              "      <td>0.0</td>\n",
              "      <td>1.0</td>\n",
              "      <td>0</td>\n",
              "    </tr>\n",
              "    <tr>\n",
              "      <th>822</th>\n",
              "      <td>0.0</td>\n",
              "      <td>2023-08-08</td>\n",
              "      <td>بالابر</td>\n",
              "      <td>0.0</td>\n",
              "      <td>1.0</td>\n",
              "      <td>0</td>\n",
              "    </tr>\n",
              "    <tr>\n",
              "      <th>823</th>\n",
              "      <td>0.0</td>\n",
              "      <td>2023-08-08</td>\n",
              "      <td>دستگاه جوش</td>\n",
              "      <td>1.0</td>\n",
              "      <td>0.0</td>\n",
              "      <td>0</td>\n",
              "    </tr>\n",
              "    <tr>\n",
              "      <th>824</th>\n",
              "      <td>0.0</td>\n",
              "      <td>2023-08-08</td>\n",
              "      <td>ديزل ژنراتور</td>\n",
              "      <td>0.0</td>\n",
              "      <td>2.0</td>\n",
              "      <td>0</td>\n",
              "    </tr>\n",
              "  </tbody>\n",
              "</table>\n",
              "<p>825 rows × 6 columns</p>\n",
              "</div>\n",
              "      <button class=\"colab-df-convert\" onclick=\"convertToInteractive('df-35c7dbbb-9a35-48b4-a82d-6d14fdff4817')\"\n",
              "              title=\"Convert this dataframe to an interactive table.\"\n",
              "              style=\"display:none;\">\n",
              "\n",
              "  <svg xmlns=\"http://www.w3.org/2000/svg\" height=\"24px\"viewBox=\"0 0 24 24\"\n",
              "       width=\"24px\">\n",
              "    <path d=\"M0 0h24v24H0V0z\" fill=\"none\"/>\n",
              "    <path d=\"M18.56 5.44l.94 2.06.94-2.06 2.06-.94-2.06-.94-.94-2.06-.94 2.06-2.06.94zm-11 1L8.5 8.5l.94-2.06 2.06-.94-2.06-.94L8.5 2.5l-.94 2.06-2.06.94zm10 10l.94 2.06.94-2.06 2.06-.94-2.06-.94-.94-2.06-.94 2.06-2.06.94z\"/><path d=\"M17.41 7.96l-1.37-1.37c-.4-.4-.92-.59-1.43-.59-.52 0-1.04.2-1.43.59L10.3 9.45l-7.72 7.72c-.78.78-.78 2.05 0 2.83L4 21.41c.39.39.9.59 1.41.59.51 0 1.02-.2 1.41-.59l7.78-7.78 2.81-2.81c.8-.78.8-2.07 0-2.86zM5.41 20L4 18.59l7.72-7.72 1.47 1.35L5.41 20z\"/>\n",
              "  </svg>\n",
              "      </button>\n",
              "\n",
              "\n",
              "\n",
              "    <div id=\"df-c563714c-3412-4f83-9e6f-be14210f916b\">\n",
              "      <button class=\"colab-df-quickchart\" onclick=\"quickchart('df-c563714c-3412-4f83-9e6f-be14210f916b')\"\n",
              "              title=\"Suggest charts.\"\n",
              "              style=\"display:none;\">\n",
              "\n",
              "<svg xmlns=\"http://www.w3.org/2000/svg\" height=\"24px\"viewBox=\"0 0 24 24\"\n",
              "     width=\"24px\">\n",
              "    <g>\n",
              "        <path d=\"M19 3H5c-1.1 0-2 .9-2 2v14c0 1.1.9 2 2 2h14c1.1 0 2-.9 2-2V5c0-1.1-.9-2-2-2zM9 17H7v-7h2v7zm4 0h-2V7h2v10zm4 0h-2v-4h2v4z\"/>\n",
              "    </g>\n",
              "</svg>\n",
              "      </button>\n",
              "    </div>\n",
              "\n",
              "<style>\n",
              "  .colab-df-quickchart {\n",
              "    background-color: #E8F0FE;\n",
              "    border: none;\n",
              "    border-radius: 50%;\n",
              "    cursor: pointer;\n",
              "    display: none;\n",
              "    fill: #1967D2;\n",
              "    height: 32px;\n",
              "    padding: 0 0 0 0;\n",
              "    width: 32px;\n",
              "  }\n",
              "\n",
              "  .colab-df-quickchart:hover {\n",
              "    background-color: #E2EBFA;\n",
              "    box-shadow: 0px 1px 2px rgba(60, 64, 67, 0.3), 0px 1px 3px 1px rgba(60, 64, 67, 0.15);\n",
              "    fill: #174EA6;\n",
              "  }\n",
              "\n",
              "  [theme=dark] .colab-df-quickchart {\n",
              "    background-color: #3B4455;\n",
              "    fill: #D2E3FC;\n",
              "  }\n",
              "\n",
              "  [theme=dark] .colab-df-quickchart:hover {\n",
              "    background-color: #434B5C;\n",
              "    box-shadow: 0px 1px 3px 1px rgba(0, 0, 0, 0.15);\n",
              "    filter: drop-shadow(0px 1px 2px rgba(0, 0, 0, 0.3));\n",
              "    fill: #FFFFFF;\n",
              "  }\n",
              "</style>\n",
              "\n",
              "    <script>\n",
              "      async function quickchart(key) {\n",
              "        const containerElement = document.querySelector('#' + key);\n",
              "        const charts = await google.colab.kernel.invokeFunction(\n",
              "            'suggestCharts', [key], {});\n",
              "      }\n",
              "    </script>\n",
              "\n",
              "      <script>\n",
              "\n",
              "function displayQuickchartButton(domScope) {\n",
              "  let quickchartButtonEl =\n",
              "    domScope.querySelector('#df-c563714c-3412-4f83-9e6f-be14210f916b button.colab-df-quickchart');\n",
              "  quickchartButtonEl.style.display =\n",
              "    google.colab.kernel.accessAllowed ? 'block' : 'none';\n",
              "}\n",
              "\n",
              "        displayQuickchartButton(document);\n",
              "      </script>\n",
              "      <style>\n",
              "    .colab-df-container {\n",
              "      display:flex;\n",
              "      flex-wrap:wrap;\n",
              "      gap: 12px;\n",
              "    }\n",
              "\n",
              "    .colab-df-convert {\n",
              "      background-color: #E8F0FE;\n",
              "      border: none;\n",
              "      border-radius: 50%;\n",
              "      cursor: pointer;\n",
              "      display: none;\n",
              "      fill: #1967D2;\n",
              "      height: 32px;\n",
              "      padding: 0 0 0 0;\n",
              "      width: 32px;\n",
              "    }\n",
              "\n",
              "    .colab-df-convert:hover {\n",
              "      background-color: #E2EBFA;\n",
              "      box-shadow: 0px 1px 2px rgba(60, 64, 67, 0.3), 0px 1px 3px 1px rgba(60, 64, 67, 0.15);\n",
              "      fill: #174EA6;\n",
              "    }\n",
              "\n",
              "    [theme=dark] .colab-df-convert {\n",
              "      background-color: #3B4455;\n",
              "      fill: #D2E3FC;\n",
              "    }\n",
              "\n",
              "    [theme=dark] .colab-df-convert:hover {\n",
              "      background-color: #434B5C;\n",
              "      box-shadow: 0px 1px 3px 1px rgba(0, 0, 0, 0.15);\n",
              "      filter: drop-shadow(0px 1px 2px rgba(0, 0, 0, 0.3));\n",
              "      fill: #FFFFFF;\n",
              "    }\n",
              "  </style>\n",
              "\n",
              "      <script>\n",
              "        const buttonEl =\n",
              "          document.querySelector('#df-35c7dbbb-9a35-48b4-a82d-6d14fdff4817 button.colab-df-convert');\n",
              "        buttonEl.style.display =\n",
              "          google.colab.kernel.accessAllowed ? 'block' : 'none';\n",
              "\n",
              "        async function convertToInteractive(key) {\n",
              "          const element = document.querySelector('#df-35c7dbbb-9a35-48b4-a82d-6d14fdff4817');\n",
              "          const dataTable =\n",
              "            await google.colab.kernel.invokeFunction('convertToInteractive',\n",
              "                                                     [key], {});\n",
              "          if (!dataTable) return;\n",
              "\n",
              "          const docLinkHtml = 'Like what you see? Visit the ' +\n",
              "            '<a target=\"_blank\" href=https://colab.research.google.com/notebooks/data_table.ipynb>data table notebook</a>'\n",
              "            + ' to learn more about interactive tables.';\n",
              "          element.innerHTML = '';\n",
              "          dataTable['output_type'] = 'display_data';\n",
              "          await google.colab.output.renderOutput(dataTable, element);\n",
              "          const docLink = document.createElement('div');\n",
              "          docLink.innerHTML = docLinkHtml;\n",
              "          element.appendChild(docLink);\n",
              "        }\n",
              "      </script>\n",
              "    </div>\n",
              "  </div>\n"
            ]
          },
          "metadata": {},
          "execution_count": 34
        }
      ]
    },
    {
      "cell_type": "code",
      "source": [
        "# ws_des2[\"af3\"].value = date\n",
        "# wb.save('دیتا بیس گزارشات روزانه (3).xlsx')"
      ],
      "metadata": {
        "id": "Op3HC2QswY3X"
      },
      "execution_count": 35,
      "outputs": []
    },
    {
      "cell_type": "code",
      "source": [
        "# Choose what we want to selectm from humanresource\n",
        "title = full_file_machinery['نوع'].loc[(full_file_machinery['تاریخ'] == date)]\n",
        "acctive = full_file_machinery['فعال'].loc[(full_file_machinery['تاریخ'] == date)]\n",
        "inAcctive = full_file_machinery['غیر فعال'].loc[(full_file_machinery['تاریخ'] == date)]\n",
        "repair = full_file_machinery['درحال تعمیر'].loc[(full_file_machinery['تاریخ'] == date)]\n",
        "# Print the values and see what you get"
      ],
      "metadata": {
        "id": "q7tTU967fi9e"
      },
      "execution_count": 36,
      "outputs": []
    },
    {
      "cell_type": "code",
      "source": [
        "# Intitate a for loop to fill data in excel file Machinary_title\n",
        "count_row = 6\n",
        "row_pos = 19\n",
        "col_pos_1 = \"c\"\n",
        "col_pos_2 = \"u\"\n",
        "col_pos_state_left_1 = \"k\"\n",
        "col_pos_state_left_2 = \"m\"\n",
        "col_pos_state_left_3 = \"p\"\n",
        "col_pos_state_right_1 = \"ac\"\n",
        "col_pos_state_right_2 = \"ae\"\n",
        "col_pos_state_right_3 = \"ah\"\n",
        "\n",
        "for i in title[0:10]:\n",
        "  ws_des2[col_pos_1 + str(row_pos)].value = i\n",
        "  row_pos += 1\n",
        "  #print(f\"{col_pos_1}{row_pos} : {ws_des2[col_pos_1 + str(row_pos)].value}\")\n",
        "\n",
        "row_pos = 19\n",
        "for j in title[10:20]:\n",
        "  ws_des2[col_pos_2 + str(row_pos)].value = j\n",
        "  row_pos += 1\n",
        "  #print(f\"{col_pos_2}{row_pos} : {ws_des2[col_pos_2 + str(row_pos)].value}\")\n",
        "\n",
        "wb.save('دیتا بیس گزارشات روزانه (3).xlsx')\n"
      ],
      "metadata": {
        "colab": {
          "base_uri": "https://localhost:8080/"
        },
        "id": "uRhXk3lSqQtD",
        "outputId": "5e3973cd-4c5c-4275-a476-4e751cce6f53"
      },
      "execution_count": 37,
      "outputs": [
        {
          "output_type": "stream",
          "name": "stdout",
          "text": [
            "c20 : None\n",
            "c21 : None\n",
            "c22 : None\n",
            "c23 : None\n",
            "c24 : None\n",
            "c25 : None\n",
            "c26 : None\n",
            "c27 : None\n",
            "c28 : None\n",
            "c29 : None\n",
            "u20 : None\n",
            "u21 : None\n",
            "u22 : None\n",
            "u23 : None\n",
            "u24 : None\n"
          ]
        }
      ]
    },
    {
      "cell_type": "code",
      "source": [
        "# Intitate a for loop to fill data in excel file Machinary_Acctive\n",
        "row_pos = 19\n",
        "for i in acctive[0:10]:\n",
        "  ws_des2[col_pos_state_left_1 + str(row_pos)].value = i\n",
        "  row_pos += 1\n",
        "  #print(f\"{col_pos_state_left_1}{row_pos} : {ws_des2[col_pos_state_left_1 + str(row_pos)].value}\")\n",
        "\n",
        "row_pos = 19\n",
        "for j in acctive[10:20]:\n",
        "  ws_des2[col_pos_state_right_1 + str(row_pos)].value = j\n",
        "  row_pos += 1\n",
        "  #print(f\"{col_pos_state_right_1}{row_pos} : {ws_des2[col_pos_state_right_1 + str(row_pos)].value}\")\n",
        "\n",
        "\n",
        "wb.save('دیتا بیس گزارشات روزانه (3).xlsx')\n"
      ],
      "metadata": {
        "id": "0b1bPTSLsjs_",
        "colab": {
          "base_uri": "https://localhost:8080/"
        },
        "outputId": "0b097301-b75d-4396-b113-d3a6732ff10d"
      },
      "execution_count": 38,
      "outputs": [
        {
          "output_type": "stream",
          "name": "stdout",
          "text": [
            "k20 : None\n",
            "k21 : None\n",
            "k22 : None\n",
            "k23 : None\n",
            "k24 : None\n",
            "k25 : None\n",
            "k26 : None\n",
            "k27 : None\n",
            "k28 : None\n",
            "k29 : None\n",
            "ac20 : None\n",
            "ac21 : None\n",
            "ac22 : None\n",
            "ac23 : None\n",
            "ac24 : None\n"
          ]
        }
      ]
    },
    {
      "cell_type": "code",
      "source": [
        "# Intitate a for loop to fill data in excel file Machinary_inAcctive\n",
        "row_pos = 19\n",
        "for i in inAcctive[0:10]:\n",
        "  ws_des2[col_pos_state_left_2 + str(row_pos)].value = i\n",
        "  row_pos += 1\n",
        "  #print(f\"{col_pos_state_left_2}{row_pos} : {ws_des2[col_pos_state_left_2 + str(row_pos)].value}\")\n",
        "\n",
        "row_pos = 19\n",
        "for i in inAcctive[10:20]:\n",
        "  ws_des2[col_pos_state_right_2 + str(row_pos)].value = j\n",
        "  row_pos += 1\n",
        "  #print(f\"{col_pos_state_right_2}{row_pos} : {ws_des2[col_pos_state_right_2 + str(row_pos)].value}\")\n",
        "\n",
        "\n",
        "wb.save('دیتا بیس گزارشات روزانه (3).xlsx')"
      ],
      "metadata": {
        "colab": {
          "base_uri": "https://localhost:8080/"
        },
        "id": "3n2ogLQDSjX4",
        "outputId": "6f056fd0-af92-459f-c786-40d469ceac02"
      },
      "execution_count": 39,
      "outputs": [
        {
          "output_type": "stream",
          "name": "stdout",
          "text": [
            "m20 : None\n",
            "m21 : None\n",
            "m22 : None\n",
            "m23 : None\n",
            "m24 : None\n",
            "m25 : None\n",
            "m26 : None\n",
            "m27 : None\n",
            "m28 : None\n",
            "m29 : None\n",
            "ae20 : None\n",
            "ae21 : None\n",
            "ae22 : None\n",
            "ae23 : None\n",
            "ae24 : None\n"
          ]
        }
      ]
    },
    {
      "cell_type": "code",
      "source": [
        "# Intitate a for loop to fill data in excel file Machinary_Repair\n",
        "\n",
        "\n",
        "row_pos = 19\n",
        "for i in repair[0:10]:\n",
        "  ws_des2[col_pos_state_left_3 + str(row_pos)].value = i\n",
        "  row_pos += 1\n",
        "  #print(f\"{col_pos_state_left_3}{row_pos} : {ws_des2[col_pos_state_left_3 + str(row_pos)].value}\")\n",
        "\n",
        "row_pos = 19\n",
        "for i in repair[10:20]:\n",
        "  ws_des2[col_pos_state_right_3 + str(row_pos)].value = j\n",
        "  row_pos += 1\n",
        "  #print(f\"{col_pos_state_right_3}{row_pos} : {ws_des2[col_pos_state_right_3 + str(row_pos)].value}\")"
      ],
      "metadata": {
        "colab": {
          "base_uri": "https://localhost:8080/"
        },
        "id": "C8otURK1T6A4",
        "outputId": "b1f79e9b-6c8d-49a8-fbf7-980648c81762"
      },
      "execution_count": 40,
      "outputs": [
        {
          "output_type": "stream",
          "name": "stdout",
          "text": [
            "p20 : None\n",
            "p21 : None\n",
            "p22 : None\n",
            "p23 : None\n",
            "p24 : None\n",
            "p25 : None\n",
            "p26 : None\n",
            "p27 : None\n",
            "p28 : None\n",
            "p29 : None\n",
            "ah20 : None\n",
            "ah21 : None\n",
            "ah22 : None\n",
            "ah23 : None\n",
            "ah24 : None\n"
          ]
        }
      ]
    },
    {
      "cell_type": "markdown",
      "source": [
        "##### Materials"
      ],
      "metadata": {
        "id": "aFDjmwdBUgq8"
      }
    },
    {
      "cell_type": "code",
      "source": [
        "ws_material = wb['مصالح وارد شده']\n",
        "#print(f\"Total number of rows: {ws_material.max_row} \\nTotal number columns: {ws_material.max_column}\")"
      ],
      "metadata": {
        "colab": {
          "base_uri": "https://localhost:8080/"
        },
        "id": "uhFKpIFPUgoq",
        "outputId": "69f0e8ee-3bca-4389-bf93-44f8d28f0671"
      },
      "execution_count": 41,
      "outputs": [
        {
          "output_type": "stream",
          "name": "stdout",
          "text": [
            "Total number of rows: 34 \n",
            "Total number columns: 5\n"
          ]
        }
      ]
    },
    {
      "cell_type": "code",
      "source": [
        "## Extract the columns\n",
        "col1 = [ws_material.cell(row=i, column=1).value\n",
        "                  for i in range(2, ws_material.max_row+1)]\n",
        "\n",
        "col2 = [ws_material.cell(row=i, column=2).value\n",
        "                  for i in range(2, ws_material.max_row+1)]\n",
        "\n",
        "col3 = [ws_material.cell(row=i, column=3).value\n",
        "                  for i in range(2, ws_material.max_row+1)]\n",
        "\n",
        "col4 = [ws_material.cell(row=i, column=4).value\n",
        "                  for i in range(2, ws_material.max_row+1)]\n",
        "\n",
        "col5 = [ws_material.cell(row=i, column=5).value\n",
        "                  for i in range(2, ws_material.max_row+1)]\n",
        "## Make them dataframe\n",
        "df_col1 = pd.DataFrame(col1, columns=['رديف'])\n",
        "df_col1['رديف'] = df_col1['رديف'].fillna(0)\n",
        "\n",
        "df_col2 = pd.DataFrame(col2, columns=['تاریخ'])\n",
        "df_col2['تاریخ'] = df_col2['تاریخ'].fillna(0)\n",
        "\n",
        "df_col3 = pd.DataFrame(col3, columns=['شرح مصالح'])\n",
        "df_col3['شرح مصالح'] = df_col3['شرح مصالح'].fillna(0)\n",
        "\n",
        "df_col4 = pd.DataFrame(col4, columns=['مقدار'])\n",
        "df_col4['مقدار'] = df_col4['مقدار'].fillna(0)\n",
        "\n",
        "df_col5 = pd.DataFrame(col5, columns=['واحد'])\n",
        "df_col5['واحد'] = df_col5['واحد'].fillna(0)\n",
        "\n",
        "\n",
        "# Joingong the data frames as column and create the main data frame\n",
        "full_file_materials = pd.concat([df_col1, df_col2, df_col3, df_col4, df_col5], axis=1, join='inner')\n",
        "full_file_materials"
      ],
      "metadata": {
        "colab": {
          "base_uri": "https://localhost:8080/",
          "height": 1000
        },
        "id": "TsGVV-nFUgkA",
        "outputId": "9782e8b6-0d1a-4c2e-c187-8d7d72317392"
      },
      "execution_count": 42,
      "outputs": [
        {
          "output_type": "execute_result",
          "data": {
            "text/plain": [
              "    رديف                تاریخ                   شرح مصالح    مقدار    واحد\n",
              "0    0.0                    0        ميلگرد آجدار سايز 12   10.000      تن\n",
              "1    0.0                    0        ميلگرد آجدار سايز 14    4.500      تن\n",
              "2    0.0                    0        ميلگرد آجدار سايز 16    4.500      تن\n",
              "3    0.0                    0        ميلگرد آجدار سايز 20    4.500      تن\n",
              "4    0.0                    0        ميلگرد آجدار سايز 25   57.000      تن\n",
              "5    0.0                    0        ميلگرد آجدار سايز 28    9.000      تن\n",
              "6    0.0                    0        ميلگرد آجدار سايز 32    4.500      تن\n",
              "7    1.0  2023-05-31 00:00:00               کانکس 12 متری    1.000  دستگاه\n",
              "8    1.0  2023-06-02 00:00:00               کانکس 12 متری    1.000  دستگاه\n",
              "9    1.0  2023-06-04 00:00:00                        ماسه    2.000      تن\n",
              "10   2.0  2023-06-04 00:00:00                        بلوک  150.000     عدد\n",
              "11   3.0  2023-06-04 00:00:00               سیمان کیسه ای    2.500      تن\n",
              "12   1.0  2023-06-08 00:00:00             کانتینر 12 متری    1.000     عدد\n",
              "13   1.0  2023-06-10 00:00:00                    کامپیوتر   15.000  دستگاه\n",
              "14   1.0  2023-06-19 00:00:00     داربست 6 متري و متعلقات   20.000    شاخه\n",
              "15   2.0  2023-06-19 00:00:00                   كابل 4x16  100.000     متر\n",
              "16   0.0  2023-06-21 00:00:00                        قالب   30.000     عدد\n",
              "17   0.0  2023-06-21 00:00:00  بخشي از سكشن هاي تاور12 تن    0.000       0\n",
              "18   0.0  2023-06-26 00:00:00                     واتر جت    1.000  دستگاه\n",
              "19   0.0  2023-07-03 00:00:00        ميلگرد آجدار سايز 14   24.000      تن\n",
              "20   0.0  2023-07-04 00:00:00                     مس باره    8.000      تن\n",
              "21   0.0  2023-07-17 00:00:00        ميلگرد آجدار سايز 12   23.260      تن\n",
              "22   0.0  2023-07-18 00:00:00        ميلگرد آجدار سايز 12   23.160      تن\n",
              "23   0.0  2023-07-20 00:00:00        ميلگرد آجدار سايز 12   23.940      تن\n",
              "24   0.0  2023-07-22 00:00:00        ميلگرد آجدار سايز 20   23.800      تن\n",
              "25   0.0  2023-07-22 00:00:00        ميلگرد آجدار سايز 28   13.815      تن\n",
              "26   0.0  2023-07-22 00:00:00        ميلگرد آجدار سايز 32   13.265      تن\n",
              "27   0.0  2023-07-29 00:00:00                   ماسه بادي    0.320      تن\n",
              "28   0.0  2023-08-02 00:00:00                   ماسه بادی   14.000      تن\n",
              "29   0.0  2023-08-03 00:00:00                  ماسه میناب   14.610      تن\n",
              "30   0.0                    0                           0    0.000       0\n",
              "31   0.0                    0                           0    0.000       0\n",
              "32   0.0                    0                           0    0.000       0"
            ],
            "text/html": [
              "\n",
              "\n",
              "  <div id=\"df-8b18e2fc-0cac-4983-b6fa-1b26760b8408\">\n",
              "    <div class=\"colab-df-container\">\n",
              "      <div>\n",
              "<style scoped>\n",
              "    .dataframe tbody tr th:only-of-type {\n",
              "        vertical-align: middle;\n",
              "    }\n",
              "\n",
              "    .dataframe tbody tr th {\n",
              "        vertical-align: top;\n",
              "    }\n",
              "\n",
              "    .dataframe thead th {\n",
              "        text-align: right;\n",
              "    }\n",
              "</style>\n",
              "<table border=\"1\" class=\"dataframe\">\n",
              "  <thead>\n",
              "    <tr style=\"text-align: right;\">\n",
              "      <th></th>\n",
              "      <th>رديف</th>\n",
              "      <th>تاریخ</th>\n",
              "      <th>شرح مصالح</th>\n",
              "      <th>مقدار</th>\n",
              "      <th>واحد</th>\n",
              "    </tr>\n",
              "  </thead>\n",
              "  <tbody>\n",
              "    <tr>\n",
              "      <th>0</th>\n",
              "      <td>0.0</td>\n",
              "      <td>0</td>\n",
              "      <td>ميلگرد آجدار سايز 12</td>\n",
              "      <td>10.000</td>\n",
              "      <td>تن</td>\n",
              "    </tr>\n",
              "    <tr>\n",
              "      <th>1</th>\n",
              "      <td>0.0</td>\n",
              "      <td>0</td>\n",
              "      <td>ميلگرد آجدار سايز 14</td>\n",
              "      <td>4.500</td>\n",
              "      <td>تن</td>\n",
              "    </tr>\n",
              "    <tr>\n",
              "      <th>2</th>\n",
              "      <td>0.0</td>\n",
              "      <td>0</td>\n",
              "      <td>ميلگرد آجدار سايز 16</td>\n",
              "      <td>4.500</td>\n",
              "      <td>تن</td>\n",
              "    </tr>\n",
              "    <tr>\n",
              "      <th>3</th>\n",
              "      <td>0.0</td>\n",
              "      <td>0</td>\n",
              "      <td>ميلگرد آجدار سايز 20</td>\n",
              "      <td>4.500</td>\n",
              "      <td>تن</td>\n",
              "    </tr>\n",
              "    <tr>\n",
              "      <th>4</th>\n",
              "      <td>0.0</td>\n",
              "      <td>0</td>\n",
              "      <td>ميلگرد آجدار سايز 25</td>\n",
              "      <td>57.000</td>\n",
              "      <td>تن</td>\n",
              "    </tr>\n",
              "    <tr>\n",
              "      <th>5</th>\n",
              "      <td>0.0</td>\n",
              "      <td>0</td>\n",
              "      <td>ميلگرد آجدار سايز 28</td>\n",
              "      <td>9.000</td>\n",
              "      <td>تن</td>\n",
              "    </tr>\n",
              "    <tr>\n",
              "      <th>6</th>\n",
              "      <td>0.0</td>\n",
              "      <td>0</td>\n",
              "      <td>ميلگرد آجدار سايز 32</td>\n",
              "      <td>4.500</td>\n",
              "      <td>تن</td>\n",
              "    </tr>\n",
              "    <tr>\n",
              "      <th>7</th>\n",
              "      <td>1.0</td>\n",
              "      <td>2023-05-31 00:00:00</td>\n",
              "      <td>کانکس 12 متری</td>\n",
              "      <td>1.000</td>\n",
              "      <td>دستگاه</td>\n",
              "    </tr>\n",
              "    <tr>\n",
              "      <th>8</th>\n",
              "      <td>1.0</td>\n",
              "      <td>2023-06-02 00:00:00</td>\n",
              "      <td>کانکس 12 متری</td>\n",
              "      <td>1.000</td>\n",
              "      <td>دستگاه</td>\n",
              "    </tr>\n",
              "    <tr>\n",
              "      <th>9</th>\n",
              "      <td>1.0</td>\n",
              "      <td>2023-06-04 00:00:00</td>\n",
              "      <td>ماسه</td>\n",
              "      <td>2.000</td>\n",
              "      <td>تن</td>\n",
              "    </tr>\n",
              "    <tr>\n",
              "      <th>10</th>\n",
              "      <td>2.0</td>\n",
              "      <td>2023-06-04 00:00:00</td>\n",
              "      <td>بلوک</td>\n",
              "      <td>150.000</td>\n",
              "      <td>عدد</td>\n",
              "    </tr>\n",
              "    <tr>\n",
              "      <th>11</th>\n",
              "      <td>3.0</td>\n",
              "      <td>2023-06-04 00:00:00</td>\n",
              "      <td>سیمان کیسه ای</td>\n",
              "      <td>2.500</td>\n",
              "      <td>تن</td>\n",
              "    </tr>\n",
              "    <tr>\n",
              "      <th>12</th>\n",
              "      <td>1.0</td>\n",
              "      <td>2023-06-08 00:00:00</td>\n",
              "      <td>کانتینر 12 متری</td>\n",
              "      <td>1.000</td>\n",
              "      <td>عدد</td>\n",
              "    </tr>\n",
              "    <tr>\n",
              "      <th>13</th>\n",
              "      <td>1.0</td>\n",
              "      <td>2023-06-10 00:00:00</td>\n",
              "      <td>کامپیوتر</td>\n",
              "      <td>15.000</td>\n",
              "      <td>دستگاه</td>\n",
              "    </tr>\n",
              "    <tr>\n",
              "      <th>14</th>\n",
              "      <td>1.0</td>\n",
              "      <td>2023-06-19 00:00:00</td>\n",
              "      <td>داربست 6 متري و متعلقات</td>\n",
              "      <td>20.000</td>\n",
              "      <td>شاخه</td>\n",
              "    </tr>\n",
              "    <tr>\n",
              "      <th>15</th>\n",
              "      <td>2.0</td>\n",
              "      <td>2023-06-19 00:00:00</td>\n",
              "      <td>كابل 4x16</td>\n",
              "      <td>100.000</td>\n",
              "      <td>متر</td>\n",
              "    </tr>\n",
              "    <tr>\n",
              "      <th>16</th>\n",
              "      <td>0.0</td>\n",
              "      <td>2023-06-21 00:00:00</td>\n",
              "      <td>قالب</td>\n",
              "      <td>30.000</td>\n",
              "      <td>عدد</td>\n",
              "    </tr>\n",
              "    <tr>\n",
              "      <th>17</th>\n",
              "      <td>0.0</td>\n",
              "      <td>2023-06-21 00:00:00</td>\n",
              "      <td>بخشي از سكشن هاي تاور12 تن</td>\n",
              "      <td>0.000</td>\n",
              "      <td>0</td>\n",
              "    </tr>\n",
              "    <tr>\n",
              "      <th>18</th>\n",
              "      <td>0.0</td>\n",
              "      <td>2023-06-26 00:00:00</td>\n",
              "      <td>واتر جت</td>\n",
              "      <td>1.000</td>\n",
              "      <td>دستگاه</td>\n",
              "    </tr>\n",
              "    <tr>\n",
              "      <th>19</th>\n",
              "      <td>0.0</td>\n",
              "      <td>2023-07-03 00:00:00</td>\n",
              "      <td>ميلگرد آجدار سايز 14</td>\n",
              "      <td>24.000</td>\n",
              "      <td>تن</td>\n",
              "    </tr>\n",
              "    <tr>\n",
              "      <th>20</th>\n",
              "      <td>0.0</td>\n",
              "      <td>2023-07-04 00:00:00</td>\n",
              "      <td>مس باره</td>\n",
              "      <td>8.000</td>\n",
              "      <td>تن</td>\n",
              "    </tr>\n",
              "    <tr>\n",
              "      <th>21</th>\n",
              "      <td>0.0</td>\n",
              "      <td>2023-07-17 00:00:00</td>\n",
              "      <td>ميلگرد آجدار سايز 12</td>\n",
              "      <td>23.260</td>\n",
              "      <td>تن</td>\n",
              "    </tr>\n",
              "    <tr>\n",
              "      <th>22</th>\n",
              "      <td>0.0</td>\n",
              "      <td>2023-07-18 00:00:00</td>\n",
              "      <td>ميلگرد آجدار سايز 12</td>\n",
              "      <td>23.160</td>\n",
              "      <td>تن</td>\n",
              "    </tr>\n",
              "    <tr>\n",
              "      <th>23</th>\n",
              "      <td>0.0</td>\n",
              "      <td>2023-07-20 00:00:00</td>\n",
              "      <td>ميلگرد آجدار سايز 12</td>\n",
              "      <td>23.940</td>\n",
              "      <td>تن</td>\n",
              "    </tr>\n",
              "    <tr>\n",
              "      <th>24</th>\n",
              "      <td>0.0</td>\n",
              "      <td>2023-07-22 00:00:00</td>\n",
              "      <td>ميلگرد آجدار سايز 20</td>\n",
              "      <td>23.800</td>\n",
              "      <td>تن</td>\n",
              "    </tr>\n",
              "    <tr>\n",
              "      <th>25</th>\n",
              "      <td>0.0</td>\n",
              "      <td>2023-07-22 00:00:00</td>\n",
              "      <td>ميلگرد آجدار سايز 28</td>\n",
              "      <td>13.815</td>\n",
              "      <td>تن</td>\n",
              "    </tr>\n",
              "    <tr>\n",
              "      <th>26</th>\n",
              "      <td>0.0</td>\n",
              "      <td>2023-07-22 00:00:00</td>\n",
              "      <td>ميلگرد آجدار سايز 32</td>\n",
              "      <td>13.265</td>\n",
              "      <td>تن</td>\n",
              "    </tr>\n",
              "    <tr>\n",
              "      <th>27</th>\n",
              "      <td>0.0</td>\n",
              "      <td>2023-07-29 00:00:00</td>\n",
              "      <td>ماسه بادي</td>\n",
              "      <td>0.320</td>\n",
              "      <td>تن</td>\n",
              "    </tr>\n",
              "    <tr>\n",
              "      <th>28</th>\n",
              "      <td>0.0</td>\n",
              "      <td>2023-08-02 00:00:00</td>\n",
              "      <td>ماسه بادی</td>\n",
              "      <td>14.000</td>\n",
              "      <td>تن</td>\n",
              "    </tr>\n",
              "    <tr>\n",
              "      <th>29</th>\n",
              "      <td>0.0</td>\n",
              "      <td>2023-08-03 00:00:00</td>\n",
              "      <td>ماسه میناب</td>\n",
              "      <td>14.610</td>\n",
              "      <td>تن</td>\n",
              "    </tr>\n",
              "    <tr>\n",
              "      <th>30</th>\n",
              "      <td>0.0</td>\n",
              "      <td>0</td>\n",
              "      <td>0</td>\n",
              "      <td>0.000</td>\n",
              "      <td>0</td>\n",
              "    </tr>\n",
              "    <tr>\n",
              "      <th>31</th>\n",
              "      <td>0.0</td>\n",
              "      <td>0</td>\n",
              "      <td>0</td>\n",
              "      <td>0.000</td>\n",
              "      <td>0</td>\n",
              "    </tr>\n",
              "    <tr>\n",
              "      <th>32</th>\n",
              "      <td>0.0</td>\n",
              "      <td>0</td>\n",
              "      <td>0</td>\n",
              "      <td>0.000</td>\n",
              "      <td>0</td>\n",
              "    </tr>\n",
              "  </tbody>\n",
              "</table>\n",
              "</div>\n",
              "      <button class=\"colab-df-convert\" onclick=\"convertToInteractive('df-8b18e2fc-0cac-4983-b6fa-1b26760b8408')\"\n",
              "              title=\"Convert this dataframe to an interactive table.\"\n",
              "              style=\"display:none;\">\n",
              "\n",
              "  <svg xmlns=\"http://www.w3.org/2000/svg\" height=\"24px\"viewBox=\"0 0 24 24\"\n",
              "       width=\"24px\">\n",
              "    <path d=\"M0 0h24v24H0V0z\" fill=\"none\"/>\n",
              "    <path d=\"M18.56 5.44l.94 2.06.94-2.06 2.06-.94-2.06-.94-.94-2.06-.94 2.06-2.06.94zm-11 1L8.5 8.5l.94-2.06 2.06-.94-2.06-.94L8.5 2.5l-.94 2.06-2.06.94zm10 10l.94 2.06.94-2.06 2.06-.94-2.06-.94-.94-2.06-.94 2.06-2.06.94z\"/><path d=\"M17.41 7.96l-1.37-1.37c-.4-.4-.92-.59-1.43-.59-.52 0-1.04.2-1.43.59L10.3 9.45l-7.72 7.72c-.78.78-.78 2.05 0 2.83L4 21.41c.39.39.9.59 1.41.59.51 0 1.02-.2 1.41-.59l7.78-7.78 2.81-2.81c.8-.78.8-2.07 0-2.86zM5.41 20L4 18.59l7.72-7.72 1.47 1.35L5.41 20z\"/>\n",
              "  </svg>\n",
              "      </button>\n",
              "\n",
              "\n",
              "\n",
              "    <div id=\"df-37b91a9f-1f40-4422-818a-88f304ff355c\">\n",
              "      <button class=\"colab-df-quickchart\" onclick=\"quickchart('df-37b91a9f-1f40-4422-818a-88f304ff355c')\"\n",
              "              title=\"Suggest charts.\"\n",
              "              style=\"display:none;\">\n",
              "\n",
              "<svg xmlns=\"http://www.w3.org/2000/svg\" height=\"24px\"viewBox=\"0 0 24 24\"\n",
              "     width=\"24px\">\n",
              "    <g>\n",
              "        <path d=\"M19 3H5c-1.1 0-2 .9-2 2v14c0 1.1.9 2 2 2h14c1.1 0 2-.9 2-2V5c0-1.1-.9-2-2-2zM9 17H7v-7h2v7zm4 0h-2V7h2v10zm4 0h-2v-4h2v4z\"/>\n",
              "    </g>\n",
              "</svg>\n",
              "      </button>\n",
              "    </div>\n",
              "\n",
              "<style>\n",
              "  .colab-df-quickchart {\n",
              "    background-color: #E8F0FE;\n",
              "    border: none;\n",
              "    border-radius: 50%;\n",
              "    cursor: pointer;\n",
              "    display: none;\n",
              "    fill: #1967D2;\n",
              "    height: 32px;\n",
              "    padding: 0 0 0 0;\n",
              "    width: 32px;\n",
              "  }\n",
              "\n",
              "  .colab-df-quickchart:hover {\n",
              "    background-color: #E2EBFA;\n",
              "    box-shadow: 0px 1px 2px rgba(60, 64, 67, 0.3), 0px 1px 3px 1px rgba(60, 64, 67, 0.15);\n",
              "    fill: #174EA6;\n",
              "  }\n",
              "\n",
              "  [theme=dark] .colab-df-quickchart {\n",
              "    background-color: #3B4455;\n",
              "    fill: #D2E3FC;\n",
              "  }\n",
              "\n",
              "  [theme=dark] .colab-df-quickchart:hover {\n",
              "    background-color: #434B5C;\n",
              "    box-shadow: 0px 1px 3px 1px rgba(0, 0, 0, 0.15);\n",
              "    filter: drop-shadow(0px 1px 2px rgba(0, 0, 0, 0.3));\n",
              "    fill: #FFFFFF;\n",
              "  }\n",
              "</style>\n",
              "\n",
              "    <script>\n",
              "      async function quickchart(key) {\n",
              "        const containerElement = document.querySelector('#' + key);\n",
              "        const charts = await google.colab.kernel.invokeFunction(\n",
              "            'suggestCharts', [key], {});\n",
              "      }\n",
              "    </script>\n",
              "\n",
              "      <script>\n",
              "\n",
              "function displayQuickchartButton(domScope) {\n",
              "  let quickchartButtonEl =\n",
              "    domScope.querySelector('#df-37b91a9f-1f40-4422-818a-88f304ff355c button.colab-df-quickchart');\n",
              "  quickchartButtonEl.style.display =\n",
              "    google.colab.kernel.accessAllowed ? 'block' : 'none';\n",
              "}\n",
              "\n",
              "        displayQuickchartButton(document);\n",
              "      </script>\n",
              "      <style>\n",
              "    .colab-df-container {\n",
              "      display:flex;\n",
              "      flex-wrap:wrap;\n",
              "      gap: 12px;\n",
              "    }\n",
              "\n",
              "    .colab-df-convert {\n",
              "      background-color: #E8F0FE;\n",
              "      border: none;\n",
              "      border-radius: 50%;\n",
              "      cursor: pointer;\n",
              "      display: none;\n",
              "      fill: #1967D2;\n",
              "      height: 32px;\n",
              "      padding: 0 0 0 0;\n",
              "      width: 32px;\n",
              "    }\n",
              "\n",
              "    .colab-df-convert:hover {\n",
              "      background-color: #E2EBFA;\n",
              "      box-shadow: 0px 1px 2px rgba(60, 64, 67, 0.3), 0px 1px 3px 1px rgba(60, 64, 67, 0.15);\n",
              "      fill: #174EA6;\n",
              "    }\n",
              "\n",
              "    [theme=dark] .colab-df-convert {\n",
              "      background-color: #3B4455;\n",
              "      fill: #D2E3FC;\n",
              "    }\n",
              "\n",
              "    [theme=dark] .colab-df-convert:hover {\n",
              "      background-color: #434B5C;\n",
              "      box-shadow: 0px 1px 3px 1px rgba(0, 0, 0, 0.15);\n",
              "      filter: drop-shadow(0px 1px 2px rgba(0, 0, 0, 0.3));\n",
              "      fill: #FFFFFF;\n",
              "    }\n",
              "  </style>\n",
              "\n",
              "      <script>\n",
              "        const buttonEl =\n",
              "          document.querySelector('#df-8b18e2fc-0cac-4983-b6fa-1b26760b8408 button.colab-df-convert');\n",
              "        buttonEl.style.display =\n",
              "          google.colab.kernel.accessAllowed ? 'block' : 'none';\n",
              "\n",
              "        async function convertToInteractive(key) {\n",
              "          const element = document.querySelector('#df-8b18e2fc-0cac-4983-b6fa-1b26760b8408');\n",
              "          const dataTable =\n",
              "            await google.colab.kernel.invokeFunction('convertToInteractive',\n",
              "                                                     [key], {});\n",
              "          if (!dataTable) return;\n",
              "\n",
              "          const docLinkHtml = 'Like what you see? Visit the ' +\n",
              "            '<a target=\"_blank\" href=https://colab.research.google.com/notebooks/data_table.ipynb>data table notebook</a>'\n",
              "            + ' to learn more about interactive tables.';\n",
              "          element.innerHTML = '';\n",
              "          dataTable['output_type'] = 'display_data';\n",
              "          await google.colab.output.renderOutput(dataTable, element);\n",
              "          const docLink = document.createElement('div');\n",
              "          docLink.innerHTML = docLinkHtml;\n",
              "          element.appendChild(docLink);\n",
              "        }\n",
              "      </script>\n",
              "    </div>\n",
              "  </div>\n"
            ]
          },
          "metadata": {},
          "execution_count": 42
        }
      ]
    },
    {
      "cell_type": "code",
      "source": [
        "# Choose what we want to selectm from Materials\n",
        "material = full_file_materials['شرح مصالح'].loc[(full_file_materials['تاریخ'] == date)]\n",
        "amount = full_file_materials['مقدار'].loc[(full_file_materials['تاریخ'] == date)]\n",
        "unit = full_file_materials['واحد'].loc[(full_file_materials['تاریخ'] == date)]\n",
        "#material"
      ],
      "metadata": {
        "id": "QzFv7CwIUghY"
      },
      "execution_count": 43,
      "outputs": []
    },
    {
      "cell_type": "code",
      "source": [
        "# Intitate a for loop to fill data in excel file for material_title\n",
        "row_pos = 31\n",
        "col_pos_1 = \"c\"\n",
        "col_pos_2 = \"o\"\n",
        "col_pos_3 = \"aa\"\n",
        "\n",
        "for i in material[0:10]:\n",
        "  ws_des2[col_pos_1 + str(row_pos)].value = i\n",
        "  row_pos += 1\n",
        "  #print(f\"{col_pos_1}{row_pos} : {ws_des2[col_pos_1 + str(row_pos)].value}\")\n",
        "\n",
        "row_pos = 6\n",
        "for j in material[10:20]:\n",
        "  ws_des2[col_pos_2 + str(row_pos)].value = j\n",
        "  row_pos += 1\n",
        "  #print(f\"{col_pos_2}{row_pos} : {ws_des2[col_pos_2 + str(row_pos)].value}\")\n",
        "\n",
        "row_pos = 6\n",
        "for k in material[20:]:\n",
        "  ws_des2[col_pos_3 + str(row_pos)].value = k\n",
        "  row_pos += 1\n",
        "  if (ws_des2[col_pos_3 + str(row_pos)].value == ws_des2[col_pos_3 + str(row_pos-1)].value):\n",
        "    ws_des2[col_pos_3 + str(row_pos)].value =\"\"\n",
        "  #print(f\"{col_pos_3}{row_pos} : {ws_des2[col_pos_3 + str(row_pos)].value}\")\n",
        "\n",
        "wb.save('دیتا بیس گزارشات روزانه (3).xlsx')"
      ],
      "metadata": {
        "id": "kcmwbI-fW72A"
      },
      "execution_count": 44,
      "outputs": []
    },
    {
      "cell_type": "code",
      "source": [
        "# Intitate a for loop to fill data in excel file for material_amount\n",
        "col_pos_state_left_1 = \"I\"\n",
        "col_pos_state_left_2 = \"K\"\n",
        "col_pos_state_middle_1 = \"U\"\n",
        "col_pos_state_middle_2 = \"W\"\n",
        "col_pos_state_right_1 = \"AG\"\n",
        "col_pos_state_right_3 = \"AI\"\n",
        "\n",
        "for i in amount[0:10]:\n",
        "  ws_des2[col_pos_state_left_1 + str(row_pos)].value = i\n",
        "  row_pos += 1\n",
        "  #print(f\"{col_pos_state_left_1}{row_pos} : {ws_des2[col_pos_state_left_1 + str(row_pos)].value}\")\n",
        "\n",
        "row_pos = 6\n",
        "for j in amount[10:20]:\n",
        "  ws_des2[col_pos_state_middle_1 + str(row_pos)].value = j\n",
        "  row_pos += 1\n",
        "  #print(f\"{col_pos_state_middle_1}{row_pos} : {ws_des2[col_pos_state_middle_1 + str(row_pos)].value}\")\n",
        "\n",
        "row_pos = 6\n",
        "for k in amount[20:]:\n",
        "  ws_des2[col_pos_state_right_1 + str(row_pos)].value = k\n",
        "  row_pos += 1\n",
        "  if (ws_des2[col_pos_state_right_1 + str(row_pos)].value == ws_des2[col_pos_state_right_1 + str(row_pos-1)].value):\n",
        "    ws_des2[col_pos_state_right_1 + str(row_pos)].value =\"\"\n",
        "  #print(f\"{col_pos_state_right_1}{row_pos} : {ws_des2[col_pos_state_right_1 + str(row_pos)].value}\")\n",
        "\n",
        "wb.save('دیتا بیس گزارشات روزانه (3).xlsx')"
      ],
      "metadata": {
        "id": "FipLlE5IW7z4"
      },
      "execution_count": 45,
      "outputs": []
    },
    {
      "cell_type": "code",
      "source": [
        "# Intitate a for loop to fill data in excel file for material_amount\n",
        "for i in unit[0:10]:\n",
        "  ws_des2[col_pos_state_left_2 + str(row_pos)].value = i\n",
        "  row_pos += 1\n",
        "  #print(f\"{col_pos_state_left_2}{row_pos} : {ws_des2[col_pos_state_left_2 + str(row_pos)].value}\")\n",
        "\n",
        "row_pos = 6\n",
        "for j in unit[10:20]:\n",
        "  ws_des2[col_pos_state_middle_2 + str(row_pos)].value = j\n",
        "  row_pos += 1\n",
        "  #print(f\"{col_pos_state_middle_2}{row_pos} : {ws_des2[col_pos_state_middle_2 + str(row_pos)].value}\")\n",
        "\n",
        "row_pos = 6\n",
        "for k in unit[20:]:\n",
        "  ws_des2[col_pos_state_right_3 + str(row_pos)].value = k\n",
        "  row_pos += 1\n",
        "  if (ws_des2[col_pos_state_right_3 + str(row_pos)].value == ws_des2[col_pos_state_right_3 + str(row_pos-1)].value):\n",
        "    ws_des2[col_pos_state_right_3 + str(row_pos)].value =\"\"\n",
        "  #print(f\"{col_pos_state_right_3}{row_pos} : {ws_des2[col_pos_state_right_3 + str(row_pos)].value}\")\n",
        "\n",
        "wb.save('دیتا بیس گزارشات روزانه (3).xlsx')"
      ],
      "metadata": {
        "id": "MuuW3p7qW7xY"
      },
      "execution_count": 46,
      "outputs": []
    },
    {
      "cell_type": "code",
      "source": [],
      "metadata": {
        "id": "u1fyqLmrW7uw"
      },
      "execution_count": 46,
      "outputs": []
    }
  ]
}