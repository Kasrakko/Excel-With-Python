{
  "nbformat": 4,
  "nbformat_minor": 0,
  "metadata": {
    "colab": {
      "provenance": [],
      "collapsed_sections": [
        "AoZfkzUVC9yq",
        "uJnQCSyeDl7q",
        "vTOS6vYrC9py",
        "UPzH4cvDLGig",
        "nlmbjeeL-clB",
        "Zydn3WA2-kg5",
        "aLnbIQmyEiE4",
        "tG3PkY-NEeDR"
      ],
      "toc_visible": true,
      "authorship_tag": "ABX9TyM1JW2smybkAk+SHh9psv8u",
      "include_colab_link": true
    },
    "kernelspec": {
      "name": "python3",
      "display_name": "Python 3"
    },
    "language_info": {
      "name": "python"
    }
  },
  "cells": [
    {
      "cell_type": "markdown",
      "metadata": {
        "id": "view-in-github",
        "colab_type": "text"
      },
      "source": [
        "<a href=\"https://colab.research.google.com/github/Kasrakko/Excel-With-Python/blob/main/Copy_of_excel_with_python.ipynb\" target=\"_parent\"><img src=\"https://colab.research.google.com/assets/colab-badge.svg\" alt=\"Open In Colab\"/></a>"
      ]
    },
    {
      "cell_type": "markdown",
      "source": [
        "# workimg with excel in python"
      ],
      "metadata": {
        "id": "MSCq4d28sxzg"
      }
    },
    {
      "cell_type": "markdown",
      "source": [
        "## Import the librarries"
      ],
      "metadata": {
        "id": "dkFszdivA7vi"
      }
    },
    {
      "cell_type": "code",
      "source": [
        "import openpyxl as pyx\n",
        "import numpy as np\n",
        "import pandas as pd\n",
        "import matplotlib.pyplot as plt"
      ],
      "metadata": {
        "id": "8MH8f2ivAqBd"
      },
      "execution_count": 384,
      "outputs": []
    },
    {
      "cell_type": "markdown",
      "source": [
        "## Open the file"
      ],
      "metadata": {
        "id": "5mTDwItXCAjz"
      }
    },
    {
      "cell_type": "code",
      "source": [
        "wb = pyx.load_workbook('دیتا بیس گزارشات روزانه (3).xlsx')"
      ],
      "metadata": {
        "id": "avV4AD7XCE3b"
      },
      "execution_count": 385,
      "outputs": []
    },
    {
      "cell_type": "markdown",
      "source": [
        "## Select the sheet that we want"
      ],
      "metadata": {
        "id": "0JfgkOY9CE1a"
      }
    },
    {
      "cell_type": "code",
      "source": [
        "ws = wb['عملیات اجرایی']"
      ],
      "metadata": {
        "id": "g6vF2DFmCEy6"
      },
      "execution_count": 386,
      "outputs": []
    },
    {
      "cell_type": "markdown",
      "source": [
        "## Basic things for start"
      ],
      "metadata": {
        "id": "eyTn6PhOCEwK"
      }
    },
    {
      "cell_type": "markdown",
      "source": [
        "### Count the rows and columns"
      ],
      "metadata": {
        "id": "AoZfkzUVC9yq"
      }
    },
    {
      "cell_type": "code",
      "source": [
        "print(f\"Total number of rows: {ws.max_row} \\nTotal number columns: {ws.max_column}\")"
      ],
      "metadata": {
        "colab": {
          "base_uri": "https://localhost:8080/"
        },
        "id": "k8MQB4DnFyXy",
        "outputId": "dc14a4ab-53c9-495b-95ea-b4df190a83cb"
      },
      "execution_count": 387,
      "outputs": [
        {
          "output_type": "stream",
          "name": "stdout",
          "text": [
            "Total number of rows: 200 \n",
            "Total number columns: 10\n"
          ]
        }
      ]
    },
    {
      "cell_type": "markdown",
      "source": [
        "### Reading data from a cell"
      ],
      "metadata": {
        "id": "eqcHgNJjDmp6"
      }
    },
    {
      "cell_type": "markdown",
      "source": [
        "#### The value of exact cell read be like this"
      ],
      "metadata": {
        "id": "uJnQCSyeDl7q"
      }
    },
    {
      "cell_type": "code",
      "source": [
        "print(f\"The value of cell A1 is: {ws['f2'].value}\")"
      ],
      "metadata": {
        "colab": {
          "base_uri": "https://localhost:8080/"
        },
        "id": "pDzQhlrZC9uF",
        "outputId": "ead8be68-b1d3-45fe-fae7-f0372c5d9e87"
      },
      "execution_count": 388,
      "outputs": [
        {
          "output_type": "stream",
          "name": "stdout",
          "text": [
            "The value of cell A1 is: اجرای عملیات تخریب دیوار ضلع جنوبی کارگاه\n"
          ]
        }
      ]
    },
    {
      "cell_type": "markdown",
      "source": [
        "#### Reading data from multiple cells"
      ],
      "metadata": {
        "id": "vTOS6vYrC9py"
      }
    },
    {
      "cell_type": "code",
      "source": [
        "values = [ws.cell(row=1, column=i).value\n",
        "          for i in range(1, ws.max_column+1)]\n",
        "print(values)"
      ],
      "metadata": {
        "colab": {
          "base_uri": "https://localhost:8080/"
        },
        "id": "NWGVz1E4C9nr",
        "outputId": "bc6bd1ab-cedd-4587-c026-5169b6c23791"
      },
      "execution_count": 389,
      "outputs": [
        {
          "output_type": "stream",
          "name": "stdout",
          "text": [
            "['ردیف', 'تاریخ', 'شماره گزارش', 'موضوع', 'تراز', 'شرح', 'حجم كل', 'مقدار', 'واحد', 'کد WBS']\n"
          ]
        }
      ]
    },
    {
      "cell_type": "code",
      "source": [
        "myColumnValues = [ws.cell(row=i, column=6).value\n",
        "                  for i in range(2, ws.max_row+1)]\n",
        "# if we want to get data in specefic area we could write any array in `range()`\n",
        "for i in myColumnValues:\n",
        "  print (i)\n"
      ],
      "metadata": {
        "colab": {
          "base_uri": "https://localhost:8080/"
        },
        "id": "jYyWfMAXC9i6",
        "outputId": "7cbf7bd1-d0e6-42e3-ba86-f88829a30ffd"
      },
      "execution_count": 390,
      "outputs": [
        {
          "output_type": "stream",
          "name": "stdout",
          "text": [
            "اجرای عملیات تخریب دیوار ضلع جنوبی کارگاه\n",
            "اجرایی زیرسازی و پایه گذاری حصار کارگاه ضلع جنوبی\n",
            "اجرای عملیات تخریب دیوار ضلع جنوبی کارگاه\n",
            "اجرایی زیرسازی و پایه گذاری حصار کارگاه ضلع جنوبی\n",
            "تعمیر و اصلاحیه برق کارگاه\n",
            "اجرای عملیات پایه گذاری صفحه ستون کانکس های قسمت اداری\n",
            "اجرای عملیات رگلاژ سطح کانکس های اداری\n",
            "نقاشی و باز سازی ساختمان موجود در کارگاه (اسکان کارگری)\n",
            "اجرای عملیات پایه گذاری صفحه ستون کانکس های قسمت اداری\n",
            "اجرای عملیات رگلاژ سطح کانکس های اداری\n",
            "نقاشی و باز سازی ساختمان موجود در کارگاه (اسکان کارگری)\n",
            "اجرای عملیات پایه گذاری صفحه ستون کانکس های قسمت اداری\n",
            "اجرای عملیات رگلاژ سطح کانکس های اداری\n",
            "اجرای عملیات پایه گذاری صفحه ستون کانکس های قسمت اداری\n",
            "اجرای عملیات رگلاژ سطح کانکس های اداری\n",
            "انتقال و جابجایی منبع آب (کارفرما)\n",
            "اجرای عملیات پایه گذاری صفحه ستون کانکس های قسمت اداری\n",
            "اجرای عملیات رگلاژ سطح کانکس های اداری\n",
            "انتقال و جابجایی منبع آب (کارفرما)\n",
            "تخلیه وزنه و کالسکه تاور کرین\n",
            "اجرای آرماتور بندی شبکه و  جانمایی صفحه ستون کانکس های اداری\n",
            "انتقال و جابجایی منبع آب (کارفرما)\n",
            "اجرا و اصلاحیه خط فاضلاب\n",
            "زنگ زدایی آرماتور ها\n",
            "اجرای آرماتور بندی شبکه و  جانمایی صفحه ستون کانکس های اداری\n",
            "اجرا و اصلاحیه خط فاضلاب\n",
            "زنگ زدایی آرماتور ها\n",
            "اجرای آرماتور بندی شبکه و  جانمایی صفحه ستون کانکس های اداری\n",
            "اجرا و اصلاحیه خط فاضلاب\n",
            "زنگ زدایی آرماتور ها\n",
            "تخلیه کانکس 12 متری\n",
            "اجرای آرماتور بندی شبکه و  جانمایی صفحه ستون کانکس های اداری\n",
            "بتن ریزی پایه ستون کانکس های اداری\n",
            "نصب کولرگازی ساختمان کارگری\n",
            "تخلیه کانکس 12 متری اداری\n",
            "حمل نخاله های کارگاه\n",
            "زنگ زدایی میلگرد ها\n",
            "نظافت کارگاه اطراف آرماتور های ستون ها\n",
            "تخلیه بلوک\n",
            "تخلیه ماسه\n",
            "تخلیه سیمان کیسه ای\n",
            "زنگ زادیی میلگرد ها\n",
            "زنگ زادیی میلگرد ها\n",
            "خاک ریزی و تسطیح جهت کانکس های اداری\n",
            "زنگ زادیی میلگرد ها\n",
            "آماده سازی و تسطیح جهت کانکس های اداری\n",
            "نظافت کارگاه\n",
            "زنگ زادیی میلگرد ها\n",
            "نظافت کارگاه\n",
            "تخلیه کانتینر 12 متری انبار\n",
            "جابجای 2 کانکس\n",
            "زیرسازی جهت جاگذاری کانتینر 12 متری انبار\n",
            "زیرسازی جهت جاگذاری کانتینر 12 متری انبار\n",
            "زنگ زدایی آرماتور ها\n",
            "زیرسازی جهت جاگذاری کانتینر 12 متری انبار\n",
            "زنگ زدایی آرماتور ها\n",
            "تخلیه کامپیوتر ها\n",
            "زنگ زدایی آرماتور ها\n",
            "زنگ زدایی آرماتور ها\n",
            "تعیین مقدار کاهش ضخامت میلگرد های انتظار دیوارهای برشی و ستون ها\n",
            "بررسی و پی گیری روش حفاظت کاتودی\n",
            "تهیه لیستوفر دیوار حائل\n",
            "زنگ زدایی آرماتور ها\n",
            "بررسي و تهيه ليستوفر ستون ها و ديوارهاي برشي\n",
            "بررسی و پی گیری روش حفاظت کاتودی ميلگرد ها\n",
            "ارائه لیستوفر دیوار حائل به كارفرماي محترم\n",
            "زنگ زدایی آرماتور ها\n",
            "بررسي و تهيه ليستوفر ستون ها و ديوارهاي برشي\n",
            "بررسی و پی گیری روش حفاظت کاتودی ميلگرد ها\n",
            "زنگ زدایی آرماتور ها\n",
            "بررسي و تهيه ليستوفر ستون ها و ديوارهاي برشي\n",
            "بررسی و پی گیری روش حفاظت کاتودی ميلگرد ها\n",
            "زنگ زدایی آرماتور ها\n",
            "بررسي و تهيه ليستوفر ستون ها و ديوارهاي برشي\n",
            "بررسی و پی گیری روش حفاظت کاتودی ميلگرد ها\n",
            "زنگ زدایی آرماتور ها\n",
            "بررسي و تهيه ليستوفر ستون ها و ديوارهاي برشي\n",
            "بررسی و پی گیری روش حفاظت کاتودی ميلگرد ها\n",
            "بررسي مغايرت هاي نقشه هاي سازه\n",
            "زنگ زدایی آرماتور ها\n",
            "بررسي و تهيه ليستوفر ستون ها و ديوارهاي حائل\n",
            "بررسی و پی گیری روش حفاظت کاتودی ميلگرد ها\n",
            "بررسي مغايرت هاي نقشه هاي سازه\n",
            "تجهيز شاپ آرماتور بندي\n",
            "اصلاح برنامه زمانبندي مطابق نظر كارفرماي محترم\n",
            "زنگ زدایی آرماتور ها\n",
            "بررسي و تهيه ليستوفر ستون ها و ديوارهاي حائل\n",
            "بررسی و پی گیری روش حفاظت کاتودی ميلگرد ها\n",
            "بررسي مغايرت هاي نقشه هاي سازه\n",
            "تجهيز شاپ آرماتور بندي\n",
            "اصلاح برنامه زمانبندي مطابق نظر كارفرماي محترم\n",
            "زنگ زدایی آرماتور ها\n",
            "بررسي و تهيه ليستوفر ستون ها و ديوارهاي حائل\n",
            "بررسی و پی گیری روش حفاظت کاتودی ميلگرد ها\n",
            "بررسي مغايرت هاي نقشه هاي سازه\n",
            "تجهيز شاپ آرماتور بندي\n",
            "اصلاح برنامه زمانبندي مطابق نظر كارفرماي محترم\n",
            "زنگ زدایی آرماتور ها\n",
            "بررسي و تهيه ليستوفر ستون ها و ديوارهاي حائل\n",
            "بررسي مغايرت هاي نقشه هاي سازه\n",
            "آغاز به كار شاپ آرماتور بندي\n",
            "اصلاح برنامه زمانبندي مطابق نظر كارفرماي محترم\n",
            "تخليه بخشي از سكشن هاي تاور 12 تن\n",
            "زنگ زدایی آرماتور ها\n",
            "بررسي و تهيه ليستوفر ستون ها و ديوارهاي حائل\n",
            "بررسي مغايرت هاي نقشه هاي سازه\n",
            "خم و برش آرماتور هاي ستون ها و ديوار هاي حائل\n",
            "اصلاح برنامه زمانبندي مطابق نظر كارفرماي محترم\n",
            "تخليه بخشي از سكشن هاي تاور 12 تن\n",
            "زنگ زدایی آرماتور ها\n",
            "بررسي و تهيه ليستوفر ستون ها و ديوارهاي حائل\n",
            "بررسي مغايرت هاي نقشه هاي سازه\n",
            "خم و برش آرماتور هاي ستون ها و ديوار هاي حائل\n",
            "اصلاح برنامه زمانبندي مطابق نظر كارفرماي محترم\n",
            "تخليه بخشي از سكشن هاي تاور 12 تن\n",
            "زنگ زدایی آرماتور ها با سنگ فرز\n",
            "بررسي و تهيه ليستوفر ستون ها و ديوارهاي حائل\n",
            "بررسي مغايرت هاي نقشه هاي سازه\n",
            "خم و برش آرماتور هاي ستون ها و ديوار هاي حائل\n",
            "اصلاح برنامه زمانبندي مطابق نظر كارفرماي محترم\n",
            "زنگ زدایی آرماتور ها با سنگ فرز\n",
            "بررسي و تهيه ليستوفر ستون ها و ديوارهاي حائل\n",
            "بررسي مغايرت هاي نقشه هاي سازه\n",
            "خم و برش آرماتور هاي ستون ها و ديوار هاي حائل\n",
            "اصلاح برنامه زمانبندي مطابق نظر كارفرماي محترم\n",
            "تدارك اجاره واتر جت جهت زنگ زدايي آرماتورها\n",
            "زنگ زدایی آرماتور ها با سنگ فرز\n",
            "بررسي و تهيه ليستوفر ستون ها و ديوارهاي حائل\n",
            "بررسي مغايرت هاي نقشه هاي سازه\n",
            "خم و برش آرماتور هاي ستون ها و ديوار هاي حائل\n",
            "اصلاح برنامه زمانبندي مطابق نظر كارفرماي محترم\n",
            "تدارك اجاره واتر جت جهت زنگ زدايي آرماتورها\n",
            "زنگ زدایی آرماتور ها توسط واتر جت\n",
            "بررسي و تهيه ليستوفر ستون ها و ديوارهاي حائل\n",
            "بررسي مغايرت هاي نقشه هاي سازه\n",
            "خم و برش آرماتور هاي ستون ها و ديوار هاي حائل\n",
            "اصلاح برنامه زمانبندي مطابق نظر كارفرماي محترم\n",
            "زنگ زدایی آرماتور ها توسط واتر پلاست\n",
            "خم و برش آرماتور هاي ستون ها و ديوار هاي حائل\n",
            "زنگ زدایی آرماتور ها توسط واتر پلاست\n",
            "خم و برش آرماتور هاي ستون ها و ديوار هاي حائل\n",
            "زنگ زدایی آرماتور ها توسط واتر پلاست\n",
            "خم و برش آرماتور هاي ستون ها و ديوار هاي حائل\n",
            "زنگ زدایی آرماتور ها توسط واتر پلاست\n",
            "خم و برش آرماتور هاي ستون ها و ديوار هاي حائل\n",
            "زنگ زدایی آرماتور ها توسط فرچه سيمي\n",
            "زنگ زدایی آرماتور ها توسط فرچه سيمي\n",
            "خم و برش آرماتور هاي ستون ها و ديوار هاي حائل\n",
            "زنگ زدایی آرماتور ها توسط فرچه سيمي\n",
            "خم و برش آرماتور هاي ستون ها و ديوار هاي حائل\n",
            "زنگ زدایی آرماتور ها توسط فرچه سيمي و سند بلاست با آب ديوارهاي حائل و ستون ها\n",
            "خم و برش آرماتور هاي ستون ها و ديوار هاي حائل\n",
            "زنگ زدایی آرماتور ها توسط فرچه سيمي و سند بلاست با آب ديوارهاي حائل و ستون ها\n",
            "خم و برش آرماتور هاي ستون ها و ديوار هاي حائل\n",
            "زنگ زدایی آرماتور ها توسط فرچه سيمي و سند بلاست با آب ديوارهاي حائل و ستون ها\n",
            "خم و برش آرماتور هاي ستون ها و ديوار هاي حائل\n",
            "زنگ زدايي با فرچه سيمي ضلع شرقي\n",
            "خم و برش آرماتور هاي ستون ها و ديوار هاي حائل\n",
            "زنگ زدايي با فرچه سيمي ضلع شرقي\n",
            "خم و برش آرماتور هاي ستون ها و ديوار هاي حائل\n",
            "خم و برش آرماتور هاي ستون ها و ديوار هاي حائل\n",
            "آماده سازي واتر جت جديد\n",
            "زنگ زدايي آرماتورها توسط سندبلاست با آب ضلع جنوبي محور 2 / L تا M\n",
            "زنگ زدايي آرماتورها توسط سندبلاست با آب ضلع جنوبي محور 2 / L تا H\n",
            "زنگ زدايي آرماتورها توسط سندبلاست با آب ضلع جنوبي محور 2 / H تا C\n",
            "اجراي عمليات تجهيزكارگاه (ورود 2 عدد كانكس 6 متري)\n",
            "زنگ زدايي آرماتورها توسط سندبلاست با آب ضلع جنوبي محور 2 / C تا B\n",
            "اجراي عمليات تجهيزكارگاه (ورود 2 عدد كانكس 6 متري - و زيرسازي محل استقرار كانكس ها)\n",
            "تجهيز كارگاه زيرسازي محل استقرار كانكس ها\n",
            "تجهيز گارگاه اجراي عايق حرارتي بام سرويس ها \n",
            "تجهيز كارگاه (اجراي عمليات نصب ستون هاي فلزي) جهت استقرار كانكس \n",
            "خم و برش آرماتور هاي ستون ها و ديوار هاي حائل\n",
            "تجهيز كارگاه (اجراي عمليات نصب ستون هاي فلزي) جهت استقرار كانكس \n",
            "خم و برش آرماتور هاي ستون ها و ديوار هاي حائل\n",
            "تجهيز كارگاه (اجراي عمليات نصب ستون هاي فلزي) جهت استقرار كانكس \n",
            "تجهيز كارگاه (نصب كولر دفاتر فني و اداري)\n",
            "نصب تاور كرين 12 تن\n",
            "خم و برش آرماتور هاي ستون ها و ديوار هاي حائل\n",
            "تجهيز كارگاه (اجراي عمليات نصب ستون هاي فلزي) جهت استقرار كانكس \n",
            "تجهيز كارگاه (نصب كولر دفاتر فني و اداري)\n",
            "نصب تاور كرين 12 تن\n",
            "خم و برش آرماتور هاي ستون ها و ديوار هاي حائل\n",
            "تجهيز كارگاه (نصب كولر دفاتر فني و اداري)\n",
            "نصب تاور كرين 12 تن\n",
            "تجهيز كارگاه (نصب كولر دفاتر فني و اداري)\n",
            "نصب تاور كرين 12 تن\n",
            "تجهيز كارگاه (نصب كولر دفاتر فني و اداري)\n",
            "نصب تاور كرين 12 تن\n",
            "نصب تاور كرين 12 تن\n",
            "خم و برش آرماتور هاي ستون ها و ديوار هاي حائل\n",
            "نصب تاور كرين 12 تن\n",
            "خم و برش آرماتور هاي ستون ها و ديوار هاي حائل\n",
            "غیر فعال\n",
            "خم و برش آرماتور هاي ستون ها و ديوار هاي حائل\n",
            "زنگ زدايي آرماتور ديوارهاي حائل و ستونها سندبلاست با آب\n",
            "زنگ زدايي آرماتور ديوارهاي حائل و ستونها سندبلاست با آب\n",
            "خم و برش آرماتور هاي ستون ها و ديوار هاي حائل\n",
            "زنگ زدايي آرماتور ديوارهاي حائل و ستونها سندبلاست با آب\n",
            "زنگ زدايي آرماتور ديوارهاي حائل و ستونها سندبلاست\n"
          ]
        }
      ]
    },
    {
      "cell_type": "markdown",
      "source": [
        "#### Reading data from any range of columns"
      ],
      "metadata": {
        "id": "UPzH4cvDLGig"
      }
    },
    {
      "cell_type": "code",
      "source": [
        "my_report_list = list()\n",
        "data_list = list()\n",
        "\n",
        "for value in ws.iter_rows(\n",
        "    min_row=1, max_row=11, min_col=1, max_col=6,\n",
        "    values_only=True):\n",
        "  my_report_list.append(value)\n",
        "\n",
        "for i in my_report_list[1:]:\n",
        "  data_list.append(i)\n",
        "#data_list\n",
        "\n",
        "## Make it numPy array, so we can get shape of its\n",
        "data_list = np.array(data_list)\n",
        "data_list.shape\n"
      ],
      "metadata": {
        "colab": {
          "base_uri": "https://localhost:8080/"
        },
        "id": "QyIYGB4BLGga",
        "outputId": "76dcfefa-20cf-483f-c6b5-230ff7e66b79"
      },
      "execution_count": 391,
      "outputs": [
        {
          "output_type": "execute_result",
          "data": {
            "text/plain": [
              "(10, 6)"
            ]
          },
          "metadata": {},
          "execution_count": 391
        }
      ]
    },
    {
      "cell_type": "markdown",
      "source": [
        "### Writing into excel file"
      ],
      "metadata": {
        "id": "aGzr4wE-CEcC"
      }
    },
    {
      "cell_type": "markdown",
      "source": [
        "#### `ws['Your cell location'] = 'The data that U want to add'`"
      ],
      "metadata": {
        "id": "T5SXLcDuCEaS"
      }
    },
    {
      "cell_type": "markdown",
      "source": [
        "#### `wb.save('ديتابيس گزارس روزانه.xlsx')`"
      ],
      "metadata": {
        "id": "MLPOYnPJh5v1"
      }
    },
    {
      "cell_type": "markdown",
      "source": [
        "row_position = 173\n",
        "col_position = 7\n",
        "\n",
        "total_value = ((ws.cell(row=row_position, column=col_position).value)*\n",
        "               (ws.cell(row=row_position, column=col_position+1).value))\n",
        "\n",
        "ws.cell(row=173,column=11).value=total_value\n",
        "# wb.save('دیتا بیس گزارشات روزانه (3).xlsx')"
      ],
      "metadata": {
        "id": "EK24ekWmje7Q"
      }
    },
    {
      "cell_type": "markdown",
      "source": [
        "#### Remmember that if u want to edit the file while you had id open somewhere you will reach to an eroor"
      ],
      "metadata": {
        "id": "y4ynzg2Ph5t3"
      }
    },
    {
      "cell_type": "markdown",
      "source": [
        "### Make our file to a Dataframe to change it with Pandas and felixiable to changing"
      ],
      "metadata": {
        "id": "E3mRgLPri3M7"
      }
    },
    {
      "cell_type": "markdown",
      "source": [
        "#### Make all the column a list()"
      ],
      "metadata": {
        "id": "CAuca1Yr-UGh"
      }
    },
    {
      "cell_type": "code",
      "source": [
        "col1 = [ws.cell(row=i, column=1).value\n",
        "                  for i in range(2, ws.max_row+1)]\n",
        "## if we want to get data in specefic area we could write any array in `range()`\n",
        "\n",
        "len(col1)"
      ],
      "metadata": {
        "colab": {
          "base_uri": "https://localhost:8080/"
        },
        "id": "os9hgPkOBXcc",
        "outputId": "7429012c-fb13-439a-ff67-d08d4677acf0"
      },
      "execution_count": 392,
      "outputs": [
        {
          "output_type": "execute_result",
          "data": {
            "text/plain": [
              "199"
            ]
          },
          "metadata": {},
          "execution_count": 392
        }
      ]
    },
    {
      "cell_type": "code",
      "source": [
        "col2 = [ws.cell(row=i, column=2).value\n",
        "                  for i in range(2, ws.max_row+1)]\n",
        "## if we want to get data in specefic area we could write any array in `range()`\n",
        "\n",
        "len(col2)"
      ],
      "metadata": {
        "colab": {
          "base_uri": "https://localhost:8080/"
        },
        "id": "zuJbhk_EBXWe",
        "outputId": "ee494636-820b-47cd-c6d3-a3da4de3979f"
      },
      "execution_count": 393,
      "outputs": [
        {
          "output_type": "execute_result",
          "data": {
            "text/plain": [
              "199"
            ]
          },
          "metadata": {},
          "execution_count": 393
        }
      ]
    },
    {
      "cell_type": "code",
      "source": [
        "col3 = [ws.cell(row=i, column=3).value\n",
        "                  for i in range(2, ws.max_row+1)]\n",
        "## if we want to get data in specefic area we could write any array in `range()`\n",
        "\n",
        "len(col3)"
      ],
      "metadata": {
        "colab": {
          "base_uri": "https://localhost:8080/"
        },
        "id": "0c6Cap2oBXQE",
        "outputId": "1c6a7b47-9937-4c3a-edf7-835972683ec0"
      },
      "execution_count": 394,
      "outputs": [
        {
          "output_type": "execute_result",
          "data": {
            "text/plain": [
              "199"
            ]
          },
          "metadata": {},
          "execution_count": 394
        }
      ]
    },
    {
      "cell_type": "code",
      "source": [
        "col4 = [ws.cell(row=i, column=4).value\n",
        "                  for i in range(2, ws.max_row+1)]\n",
        "## if we want to get data in specefic area we could write any array in `range()`\n",
        "\n",
        "len(col4)"
      ],
      "metadata": {
        "colab": {
          "base_uri": "https://localhost:8080/"
        },
        "id": "qU2NrU2mBXIE",
        "outputId": "247bb0a6-b459-45d3-a8ce-bf293a916f96"
      },
      "execution_count": 395,
      "outputs": [
        {
          "output_type": "execute_result",
          "data": {
            "text/plain": [
              "199"
            ]
          },
          "metadata": {},
          "execution_count": 395
        }
      ]
    },
    {
      "cell_type": "code",
      "source": [
        "col5 = [ws.cell(row=i, column=5).value\n",
        "                  for i in range(2, ws.max_row+1)]\n",
        "## if we want to get data in specefic area we could write any array in `range()`\n",
        "\n",
        "len(col5)"
      ],
      "metadata": {
        "colab": {
          "base_uri": "https://localhost:8080/"
        },
        "id": "aqnISln7BW_s",
        "outputId": "4dded736-cab5-42a1-a46c-cfabfd3e9caf"
      },
      "execution_count": 396,
      "outputs": [
        {
          "output_type": "execute_result",
          "data": {
            "text/plain": [
              "199"
            ]
          },
          "metadata": {},
          "execution_count": 396
        }
      ]
    },
    {
      "cell_type": "code",
      "source": [
        "col6 = [ws.cell(row=i, column=6).value\n",
        "                  for i in range(2, ws.max_row+1)]\n",
        "## if we want to get data in specefic area we could write any array in `range()`\n",
        "\n",
        "len(col6)"
      ],
      "metadata": {
        "colab": {
          "base_uri": "https://localhost:8080/"
        },
        "id": "_zrD0XTQBYmc",
        "outputId": "fa86d6e5-33ac-49e8-b634-ddc7d44b5af5"
      },
      "execution_count": 397,
      "outputs": [
        {
          "output_type": "execute_result",
          "data": {
            "text/plain": [
              "199"
            ]
          },
          "metadata": {},
          "execution_count": 397
        }
      ]
    },
    {
      "cell_type": "code",
      "source": [
        "col7 = [ws.cell(row=i, column=7).value\n",
        "                  for i in range(2, ws.max_row+1)]\n",
        "## if we want to get data in specefic area we could write any array in `range()`\n",
        "\n",
        "len(col7)"
      ],
      "metadata": {
        "colab": {
          "base_uri": "https://localhost:8080/"
        },
        "id": "zw61AAHMje4v",
        "outputId": "86d7c728-7753-40d3-cec9-5fb689fa22b7"
      },
      "execution_count": 398,
      "outputs": [
        {
          "output_type": "execute_result",
          "data": {
            "text/plain": [
              "199"
            ]
          },
          "metadata": {},
          "execution_count": 398
        }
      ]
    },
    {
      "cell_type": "code",
      "source": [
        "col8 = [ws.cell(row=i, column=8).value\n",
        "                  for i in range(2, ws.max_row+1)]\n",
        "len(col8)\n",
        "## if we want to get data in specefic area we could write any array in `range()`\n",
        "# len(col8)"
      ],
      "metadata": {
        "colab": {
          "base_uri": "https://localhost:8080/"
        },
        "id": "eRAEbvRxje2D",
        "outputId": "3fb28685-c3e4-4305-afc8-8a1a3a0ce879"
      },
      "execution_count": 399,
      "outputs": [
        {
          "output_type": "execute_result",
          "data": {
            "text/plain": [
              "199"
            ]
          },
          "metadata": {},
          "execution_count": 399
        }
      ]
    },
    {
      "cell_type": "code",
      "source": [
        "col9 = [ws.cell(row=i, column=9).value\n",
        "                  for i in range(2, ws.max_row+1)]\n",
        "## if we want to get data in specefic area we could write any array in `range()`\n",
        "\n",
        "len(col9)"
      ],
      "metadata": {
        "colab": {
          "base_uri": "https://localhost:8080/"
        },
        "id": "L4zMCBXJDPRN",
        "outputId": "38e22946-2cd6-4aeb-ee9f-089d741832a3"
      },
      "execution_count": 400,
      "outputs": [
        {
          "output_type": "execute_result",
          "data": {
            "text/plain": [
              "199"
            ]
          },
          "metadata": {},
          "execution_count": 400
        }
      ]
    },
    {
      "cell_type": "code",
      "source": [
        "col10 = [ws.cell(row=i, column=10).value\n",
        "                  for i in range(2, ws.max_row+1)]\n",
        "## if we want to get data in specefic area we could write any array in `range()`\n",
        "\n",
        "len(col10)"
      ],
      "metadata": {
        "colab": {
          "base_uri": "https://localhost:8080/"
        },
        "id": "oHdvRAHoDPOu",
        "outputId": "a15bce83-21c9-493c-b37a-d9e57995288b"
      },
      "execution_count": 401,
      "outputs": [
        {
          "output_type": "execute_result",
          "data": {
            "text/plain": [
              "199"
            ]
          },
          "metadata": {},
          "execution_count": 401
        }
      ]
    },
    {
      "cell_type": "markdown",
      "source": [
        "#### Now make all of the lists to a datagram"
      ],
      "metadata": {
        "id": "nlmbjeeL-clB"
      }
    },
    {
      "cell_type": "code",
      "source": [
        "# We have to convert the list to data frame to work with pandas and make the null values to zero\n",
        "# Do it for ALL Column\n",
        "\n",
        "df_col1 = pd.DataFrame(col1, columns=['رديف'])\n",
        "df_col1['رديف'] = df_col1['رديف'].fillna(0)\n",
        "\n",
        "df_col2 = pd.DataFrame(col2, columns=['تاريخ'])\n",
        "df_col2['تاريخ'] = df_col2['تاريخ'].fillna(0)\n",
        "\n",
        "\n",
        "df_col3 = pd.DataFrame(col3, columns=['شماره گزارش'])\n",
        "df_col3['شماره گزارش'] = df_col3['شماره گزارش'].fillna(0)\n",
        "\n",
        "\n",
        "df_col4 = pd.DataFrame(col4, columns=['موضوع'])\n",
        "df_col4['موضوع'] = df_col4['موضوع'].fillna(0)\n",
        "\n",
        "\n",
        "df_col5 = pd.DataFrame(col5, columns=['تراز'])\n",
        "df_col5['تراز'] = df_col5['تراز'].fillna(0)\n",
        "\n",
        "\n",
        "df_col6 = pd.DataFrame(col6, columns=['شرح'])\n",
        "df_col6['شرح'] = df_col6['شرح'].fillna(0)\n",
        "\n",
        "\n",
        "df_col7 = pd.DataFrame(col7, columns=['حجم كل'])\n",
        "df_col7['حجم كل'] = df_col7['حجم كل'].fillna(0)\n",
        "\n",
        "\n",
        "\n",
        "df_col8 = pd.DataFrame(col8, columns=['مقدار'])\n",
        "df_col8['مقدار'] = df_col8['مقدار'].fillna(0)\n",
        "\n",
        "df_col9 = df = pd.DataFrame(col9, columns=['واحد'])\n",
        "df_col9['واحد'] = df_col9['واحد'].fillna(0)\n",
        "\n",
        "df_col10 = df = pd.DataFrame(col10, columns=['كد WBS'])\n",
        "df_col10['كد WBS'] = df_col10['كد WBS'].fillna(0)\n",
        "\n",
        "print (df_col1['رديف'][171])\n",
        "print (df_col2['تاريخ'][171])\n",
        "print (df_col3['شماره گزارش'][171])\n",
        "print (df_col4['موضوع'][171])\n",
        "print (df_col5['تراز'][171])\n",
        "print (df_col6['شرح'][171])\n",
        "print (df_col7['حجم كل'][171])\n",
        "print (df_col8['مقدار'][171])\n",
        "print (df_col9['واحد'][171])\n",
        "print (df_col10['كد WBS'][171])"
      ],
      "metadata": {
        "colab": {
          "base_uri": "https://localhost:8080/"
        },
        "id": "SSLaSlHXRWlK",
        "outputId": "6883377d-e237-4469-be26-114c2e90de50"
      },
      "execution_count": 402,
      "outputs": [
        {
          "output_type": "stream",
          "name": "stdout",
          "text": [
            "0.0\n",
            "2023-07-19 00:00:00\n",
            "85\n",
            "0\n",
            "0\n",
            "خم و برش آرماتور هاي ستون ها و ديوار هاي حائل\n",
            "43.249\n",
            "2.478\n",
            "تن\n",
            "0\n"
          ]
        }
      ]
    },
    {
      "cell_type": "markdown",
      "source": [
        "#### Join all of the Daaframes and make a table"
      ],
      "metadata": {
        "id": "Zydn3WA2-kg5"
      }
    },
    {
      "cell_type": "code",
      "source": [
        "# Joingong the data frames as column and create the main data frame\n",
        "full_file = pd.concat([df_col1, df_col2, df_col3, df_col4, df_col5, df_col6, df_col7, df_col8, df_col9, df_col10], axis=1, join='inner')\n",
        "display(full_file)"
      ],
      "metadata": {
        "colab": {
          "base_uri": "https://localhost:8080/",
          "height": 0
        },
        "id": "gsPU2dJBWilr",
        "outputId": "3596c118-0f6e-40b5-a8d7-1e43711d5c6f"
      },
      "execution_count": 403,
      "outputs": [
        {
          "output_type": "display_data",
          "data": {
            "text/plain": [
              "     رديف      تاريخ  شماره گزارش  موضوع  تراز  \\\n",
              "0     1.0 2023-05-22           27      0     0   \n",
              "1     2.0 2023-05-22           27      0     0   \n",
              "2     1.0 2023-05-23           28      0     0   \n",
              "3     2.0 2023-05-23           28      0     0   \n",
              "4     3.0 2023-05-23           28      0     0   \n",
              "..    ...        ...          ...    ...   ...   \n",
              "194   0.0 2023-07-29           95      0     0   \n",
              "195   0.0 2023-07-30           96      0     0   \n",
              "196   0.0 2023-07-30           96      0     0   \n",
              "197   0.0 2023-07-31           97      0     0   \n",
              "198   0.0 2023-08-01           98      0     0   \n",
              "\n",
              "                                                   شرح  حجم كل  مقدار واحد  \\\n",
              "0            اجرای عملیات تخریب دیوار ضلع جنوبی کارگاه    0.00   0.00    0   \n",
              "1    اجرایی زیرسازی و پایه گذاری حصار کارگاه ضلع جنوبی    0.00   0.00    0   \n",
              "2            اجرای عملیات تخریب دیوار ضلع جنوبی کارگاه    0.00   0.00    0   \n",
              "3    اجرایی زیرسازی و پایه گذاری حصار کارگاه ضلع جنوبی    0.00   0.00    0   \n",
              "4                           تعمیر و اصلاحیه برق کارگاه    0.00   0.00    0   \n",
              "..                                                 ...     ...    ...  ...   \n",
              "194  زنگ زدايي آرماتور ديوارهاي حائل و ستونها سندبل...    0.00   0.00    0   \n",
              "195  زنگ زدايي آرماتور ديوارهاي حائل و ستونها سندبل...    0.00   0.00    0   \n",
              "196      خم و برش آرماتور هاي ستون ها و ديوار هاي حائل   54.28   7.86   تن   \n",
              "197  زنگ زدايي آرماتور ديوارهاي حائل و ستونها سندبل...    0.00   0.00    0   \n",
              "198  زنگ زدايي آرماتور ديوارهاي حائل و ستونها سندبلاست    0.00   0.00    0   \n",
              "\n",
              "    كد WBS  \n",
              "0    1.4.1  \n",
              "1    1.4.1  \n",
              "2    1.4.1  \n",
              "3    1.4.1  \n",
              "4    1.4.1  \n",
              "..     ...  \n",
              "194      0  \n",
              "195      0  \n",
              "196      0  \n",
              "197      0  \n",
              "198      0  \n",
              "\n",
              "[199 rows x 10 columns]"
            ],
            "text/html": [
              "\n",
              "\n",
              "  <div id=\"df-7feac064-9e50-46e7-a46b-5f1d37d70fb6\">\n",
              "    <div class=\"colab-df-container\">\n",
              "      <div>\n",
              "<style scoped>\n",
              "    .dataframe tbody tr th:only-of-type {\n",
              "        vertical-align: middle;\n",
              "    }\n",
              "\n",
              "    .dataframe tbody tr th {\n",
              "        vertical-align: top;\n",
              "    }\n",
              "\n",
              "    .dataframe thead th {\n",
              "        text-align: right;\n",
              "    }\n",
              "</style>\n",
              "<table border=\"1\" class=\"dataframe\">\n",
              "  <thead>\n",
              "    <tr style=\"text-align: right;\">\n",
              "      <th></th>\n",
              "      <th>رديف</th>\n",
              "      <th>تاريخ</th>\n",
              "      <th>شماره گزارش</th>\n",
              "      <th>موضوع</th>\n",
              "      <th>تراز</th>\n",
              "      <th>شرح</th>\n",
              "      <th>حجم كل</th>\n",
              "      <th>مقدار</th>\n",
              "      <th>واحد</th>\n",
              "      <th>كد WBS</th>\n",
              "    </tr>\n",
              "  </thead>\n",
              "  <tbody>\n",
              "    <tr>\n",
              "      <th>0</th>\n",
              "      <td>1.0</td>\n",
              "      <td>2023-05-22</td>\n",
              "      <td>27</td>\n",
              "      <td>0</td>\n",
              "      <td>0</td>\n",
              "      <td>اجرای عملیات تخریب دیوار ضلع جنوبی کارگاه</td>\n",
              "      <td>0.00</td>\n",
              "      <td>0.00</td>\n",
              "      <td>0</td>\n",
              "      <td>1.4.1</td>\n",
              "    </tr>\n",
              "    <tr>\n",
              "      <th>1</th>\n",
              "      <td>2.0</td>\n",
              "      <td>2023-05-22</td>\n",
              "      <td>27</td>\n",
              "      <td>0</td>\n",
              "      <td>0</td>\n",
              "      <td>اجرایی زیرسازی و پایه گذاری حصار کارگاه ضلع جنوبی</td>\n",
              "      <td>0.00</td>\n",
              "      <td>0.00</td>\n",
              "      <td>0</td>\n",
              "      <td>1.4.1</td>\n",
              "    </tr>\n",
              "    <tr>\n",
              "      <th>2</th>\n",
              "      <td>1.0</td>\n",
              "      <td>2023-05-23</td>\n",
              "      <td>28</td>\n",
              "      <td>0</td>\n",
              "      <td>0</td>\n",
              "      <td>اجرای عملیات تخریب دیوار ضلع جنوبی کارگاه</td>\n",
              "      <td>0.00</td>\n",
              "      <td>0.00</td>\n",
              "      <td>0</td>\n",
              "      <td>1.4.1</td>\n",
              "    </tr>\n",
              "    <tr>\n",
              "      <th>3</th>\n",
              "      <td>2.0</td>\n",
              "      <td>2023-05-23</td>\n",
              "      <td>28</td>\n",
              "      <td>0</td>\n",
              "      <td>0</td>\n",
              "      <td>اجرایی زیرسازی و پایه گذاری حصار کارگاه ضلع جنوبی</td>\n",
              "      <td>0.00</td>\n",
              "      <td>0.00</td>\n",
              "      <td>0</td>\n",
              "      <td>1.4.1</td>\n",
              "    </tr>\n",
              "    <tr>\n",
              "      <th>4</th>\n",
              "      <td>3.0</td>\n",
              "      <td>2023-05-23</td>\n",
              "      <td>28</td>\n",
              "      <td>0</td>\n",
              "      <td>0</td>\n",
              "      <td>تعمیر و اصلاحیه برق کارگاه</td>\n",
              "      <td>0.00</td>\n",
              "      <td>0.00</td>\n",
              "      <td>0</td>\n",
              "      <td>1.4.1</td>\n",
              "    </tr>\n",
              "    <tr>\n",
              "      <th>...</th>\n",
              "      <td>...</td>\n",
              "      <td>...</td>\n",
              "      <td>...</td>\n",
              "      <td>...</td>\n",
              "      <td>...</td>\n",
              "      <td>...</td>\n",
              "      <td>...</td>\n",
              "      <td>...</td>\n",
              "      <td>...</td>\n",
              "      <td>...</td>\n",
              "    </tr>\n",
              "    <tr>\n",
              "      <th>194</th>\n",
              "      <td>0.0</td>\n",
              "      <td>2023-07-29</td>\n",
              "      <td>95</td>\n",
              "      <td>0</td>\n",
              "      <td>0</td>\n",
              "      <td>زنگ زدايي آرماتور ديوارهاي حائل و ستونها سندبل...</td>\n",
              "      <td>0.00</td>\n",
              "      <td>0.00</td>\n",
              "      <td>0</td>\n",
              "      <td>0</td>\n",
              "    </tr>\n",
              "    <tr>\n",
              "      <th>195</th>\n",
              "      <td>0.0</td>\n",
              "      <td>2023-07-30</td>\n",
              "      <td>96</td>\n",
              "      <td>0</td>\n",
              "      <td>0</td>\n",
              "      <td>زنگ زدايي آرماتور ديوارهاي حائل و ستونها سندبل...</td>\n",
              "      <td>0.00</td>\n",
              "      <td>0.00</td>\n",
              "      <td>0</td>\n",
              "      <td>0</td>\n",
              "    </tr>\n",
              "    <tr>\n",
              "      <th>196</th>\n",
              "      <td>0.0</td>\n",
              "      <td>2023-07-30</td>\n",
              "      <td>96</td>\n",
              "      <td>0</td>\n",
              "      <td>0</td>\n",
              "      <td>خم و برش آرماتور هاي ستون ها و ديوار هاي حائل</td>\n",
              "      <td>54.28</td>\n",
              "      <td>7.86</td>\n",
              "      <td>تن</td>\n",
              "      <td>0</td>\n",
              "    </tr>\n",
              "    <tr>\n",
              "      <th>197</th>\n",
              "      <td>0.0</td>\n",
              "      <td>2023-07-31</td>\n",
              "      <td>97</td>\n",
              "      <td>0</td>\n",
              "      <td>0</td>\n",
              "      <td>زنگ زدايي آرماتور ديوارهاي حائل و ستونها سندبل...</td>\n",
              "      <td>0.00</td>\n",
              "      <td>0.00</td>\n",
              "      <td>0</td>\n",
              "      <td>0</td>\n",
              "    </tr>\n",
              "    <tr>\n",
              "      <th>198</th>\n",
              "      <td>0.0</td>\n",
              "      <td>2023-08-01</td>\n",
              "      <td>98</td>\n",
              "      <td>0</td>\n",
              "      <td>0</td>\n",
              "      <td>زنگ زدايي آرماتور ديوارهاي حائل و ستونها سندبلاست</td>\n",
              "      <td>0.00</td>\n",
              "      <td>0.00</td>\n",
              "      <td>0</td>\n",
              "      <td>0</td>\n",
              "    </tr>\n",
              "  </tbody>\n",
              "</table>\n",
              "<p>199 rows × 10 columns</p>\n",
              "</div>\n",
              "      <button class=\"colab-df-convert\" onclick=\"convertToInteractive('df-7feac064-9e50-46e7-a46b-5f1d37d70fb6')\"\n",
              "              title=\"Convert this dataframe to an interactive table.\"\n",
              "              style=\"display:none;\">\n",
              "\n",
              "  <svg xmlns=\"http://www.w3.org/2000/svg\" height=\"24px\"viewBox=\"0 0 24 24\"\n",
              "       width=\"24px\">\n",
              "    <path d=\"M0 0h24v24H0V0z\" fill=\"none\"/>\n",
              "    <path d=\"M18.56 5.44l.94 2.06.94-2.06 2.06-.94-2.06-.94-.94-2.06-.94 2.06-2.06.94zm-11 1L8.5 8.5l.94-2.06 2.06-.94-2.06-.94L8.5 2.5l-.94 2.06-2.06.94zm10 10l.94 2.06.94-2.06 2.06-.94-2.06-.94-.94-2.06-.94 2.06-2.06.94z\"/><path d=\"M17.41 7.96l-1.37-1.37c-.4-.4-.92-.59-1.43-.59-.52 0-1.04.2-1.43.59L10.3 9.45l-7.72 7.72c-.78.78-.78 2.05 0 2.83L4 21.41c.39.39.9.59 1.41.59.51 0 1.02-.2 1.41-.59l7.78-7.78 2.81-2.81c.8-.78.8-2.07 0-2.86zM5.41 20L4 18.59l7.72-7.72 1.47 1.35L5.41 20z\"/>\n",
              "  </svg>\n",
              "      </button>\n",
              "\n",
              "\n",
              "\n",
              "    <div id=\"df-41620072-a16c-4dbb-8ab0-521e9c365a98\">\n",
              "      <button class=\"colab-df-quickchart\" onclick=\"quickchart('df-41620072-a16c-4dbb-8ab0-521e9c365a98')\"\n",
              "              title=\"Suggest charts.\"\n",
              "              style=\"display:none;\">\n",
              "\n",
              "<svg xmlns=\"http://www.w3.org/2000/svg\" height=\"24px\"viewBox=\"0 0 24 24\"\n",
              "     width=\"24px\">\n",
              "    <g>\n",
              "        <path d=\"M19 3H5c-1.1 0-2 .9-2 2v14c0 1.1.9 2 2 2h14c1.1 0 2-.9 2-2V5c0-1.1-.9-2-2-2zM9 17H7v-7h2v7zm4 0h-2V7h2v10zm4 0h-2v-4h2v4z\"/>\n",
              "    </g>\n",
              "</svg>\n",
              "      </button>\n",
              "    </div>\n",
              "\n",
              "<style>\n",
              "  .colab-df-quickchart {\n",
              "    background-color: #E8F0FE;\n",
              "    border: none;\n",
              "    border-radius: 50%;\n",
              "    cursor: pointer;\n",
              "    display: none;\n",
              "    fill: #1967D2;\n",
              "    height: 32px;\n",
              "    padding: 0 0 0 0;\n",
              "    width: 32px;\n",
              "  }\n",
              "\n",
              "  .colab-df-quickchart:hover {\n",
              "    background-color: #E2EBFA;\n",
              "    box-shadow: 0px 1px 2px rgba(60, 64, 67, 0.3), 0px 1px 3px 1px rgba(60, 64, 67, 0.15);\n",
              "    fill: #174EA6;\n",
              "  }\n",
              "\n",
              "  [theme=dark] .colab-df-quickchart {\n",
              "    background-color: #3B4455;\n",
              "    fill: #D2E3FC;\n",
              "  }\n",
              "\n",
              "  [theme=dark] .colab-df-quickchart:hover {\n",
              "    background-color: #434B5C;\n",
              "    box-shadow: 0px 1px 3px 1px rgba(0, 0, 0, 0.15);\n",
              "    filter: drop-shadow(0px 1px 2px rgba(0, 0, 0, 0.3));\n",
              "    fill: #FFFFFF;\n",
              "  }\n",
              "</style>\n",
              "\n",
              "    <script>\n",
              "      async function quickchart(key) {\n",
              "        const containerElement = document.querySelector('#' + key);\n",
              "        const charts = await google.colab.kernel.invokeFunction(\n",
              "            'suggestCharts', [key], {});\n",
              "      }\n",
              "    </script>\n",
              "\n",
              "      <script>\n",
              "\n",
              "function displayQuickchartButton(domScope) {\n",
              "  let quickchartButtonEl =\n",
              "    domScope.querySelector('#df-41620072-a16c-4dbb-8ab0-521e9c365a98 button.colab-df-quickchart');\n",
              "  quickchartButtonEl.style.display =\n",
              "    google.colab.kernel.accessAllowed ? 'block' : 'none';\n",
              "}\n",
              "\n",
              "        displayQuickchartButton(document);\n",
              "      </script>\n",
              "      <style>\n",
              "    .colab-df-container {\n",
              "      display:flex;\n",
              "      flex-wrap:wrap;\n",
              "      gap: 12px;\n",
              "    }\n",
              "\n",
              "    .colab-df-convert {\n",
              "      background-color: #E8F0FE;\n",
              "      border: none;\n",
              "      border-radius: 50%;\n",
              "      cursor: pointer;\n",
              "      display: none;\n",
              "      fill: #1967D2;\n",
              "      height: 32px;\n",
              "      padding: 0 0 0 0;\n",
              "      width: 32px;\n",
              "    }\n",
              "\n",
              "    .colab-df-convert:hover {\n",
              "      background-color: #E2EBFA;\n",
              "      box-shadow: 0px 1px 2px rgba(60, 64, 67, 0.3), 0px 1px 3px 1px rgba(60, 64, 67, 0.15);\n",
              "      fill: #174EA6;\n",
              "    }\n",
              "\n",
              "    [theme=dark] .colab-df-convert {\n",
              "      background-color: #3B4455;\n",
              "      fill: #D2E3FC;\n",
              "    }\n",
              "\n",
              "    [theme=dark] .colab-df-convert:hover {\n",
              "      background-color: #434B5C;\n",
              "      box-shadow: 0px 1px 3px 1px rgba(0, 0, 0, 0.15);\n",
              "      filter: drop-shadow(0px 1px 2px rgba(0, 0, 0, 0.3));\n",
              "      fill: #FFFFFF;\n",
              "    }\n",
              "  </style>\n",
              "\n",
              "      <script>\n",
              "        const buttonEl =\n",
              "          document.querySelector('#df-7feac064-9e50-46e7-a46b-5f1d37d70fb6 button.colab-df-convert');\n",
              "        buttonEl.style.display =\n",
              "          google.colab.kernel.accessAllowed ? 'block' : 'none';\n",
              "\n",
              "        async function convertToInteractive(key) {\n",
              "          const element = document.querySelector('#df-7feac064-9e50-46e7-a46b-5f1d37d70fb6');\n",
              "          const dataTable =\n",
              "            await google.colab.kernel.invokeFunction('convertToInteractive',\n",
              "                                                     [key], {});\n",
              "          if (!dataTable) return;\n",
              "\n",
              "          const docLinkHtml = 'Like what you see? Visit the ' +\n",
              "            '<a target=\"_blank\" href=https://colab.research.google.com/notebooks/data_table.ipynb>data table notebook</a>'\n",
              "            + ' to learn more about interactive tables.';\n",
              "          element.innerHTML = '';\n",
              "          dataTable['output_type'] = 'display_data';\n",
              "          await google.colab.output.renderOutput(dataTable, element);\n",
              "          const docLink = document.createElement('div');\n",
              "          docLink.innerHTML = docLinkHtml;\n",
              "          element.appendChild(docLink);\n",
              "        }\n",
              "      </script>\n",
              "    </div>\n",
              "  </div>\n"
            ]
          },
          "metadata": {}
        }
      ]
    },
    {
      "cell_type": "markdown",
      "source": [
        "#### Add a column to table for total price"
      ],
      "metadata": {
        "id": "dTNn99JW-rqp"
      }
    },
    {
      "cell_type": "code",
      "source": [
        "# Adding new column as total calculator\n",
        "total = full_file['مقدار'] * full_file['حجم كل']\n",
        "full_file['جمع كل'] = total\n",
        "full_file\n",
        "#full_file['جمع كل'][171]"
      ],
      "metadata": {
        "colab": {
          "base_uri": "https://localhost:8080/",
          "height": 424
        },
        "id": "8QxCGaWcZr7l",
        "outputId": "81e62543-b824-43fc-e77a-9fe7f3bfe759"
      },
      "execution_count": 404,
      "outputs": [
        {
          "output_type": "execute_result",
          "data": {
            "text/plain": [
              "     رديف      تاريخ  شماره گزارش  موضوع  تراز  \\\n",
              "0     1.0 2023-05-22           27      0     0   \n",
              "1     2.0 2023-05-22           27      0     0   \n",
              "2     1.0 2023-05-23           28      0     0   \n",
              "3     2.0 2023-05-23           28      0     0   \n",
              "4     3.0 2023-05-23           28      0     0   \n",
              "..    ...        ...          ...    ...   ...   \n",
              "194   0.0 2023-07-29           95      0     0   \n",
              "195   0.0 2023-07-30           96      0     0   \n",
              "196   0.0 2023-07-30           96      0     0   \n",
              "197   0.0 2023-07-31           97      0     0   \n",
              "198   0.0 2023-08-01           98      0     0   \n",
              "\n",
              "                                                   شرح  حجم كل  مقدار واحد  \\\n",
              "0            اجرای عملیات تخریب دیوار ضلع جنوبی کارگاه    0.00   0.00    0   \n",
              "1    اجرایی زیرسازی و پایه گذاری حصار کارگاه ضلع جنوبی    0.00   0.00    0   \n",
              "2            اجرای عملیات تخریب دیوار ضلع جنوبی کارگاه    0.00   0.00    0   \n",
              "3    اجرایی زیرسازی و پایه گذاری حصار کارگاه ضلع جنوبی    0.00   0.00    0   \n",
              "4                           تعمیر و اصلاحیه برق کارگاه    0.00   0.00    0   \n",
              "..                                                 ...     ...    ...  ...   \n",
              "194  زنگ زدايي آرماتور ديوارهاي حائل و ستونها سندبل...    0.00   0.00    0   \n",
              "195  زنگ زدايي آرماتور ديوارهاي حائل و ستونها سندبل...    0.00   0.00    0   \n",
              "196      خم و برش آرماتور هاي ستون ها و ديوار هاي حائل   54.28   7.86   تن   \n",
              "197  زنگ زدايي آرماتور ديوارهاي حائل و ستونها سندبل...    0.00   0.00    0   \n",
              "198  زنگ زدايي آرماتور ديوارهاي حائل و ستونها سندبلاست    0.00   0.00    0   \n",
              "\n",
              "    كد WBS    جمع كل  \n",
              "0    1.4.1    0.0000  \n",
              "1    1.4.1    0.0000  \n",
              "2    1.4.1    0.0000  \n",
              "3    1.4.1    0.0000  \n",
              "4    1.4.1    0.0000  \n",
              "..     ...       ...  \n",
              "194      0    0.0000  \n",
              "195      0    0.0000  \n",
              "196      0  426.6408  \n",
              "197      0    0.0000  \n",
              "198      0    0.0000  \n",
              "\n",
              "[199 rows x 11 columns]"
            ],
            "text/html": [
              "\n",
              "\n",
              "  <div id=\"df-91df74d9-4449-410b-93a1-59dff5ef0b68\">\n",
              "    <div class=\"colab-df-container\">\n",
              "      <div>\n",
              "<style scoped>\n",
              "    .dataframe tbody tr th:only-of-type {\n",
              "        vertical-align: middle;\n",
              "    }\n",
              "\n",
              "    .dataframe tbody tr th {\n",
              "        vertical-align: top;\n",
              "    }\n",
              "\n",
              "    .dataframe thead th {\n",
              "        text-align: right;\n",
              "    }\n",
              "</style>\n",
              "<table border=\"1\" class=\"dataframe\">\n",
              "  <thead>\n",
              "    <tr style=\"text-align: right;\">\n",
              "      <th></th>\n",
              "      <th>رديف</th>\n",
              "      <th>تاريخ</th>\n",
              "      <th>شماره گزارش</th>\n",
              "      <th>موضوع</th>\n",
              "      <th>تراز</th>\n",
              "      <th>شرح</th>\n",
              "      <th>حجم كل</th>\n",
              "      <th>مقدار</th>\n",
              "      <th>واحد</th>\n",
              "      <th>كد WBS</th>\n",
              "      <th>جمع كل</th>\n",
              "    </tr>\n",
              "  </thead>\n",
              "  <tbody>\n",
              "    <tr>\n",
              "      <th>0</th>\n",
              "      <td>1.0</td>\n",
              "      <td>2023-05-22</td>\n",
              "      <td>27</td>\n",
              "      <td>0</td>\n",
              "      <td>0</td>\n",
              "      <td>اجرای عملیات تخریب دیوار ضلع جنوبی کارگاه</td>\n",
              "      <td>0.00</td>\n",
              "      <td>0.00</td>\n",
              "      <td>0</td>\n",
              "      <td>1.4.1</td>\n",
              "      <td>0.0000</td>\n",
              "    </tr>\n",
              "    <tr>\n",
              "      <th>1</th>\n",
              "      <td>2.0</td>\n",
              "      <td>2023-05-22</td>\n",
              "      <td>27</td>\n",
              "      <td>0</td>\n",
              "      <td>0</td>\n",
              "      <td>اجرایی زیرسازی و پایه گذاری حصار کارگاه ضلع جنوبی</td>\n",
              "      <td>0.00</td>\n",
              "      <td>0.00</td>\n",
              "      <td>0</td>\n",
              "      <td>1.4.1</td>\n",
              "      <td>0.0000</td>\n",
              "    </tr>\n",
              "    <tr>\n",
              "      <th>2</th>\n",
              "      <td>1.0</td>\n",
              "      <td>2023-05-23</td>\n",
              "      <td>28</td>\n",
              "      <td>0</td>\n",
              "      <td>0</td>\n",
              "      <td>اجرای عملیات تخریب دیوار ضلع جنوبی کارگاه</td>\n",
              "      <td>0.00</td>\n",
              "      <td>0.00</td>\n",
              "      <td>0</td>\n",
              "      <td>1.4.1</td>\n",
              "      <td>0.0000</td>\n",
              "    </tr>\n",
              "    <tr>\n",
              "      <th>3</th>\n",
              "      <td>2.0</td>\n",
              "      <td>2023-05-23</td>\n",
              "      <td>28</td>\n",
              "      <td>0</td>\n",
              "      <td>0</td>\n",
              "      <td>اجرایی زیرسازی و پایه گذاری حصار کارگاه ضلع جنوبی</td>\n",
              "      <td>0.00</td>\n",
              "      <td>0.00</td>\n",
              "      <td>0</td>\n",
              "      <td>1.4.1</td>\n",
              "      <td>0.0000</td>\n",
              "    </tr>\n",
              "    <tr>\n",
              "      <th>4</th>\n",
              "      <td>3.0</td>\n",
              "      <td>2023-05-23</td>\n",
              "      <td>28</td>\n",
              "      <td>0</td>\n",
              "      <td>0</td>\n",
              "      <td>تعمیر و اصلاحیه برق کارگاه</td>\n",
              "      <td>0.00</td>\n",
              "      <td>0.00</td>\n",
              "      <td>0</td>\n",
              "      <td>1.4.1</td>\n",
              "      <td>0.0000</td>\n",
              "    </tr>\n",
              "    <tr>\n",
              "      <th>...</th>\n",
              "      <td>...</td>\n",
              "      <td>...</td>\n",
              "      <td>...</td>\n",
              "      <td>...</td>\n",
              "      <td>...</td>\n",
              "      <td>...</td>\n",
              "      <td>...</td>\n",
              "      <td>...</td>\n",
              "      <td>...</td>\n",
              "      <td>...</td>\n",
              "      <td>...</td>\n",
              "    </tr>\n",
              "    <tr>\n",
              "      <th>194</th>\n",
              "      <td>0.0</td>\n",
              "      <td>2023-07-29</td>\n",
              "      <td>95</td>\n",
              "      <td>0</td>\n",
              "      <td>0</td>\n",
              "      <td>زنگ زدايي آرماتور ديوارهاي حائل و ستونها سندبل...</td>\n",
              "      <td>0.00</td>\n",
              "      <td>0.00</td>\n",
              "      <td>0</td>\n",
              "      <td>0</td>\n",
              "      <td>0.0000</td>\n",
              "    </tr>\n",
              "    <tr>\n",
              "      <th>195</th>\n",
              "      <td>0.0</td>\n",
              "      <td>2023-07-30</td>\n",
              "      <td>96</td>\n",
              "      <td>0</td>\n",
              "      <td>0</td>\n",
              "      <td>زنگ زدايي آرماتور ديوارهاي حائل و ستونها سندبل...</td>\n",
              "      <td>0.00</td>\n",
              "      <td>0.00</td>\n",
              "      <td>0</td>\n",
              "      <td>0</td>\n",
              "      <td>0.0000</td>\n",
              "    </tr>\n",
              "    <tr>\n",
              "      <th>196</th>\n",
              "      <td>0.0</td>\n",
              "      <td>2023-07-30</td>\n",
              "      <td>96</td>\n",
              "      <td>0</td>\n",
              "      <td>0</td>\n",
              "      <td>خم و برش آرماتور هاي ستون ها و ديوار هاي حائل</td>\n",
              "      <td>54.28</td>\n",
              "      <td>7.86</td>\n",
              "      <td>تن</td>\n",
              "      <td>0</td>\n",
              "      <td>426.6408</td>\n",
              "    </tr>\n",
              "    <tr>\n",
              "      <th>197</th>\n",
              "      <td>0.0</td>\n",
              "      <td>2023-07-31</td>\n",
              "      <td>97</td>\n",
              "      <td>0</td>\n",
              "      <td>0</td>\n",
              "      <td>زنگ زدايي آرماتور ديوارهاي حائل و ستونها سندبل...</td>\n",
              "      <td>0.00</td>\n",
              "      <td>0.00</td>\n",
              "      <td>0</td>\n",
              "      <td>0</td>\n",
              "      <td>0.0000</td>\n",
              "    </tr>\n",
              "    <tr>\n",
              "      <th>198</th>\n",
              "      <td>0.0</td>\n",
              "      <td>2023-08-01</td>\n",
              "      <td>98</td>\n",
              "      <td>0</td>\n",
              "      <td>0</td>\n",
              "      <td>زنگ زدايي آرماتور ديوارهاي حائل و ستونها سندبلاست</td>\n",
              "      <td>0.00</td>\n",
              "      <td>0.00</td>\n",
              "      <td>0</td>\n",
              "      <td>0</td>\n",
              "      <td>0.0000</td>\n",
              "    </tr>\n",
              "  </tbody>\n",
              "</table>\n",
              "<p>199 rows × 11 columns</p>\n",
              "</div>\n",
              "      <button class=\"colab-df-convert\" onclick=\"convertToInteractive('df-91df74d9-4449-410b-93a1-59dff5ef0b68')\"\n",
              "              title=\"Convert this dataframe to an interactive table.\"\n",
              "              style=\"display:none;\">\n",
              "\n",
              "  <svg xmlns=\"http://www.w3.org/2000/svg\" height=\"24px\"viewBox=\"0 0 24 24\"\n",
              "       width=\"24px\">\n",
              "    <path d=\"M0 0h24v24H0V0z\" fill=\"none\"/>\n",
              "    <path d=\"M18.56 5.44l.94 2.06.94-2.06 2.06-.94-2.06-.94-.94-2.06-.94 2.06-2.06.94zm-11 1L8.5 8.5l.94-2.06 2.06-.94-2.06-.94L8.5 2.5l-.94 2.06-2.06.94zm10 10l.94 2.06.94-2.06 2.06-.94-2.06-.94-.94-2.06-.94 2.06-2.06.94z\"/><path d=\"M17.41 7.96l-1.37-1.37c-.4-.4-.92-.59-1.43-.59-.52 0-1.04.2-1.43.59L10.3 9.45l-7.72 7.72c-.78.78-.78 2.05 0 2.83L4 21.41c.39.39.9.59 1.41.59.51 0 1.02-.2 1.41-.59l7.78-7.78 2.81-2.81c.8-.78.8-2.07 0-2.86zM5.41 20L4 18.59l7.72-7.72 1.47 1.35L5.41 20z\"/>\n",
              "  </svg>\n",
              "      </button>\n",
              "\n",
              "\n",
              "\n",
              "    <div id=\"df-dc55b3d4-82fb-4bd1-9471-8ce25b4d96d6\">\n",
              "      <button class=\"colab-df-quickchart\" onclick=\"quickchart('df-dc55b3d4-82fb-4bd1-9471-8ce25b4d96d6')\"\n",
              "              title=\"Suggest charts.\"\n",
              "              style=\"display:none;\">\n",
              "\n",
              "<svg xmlns=\"http://www.w3.org/2000/svg\" height=\"24px\"viewBox=\"0 0 24 24\"\n",
              "     width=\"24px\">\n",
              "    <g>\n",
              "        <path d=\"M19 3H5c-1.1 0-2 .9-2 2v14c0 1.1.9 2 2 2h14c1.1 0 2-.9 2-2V5c0-1.1-.9-2-2-2zM9 17H7v-7h2v7zm4 0h-2V7h2v10zm4 0h-2v-4h2v4z\"/>\n",
              "    </g>\n",
              "</svg>\n",
              "      </button>\n",
              "    </div>\n",
              "\n",
              "<style>\n",
              "  .colab-df-quickchart {\n",
              "    background-color: #E8F0FE;\n",
              "    border: none;\n",
              "    border-radius: 50%;\n",
              "    cursor: pointer;\n",
              "    display: none;\n",
              "    fill: #1967D2;\n",
              "    height: 32px;\n",
              "    padding: 0 0 0 0;\n",
              "    width: 32px;\n",
              "  }\n",
              "\n",
              "  .colab-df-quickchart:hover {\n",
              "    background-color: #E2EBFA;\n",
              "    box-shadow: 0px 1px 2px rgba(60, 64, 67, 0.3), 0px 1px 3px 1px rgba(60, 64, 67, 0.15);\n",
              "    fill: #174EA6;\n",
              "  }\n",
              "\n",
              "  [theme=dark] .colab-df-quickchart {\n",
              "    background-color: #3B4455;\n",
              "    fill: #D2E3FC;\n",
              "  }\n",
              "\n",
              "  [theme=dark] .colab-df-quickchart:hover {\n",
              "    background-color: #434B5C;\n",
              "    box-shadow: 0px 1px 3px 1px rgba(0, 0, 0, 0.15);\n",
              "    filter: drop-shadow(0px 1px 2px rgba(0, 0, 0, 0.3));\n",
              "    fill: #FFFFFF;\n",
              "  }\n",
              "</style>\n",
              "\n",
              "    <script>\n",
              "      async function quickchart(key) {\n",
              "        const containerElement = document.querySelector('#' + key);\n",
              "        const charts = await google.colab.kernel.invokeFunction(\n",
              "            'suggestCharts', [key], {});\n",
              "      }\n",
              "    </script>\n",
              "\n",
              "      <script>\n",
              "\n",
              "function displayQuickchartButton(domScope) {\n",
              "  let quickchartButtonEl =\n",
              "    domScope.querySelector('#df-dc55b3d4-82fb-4bd1-9471-8ce25b4d96d6 button.colab-df-quickchart');\n",
              "  quickchartButtonEl.style.display =\n",
              "    google.colab.kernel.accessAllowed ? 'block' : 'none';\n",
              "}\n",
              "\n",
              "        displayQuickchartButton(document);\n",
              "      </script>\n",
              "      <style>\n",
              "    .colab-df-container {\n",
              "      display:flex;\n",
              "      flex-wrap:wrap;\n",
              "      gap: 12px;\n",
              "    }\n",
              "\n",
              "    .colab-df-convert {\n",
              "      background-color: #E8F0FE;\n",
              "      border: none;\n",
              "      border-radius: 50%;\n",
              "      cursor: pointer;\n",
              "      display: none;\n",
              "      fill: #1967D2;\n",
              "      height: 32px;\n",
              "      padding: 0 0 0 0;\n",
              "      width: 32px;\n",
              "    }\n",
              "\n",
              "    .colab-df-convert:hover {\n",
              "      background-color: #E2EBFA;\n",
              "      box-shadow: 0px 1px 2px rgba(60, 64, 67, 0.3), 0px 1px 3px 1px rgba(60, 64, 67, 0.15);\n",
              "      fill: #174EA6;\n",
              "    }\n",
              "\n",
              "    [theme=dark] .colab-df-convert {\n",
              "      background-color: #3B4455;\n",
              "      fill: #D2E3FC;\n",
              "    }\n",
              "\n",
              "    [theme=dark] .colab-df-convert:hover {\n",
              "      background-color: #434B5C;\n",
              "      box-shadow: 0px 1px 3px 1px rgba(0, 0, 0, 0.15);\n",
              "      filter: drop-shadow(0px 1px 2px rgba(0, 0, 0, 0.3));\n",
              "      fill: #FFFFFF;\n",
              "    }\n",
              "  </style>\n",
              "\n",
              "      <script>\n",
              "        const buttonEl =\n",
              "          document.querySelector('#df-91df74d9-4449-410b-93a1-59dff5ef0b68 button.colab-df-convert');\n",
              "        buttonEl.style.display =\n",
              "          google.colab.kernel.accessAllowed ? 'block' : 'none';\n",
              "\n",
              "        async function convertToInteractive(key) {\n",
              "          const element = document.querySelector('#df-91df74d9-4449-410b-93a1-59dff5ef0b68');\n",
              "          const dataTable =\n",
              "            await google.colab.kernel.invokeFunction('convertToInteractive',\n",
              "                                                     [key], {});\n",
              "          if (!dataTable) return;\n",
              "\n",
              "          const docLinkHtml = 'Like what you see? Visit the ' +\n",
              "            '<a target=\"_blank\" href=https://colab.research.google.com/notebooks/data_table.ipynb>data table notebook</a>'\n",
              "            + ' to learn more about interactive tables.';\n",
              "          element.innerHTML = '';\n",
              "          dataTable['output_type'] = 'display_data';\n",
              "          await google.colab.output.renderOutput(dataTable, element);\n",
              "          const docLink = document.createElement('div');\n",
              "          docLink.innerHTML = docLinkHtml;\n",
              "          element.appendChild(docLink);\n",
              "        }\n",
              "      </script>\n",
              "    </div>\n",
              "  </div>\n"
            ]
          },
          "metadata": {},
          "execution_count": 404
        }
      ]
    },
    {
      "cell_type": "code",
      "source": [
        "row_position = 2\n",
        "col_position = 'k'\n",
        "for i in full_file['جمع كل']:\n",
        "    ws[col_position + str(row_position)].value = i\n",
        "    row_position += 1\n",
        "\n",
        "ws['k198'].value\n",
        "wb.save('دیتا بیس گزارشات روزانه (3).xlsx')"
      ],
      "metadata": {
        "id": "lDg4gEdwJmIC"
      },
      "execution_count": 405,
      "outputs": []
    },
    {
      "cell_type": "code",
      "source": [
        "# some type test\n",
        "pd.to_datetime(full_file['تاريخ'])\n",
        "type(full_file['تاريخ'][173])"
      ],
      "metadata": {
        "colab": {
          "base_uri": "https://localhost:8080/"
        },
        "id": "Rd1knK2inKBJ",
        "outputId": "92da739f-254f-4488-9312-032171092cec"
      },
      "execution_count": 406,
      "outputs": [
        {
          "output_type": "execute_result",
          "data": {
            "text/plain": [
              "pandas._libs.tslibs.timestamps.Timestamp"
            ]
          },
          "metadata": {},
          "execution_count": 406
        }
      ]
    },
    {
      "cell_type": "markdown",
      "source": [
        "#### Finding our data by DATE by `df['target column'].loc[(df['date column'])]`"
      ],
      "metadata": {
        "id": "AiENR1gT-5GM"
      }
    },
    {
      "cell_type": "code",
      "source": [
        "# Locating the data that we want by date and save it in a variable\n",
        "date = input('give me a date\\n')\n",
        "date = pd.Timestamp(date)\n",
        "print(\"\\n\")\n",
        "descriptions_value = full_file['شرح'].loc[(full_file['تاريخ'] == date)]\n",
        "singleAmount_value = full_file['مقدار'].loc[(full_file['تاريخ'] == date)]\n",
        "# Determine the fullAmount_value afterwards\n",
        "number_value = full_file['شماره گزارش'].loc[(full_file['تاريخ'] == date)]\n",
        "\n",
        "unit_value = full_file['واحد'].loc[(full_file['تاريخ'] == date)]\n",
        "print(type(descriptions_value))\n",
        "print(type(singleAmount_value))\n",
        "print(type(unit_value))\n",
        "print(type(number_value))"
      ],
      "metadata": {
        "colab": {
          "base_uri": "https://localhost:8080/"
        },
        "id": "syKTgggtiAn3",
        "outputId": "85584ac3-c26a-4c8f-8a31-b5663d5d99a5"
      },
      "execution_count": 407,
      "outputs": [
        {
          "output_type": "stream",
          "name": "stdout",
          "text": [
            "give me a date\n",
            "2023-07-27\n",
            "\n",
            "\n",
            "<class 'pandas.core.series.Series'>\n",
            "<class 'pandas.core.series.Series'>\n",
            "<class 'pandas.core.series.Series'>\n",
            "<class 'pandas.core.series.Series'>\n"
          ]
        }
      ]
    },
    {
      "cell_type": "markdown",
      "source": [
        "### moving through the final target"
      ],
      "metadata": {
        "id": "xf3H2Ppbpgl5"
      }
    },
    {
      "cell_type": "markdown",
      "source": [
        "#### Enter to the target sheet"
      ],
      "metadata": {
        "id": "3_W_DKbP4Muf"
      }
    },
    {
      "cell_type": "code",
      "source": [
        "ws_des = wb['1']"
      ],
      "metadata": {
        "id": "ATUpmLPIjd_P"
      },
      "execution_count": 408,
      "outputs": []
    },
    {
      "cell_type": "markdown",
      "source": [
        "#### Some basics things"
      ],
      "metadata": {
        "id": "ggYy4ljO4VN_"
      }
    },
    {
      "cell_type": "code",
      "source": [
        "print(f\"Total number of rows: {ws_des.max_row} \\nTotal number columns: {ws_des.max_column}\")"
      ],
      "metadata": {
        "colab": {
          "base_uri": "https://localhost:8080/"
        },
        "id": "5zZVaoODAKYa",
        "outputId": "897cdbc9-1905-4819-80c3-895363b26cb7"
      },
      "execution_count": 409,
      "outputs": [
        {
          "output_type": "stream",
          "name": "stdout",
          "text": [
            "Total number of rows: 25 \n",
            "Total number columns: 36\n"
          ]
        }
      ]
    },
    {
      "cell_type": "code",
      "source": [
        "row_pos = 6\n",
        "col_pos = \"j\"\n",
        "ws_des[col_pos + str(row_pos)].value"
      ],
      "metadata": {
        "colab": {
          "base_uri": "https://localhost:8080/",
          "height": 35
        },
        "id": "hjjEcrPHAQGe",
        "outputId": "e036e447-0c0b-4b19-b06e-ce64d8e247da"
      },
      "execution_count": 410,
      "outputs": [
        {
          "output_type": "execute_result",
          "data": {
            "text/plain": [
              "\"=VLOOKUP(AF3,'عملیات اجرایی'!B:J,5,FALSE)\""
            ],
            "application/vnd.google.colaboratory.intrinsic+json": {
              "type": "string"
            }
          },
          "metadata": {},
          "execution_count": 410
        }
      ]
    },
    {
      "cell_type": "markdown",
      "source": [
        "#### The Final-Step"
      ],
      "metadata": {
        "id": "RogpPRLh4cf3"
      }
    },
    {
      "cell_type": "code",
      "source": [
        "for i in descriptions_value:\n",
        "  ws_des[col_pos + str(row_pos)].value = i\n",
        "  row_pos += 1\n",
        "ws_des['j6'].value\n",
        "\n",
        "ws_des[col_pos + str(row_pos)].value\n"
      ],
      "metadata": {
        "id": "oBHm-UsjDFZi"
      },
      "execution_count": 411,
      "outputs": []
    },
    {
      "cell_type": "markdown",
      "source": [
        "#### Save it\n",
        "dont forgot to save changes on the file"
      ],
      "metadata": {
        "id": "DFdi5EuBJH6U"
      }
    },
    {
      "cell_type": "code",
      "source": [
        "wb.save('دیتا بیس گزارشات روزانه (3).xlsx')"
      ],
      "metadata": {
        "id": "_IJvhbVfHQKz"
      },
      "execution_count": 412,
      "outputs": []
    },
    {
      "cell_type": "markdown",
      "source": [
        "### Advance Mode\n",
        "here we want to make our work looks like a real project and work on details"
      ],
      "metadata": {
        "id": "PDtBIE3W5BBl"
      }
    },
    {
      "cell_type": "markdown",
      "source": [
        " #### Make the date cell dynamiclly change by our 'INPUT'\n",
        "\n",
        ">>Lets start whith changing data dynimicly\n",
        ">>The 'AF3' cell is our target date, lets see its statics value\n",
        "\n",
        ">>In >> `ws_des['AF3'].value`\n",
        "\n",
        ">>Out >> datetime.datetime(2023, 7, 1, 0, 0)\n",
        "\n",
        ">>Now lets make it equal to the value of INPUT yhat we tookit before"
      ],
      "metadata": {
        "id": "uEfA1n7a48D-"
      }
    },
    {
      "cell_type": "code",
      "source": [
        "# Fill the date cell\n",
        "# As we do it many times in past we do it here easily\n",
        "ws_des['AF3'].value = date\n",
        "ws_des['AF3'].value\n",
        "\n",
        "# Dont forget to save it\n",
        "wb.save('دیتا بیس گزارشات روزانه (3).xlsx')"
      ],
      "metadata": {
        "id": "9k4286-K4_Sm"
      },
      "execution_count": 413,
      "outputs": []
    },
    {
      "cell_type": "markdown",
      "source": [
        "#### Have a look throght the outputs that we have by our date\n",
        "\n",
        "`number_value` >> `ws_des[AF2:]`  The easiest one, we start with this, It shows us which report number is our letter\n",
        "\n",
        "`descriptions_value` >> `ws_des[J6:]` I ment it starts from J6 and move-on but code doesnt understood [J6:]\n",
        "\n",
        "`singleAmount_value` >> `ws_des[AH6:]` I ment it starts from J6 and move-on but code doesnt understood [AH6:]\n",
        "\n",
        "`unit_value` >> `ws_des[AH6:]` I ment it starts from J6 and move-on but code doesnt understood [AH6:]\n",
        "\n",
        "`totalAmount_value` >> `ws_des[AB6:]` I ment it starts from J6 and move-on but code doesnt understood [J6:]\n",
        "\n",
        "For this, we have to look through the \"description_value\" and back to the `ws[]` main sheet check when ever we seen this value again to sum-up the \"مقدار\" values together"
      ],
      "metadata": {
        "id": "aLnbIQmyEiE4"
      }
    },
    {
      "cell_type": "code",
      "source": [
        "descriptions_value"
      ],
      "metadata": {
        "colab": {
          "base_uri": "https://localhost:8080/"
        },
        "id": "9byTOCHs639W",
        "outputId": "62c43b3c-801c-4515-9802-9cfe72561e5f"
      },
      "execution_count": 414,
      "outputs": [
        {
          "output_type": "execute_result",
          "data": {
            "text/plain": [
              "189    خم و برش آرماتور هاي ستون ها و ديوار هاي حائل\n",
              "190                              نصب تاور كرين 12 تن\n",
              "191    خم و برش آرماتور هاي ستون ها و ديوار هاي حائل\n",
              "Name: شرح, dtype: object"
            ]
          },
          "metadata": {},
          "execution_count": 414
        }
      ]
    },
    {
      "cell_type": "code",
      "source": [
        "singleAmount_value"
      ],
      "metadata": {
        "colab": {
          "base_uri": "https://localhost:8080/"
        },
        "id": "LsOuB4JX636n",
        "outputId": "35e8283a-0efa-465a-d24e-ef91300d52d4"
      },
      "execution_count": 415,
      "outputs": [
        {
          "output_type": "execute_result",
          "data": {
            "text/plain": [
              "189    7.39\n",
              "190    0.00\n",
              "191    0.00\n",
              "Name: مقدار, dtype: float64"
            ]
          },
          "metadata": {},
          "execution_count": 415
        }
      ]
    },
    {
      "cell_type": "code",
      "source": [
        "number_value"
      ],
      "metadata": {
        "colab": {
          "base_uri": "https://localhost:8080/"
        },
        "id": "paNCTEsj633v",
        "outputId": "5b77943a-d2ee-46bc-a201-69b14232b5ac"
      },
      "execution_count": 416,
      "outputs": [
        {
          "output_type": "execute_result",
          "data": {
            "text/plain": [
              "189    92\n",
              "190    93\n",
              "191    93\n",
              "Name: شماره گزارش, dtype: int64"
            ]
          },
          "metadata": {},
          "execution_count": 416
        }
      ]
    },
    {
      "cell_type": "code",
      "source": [
        "unit_value"
      ],
      "metadata": {
        "colab": {
          "base_uri": "https://localhost:8080/"
        },
        "id": "-xivG-0YjZmW",
        "outputId": "875c74e5-9448-428f-ae2a-78946fdc5377"
      },
      "execution_count": 417,
      "outputs": [
        {
          "output_type": "execute_result",
          "data": {
            "text/plain": [
              "189    تن\n",
              "190     0\n",
              "191    تن\n",
              "Name: واحد, dtype: object"
            ]
          },
          "metadata": {},
          "execution_count": 417
        }
      ]
    },
    {
      "cell_type": "markdown",
      "source": [
        "#### Start from easy to hard STEP BY STEP\n",
        "\n",
        "1- number_value\n",
        "\n",
        "2- unit_value\n",
        "\n",
        "3- singleAmount_value\n",
        "\n",
        "4- totalAMountValue"
      ],
      "metadata": {
        "id": "tG3PkY-NEeDR"
      }
    },
    {
      "cell_type": "code",
      "source": [
        "# Start with number_value\n",
        "from os import WIFSIGNALED\n",
        "number_array = list()\n",
        "for i in number_value:\n",
        "  if str(i) not in number_array:\n",
        "    number_array.append(str(i))\n",
        "\n",
        "number_filed_final = number_array[0] + \" - \" + number_array[-1]\n",
        "ws_des['AF2'].value = number_filed_final\n",
        "\n",
        "# save it\n",
        "wb.save('دیتا بیس گزارشات روزانه (3).xlsx')\n",
        "ws_des['AF2'].value\n"
      ],
      "metadata": {
        "colab": {
          "base_uri": "https://localhost:8080/",
          "height": 0
        },
        "id": "y01bqxRyExcb",
        "outputId": "327b5149-002c-4d9e-ad3e-cc7fd070a711"
      },
      "execution_count": 418,
      "outputs": [
        {
          "output_type": "execute_result",
          "data": {
            "text/plain": [
              "'92 - 93'"
            ],
            "application/vnd.google.colaboratory.intrinsic+json": {
              "type": "string"
            }
          },
          "metadata": {},
          "execution_count": 418
        }
      ]
    },
    {
      "cell_type": "code",
      "source": [
        "# Go for the unit_value\n",
        "col_pos = \"AH\"\n",
        "row_pos = 6\n",
        "for i in unit_value:\n",
        "  ws_des[col_pos + str(row_pos)].value = i\n",
        "  row_pos += 1\n",
        "ws_des['AH6'].value\n",
        "\n",
        "# Save it\n",
        "wb.save('دیتا بیس گزارشات روزانه (3).xlsx')\n",
        "\n",
        "#ws_des[col_pos + str(row_pos)].value\n"
      ],
      "metadata": {
        "id": "glE4p9wHExaR"
      },
      "execution_count": 419,
      "outputs": []
    },
    {
      "cell_type": "code",
      "source": [
        "# SingleAmount value\n",
        "col_pos = \"AE\"\n",
        "row_pos = 6\n",
        "for i in singleAmount_value:\n",
        "  if (i!= 0):\n",
        "    ws_des[col_pos + str(row_pos)].value = i\n",
        "    row_pos += 1\n",
        "  else:\n",
        "    ws_des[col_pos + str(row_pos)].value = \"\"\n",
        "    row_pos += 1\n",
        "\n",
        "ws_des['AE6'].value\n",
        "\n",
        "# Save it\n",
        "wb.save('دیتا بیس گزارشات روزانه (3).xlsx')"
      ],
      "metadata": {
        "id": "umGxPsK6ExYA"
      },
      "execution_count": 420,
      "outputs": []
    },
    {
      "cell_type": "code",
      "source": [
        "# totlaAmount_value at the end\n",
        "row_pos = 6\n",
        "col_pos = \"AB\"\n",
        "total_amount_dict = dict()\n",
        "totalAmount_value = dict()\n",
        "for i in descriptions_value:\n",
        "  total_amount_dict [i] = full_file['مقدار'].loc[(full_file['شرح'] == i)]\n",
        "\n",
        "for j in total_amount_dict.keys():\n",
        "  totalAmount_value[j] = total_amount_dict[j]\n",
        "  ws_des[col_pos + str(row_pos)].value = totalAmount_value[j].sum()\n",
        "  if (ws_des[col_pos + str(row_pos)].value == 0):\n",
        "    ws_des[col_pos + str(row_pos)].value = \"\"\n",
        "  row_pos += 1\n",
        "\n",
        "wb.save('دیتا بیس گزارشات روزانه (3).xlsx')\n",
        "ws_des[\"AB6\"].value"
      ],
      "metadata": {
        "colab": {
          "base_uri": "https://localhost:8080/"
        },
        "id": "JWIc4g7qmuDE",
        "outputId": "986789fc-f388-42b8-fe7a-6cbb943398c9"
      },
      "execution_count": 421,
      "outputs": [
        {
          "output_type": "execute_result",
          "data": {
            "text/plain": [
              "29.072119999999998"
            ]
          },
          "metadata": {},
          "execution_count": 421
        }
      ]
    },
    {
      "cell_type": "markdown",
      "source": [
        "### Now lets go ahead to another sheet and another jurney"
      ],
      "metadata": {
        "id": "C73iqGx2zYcP"
      }
    },
    {
      "cell_type": "code",
      "source": [
        "ws_human_resource = wb['نیروی انسانی']\n",
        "print(f\"Total number of rows: {ws_human_resource.max_row} \\nTotal number columns: {ws_human_resource.max_column}\")"
      ],
      "metadata": {
        "colab": {
          "base_uri": "https://localhost:8080/"
        },
        "id": "da5qzEG6QKkq",
        "outputId": "cbdcf739-7a76-4c3c-d285-c027a9d732e3"
      },
      "execution_count": 422,
      "outputs": [
        {
          "output_type": "stream",
          "name": "stdout",
          "text": [
            "Total number of rows: 1513 \n",
            "Total number columns: 6\n"
          ]
        }
      ]
    },
    {
      "cell_type": "markdown",
      "source": [
        "#### Make our sheet table to dataFrame to work with it easiley"
      ],
      "metadata": {
        "id": "__-sEK2UQKhc"
      }
    },
    {
      "cell_type": "code",
      "source": [
        "## Extract the columns\n",
        "col1 = [ws_human_resource.cell(row=i, column=1).value\n",
        "                  for i in range(2, ws_human_resource.max_row+1)]\n",
        "\n",
        "col2 = [ws_human_resource.cell(row=i, column=2).value\n",
        "                  for i in range(2, ws_human_resource.max_row+1)]\n",
        "\n",
        "col3 = [ws_human_resource.cell(row=i, column=3).value\n",
        "                  for i in range(2, ws_human_resource.max_row+1)]\n",
        "\n",
        "col4 = [ws_human_resource.cell(row=i, column=4).value\n",
        "                  for i in range(2, ws_human_resource.max_row+1)]\n",
        "\n",
        "col5 = [ws_human_resource.cell(row=i, column=5).value\n",
        "                  for i in range(2, ws_human_resource.max_row+1)]\n",
        "## Make them dataframe\n",
        "df_col1 = pd.DataFrame(col1, columns=['رديف'])\n",
        "df_col1['رديف'] = df_col1['رديف'].fillna(0)\n",
        "\n",
        "df_col2 = pd.DataFrame(col2, columns=['تاریخ'])\n",
        "df_col2['تاریخ'] = df_col2['تاریخ'].fillna(0)\n",
        "\n",
        "df_col3 = pd.DataFrame(col3, columns=['عنوان'])\n",
        "df_col3['عنوان'] = df_col3['عنوان'].fillna(0)\n",
        "\n",
        "df_col4 = pd.DataFrame(col4, columns=['تعداد حاضر'])\n",
        "df_col4['تعداد حاضر'] = df_col4['تعداد حاضر'].fillna(0)\n",
        "\n",
        "df_col5 = pd.DataFrame(col5, columns=['پيمانكار/ ستاد'])\n",
        "df_col5['پيمانكار/ ستاد'] = df_col5['پيمانكار/ ستاد'].fillna(0)\n",
        "\n",
        "\n",
        "# Joingong the data frames as column and create the main data frame\n",
        "full_file_humanResource = pd.concat([df_col1, df_col2, df_col3, df_col4, df_col5], axis=1, join='inner')\n",
        "full_file_humanResource"
      ],
      "metadata": {
        "colab": {
          "base_uri": "https://localhost:8080/",
          "height": 424
        },
        "id": "8hLS9dL_QKdC",
        "outputId": "86ba5948-a88f-4722-f079-16682d43f9b8"
      },
      "execution_count": 423,
      "outputs": [
        {
          "output_type": "execute_result",
          "data": {
            "text/plain": [
              "      رديف      تاریخ              عنوان تعداد حاضر پيمانكار/ ستاد\n",
              "0      1.0 2023-05-22         مدیر پروژه          0           ستاد\n",
              "1      2.0 2023-05-22      سرپرست کارگاه          1           ستاد\n",
              "2      3.0 2023-05-22    سرپرست دفتر فنی          0           ستاد\n",
              "3      4.0 2023-05-22           دفتر فنی          3           ستاد\n",
              "4      5.0 2023-05-22        سرپرست اجرا          1           ستاد\n",
              "...    ...        ...                ...        ...            ...\n",
              "1507   0.0 2023-08-01             جوشکار          1           ستاد\n",
              "1508   0.0 2023-08-01   استادکار تأسیسات          1           ستاد\n",
              "1509   0.0 2023-08-01        آرماتور بند          5           اجرا\n",
              "1510   0.0 2023-08-01      سند بلاست كار          3           اجرا\n",
              "1511   0.0 2023-08-01      نصاب تاوركرين          3           ستاد\n",
              "\n",
              "[1512 rows x 5 columns]"
            ],
            "text/html": [
              "\n",
              "\n",
              "  <div id=\"df-fed10c55-f2b8-40d4-ba1b-850a29105fa3\">\n",
              "    <div class=\"colab-df-container\">\n",
              "      <div>\n",
              "<style scoped>\n",
              "    .dataframe tbody tr th:only-of-type {\n",
              "        vertical-align: middle;\n",
              "    }\n",
              "\n",
              "    .dataframe tbody tr th {\n",
              "        vertical-align: top;\n",
              "    }\n",
              "\n",
              "    .dataframe thead th {\n",
              "        text-align: right;\n",
              "    }\n",
              "</style>\n",
              "<table border=\"1\" class=\"dataframe\">\n",
              "  <thead>\n",
              "    <tr style=\"text-align: right;\">\n",
              "      <th></th>\n",
              "      <th>رديف</th>\n",
              "      <th>تاریخ</th>\n",
              "      <th>عنوان</th>\n",
              "      <th>تعداد حاضر</th>\n",
              "      <th>پيمانكار/ ستاد</th>\n",
              "    </tr>\n",
              "  </thead>\n",
              "  <tbody>\n",
              "    <tr>\n",
              "      <th>0</th>\n",
              "      <td>1.0</td>\n",
              "      <td>2023-05-22</td>\n",
              "      <td>مدیر پروژه</td>\n",
              "      <td>0</td>\n",
              "      <td>ستاد</td>\n",
              "    </tr>\n",
              "    <tr>\n",
              "      <th>1</th>\n",
              "      <td>2.0</td>\n",
              "      <td>2023-05-22</td>\n",
              "      <td>سرپرست کارگاه</td>\n",
              "      <td>1</td>\n",
              "      <td>ستاد</td>\n",
              "    </tr>\n",
              "    <tr>\n",
              "      <th>2</th>\n",
              "      <td>3.0</td>\n",
              "      <td>2023-05-22</td>\n",
              "      <td>سرپرست دفتر فنی</td>\n",
              "      <td>0</td>\n",
              "      <td>ستاد</td>\n",
              "    </tr>\n",
              "    <tr>\n",
              "      <th>3</th>\n",
              "      <td>4.0</td>\n",
              "      <td>2023-05-22</td>\n",
              "      <td>دفتر فنی</td>\n",
              "      <td>3</td>\n",
              "      <td>ستاد</td>\n",
              "    </tr>\n",
              "    <tr>\n",
              "      <th>4</th>\n",
              "      <td>5.0</td>\n",
              "      <td>2023-05-22</td>\n",
              "      <td>سرپرست اجرا</td>\n",
              "      <td>1</td>\n",
              "      <td>ستاد</td>\n",
              "    </tr>\n",
              "    <tr>\n",
              "      <th>...</th>\n",
              "      <td>...</td>\n",
              "      <td>...</td>\n",
              "      <td>...</td>\n",
              "      <td>...</td>\n",
              "      <td>...</td>\n",
              "    </tr>\n",
              "    <tr>\n",
              "      <th>1507</th>\n",
              "      <td>0.0</td>\n",
              "      <td>2023-08-01</td>\n",
              "      <td>جوشکار</td>\n",
              "      <td>1</td>\n",
              "      <td>ستاد</td>\n",
              "    </tr>\n",
              "    <tr>\n",
              "      <th>1508</th>\n",
              "      <td>0.0</td>\n",
              "      <td>2023-08-01</td>\n",
              "      <td>استادکار تأسیسات</td>\n",
              "      <td>1</td>\n",
              "      <td>ستاد</td>\n",
              "    </tr>\n",
              "    <tr>\n",
              "      <th>1509</th>\n",
              "      <td>0.0</td>\n",
              "      <td>2023-08-01</td>\n",
              "      <td>آرماتور بند</td>\n",
              "      <td>5</td>\n",
              "      <td>اجرا</td>\n",
              "    </tr>\n",
              "    <tr>\n",
              "      <th>1510</th>\n",
              "      <td>0.0</td>\n",
              "      <td>2023-08-01</td>\n",
              "      <td>سند بلاست كار</td>\n",
              "      <td>3</td>\n",
              "      <td>اجرا</td>\n",
              "    </tr>\n",
              "    <tr>\n",
              "      <th>1511</th>\n",
              "      <td>0.0</td>\n",
              "      <td>2023-08-01</td>\n",
              "      <td>نصاب تاوركرين</td>\n",
              "      <td>3</td>\n",
              "      <td>ستاد</td>\n",
              "    </tr>\n",
              "  </tbody>\n",
              "</table>\n",
              "<p>1512 rows × 5 columns</p>\n",
              "</div>\n",
              "      <button class=\"colab-df-convert\" onclick=\"convertToInteractive('df-fed10c55-f2b8-40d4-ba1b-850a29105fa3')\"\n",
              "              title=\"Convert this dataframe to an interactive table.\"\n",
              "              style=\"display:none;\">\n",
              "\n",
              "  <svg xmlns=\"http://www.w3.org/2000/svg\" height=\"24px\"viewBox=\"0 0 24 24\"\n",
              "       width=\"24px\">\n",
              "    <path d=\"M0 0h24v24H0V0z\" fill=\"none\"/>\n",
              "    <path d=\"M18.56 5.44l.94 2.06.94-2.06 2.06-.94-2.06-.94-.94-2.06-.94 2.06-2.06.94zm-11 1L8.5 8.5l.94-2.06 2.06-.94-2.06-.94L8.5 2.5l-.94 2.06-2.06.94zm10 10l.94 2.06.94-2.06 2.06-.94-2.06-.94-.94-2.06-.94 2.06-2.06.94z\"/><path d=\"M17.41 7.96l-1.37-1.37c-.4-.4-.92-.59-1.43-.59-.52 0-1.04.2-1.43.59L10.3 9.45l-7.72 7.72c-.78.78-.78 2.05 0 2.83L4 21.41c.39.39.9.59 1.41.59.51 0 1.02-.2 1.41-.59l7.78-7.78 2.81-2.81c.8-.78.8-2.07 0-2.86zM5.41 20L4 18.59l7.72-7.72 1.47 1.35L5.41 20z\"/>\n",
              "  </svg>\n",
              "      </button>\n",
              "\n",
              "\n",
              "\n",
              "    <div id=\"df-d2d53137-934d-4668-bf7c-df3d37cfa407\">\n",
              "      <button class=\"colab-df-quickchart\" onclick=\"quickchart('df-d2d53137-934d-4668-bf7c-df3d37cfa407')\"\n",
              "              title=\"Suggest charts.\"\n",
              "              style=\"display:none;\">\n",
              "\n",
              "<svg xmlns=\"http://www.w3.org/2000/svg\" height=\"24px\"viewBox=\"0 0 24 24\"\n",
              "     width=\"24px\">\n",
              "    <g>\n",
              "        <path d=\"M19 3H5c-1.1 0-2 .9-2 2v14c0 1.1.9 2 2 2h14c1.1 0 2-.9 2-2V5c0-1.1-.9-2-2-2zM9 17H7v-7h2v7zm4 0h-2V7h2v10zm4 0h-2v-4h2v4z\"/>\n",
              "    </g>\n",
              "</svg>\n",
              "      </button>\n",
              "    </div>\n",
              "\n",
              "<style>\n",
              "  .colab-df-quickchart {\n",
              "    background-color: #E8F0FE;\n",
              "    border: none;\n",
              "    border-radius: 50%;\n",
              "    cursor: pointer;\n",
              "    display: none;\n",
              "    fill: #1967D2;\n",
              "    height: 32px;\n",
              "    padding: 0 0 0 0;\n",
              "    width: 32px;\n",
              "  }\n",
              "\n",
              "  .colab-df-quickchart:hover {\n",
              "    background-color: #E2EBFA;\n",
              "    box-shadow: 0px 1px 2px rgba(60, 64, 67, 0.3), 0px 1px 3px 1px rgba(60, 64, 67, 0.15);\n",
              "    fill: #174EA6;\n",
              "  }\n",
              "\n",
              "  [theme=dark] .colab-df-quickchart {\n",
              "    background-color: #3B4455;\n",
              "    fill: #D2E3FC;\n",
              "  }\n",
              "\n",
              "  [theme=dark] .colab-df-quickchart:hover {\n",
              "    background-color: #434B5C;\n",
              "    box-shadow: 0px 1px 3px 1px rgba(0, 0, 0, 0.15);\n",
              "    filter: drop-shadow(0px 1px 2px rgba(0, 0, 0, 0.3));\n",
              "    fill: #FFFFFF;\n",
              "  }\n",
              "</style>\n",
              "\n",
              "    <script>\n",
              "      async function quickchart(key) {\n",
              "        const containerElement = document.querySelector('#' + key);\n",
              "        const charts = await google.colab.kernel.invokeFunction(\n",
              "            'suggestCharts', [key], {});\n",
              "      }\n",
              "    </script>\n",
              "\n",
              "      <script>\n",
              "\n",
              "function displayQuickchartButton(domScope) {\n",
              "  let quickchartButtonEl =\n",
              "    domScope.querySelector('#df-d2d53137-934d-4668-bf7c-df3d37cfa407 button.colab-df-quickchart');\n",
              "  quickchartButtonEl.style.display =\n",
              "    google.colab.kernel.accessAllowed ? 'block' : 'none';\n",
              "}\n",
              "\n",
              "        displayQuickchartButton(document);\n",
              "      </script>\n",
              "      <style>\n",
              "    .colab-df-container {\n",
              "      display:flex;\n",
              "      flex-wrap:wrap;\n",
              "      gap: 12px;\n",
              "    }\n",
              "\n",
              "    .colab-df-convert {\n",
              "      background-color: #E8F0FE;\n",
              "      border: none;\n",
              "      border-radius: 50%;\n",
              "      cursor: pointer;\n",
              "      display: none;\n",
              "      fill: #1967D2;\n",
              "      height: 32px;\n",
              "      padding: 0 0 0 0;\n",
              "      width: 32px;\n",
              "    }\n",
              "\n",
              "    .colab-df-convert:hover {\n",
              "      background-color: #E2EBFA;\n",
              "      box-shadow: 0px 1px 2px rgba(60, 64, 67, 0.3), 0px 1px 3px 1px rgba(60, 64, 67, 0.15);\n",
              "      fill: #174EA6;\n",
              "    }\n",
              "\n",
              "    [theme=dark] .colab-df-convert {\n",
              "      background-color: #3B4455;\n",
              "      fill: #D2E3FC;\n",
              "    }\n",
              "\n",
              "    [theme=dark] .colab-df-convert:hover {\n",
              "      background-color: #434B5C;\n",
              "      box-shadow: 0px 1px 3px 1px rgba(0, 0, 0, 0.15);\n",
              "      filter: drop-shadow(0px 1px 2px rgba(0, 0, 0, 0.3));\n",
              "      fill: #FFFFFF;\n",
              "    }\n",
              "  </style>\n",
              "\n",
              "      <script>\n",
              "        const buttonEl =\n",
              "          document.querySelector('#df-fed10c55-f2b8-40d4-ba1b-850a29105fa3 button.colab-df-convert');\n",
              "        buttonEl.style.display =\n",
              "          google.colab.kernel.accessAllowed ? 'block' : 'none';\n",
              "\n",
              "        async function convertToInteractive(key) {\n",
              "          const element = document.querySelector('#df-fed10c55-f2b8-40d4-ba1b-850a29105fa3');\n",
              "          const dataTable =\n",
              "            await google.colab.kernel.invokeFunction('convertToInteractive',\n",
              "                                                     [key], {});\n",
              "          if (!dataTable) return;\n",
              "\n",
              "          const docLinkHtml = 'Like what you see? Visit the ' +\n",
              "            '<a target=\"_blank\" href=https://colab.research.google.com/notebooks/data_table.ipynb>data table notebook</a>'\n",
              "            + ' to learn more about interactive tables.';\n",
              "          element.innerHTML = '';\n",
              "          dataTable['output_type'] = 'display_data';\n",
              "          await google.colab.output.renderOutput(dataTable, element);\n",
              "          const docLink = document.createElement('div');\n",
              "          docLink.innerHTML = docLinkHtml;\n",
              "          element.appendChild(docLink);\n",
              "        }\n",
              "      </script>\n",
              "    </div>\n",
              "  </div>\n"
            ]
          },
          "metadata": {},
          "execution_count": 423
        }
      ]
    },
    {
      "cell_type": "markdown",
      "source": [
        "##### Human Resource Staffs"
      ],
      "metadata": {
        "id": "ts06kimsfk2V"
      }
    },
    {
      "cell_type": "code",
      "source": [
        "# Inserting the report sheet 2\n",
        "ws_des2 = wb['2']\n",
        "print(f\"Total number of rows: {ws_des2.max_row} \\nTotal number columns: {ws_des2.max_column}\")"
      ],
      "metadata": {
        "colab": {
          "base_uri": "https://localhost:8080/"
        },
        "id": "DuLp3gHEgfLD",
        "outputId": "45634aad-2d29-4a7f-dfae-b5fb7023e385"
      },
      "execution_count": 424,
      "outputs": [
        {
          "output_type": "stream",
          "name": "stdout",
          "text": [
            "Total number of rows: 39 \n",
            "Total number columns: 36\n"
          ]
        }
      ]
    },
    {
      "cell_type": "code",
      "source": [
        "# Choose what we want to selectm from humanresource\n",
        "humanResource = full_file_humanResource['عنوان'].loc[(full_file_humanResource['تاریخ'] == date)]\n",
        "count = full_file_humanResource['تعداد حاضر'].loc[(full_file_humanResource['تاریخ'] == date)]"
      ],
      "metadata": {
        "id": "VKN6d8NQQKaa"
      },
      "execution_count": 425,
      "outputs": []
    },
    {
      "cell_type": "code",
      "source": [
        "# Intitate a for loop to fill data in excel file\n",
        "count_row = 6\n",
        "row_pos = 6\n",
        "col_pos_1 = \"c\"\n",
        "col_pos_2 = \"o\"\n",
        "col_pos_3 = \"aa\"\n",
        "for i in humanResource:\n",
        "  if(count_row <= 15):\n",
        "    ws_des2[col_pos_1 + str(row_pos)].value = i\n",
        "    row_pos += row_pos\n",
        "  if (count_row > 15 & count_row <= 15):\n",
        "    row_pos = 6\n",
        "    ws_des2[col_pos_2 + str(row_pos)].value = i\n",
        "    row_pos += row_pos\n",
        "  if (count_row > 15 & count_row <= 15):\n",
        "    row_pos = 6\n",
        "    ws_des2[col_pos_3 + str(row_pos)].value = i\n",
        "    row_pos += row_pos\n",
        "\n",
        "  count_row += count_row\n",
        "\n",
        "print(ws_des2[\"aa11\"].value)\n",
        "\n",
        "wb.save('دیتا بیس گزارشات روزانه (3).xlsx')"
      ],
      "metadata": {
        "colab": {
          "base_uri": "https://localhost:8080/"
        },
        "id": "4aPiPSDEdu1b",
        "outputId": "4718afe9-9790-43ec-f9e5-48a56d35679a"
      },
      "execution_count": 432,
      "outputs": [
        {
          "output_type": "stream",
          "name": "stdout",
          "text": [
            "None\n"
          ]
        }
      ]
    },
    {
      "cell_type": "markdown",
      "source": [
        "##### Machinery Staffs"
      ],
      "metadata": {
        "id": "cSDasp0GfjE9"
      }
    },
    {
      "cell_type": "code",
      "source": [
        "# Insert the sheet\n",
        "ws_machinery = wb['ماشین آلات']\n",
        "print(f\"Total number of rows: {ws_machinery.max_row} \\nTotal number columns: {ws_machinery.max_column}\")"
      ],
      "metadata": {
        "colab": {
          "base_uri": "https://localhost:8080/"
        },
        "id": "t8f_f0JefjDA",
        "outputId": "31063e42-0943-48a3-a43b-d2a1fb1c097d"
      },
      "execution_count": 427,
      "outputs": [
        {
          "output_type": "stream",
          "name": "stdout",
          "text": [
            "Total number of rows: 718 \n",
            "Total number columns: 7\n"
          ]
        }
      ]
    },
    {
      "cell_type": "code",
      "source": [
        "## Extract the columns\n",
        "col1 = [ws_machinery.cell(row=i, column=1).value\n",
        "                  for i in range(2, ws_machinery.max_row+1)]\n",
        "\n",
        "col2 = [ws_machinery.cell(row=i, column=2).value\n",
        "                  for i in range(2, ws_machinery.max_row+1)]\n",
        "\n",
        "col3 = [ws_machinery.cell(row=i, column=3).value\n",
        "                  for i in range(2, ws_machinery.max_row+1)]\n",
        "\n",
        "col4 = [ws_machinery.cell(row=i, column=4).value\n",
        "                  for i in range(2, ws_machinery.max_row+1)]\n",
        "\n",
        "col5 = [ws_machinery.cell(row=i, column=5).value\n",
        "                  for i in range(2, ws_machinery.max_row+1)]\n",
        "\n",
        "col6 = [ws_machinery.cell(row=i, column=6).value\n",
        "                  for i in range(2, ws_machinery.max_row+1)]\n",
        "\n",
        "# col7 = [ws_machinery.cell(row=i, column=7).value\n",
        "#                   for i in range(2, ws_machinery.max_row+1)]\n",
        "\n",
        "\n",
        "## Make them dataframe\n",
        "df_col1 = pd.DataFrame(col1, columns=['رديف'])\n",
        "df_col1['رديف'] = df_col1['رديف'].fillna(0)\n",
        "\n",
        "df_col2 = pd.DataFrame(col2, columns=['تاریخ'])\n",
        "df_col2['تاریخ'] = df_col2['تاریخ'].fillna(0)\n",
        "\n",
        "df_col3 = pd.DataFrame(col3, columns=['نوع'])\n",
        "df_col3['نوع'] = df_col3['نوع'].fillna(0)\n",
        "\n",
        "df_col4 = pd.DataFrame(col4, columns=['فعال'])\n",
        "df_col4['فعال'] = df_col4['فعال'].fillna(0)\n",
        "\n",
        "df_col5 = pd.DataFrame(col5, columns=['غیر فعال'])\n",
        "df_col5['غیر فعال'] = df_col5['غیر فعال'].fillna(0)\n",
        "\n",
        "df_col6 = pd.DataFrame(col6, columns=['درحال تعمیر'])\n",
        "df_col6['درحال تعمیر'] = df_col6['درحال تعمیر'].fillna(0)\n",
        "\n",
        "# df_col7 = pd.DataFrame(col7, columns=['تعداد کل'])\n",
        "# df_col7['تعداد کل'] = df_col7['تعداد کل'].fillna(0)\n",
        "\n",
        "\n",
        "# Joingong the data frames as column and create the main data frame\n",
        "full_file_machinery = pd.concat([df_col1, df_col2, df_col3, df_col4, df_col5, df_col6], axis=1, join='inner')\n",
        "full_file_machinery"
      ],
      "metadata": {
        "colab": {
          "base_uri": "https://localhost:8080/",
          "height": 424
        },
        "id": "20HKavkSfjAX",
        "outputId": "f44e35b3-8500-4c05-af28-b897f065703e"
      },
      "execution_count": 428,
      "outputs": [
        {
          "output_type": "execute_result",
          "data": {
            "text/plain": [
              "     رديف      تاریخ                 نوع فعال غیر فعال  درحال تعمیر\n",
              "0     1.0 2023-05-22               سواری    2        0            0\n",
              "1     2.0 2023-05-22  دوربین نقشه برداری    1        0            0\n",
              "2     1.0 2023-05-23               سواری    2        0            0\n",
              "3     2.0 2023-05-23  دوربین نقشه برداری    1        0            0\n",
              "4     1.0 2023-05-24               سواری    2        0            0\n",
              "..    ...        ...                 ...  ...      ...          ...\n",
              "712   0.0 2023-08-01       خم كن آرماتور    0        2            0\n",
              "713   0.0 2023-08-01             رزوه زن    0        1            0\n",
              "714   0.0 2023-08-01              بالابر    0        1            0\n",
              "715   0.0 2023-08-01          دستگاه جوش    0        1            0\n",
              "716   0.0 2023-08-01        ديزل ژنراتور    0        2            0\n",
              "\n",
              "[717 rows x 6 columns]"
            ],
            "text/html": [
              "\n",
              "\n",
              "  <div id=\"df-5b137b68-d75e-4ea4-a770-a7d4c53b3e18\">\n",
              "    <div class=\"colab-df-container\">\n",
              "      <div>\n",
              "<style scoped>\n",
              "    .dataframe tbody tr th:only-of-type {\n",
              "        vertical-align: middle;\n",
              "    }\n",
              "\n",
              "    .dataframe tbody tr th {\n",
              "        vertical-align: top;\n",
              "    }\n",
              "\n",
              "    .dataframe thead th {\n",
              "        text-align: right;\n",
              "    }\n",
              "</style>\n",
              "<table border=\"1\" class=\"dataframe\">\n",
              "  <thead>\n",
              "    <tr style=\"text-align: right;\">\n",
              "      <th></th>\n",
              "      <th>رديف</th>\n",
              "      <th>تاریخ</th>\n",
              "      <th>نوع</th>\n",
              "      <th>فعال</th>\n",
              "      <th>غیر فعال</th>\n",
              "      <th>درحال تعمیر</th>\n",
              "    </tr>\n",
              "  </thead>\n",
              "  <tbody>\n",
              "    <tr>\n",
              "      <th>0</th>\n",
              "      <td>1.0</td>\n",
              "      <td>2023-05-22</td>\n",
              "      <td>سواری</td>\n",
              "      <td>2</td>\n",
              "      <td>0</td>\n",
              "      <td>0</td>\n",
              "    </tr>\n",
              "    <tr>\n",
              "      <th>1</th>\n",
              "      <td>2.0</td>\n",
              "      <td>2023-05-22</td>\n",
              "      <td>دوربین نقشه برداری</td>\n",
              "      <td>1</td>\n",
              "      <td>0</td>\n",
              "      <td>0</td>\n",
              "    </tr>\n",
              "    <tr>\n",
              "      <th>2</th>\n",
              "      <td>1.0</td>\n",
              "      <td>2023-05-23</td>\n",
              "      <td>سواری</td>\n",
              "      <td>2</td>\n",
              "      <td>0</td>\n",
              "      <td>0</td>\n",
              "    </tr>\n",
              "    <tr>\n",
              "      <th>3</th>\n",
              "      <td>2.0</td>\n",
              "      <td>2023-05-23</td>\n",
              "      <td>دوربین نقشه برداری</td>\n",
              "      <td>1</td>\n",
              "      <td>0</td>\n",
              "      <td>0</td>\n",
              "    </tr>\n",
              "    <tr>\n",
              "      <th>4</th>\n",
              "      <td>1.0</td>\n",
              "      <td>2023-05-24</td>\n",
              "      <td>سواری</td>\n",
              "      <td>2</td>\n",
              "      <td>0</td>\n",
              "      <td>0</td>\n",
              "    </tr>\n",
              "    <tr>\n",
              "      <th>...</th>\n",
              "      <td>...</td>\n",
              "      <td>...</td>\n",
              "      <td>...</td>\n",
              "      <td>...</td>\n",
              "      <td>...</td>\n",
              "      <td>...</td>\n",
              "    </tr>\n",
              "    <tr>\n",
              "      <th>712</th>\n",
              "      <td>0.0</td>\n",
              "      <td>2023-08-01</td>\n",
              "      <td>خم كن آرماتور</td>\n",
              "      <td>0</td>\n",
              "      <td>2</td>\n",
              "      <td>0</td>\n",
              "    </tr>\n",
              "    <tr>\n",
              "      <th>713</th>\n",
              "      <td>0.0</td>\n",
              "      <td>2023-08-01</td>\n",
              "      <td>رزوه زن</td>\n",
              "      <td>0</td>\n",
              "      <td>1</td>\n",
              "      <td>0</td>\n",
              "    </tr>\n",
              "    <tr>\n",
              "      <th>714</th>\n",
              "      <td>0.0</td>\n",
              "      <td>2023-08-01</td>\n",
              "      <td>بالابر</td>\n",
              "      <td>0</td>\n",
              "      <td>1</td>\n",
              "      <td>0</td>\n",
              "    </tr>\n",
              "    <tr>\n",
              "      <th>715</th>\n",
              "      <td>0.0</td>\n",
              "      <td>2023-08-01</td>\n",
              "      <td>دستگاه جوش</td>\n",
              "      <td>0</td>\n",
              "      <td>1</td>\n",
              "      <td>0</td>\n",
              "    </tr>\n",
              "    <tr>\n",
              "      <th>716</th>\n",
              "      <td>0.0</td>\n",
              "      <td>2023-08-01</td>\n",
              "      <td>ديزل ژنراتور</td>\n",
              "      <td>0</td>\n",
              "      <td>2</td>\n",
              "      <td>0</td>\n",
              "    </tr>\n",
              "  </tbody>\n",
              "</table>\n",
              "<p>717 rows × 6 columns</p>\n",
              "</div>\n",
              "      <button class=\"colab-df-convert\" onclick=\"convertToInteractive('df-5b137b68-d75e-4ea4-a770-a7d4c53b3e18')\"\n",
              "              title=\"Convert this dataframe to an interactive table.\"\n",
              "              style=\"display:none;\">\n",
              "\n",
              "  <svg xmlns=\"http://www.w3.org/2000/svg\" height=\"24px\"viewBox=\"0 0 24 24\"\n",
              "       width=\"24px\">\n",
              "    <path d=\"M0 0h24v24H0V0z\" fill=\"none\"/>\n",
              "    <path d=\"M18.56 5.44l.94 2.06.94-2.06 2.06-.94-2.06-.94-.94-2.06-.94 2.06-2.06.94zm-11 1L8.5 8.5l.94-2.06 2.06-.94-2.06-.94L8.5 2.5l-.94 2.06-2.06.94zm10 10l.94 2.06.94-2.06 2.06-.94-2.06-.94-.94-2.06-.94 2.06-2.06.94z\"/><path d=\"M17.41 7.96l-1.37-1.37c-.4-.4-.92-.59-1.43-.59-.52 0-1.04.2-1.43.59L10.3 9.45l-7.72 7.72c-.78.78-.78 2.05 0 2.83L4 21.41c.39.39.9.59 1.41.59.51 0 1.02-.2 1.41-.59l7.78-7.78 2.81-2.81c.8-.78.8-2.07 0-2.86zM5.41 20L4 18.59l7.72-7.72 1.47 1.35L5.41 20z\"/>\n",
              "  </svg>\n",
              "      </button>\n",
              "\n",
              "\n",
              "\n",
              "    <div id=\"df-e6520008-9814-4ba5-b06f-7356314bcf2e\">\n",
              "      <button class=\"colab-df-quickchart\" onclick=\"quickchart('df-e6520008-9814-4ba5-b06f-7356314bcf2e')\"\n",
              "              title=\"Suggest charts.\"\n",
              "              style=\"display:none;\">\n",
              "\n",
              "<svg xmlns=\"http://www.w3.org/2000/svg\" height=\"24px\"viewBox=\"0 0 24 24\"\n",
              "     width=\"24px\">\n",
              "    <g>\n",
              "        <path d=\"M19 3H5c-1.1 0-2 .9-2 2v14c0 1.1.9 2 2 2h14c1.1 0 2-.9 2-2V5c0-1.1-.9-2-2-2zM9 17H7v-7h2v7zm4 0h-2V7h2v10zm4 0h-2v-4h2v4z\"/>\n",
              "    </g>\n",
              "</svg>\n",
              "      </button>\n",
              "    </div>\n",
              "\n",
              "<style>\n",
              "  .colab-df-quickchart {\n",
              "    background-color: #E8F0FE;\n",
              "    border: none;\n",
              "    border-radius: 50%;\n",
              "    cursor: pointer;\n",
              "    display: none;\n",
              "    fill: #1967D2;\n",
              "    height: 32px;\n",
              "    padding: 0 0 0 0;\n",
              "    width: 32px;\n",
              "  }\n",
              "\n",
              "  .colab-df-quickchart:hover {\n",
              "    background-color: #E2EBFA;\n",
              "    box-shadow: 0px 1px 2px rgba(60, 64, 67, 0.3), 0px 1px 3px 1px rgba(60, 64, 67, 0.15);\n",
              "    fill: #174EA6;\n",
              "  }\n",
              "\n",
              "  [theme=dark] .colab-df-quickchart {\n",
              "    background-color: #3B4455;\n",
              "    fill: #D2E3FC;\n",
              "  }\n",
              "\n",
              "  [theme=dark] .colab-df-quickchart:hover {\n",
              "    background-color: #434B5C;\n",
              "    box-shadow: 0px 1px 3px 1px rgba(0, 0, 0, 0.15);\n",
              "    filter: drop-shadow(0px 1px 2px rgba(0, 0, 0, 0.3));\n",
              "    fill: #FFFFFF;\n",
              "  }\n",
              "</style>\n",
              "\n",
              "    <script>\n",
              "      async function quickchart(key) {\n",
              "        const containerElement = document.querySelector('#' + key);\n",
              "        const charts = await google.colab.kernel.invokeFunction(\n",
              "            'suggestCharts', [key], {});\n",
              "      }\n",
              "    </script>\n",
              "\n",
              "      <script>\n",
              "\n",
              "function displayQuickchartButton(domScope) {\n",
              "  let quickchartButtonEl =\n",
              "    domScope.querySelector('#df-e6520008-9814-4ba5-b06f-7356314bcf2e button.colab-df-quickchart');\n",
              "  quickchartButtonEl.style.display =\n",
              "    google.colab.kernel.accessAllowed ? 'block' : 'none';\n",
              "}\n",
              "\n",
              "        displayQuickchartButton(document);\n",
              "      </script>\n",
              "      <style>\n",
              "    .colab-df-container {\n",
              "      display:flex;\n",
              "      flex-wrap:wrap;\n",
              "      gap: 12px;\n",
              "    }\n",
              "\n",
              "    .colab-df-convert {\n",
              "      background-color: #E8F0FE;\n",
              "      border: none;\n",
              "      border-radius: 50%;\n",
              "      cursor: pointer;\n",
              "      display: none;\n",
              "      fill: #1967D2;\n",
              "      height: 32px;\n",
              "      padding: 0 0 0 0;\n",
              "      width: 32px;\n",
              "    }\n",
              "\n",
              "    .colab-df-convert:hover {\n",
              "      background-color: #E2EBFA;\n",
              "      box-shadow: 0px 1px 2px rgba(60, 64, 67, 0.3), 0px 1px 3px 1px rgba(60, 64, 67, 0.15);\n",
              "      fill: #174EA6;\n",
              "    }\n",
              "\n",
              "    [theme=dark] .colab-df-convert {\n",
              "      background-color: #3B4455;\n",
              "      fill: #D2E3FC;\n",
              "    }\n",
              "\n",
              "    [theme=dark] .colab-df-convert:hover {\n",
              "      background-color: #434B5C;\n",
              "      box-shadow: 0px 1px 3px 1px rgba(0, 0, 0, 0.15);\n",
              "      filter: drop-shadow(0px 1px 2px rgba(0, 0, 0, 0.3));\n",
              "      fill: #FFFFFF;\n",
              "    }\n",
              "  </style>\n",
              "\n",
              "      <script>\n",
              "        const buttonEl =\n",
              "          document.querySelector('#df-5b137b68-d75e-4ea4-a770-a7d4c53b3e18 button.colab-df-convert');\n",
              "        buttonEl.style.display =\n",
              "          google.colab.kernel.accessAllowed ? 'block' : 'none';\n",
              "\n",
              "        async function convertToInteractive(key) {\n",
              "          const element = document.querySelector('#df-5b137b68-d75e-4ea4-a770-a7d4c53b3e18');\n",
              "          const dataTable =\n",
              "            await google.colab.kernel.invokeFunction('convertToInteractive',\n",
              "                                                     [key], {});\n",
              "          if (!dataTable) return;\n",
              "\n",
              "          const docLinkHtml = 'Like what you see? Visit the ' +\n",
              "            '<a target=\"_blank\" href=https://colab.research.google.com/notebooks/data_table.ipynb>data table notebook</a>'\n",
              "            + ' to learn more about interactive tables.';\n",
              "          element.innerHTML = '';\n",
              "          dataTable['output_type'] = 'display_data';\n",
              "          await google.colab.output.renderOutput(dataTable, element);\n",
              "          const docLink = document.createElement('div');\n",
              "          docLink.innerHTML = docLinkHtml;\n",
              "          element.appendChild(docLink);\n",
              "        }\n",
              "      </script>\n",
              "    </div>\n",
              "  </div>\n"
            ]
          },
          "metadata": {},
          "execution_count": 428
        }
      ]
    },
    {
      "cell_type": "code",
      "source": [
        "ws_des2[\"af3\"].value = date\n",
        "wb.save('دیتا بیس گزارشات روزانه (3).xlsx')"
      ],
      "metadata": {
        "id": "Op3HC2QswY3X"
      },
      "execution_count": 434,
      "outputs": []
    },
    {
      "cell_type": "code",
      "source": [
        "# Choose what we want to selectm from humanresource\n",
        "title = full_file_machinery['نوع'].loc[(full_file_machinery['تاریخ'] == date)]\n",
        "acctive = full_file_machinery['فعال'].loc[(full_file_machinery['تاریخ'] == date)]\n",
        "inAcctive = full_file_machinery['غیر فعال'].loc[(full_file_machinery['تاریخ'] == date)]\n",
        "repair = full_file_machinery['درحال تعمیر'].loc[(full_file_machinery['تاریخ'] == date)]\n",
        "repair"
      ],
      "metadata": {
        "colab": {
          "base_uri": "https://localhost:8080/"
        },
        "id": "q7tTU967fi9e",
        "outputId": "1c8889b3-a931-48c9-971c-8e1337d46f63"
      },
      "execution_count": 429,
      "outputs": [
        {
          "output_type": "execute_result",
          "data": {
            "text/plain": [
              "630    0\n",
              "631    0\n",
              "632    0\n",
              "633    0\n",
              "634    0\n",
              "635    0\n",
              "636    0\n",
              "637    0\n",
              "638    0\n",
              "639    0\n",
              "640    0\n",
              "641    0\n",
              "642    0\n",
              "Name: درحال تعمیر, dtype: int64"
            ]
          },
          "metadata": {},
          "execution_count": 429
        }
      ]
    },
    {
      "cell_type": "code",
      "source": [
        "# Intitate a for loop to fill data in excel file\n",
        "count_row = 6\n",
        "row_pos = 19\n",
        "col_pos_1 = \"c\"\n",
        "col_pos_2 = \"u\"\n",
        "col_pos_state_left_1 = \"k\"\n",
        "col_pos_state_left_2 = \"m\"\n",
        "col_pos_state_left_3 = \"p\"\n",
        "col_pos_state_right_1 = \"ac\"\n",
        "col_pos_state_right_2 = \"ae\"\n",
        "col_pos_state_right_3 = \"ah\"\n",
        "\n",
        "for i in title:\n",
        "  if(count_row <= 15):\n",
        "    ws_des2[col_pos_1 + str(row_pos)].value = i\n",
        "    row_pos += row_pos\n",
        "  if (count_row > 15 & count_row <= 15):\n",
        "    row_pos = 6\n",
        "    ws_des2[col_pos_2 + str(row_pos)].value = i\n",
        "    row_pos += row_pos\n",
        "  if (count_row > 15 & count_row <= 15):\n",
        "    row_pos = 6\n",
        "    ws_des2[col_pos_3 + str(row_pos)].value = i\n",
        "    row_pos += row_pos\n",
        "\n",
        "  count_row += count_row\n",
        "\n",
        "ws_des2[\"aa10\"].value\n",
        "\n",
        "wb.save('دیتا بیس گزارشات روزانه (3).xlsx')"
      ],
      "metadata": {
        "colab": {
          "base_uri": "https://localhost:8080/",
          "height": 245
        },
        "id": "uRhXk3lSqQtD",
        "outputId": "a397f0ac-cf82-48d6-f38d-5dceb29fc123"
      },
      "execution_count": 430,
      "outputs": [
        {
          "output_type": "error",
          "ename": "AttributeError",
          "evalue": "ignored",
          "traceback": [
            "\u001b[0;31m---------------------------------------------------------------------------\u001b[0m",
            "\u001b[0;31mAttributeError\u001b[0m                            Traceback (most recent call last)",
            "\u001b[0;32m<ipython-input-430-f3f914248d92>\u001b[0m in \u001b[0;36m<cell line: 13>\u001b[0;34m()\u001b[0m\n\u001b[1;32m     17\u001b[0m   \u001b[0;32mif\u001b[0m \u001b[0;34m(\u001b[0m\u001b[0mcount_row\u001b[0m \u001b[0;34m>\u001b[0m \u001b[0;36m15\u001b[0m \u001b[0;34m&\u001b[0m \u001b[0mcount_row\u001b[0m \u001b[0;34m<=\u001b[0m \u001b[0;36m15\u001b[0m\u001b[0;34m)\u001b[0m\u001b[0;34m:\u001b[0m\u001b[0;34m\u001b[0m\u001b[0;34m\u001b[0m\u001b[0m\n\u001b[1;32m     18\u001b[0m     \u001b[0mrow_pos\u001b[0m \u001b[0;34m=\u001b[0m \u001b[0;36m6\u001b[0m\u001b[0;34m\u001b[0m\u001b[0;34m\u001b[0m\u001b[0m\n\u001b[0;32m---> 19\u001b[0;31m     \u001b[0mws_des2\u001b[0m\u001b[0;34m[\u001b[0m\u001b[0mcol_pos_2\u001b[0m \u001b[0;34m+\u001b[0m \u001b[0mstr\u001b[0m\u001b[0;34m(\u001b[0m\u001b[0mrow_pos\u001b[0m\u001b[0;34m)\u001b[0m\u001b[0;34m]\u001b[0m\u001b[0;34m.\u001b[0m\u001b[0mvalue\u001b[0m \u001b[0;34m=\u001b[0m \u001b[0mi\u001b[0m\u001b[0;34m\u001b[0m\u001b[0;34m\u001b[0m\u001b[0m\n\u001b[0m\u001b[1;32m     20\u001b[0m     \u001b[0mrow_pos\u001b[0m \u001b[0;34m+=\u001b[0m \u001b[0mrow_pos\u001b[0m\u001b[0;34m\u001b[0m\u001b[0;34m\u001b[0m\u001b[0m\n\u001b[1;32m     21\u001b[0m   \u001b[0;32mif\u001b[0m \u001b[0;34m(\u001b[0m\u001b[0mcount_row\u001b[0m \u001b[0;34m>\u001b[0m \u001b[0;36m15\u001b[0m \u001b[0;34m&\u001b[0m \u001b[0mcount_row\u001b[0m \u001b[0;34m<=\u001b[0m \u001b[0;36m15\u001b[0m\u001b[0;34m)\u001b[0m\u001b[0;34m:\u001b[0m\u001b[0;34m\u001b[0m\u001b[0;34m\u001b[0m\u001b[0m\n",
            "\u001b[0;31mAttributeError\u001b[0m: 'MergedCell' object attribute 'value' is read-only"
          ]
        }
      ]
    },
    {
      "cell_type": "code",
      "source": [],
      "metadata": {
        "id": "0b1bPTSLsjs_"
      },
      "execution_count": null,
      "outputs": []
    }
  ]
}