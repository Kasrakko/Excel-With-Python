{
  "nbformat": 4,
  "nbformat_minor": 0,
  "metadata": {
    "colab": {
      "provenance": [],
      "collapsed_sections": [
        "UPzH4cvDLGig",
        "DFdi5EuBJH6U",
        "uEfA1n7a48D-",
        "tG3PkY-NEeDR"
      ],
      "authorship_tag": "ABX9TyP17CsOoCyStmuLGhVSOeUE",
      "include_colab_link": true
    },
    "kernelspec": {
      "name": "python3",
      "display_name": "Python 3"
    },
    "language_info": {
      "name": "python"
    }
  },
  "cells": [
    {
      "cell_type": "markdown",
      "metadata": {
        "id": "view-in-github",
        "colab_type": "text"
      },
      "source": [
        "<a href=\"https://colab.research.google.com/github/Kasrakko/Excel-With-Python/blob/main/Excel_with_python.ipynb\" target=\"_parent\"><img src=\"https://colab.research.google.com/assets/colab-badge.svg\" alt=\"Open In Colab\"/></a>"
      ]
    },
    {
      "cell_type": "markdown",
      "source": [
        "# workimg with excel in python"
      ],
      "metadata": {
        "id": "MSCq4d28sxzg"
      }
    },
    {
      "cell_type": "markdown",
      "source": [
        "## Import the librarries"
      ],
      "metadata": {
        "id": "dkFszdivA7vi"
      }
    },
    {
      "cell_type": "code",
      "source": [
        "import openpyxl as pyx\n",
        "import numpy as np\n",
        "import pandas as pd\n",
        "import matplotlib.pyplot as plt"
      ],
      "metadata": {
        "id": "8MH8f2ivAqBd"
      },
      "execution_count": 99,
      "outputs": []
    },
    {
      "cell_type": "markdown",
      "source": [
        "## Open the file"
      ],
      "metadata": {
        "id": "5mTDwItXCAjz"
      }
    },
    {
      "cell_type": "code",
      "source": [
        "wb = pyx.load_workbook('دیتا بیس گزارشات روزانه (3).xlsx')"
      ],
      "metadata": {
        "id": "avV4AD7XCE3b"
      },
      "execution_count": 100,
      "outputs": []
    },
    {
      "cell_type": "markdown",
      "source": [
        "## Select the sheet that we want"
      ],
      "metadata": {
        "id": "0JfgkOY9CE1a"
      }
    },
    {
      "cell_type": "code",
      "source": [
        "ws = wb['عملیات اجرایی']"
      ],
      "metadata": {
        "id": "g6vF2DFmCEy6"
      },
      "execution_count": 101,
      "outputs": []
    },
    {
      "cell_type": "markdown",
      "source": [
        "## Basic things for start"
      ],
      "metadata": {
        "id": "eyTn6PhOCEwK"
      }
    },
    {
      "cell_type": "markdown",
      "source": [
        "### Count the rows and columns"
      ],
      "metadata": {
        "id": "AoZfkzUVC9yq"
      }
    },
    {
      "cell_type": "code",
      "source": [
        "print(f\"Total number of rows: {ws.max_row} \\nTotal number columns: {ws.max_column}\")"
      ],
      "metadata": {
        "colab": {
          "base_uri": "https://localhost:8080/"
        },
        "id": "k8MQB4DnFyXy",
        "outputId": "b1b9bf17-5d06-4b30-a758-011bde4953c4"
      },
      "execution_count": 102,
      "outputs": [
        {
          "output_type": "stream",
          "name": "stdout",
          "text": [
            "Total number of rows: 216 \n",
            "Total number columns: 10\n"
          ]
        }
      ]
    },
    {
      "cell_type": "markdown",
      "source": [
        "### Reading data from a cell"
      ],
      "metadata": {
        "id": "eqcHgNJjDmp6"
      }
    },
    {
      "cell_type": "markdown",
      "source": [
        "#### The value of exact cell read be like this"
      ],
      "metadata": {
        "id": "uJnQCSyeDl7q"
      }
    },
    {
      "cell_type": "code",
      "source": [
        "print(f\"The value of cell A1 is: {ws['f2'].value}\")"
      ],
      "metadata": {
        "colab": {
          "base_uri": "https://localhost:8080/"
        },
        "id": "pDzQhlrZC9uF",
        "outputId": "8f4e06f3-8f77-46f7-e30d-07b8a8ea2739"
      },
      "execution_count": 103,
      "outputs": [
        {
          "output_type": "stream",
          "name": "stdout",
          "text": [
            "The value of cell A1 is: اجرای عملیات تخریب دیوار ضلع جنوبی کارگاه\n"
          ]
        }
      ]
    },
    {
      "cell_type": "markdown",
      "source": [
        "#### Reading data from multiple cells"
      ],
      "metadata": {
        "id": "vTOS6vYrC9py"
      }
    },
    {
      "cell_type": "code",
      "source": [
        "values = [ws.cell(row=1, column=i).value\n",
        "          for i in range(1, ws.max_column+1)]\n",
        "print(values)"
      ],
      "metadata": {
        "colab": {
          "base_uri": "https://localhost:8080/"
        },
        "id": "NWGVz1E4C9nr",
        "outputId": "05c208c3-1aea-49ec-b0da-685ceb88ab88"
      },
      "execution_count": 104,
      "outputs": [
        {
          "output_type": "stream",
          "name": "stdout",
          "text": [
            "['ردیف', 'تاریخ', 'شماره گزارش', 'موضوع', 'تراز', 'شرح', 'حجم كل', 'مقدار', 'واحد', 'کد WBS']\n"
          ]
        }
      ]
    },
    {
      "cell_type": "code",
      "source": [
        "myColumnValues = [ws.cell(row=i, column=6).value\n",
        "                  for i in range(2, ws.max_row+1)]\n",
        "# if we want to get data in specefic area we could write any array in `range()`\n",
        "# you can uncomment the below code and see the resualt\n",
        "# for i in myColumnValues:\n",
        "#   print (i)\n"
      ],
      "metadata": {
        "id": "jYyWfMAXC9i6"
      },
      "execution_count": 105,
      "outputs": []
    },
    {
      "cell_type": "markdown",
      "source": [
        "#### Reading data from any range of columns"
      ],
      "metadata": {
        "id": "UPzH4cvDLGig"
      }
    },
    {
      "cell_type": "code",
      "source": [
        "my_report_list = list()\n",
        "data_list = list()\n",
        "\n",
        "for value in ws.iter_rows(\n",
        "    min_row=1, max_row=11, min_col=1, max_col=6,\n",
        "    values_only=True):\n",
        "  my_report_list.append(value)\n",
        "\n",
        "for i in my_report_list[1:]:\n",
        "  data_list.append(i)\n",
        "#data_list\n",
        "\n",
        "## Make it numPy array, so we can get shape of its\n",
        "data_list = np.array(data_list)\n",
        "data_list.shape\n"
      ],
      "metadata": {
        "colab": {
          "base_uri": "https://localhost:8080/"
        },
        "id": "QyIYGB4BLGga",
        "outputId": "297d2b32-8632-4e80-88ea-46c025bf9173"
      },
      "execution_count": 106,
      "outputs": [
        {
          "output_type": "execute_result",
          "data": {
            "text/plain": [
              "(10, 6)"
            ]
          },
          "metadata": {},
          "execution_count": 106
        }
      ]
    },
    {
      "cell_type": "markdown",
      "source": [
        "### Writing into excel file"
      ],
      "metadata": {
        "id": "aGzr4wE-CEcC"
      }
    },
    {
      "cell_type": "markdown",
      "source": [
        "#### `ws['Your cell location'] = 'The data that U want to add'`"
      ],
      "metadata": {
        "id": "T5SXLcDuCEaS"
      }
    },
    {
      "cell_type": "markdown",
      "source": [
        "#### `wb.save('ديتابيس گزارس روزانه.xlsx')`"
      ],
      "metadata": {
        "id": "MLPOYnPJh5v1"
      }
    },
    {
      "cell_type": "markdown",
      "source": [
        "`row_position = 173`\n",
        "`col_position = 7`\n",
        "\n",
        "`total_value = ((ws.cell(row=row_position, column=col_position).value)*`\n",
        "              ` (ws.cell(row=row_position, column=col_position+1).value))`\n",
        "\n",
        "`ws.cell(row=173,column=11).value=total_value`\n",
        "`wb.save('دیتا بیس گزارشات روزانه (3).xlsx')`"
      ],
      "metadata": {
        "id": "EK24ekWmje7Q"
      }
    },
    {
      "cell_type": "markdown",
      "source": [
        "#### Remmember that if u want to edit the file while you had id open somewhere you will reach to an eroor"
      ],
      "metadata": {
        "id": "y4ynzg2Ph5t3"
      }
    },
    {
      "cell_type": "markdown",
      "source": [
        "### Make our file to a Dataframe to change it with Pandas and felixiable to changing"
      ],
      "metadata": {
        "id": "E3mRgLPri3M7"
      }
    },
    {
      "cell_type": "markdown",
      "source": [
        "#### Make all the column a list()"
      ],
      "metadata": {
        "id": "CAuca1Yr-UGh"
      }
    },
    {
      "cell_type": "code",
      "source": [
        "col1 = [ws.cell(row=i, column=1).value\n",
        "                  for i in range(2, ws.max_row+1)]\n",
        "# len(col1)\n",
        "\n",
        "col2 = [ws.cell(row=i, column=2).value\n",
        "                  for i in range(2, ws.max_row+1)]\n",
        "# len(col2)\n",
        "\n",
        "col3 = [ws.cell(row=i, column=3).value\n",
        "                  for i in range(2, ws.max_row+1)]\n",
        "# len(col3)\n",
        "\n",
        "col4 = [ws.cell(row=i, column=4).value\n",
        "                  for i in range(2, ws.max_row+1)]\n",
        "# len(col4)\n",
        "\n",
        "col5 = [ws.cell(row=i, column=5).value\n",
        "                  for i in range(2, ws.max_row+1)]\n",
        "# len(col5)\n",
        "\n",
        "col6 = [ws.cell(row=i, column=6).value\n",
        "                  for i in range(2, ws.max_row+1)]\n",
        "# len(col6)\n",
        "\n",
        "col8 = [ws.cell(row=i, column=8).value\n",
        "                  for i in range(2, ws.max_row+1)]\n",
        "# len(col8)\n",
        "\n",
        "col9 = [ws.cell(row=i, column=9).value\n",
        "                  for i in range(2, ws.max_row+1)]\n",
        "# len(col9)\n",
        "\n",
        "col10 = [ws.cell(row=i, column=10).value\n",
        "                  for i in range(2, ws.max_row+1)]\n",
        "# len(col10)\n",
        "\n",
        "col7 = [ws.cell(row=i, column=7).value\n",
        "                  for i in range(2, ws.max_row+1)]\n",
        "# len(col7)"
      ],
      "metadata": {
        "id": "aqnISln7BW_s"
      },
      "execution_count": 107,
      "outputs": []
    },
    {
      "cell_type": "markdown",
      "source": [
        "#### Now make all of the lists to a datagram"
      ],
      "metadata": {
        "id": "nlmbjeeL-clB"
      }
    },
    {
      "cell_type": "code",
      "source": [
        "# We have to convert the list to data frame to work with pandas and make the null values to zero\n",
        "# Do it for ALL Column\n",
        "\n",
        "df_col1 = pd.DataFrame(col1, columns=['رديف'])\n",
        "df_col1['رديف'] = df_col1['رديف'].fillna(0)\n",
        "\n",
        "df_col2 = pd.DataFrame(col2, columns=['تاريخ'])\n",
        "df_col2['تاريخ'] = df_col2['تاريخ'].fillna(0)\n",
        "\n",
        "\n",
        "df_col3 = pd.DataFrame(col3, columns=['شماره گزارش'])\n",
        "df_col3['شماره گزارش'] = df_col3['شماره گزارش'].fillna(0)\n",
        "\n",
        "\n",
        "df_col4 = pd.DataFrame(col4, columns=['موضوع'])\n",
        "df_col4['موضوع'] = df_col4['موضوع'].fillna(0)\n",
        "\n",
        "\n",
        "df_col5 = pd.DataFrame(col5, columns=['تراز'])\n",
        "df_col5['تراز'] = df_col5['تراز'].fillna(0)\n",
        "\n",
        "\n",
        "df_col6 = pd.DataFrame(col6, columns=['شرح'])\n",
        "df_col6['شرح'] = df_col6['شرح'].fillna(0)\n",
        "\n",
        "\n",
        "df_col7 = pd.DataFrame(col7, columns=['حجم كل'])\n",
        "df_col7['حجم كل'] = df_col7['حجم كل'].fillna(0)\n",
        "\n",
        "\n",
        "\n",
        "df_col8 = pd.DataFrame(col8, columns=['مقدار'])\n",
        "df_col8['مقدار'] = df_col8['مقدار'].fillna(0)\n",
        "\n",
        "df_col9 = df = pd.DataFrame(col9, columns=['واحد'])\n",
        "df_col9['واحد'] = df_col9['واحد'].fillna(0)\n",
        "\n",
        "df_col10 = df = pd.DataFrame(col10, columns=['كد WBS'])\n",
        "df_col10['كد WBS'] = df_col10['كد WBS'].fillna(0)\n",
        "\n",
        "print (df_col1['رديف'][171])\n",
        "print (df_col2['تاريخ'][171])\n",
        "print (df_col3['شماره گزارش'][171])\n",
        "print (df_col4['موضوع'][171])\n",
        "print (df_col5['تراز'][171])\n",
        "print (df_col6['شرح'][171])\n",
        "print (df_col7['حجم كل'][171])\n",
        "print (df_col8['مقدار'][171])\n",
        "print (df_col9['واحد'][171])\n",
        "print (df_col10['كد WBS'][171])"
      ],
      "metadata": {
        "colab": {
          "base_uri": "https://localhost:8080/"
        },
        "id": "SSLaSlHXRWlK",
        "outputId": "76820a30-cd1c-4721-ffdd-e309953c86c1"
      },
      "execution_count": 108,
      "outputs": [
        {
          "output_type": "stream",
          "name": "stdout",
          "text": [
            "0.0\n",
            "2023-07-19 00:00:00\n",
            "85\n",
            "0\n",
            "0\n",
            "خم و برش آرماتور هاي ستون ها و ديوار هاي حائل\n",
            "43.249\n",
            "2.478\n",
            "تن\n",
            "0\n"
          ]
        }
      ]
    },
    {
      "cell_type": "markdown",
      "source": [
        "#### Join all of the Daaframes and make a table"
      ],
      "metadata": {
        "id": "Zydn3WA2-kg5"
      }
    },
    {
      "cell_type": "code",
      "source": [
        "# Joingong the data frames as column and create the main data frame\n",
        "full_file = pd.concat([df_col1, df_col2, df_col3, df_col4, df_col5, df_col6, df_col7, df_col8, df_col9, df_col10], axis=1, join='inner')\n",
        "full_file[:10]"
      ],
      "metadata": {
        "colab": {
          "base_uri": "https://localhost:8080/",
          "height": 363
        },
        "id": "gsPU2dJBWilr",
        "outputId": "2359f205-2ec7-4c0b-caa0-018b2cec8cba"
      },
      "execution_count": 109,
      "outputs": [
        {
          "output_type": "execute_result",
          "data": {
            "text/plain": [
              "   رديف      تاريخ  شماره گزارش  موضوع  تراز  \\\n",
              "0   1.0 2023-05-22           27      0     0   \n",
              "1   2.0 2023-05-22           27      0     0   \n",
              "2   1.0 2023-05-23           28      0     0   \n",
              "3   2.0 2023-05-23           28      0     0   \n",
              "4   3.0 2023-05-23           28      0     0   \n",
              "5   1.0 2023-05-24           29      0     0   \n",
              "6   2.0 2023-05-24           29      0     0   \n",
              "7   3.0 2023-05-24           29      0     0   \n",
              "8   1.0 2023-05-25           30      0     0   \n",
              "9   2.0 2023-05-25           30      0     0   \n",
              "\n",
              "                                                 شرح  حجم كل  مقدار واحد  \\\n",
              "0          اجرای عملیات تخریب دیوار ضلع جنوبی کارگاه     0.0    0.0    0   \n",
              "1  اجرایی زیرسازی و پایه گذاری حصار کارگاه ضلع جنوبی     0.0    0.0    0   \n",
              "2          اجرای عملیات تخریب دیوار ضلع جنوبی کارگاه     0.0    0.0    0   \n",
              "3  اجرایی زیرسازی و پایه گذاری حصار کارگاه ضلع جنوبی     0.0    0.0    0   \n",
              "4                         تعمیر و اصلاحیه برق کارگاه     0.0    0.0    0   \n",
              "5  اجرای عملیات پایه گذاری صفحه ستون کانکس های قس...     0.0    0.0    0   \n",
              "6             اجرای عملیات رگلاژ سطح کانکس های اداری     0.0    0.0    0   \n",
              "7  نقاشی و باز سازی ساختمان موجود در کارگاه (اسکا...     0.0    0.0    0   \n",
              "8  اجرای عملیات پایه گذاری صفحه ستون کانکس های قس...     0.0    0.0    0   \n",
              "9             اجرای عملیات رگلاژ سطح کانکس های اداری     0.0    0.0    0   \n",
              "\n",
              "  كد WBS  \n",
              "0  1.4.1  \n",
              "1  1.4.1  \n",
              "2  1.4.1  \n",
              "3  1.4.1  \n",
              "4  1.4.1  \n",
              "5  1.4.1  \n",
              "6  1.4.1  \n",
              "7  1.4.1  \n",
              "8  1.4.1  \n",
              "9  1.4.1  "
            ],
            "text/html": [
              "\n",
              "\n",
              "  <div id=\"df-d72518e6-c606-4cb7-9b07-6a961bb18dce\">\n",
              "    <div class=\"colab-df-container\">\n",
              "      <div>\n",
              "<style scoped>\n",
              "    .dataframe tbody tr th:only-of-type {\n",
              "        vertical-align: middle;\n",
              "    }\n",
              "\n",
              "    .dataframe tbody tr th {\n",
              "        vertical-align: top;\n",
              "    }\n",
              "\n",
              "    .dataframe thead th {\n",
              "        text-align: right;\n",
              "    }\n",
              "</style>\n",
              "<table border=\"1\" class=\"dataframe\">\n",
              "  <thead>\n",
              "    <tr style=\"text-align: right;\">\n",
              "      <th></th>\n",
              "      <th>رديف</th>\n",
              "      <th>تاريخ</th>\n",
              "      <th>شماره گزارش</th>\n",
              "      <th>موضوع</th>\n",
              "      <th>تراز</th>\n",
              "      <th>شرح</th>\n",
              "      <th>حجم كل</th>\n",
              "      <th>مقدار</th>\n",
              "      <th>واحد</th>\n",
              "      <th>كد WBS</th>\n",
              "    </tr>\n",
              "  </thead>\n",
              "  <tbody>\n",
              "    <tr>\n",
              "      <th>0</th>\n",
              "      <td>1.0</td>\n",
              "      <td>2023-05-22</td>\n",
              "      <td>27</td>\n",
              "      <td>0</td>\n",
              "      <td>0</td>\n",
              "      <td>اجرای عملیات تخریب دیوار ضلع جنوبی کارگاه</td>\n",
              "      <td>0.0</td>\n",
              "      <td>0.0</td>\n",
              "      <td>0</td>\n",
              "      <td>1.4.1</td>\n",
              "    </tr>\n",
              "    <tr>\n",
              "      <th>1</th>\n",
              "      <td>2.0</td>\n",
              "      <td>2023-05-22</td>\n",
              "      <td>27</td>\n",
              "      <td>0</td>\n",
              "      <td>0</td>\n",
              "      <td>اجرایی زیرسازی و پایه گذاری حصار کارگاه ضلع جنوبی</td>\n",
              "      <td>0.0</td>\n",
              "      <td>0.0</td>\n",
              "      <td>0</td>\n",
              "      <td>1.4.1</td>\n",
              "    </tr>\n",
              "    <tr>\n",
              "      <th>2</th>\n",
              "      <td>1.0</td>\n",
              "      <td>2023-05-23</td>\n",
              "      <td>28</td>\n",
              "      <td>0</td>\n",
              "      <td>0</td>\n",
              "      <td>اجرای عملیات تخریب دیوار ضلع جنوبی کارگاه</td>\n",
              "      <td>0.0</td>\n",
              "      <td>0.0</td>\n",
              "      <td>0</td>\n",
              "      <td>1.4.1</td>\n",
              "    </tr>\n",
              "    <tr>\n",
              "      <th>3</th>\n",
              "      <td>2.0</td>\n",
              "      <td>2023-05-23</td>\n",
              "      <td>28</td>\n",
              "      <td>0</td>\n",
              "      <td>0</td>\n",
              "      <td>اجرایی زیرسازی و پایه گذاری حصار کارگاه ضلع جنوبی</td>\n",
              "      <td>0.0</td>\n",
              "      <td>0.0</td>\n",
              "      <td>0</td>\n",
              "      <td>1.4.1</td>\n",
              "    </tr>\n",
              "    <tr>\n",
              "      <th>4</th>\n",
              "      <td>3.0</td>\n",
              "      <td>2023-05-23</td>\n",
              "      <td>28</td>\n",
              "      <td>0</td>\n",
              "      <td>0</td>\n",
              "      <td>تعمیر و اصلاحیه برق کارگاه</td>\n",
              "      <td>0.0</td>\n",
              "      <td>0.0</td>\n",
              "      <td>0</td>\n",
              "      <td>1.4.1</td>\n",
              "    </tr>\n",
              "    <tr>\n",
              "      <th>5</th>\n",
              "      <td>1.0</td>\n",
              "      <td>2023-05-24</td>\n",
              "      <td>29</td>\n",
              "      <td>0</td>\n",
              "      <td>0</td>\n",
              "      <td>اجرای عملیات پایه گذاری صفحه ستون کانکس های قس...</td>\n",
              "      <td>0.0</td>\n",
              "      <td>0.0</td>\n",
              "      <td>0</td>\n",
              "      <td>1.4.1</td>\n",
              "    </tr>\n",
              "    <tr>\n",
              "      <th>6</th>\n",
              "      <td>2.0</td>\n",
              "      <td>2023-05-24</td>\n",
              "      <td>29</td>\n",
              "      <td>0</td>\n",
              "      <td>0</td>\n",
              "      <td>اجرای عملیات رگلاژ سطح کانکس های اداری</td>\n",
              "      <td>0.0</td>\n",
              "      <td>0.0</td>\n",
              "      <td>0</td>\n",
              "      <td>1.4.1</td>\n",
              "    </tr>\n",
              "    <tr>\n",
              "      <th>7</th>\n",
              "      <td>3.0</td>\n",
              "      <td>2023-05-24</td>\n",
              "      <td>29</td>\n",
              "      <td>0</td>\n",
              "      <td>0</td>\n",
              "      <td>نقاشی و باز سازی ساختمان موجود در کارگاه (اسکا...</td>\n",
              "      <td>0.0</td>\n",
              "      <td>0.0</td>\n",
              "      <td>0</td>\n",
              "      <td>1.4.1</td>\n",
              "    </tr>\n",
              "    <tr>\n",
              "      <th>8</th>\n",
              "      <td>1.0</td>\n",
              "      <td>2023-05-25</td>\n",
              "      <td>30</td>\n",
              "      <td>0</td>\n",
              "      <td>0</td>\n",
              "      <td>اجرای عملیات پایه گذاری صفحه ستون کانکس های قس...</td>\n",
              "      <td>0.0</td>\n",
              "      <td>0.0</td>\n",
              "      <td>0</td>\n",
              "      <td>1.4.1</td>\n",
              "    </tr>\n",
              "    <tr>\n",
              "      <th>9</th>\n",
              "      <td>2.0</td>\n",
              "      <td>2023-05-25</td>\n",
              "      <td>30</td>\n",
              "      <td>0</td>\n",
              "      <td>0</td>\n",
              "      <td>اجرای عملیات رگلاژ سطح کانکس های اداری</td>\n",
              "      <td>0.0</td>\n",
              "      <td>0.0</td>\n",
              "      <td>0</td>\n",
              "      <td>1.4.1</td>\n",
              "    </tr>\n",
              "  </tbody>\n",
              "</table>\n",
              "</div>\n",
              "      <button class=\"colab-df-convert\" onclick=\"convertToInteractive('df-d72518e6-c606-4cb7-9b07-6a961bb18dce')\"\n",
              "              title=\"Convert this dataframe to an interactive table.\"\n",
              "              style=\"display:none;\">\n",
              "\n",
              "  <svg xmlns=\"http://www.w3.org/2000/svg\" height=\"24px\"viewBox=\"0 0 24 24\"\n",
              "       width=\"24px\">\n",
              "    <path d=\"M0 0h24v24H0V0z\" fill=\"none\"/>\n",
              "    <path d=\"M18.56 5.44l.94 2.06.94-2.06 2.06-.94-2.06-.94-.94-2.06-.94 2.06-2.06.94zm-11 1L8.5 8.5l.94-2.06 2.06-.94-2.06-.94L8.5 2.5l-.94 2.06-2.06.94zm10 10l.94 2.06.94-2.06 2.06-.94-2.06-.94-.94-2.06-.94 2.06-2.06.94z\"/><path d=\"M17.41 7.96l-1.37-1.37c-.4-.4-.92-.59-1.43-.59-.52 0-1.04.2-1.43.59L10.3 9.45l-7.72 7.72c-.78.78-.78 2.05 0 2.83L4 21.41c.39.39.9.59 1.41.59.51 0 1.02-.2 1.41-.59l7.78-7.78 2.81-2.81c.8-.78.8-2.07 0-2.86zM5.41 20L4 18.59l7.72-7.72 1.47 1.35L5.41 20z\"/>\n",
              "  </svg>\n",
              "      </button>\n",
              "\n",
              "\n",
              "\n",
              "    <div id=\"df-8858f72b-6864-405f-b97d-54bcb6783591\">\n",
              "      <button class=\"colab-df-quickchart\" onclick=\"quickchart('df-8858f72b-6864-405f-b97d-54bcb6783591')\"\n",
              "              title=\"Suggest charts.\"\n",
              "              style=\"display:none;\">\n",
              "\n",
              "<svg xmlns=\"http://www.w3.org/2000/svg\" height=\"24px\"viewBox=\"0 0 24 24\"\n",
              "     width=\"24px\">\n",
              "    <g>\n",
              "        <path d=\"M19 3H5c-1.1 0-2 .9-2 2v14c0 1.1.9 2 2 2h14c1.1 0 2-.9 2-2V5c0-1.1-.9-2-2-2zM9 17H7v-7h2v7zm4 0h-2V7h2v10zm4 0h-2v-4h2v4z\"/>\n",
              "    </g>\n",
              "</svg>\n",
              "      </button>\n",
              "    </div>\n",
              "\n",
              "<style>\n",
              "  .colab-df-quickchart {\n",
              "    background-color: #E8F0FE;\n",
              "    border: none;\n",
              "    border-radius: 50%;\n",
              "    cursor: pointer;\n",
              "    display: none;\n",
              "    fill: #1967D2;\n",
              "    height: 32px;\n",
              "    padding: 0 0 0 0;\n",
              "    width: 32px;\n",
              "  }\n",
              "\n",
              "  .colab-df-quickchart:hover {\n",
              "    background-color: #E2EBFA;\n",
              "    box-shadow: 0px 1px 2px rgba(60, 64, 67, 0.3), 0px 1px 3px 1px rgba(60, 64, 67, 0.15);\n",
              "    fill: #174EA6;\n",
              "  }\n",
              "\n",
              "  [theme=dark] .colab-df-quickchart {\n",
              "    background-color: #3B4455;\n",
              "    fill: #D2E3FC;\n",
              "  }\n",
              "\n",
              "  [theme=dark] .colab-df-quickchart:hover {\n",
              "    background-color: #434B5C;\n",
              "    box-shadow: 0px 1px 3px 1px rgba(0, 0, 0, 0.15);\n",
              "    filter: drop-shadow(0px 1px 2px rgba(0, 0, 0, 0.3));\n",
              "    fill: #FFFFFF;\n",
              "  }\n",
              "</style>\n",
              "\n",
              "    <script>\n",
              "      async function quickchart(key) {\n",
              "        const containerElement = document.querySelector('#' + key);\n",
              "        const charts = await google.colab.kernel.invokeFunction(\n",
              "            'suggestCharts', [key], {});\n",
              "      }\n",
              "    </script>\n",
              "\n",
              "      <script>\n",
              "\n",
              "function displayQuickchartButton(domScope) {\n",
              "  let quickchartButtonEl =\n",
              "    domScope.querySelector('#df-8858f72b-6864-405f-b97d-54bcb6783591 button.colab-df-quickchart');\n",
              "  quickchartButtonEl.style.display =\n",
              "    google.colab.kernel.accessAllowed ? 'block' : 'none';\n",
              "}\n",
              "\n",
              "        displayQuickchartButton(document);\n",
              "      </script>\n",
              "      <style>\n",
              "    .colab-df-container {\n",
              "      display:flex;\n",
              "      flex-wrap:wrap;\n",
              "      gap: 12px;\n",
              "    }\n",
              "\n",
              "    .colab-df-convert {\n",
              "      background-color: #E8F0FE;\n",
              "      border: none;\n",
              "      border-radius: 50%;\n",
              "      cursor: pointer;\n",
              "      display: none;\n",
              "      fill: #1967D2;\n",
              "      height: 32px;\n",
              "      padding: 0 0 0 0;\n",
              "      width: 32px;\n",
              "    }\n",
              "\n",
              "    .colab-df-convert:hover {\n",
              "      background-color: #E2EBFA;\n",
              "      box-shadow: 0px 1px 2px rgba(60, 64, 67, 0.3), 0px 1px 3px 1px rgba(60, 64, 67, 0.15);\n",
              "      fill: #174EA6;\n",
              "    }\n",
              "\n",
              "    [theme=dark] .colab-df-convert {\n",
              "      background-color: #3B4455;\n",
              "      fill: #D2E3FC;\n",
              "    }\n",
              "\n",
              "    [theme=dark] .colab-df-convert:hover {\n",
              "      background-color: #434B5C;\n",
              "      box-shadow: 0px 1px 3px 1px rgba(0, 0, 0, 0.15);\n",
              "      filter: drop-shadow(0px 1px 2px rgba(0, 0, 0, 0.3));\n",
              "      fill: #FFFFFF;\n",
              "    }\n",
              "  </style>\n",
              "\n",
              "      <script>\n",
              "        const buttonEl =\n",
              "          document.querySelector('#df-d72518e6-c606-4cb7-9b07-6a961bb18dce button.colab-df-convert');\n",
              "        buttonEl.style.display =\n",
              "          google.colab.kernel.accessAllowed ? 'block' : 'none';\n",
              "\n",
              "        async function convertToInteractive(key) {\n",
              "          const element = document.querySelector('#df-d72518e6-c606-4cb7-9b07-6a961bb18dce');\n",
              "          const dataTable =\n",
              "            await google.colab.kernel.invokeFunction('convertToInteractive',\n",
              "                                                     [key], {});\n",
              "          if (!dataTable) return;\n",
              "\n",
              "          const docLinkHtml = 'Like what you see? Visit the ' +\n",
              "            '<a target=\"_blank\" href=https://colab.research.google.com/notebooks/data_table.ipynb>data table notebook</a>'\n",
              "            + ' to learn more about interactive tables.';\n",
              "          element.innerHTML = '';\n",
              "          dataTable['output_type'] = 'display_data';\n",
              "          await google.colab.output.renderOutput(dataTable, element);\n",
              "          const docLink = document.createElement('div');\n",
              "          docLink.innerHTML = docLinkHtml;\n",
              "          element.appendChild(docLink);\n",
              "        }\n",
              "      </script>\n",
              "    </div>\n",
              "  </div>\n"
            ]
          },
          "metadata": {},
          "execution_count": 109
        }
      ]
    },
    {
      "cell_type": "markdown",
      "source": [
        "#### Add a column to table for total price"
      ],
      "metadata": {
        "id": "dTNn99JW-rqp"
      }
    },
    {
      "cell_type": "code",
      "source": [
        "# Adding new column as total calculator\n",
        "total = full_file['مقدار'] * full_file['حجم كل']\n",
        "full_file['جمع كل'] = total\n",
        "full_file[:10]\n",
        "#full_file['جمع كل'][171]"
      ],
      "metadata": {
        "colab": {
          "base_uri": "https://localhost:8080/",
          "height": 363
        },
        "id": "8QxCGaWcZr7l",
        "outputId": "ca5fa058-9e61-4b09-aefa-4802a7538997"
      },
      "execution_count": 110,
      "outputs": [
        {
          "output_type": "execute_result",
          "data": {
            "text/plain": [
              "   رديف      تاريخ  شماره گزارش  موضوع  تراز  \\\n",
              "0   1.0 2023-05-22           27      0     0   \n",
              "1   2.0 2023-05-22           27      0     0   \n",
              "2   1.0 2023-05-23           28      0     0   \n",
              "3   2.0 2023-05-23           28      0     0   \n",
              "4   3.0 2023-05-23           28      0     0   \n",
              "5   1.0 2023-05-24           29      0     0   \n",
              "6   2.0 2023-05-24           29      0     0   \n",
              "7   3.0 2023-05-24           29      0     0   \n",
              "8   1.0 2023-05-25           30      0     0   \n",
              "9   2.0 2023-05-25           30      0     0   \n",
              "\n",
              "                                                 شرح  حجم كل  مقدار واحد  \\\n",
              "0          اجرای عملیات تخریب دیوار ضلع جنوبی کارگاه     0.0    0.0    0   \n",
              "1  اجرایی زیرسازی و پایه گذاری حصار کارگاه ضلع جنوبی     0.0    0.0    0   \n",
              "2          اجرای عملیات تخریب دیوار ضلع جنوبی کارگاه     0.0    0.0    0   \n",
              "3  اجرایی زیرسازی و پایه گذاری حصار کارگاه ضلع جنوبی     0.0    0.0    0   \n",
              "4                         تعمیر و اصلاحیه برق کارگاه     0.0    0.0    0   \n",
              "5  اجرای عملیات پایه گذاری صفحه ستون کانکس های قس...     0.0    0.0    0   \n",
              "6             اجرای عملیات رگلاژ سطح کانکس های اداری     0.0    0.0    0   \n",
              "7  نقاشی و باز سازی ساختمان موجود در کارگاه (اسکا...     0.0    0.0    0   \n",
              "8  اجرای عملیات پایه گذاری صفحه ستون کانکس های قس...     0.0    0.0    0   \n",
              "9             اجرای عملیات رگلاژ سطح کانکس های اداری     0.0    0.0    0   \n",
              "\n",
              "  كد WBS  جمع كل  \n",
              "0  1.4.1     0.0  \n",
              "1  1.4.1     0.0  \n",
              "2  1.4.1     0.0  \n",
              "3  1.4.1     0.0  \n",
              "4  1.4.1     0.0  \n",
              "5  1.4.1     0.0  \n",
              "6  1.4.1     0.0  \n",
              "7  1.4.1     0.0  \n",
              "8  1.4.1     0.0  \n",
              "9  1.4.1     0.0  "
            ],
            "text/html": [
              "\n",
              "\n",
              "  <div id=\"df-01675423-31b4-4ccf-9a36-b8e56cebbc02\">\n",
              "    <div class=\"colab-df-container\">\n",
              "      <div>\n",
              "<style scoped>\n",
              "    .dataframe tbody tr th:only-of-type {\n",
              "        vertical-align: middle;\n",
              "    }\n",
              "\n",
              "    .dataframe tbody tr th {\n",
              "        vertical-align: top;\n",
              "    }\n",
              "\n",
              "    .dataframe thead th {\n",
              "        text-align: right;\n",
              "    }\n",
              "</style>\n",
              "<table border=\"1\" class=\"dataframe\">\n",
              "  <thead>\n",
              "    <tr style=\"text-align: right;\">\n",
              "      <th></th>\n",
              "      <th>رديف</th>\n",
              "      <th>تاريخ</th>\n",
              "      <th>شماره گزارش</th>\n",
              "      <th>موضوع</th>\n",
              "      <th>تراز</th>\n",
              "      <th>شرح</th>\n",
              "      <th>حجم كل</th>\n",
              "      <th>مقدار</th>\n",
              "      <th>واحد</th>\n",
              "      <th>كد WBS</th>\n",
              "      <th>جمع كل</th>\n",
              "    </tr>\n",
              "  </thead>\n",
              "  <tbody>\n",
              "    <tr>\n",
              "      <th>0</th>\n",
              "      <td>1.0</td>\n",
              "      <td>2023-05-22</td>\n",
              "      <td>27</td>\n",
              "      <td>0</td>\n",
              "      <td>0</td>\n",
              "      <td>اجرای عملیات تخریب دیوار ضلع جنوبی کارگاه</td>\n",
              "      <td>0.0</td>\n",
              "      <td>0.0</td>\n",
              "      <td>0</td>\n",
              "      <td>1.4.1</td>\n",
              "      <td>0.0</td>\n",
              "    </tr>\n",
              "    <tr>\n",
              "      <th>1</th>\n",
              "      <td>2.0</td>\n",
              "      <td>2023-05-22</td>\n",
              "      <td>27</td>\n",
              "      <td>0</td>\n",
              "      <td>0</td>\n",
              "      <td>اجرایی زیرسازی و پایه گذاری حصار کارگاه ضلع جنوبی</td>\n",
              "      <td>0.0</td>\n",
              "      <td>0.0</td>\n",
              "      <td>0</td>\n",
              "      <td>1.4.1</td>\n",
              "      <td>0.0</td>\n",
              "    </tr>\n",
              "    <tr>\n",
              "      <th>2</th>\n",
              "      <td>1.0</td>\n",
              "      <td>2023-05-23</td>\n",
              "      <td>28</td>\n",
              "      <td>0</td>\n",
              "      <td>0</td>\n",
              "      <td>اجرای عملیات تخریب دیوار ضلع جنوبی کارگاه</td>\n",
              "      <td>0.0</td>\n",
              "      <td>0.0</td>\n",
              "      <td>0</td>\n",
              "      <td>1.4.1</td>\n",
              "      <td>0.0</td>\n",
              "    </tr>\n",
              "    <tr>\n",
              "      <th>3</th>\n",
              "      <td>2.0</td>\n",
              "      <td>2023-05-23</td>\n",
              "      <td>28</td>\n",
              "      <td>0</td>\n",
              "      <td>0</td>\n",
              "      <td>اجرایی زیرسازی و پایه گذاری حصار کارگاه ضلع جنوبی</td>\n",
              "      <td>0.0</td>\n",
              "      <td>0.0</td>\n",
              "      <td>0</td>\n",
              "      <td>1.4.1</td>\n",
              "      <td>0.0</td>\n",
              "    </tr>\n",
              "    <tr>\n",
              "      <th>4</th>\n",
              "      <td>3.0</td>\n",
              "      <td>2023-05-23</td>\n",
              "      <td>28</td>\n",
              "      <td>0</td>\n",
              "      <td>0</td>\n",
              "      <td>تعمیر و اصلاحیه برق کارگاه</td>\n",
              "      <td>0.0</td>\n",
              "      <td>0.0</td>\n",
              "      <td>0</td>\n",
              "      <td>1.4.1</td>\n",
              "      <td>0.0</td>\n",
              "    </tr>\n",
              "    <tr>\n",
              "      <th>5</th>\n",
              "      <td>1.0</td>\n",
              "      <td>2023-05-24</td>\n",
              "      <td>29</td>\n",
              "      <td>0</td>\n",
              "      <td>0</td>\n",
              "      <td>اجرای عملیات پایه گذاری صفحه ستون کانکس های قس...</td>\n",
              "      <td>0.0</td>\n",
              "      <td>0.0</td>\n",
              "      <td>0</td>\n",
              "      <td>1.4.1</td>\n",
              "      <td>0.0</td>\n",
              "    </tr>\n",
              "    <tr>\n",
              "      <th>6</th>\n",
              "      <td>2.0</td>\n",
              "      <td>2023-05-24</td>\n",
              "      <td>29</td>\n",
              "      <td>0</td>\n",
              "      <td>0</td>\n",
              "      <td>اجرای عملیات رگلاژ سطح کانکس های اداری</td>\n",
              "      <td>0.0</td>\n",
              "      <td>0.0</td>\n",
              "      <td>0</td>\n",
              "      <td>1.4.1</td>\n",
              "      <td>0.0</td>\n",
              "    </tr>\n",
              "    <tr>\n",
              "      <th>7</th>\n",
              "      <td>3.0</td>\n",
              "      <td>2023-05-24</td>\n",
              "      <td>29</td>\n",
              "      <td>0</td>\n",
              "      <td>0</td>\n",
              "      <td>نقاشی و باز سازی ساختمان موجود در کارگاه (اسکا...</td>\n",
              "      <td>0.0</td>\n",
              "      <td>0.0</td>\n",
              "      <td>0</td>\n",
              "      <td>1.4.1</td>\n",
              "      <td>0.0</td>\n",
              "    </tr>\n",
              "    <tr>\n",
              "      <th>8</th>\n",
              "      <td>1.0</td>\n",
              "      <td>2023-05-25</td>\n",
              "      <td>30</td>\n",
              "      <td>0</td>\n",
              "      <td>0</td>\n",
              "      <td>اجرای عملیات پایه گذاری صفحه ستون کانکس های قس...</td>\n",
              "      <td>0.0</td>\n",
              "      <td>0.0</td>\n",
              "      <td>0</td>\n",
              "      <td>1.4.1</td>\n",
              "      <td>0.0</td>\n",
              "    </tr>\n",
              "    <tr>\n",
              "      <th>9</th>\n",
              "      <td>2.0</td>\n",
              "      <td>2023-05-25</td>\n",
              "      <td>30</td>\n",
              "      <td>0</td>\n",
              "      <td>0</td>\n",
              "      <td>اجرای عملیات رگلاژ سطح کانکس های اداری</td>\n",
              "      <td>0.0</td>\n",
              "      <td>0.0</td>\n",
              "      <td>0</td>\n",
              "      <td>1.4.1</td>\n",
              "      <td>0.0</td>\n",
              "    </tr>\n",
              "  </tbody>\n",
              "</table>\n",
              "</div>\n",
              "      <button class=\"colab-df-convert\" onclick=\"convertToInteractive('df-01675423-31b4-4ccf-9a36-b8e56cebbc02')\"\n",
              "              title=\"Convert this dataframe to an interactive table.\"\n",
              "              style=\"display:none;\">\n",
              "\n",
              "  <svg xmlns=\"http://www.w3.org/2000/svg\" height=\"24px\"viewBox=\"0 0 24 24\"\n",
              "       width=\"24px\">\n",
              "    <path d=\"M0 0h24v24H0V0z\" fill=\"none\"/>\n",
              "    <path d=\"M18.56 5.44l.94 2.06.94-2.06 2.06-.94-2.06-.94-.94-2.06-.94 2.06-2.06.94zm-11 1L8.5 8.5l.94-2.06 2.06-.94-2.06-.94L8.5 2.5l-.94 2.06-2.06.94zm10 10l.94 2.06.94-2.06 2.06-.94-2.06-.94-.94-2.06-.94 2.06-2.06.94z\"/><path d=\"M17.41 7.96l-1.37-1.37c-.4-.4-.92-.59-1.43-.59-.52 0-1.04.2-1.43.59L10.3 9.45l-7.72 7.72c-.78.78-.78 2.05 0 2.83L4 21.41c.39.39.9.59 1.41.59.51 0 1.02-.2 1.41-.59l7.78-7.78 2.81-2.81c.8-.78.8-2.07 0-2.86zM5.41 20L4 18.59l7.72-7.72 1.47 1.35L5.41 20z\"/>\n",
              "  </svg>\n",
              "      </button>\n",
              "\n",
              "\n",
              "\n",
              "    <div id=\"df-426143b6-3fcf-486e-a73f-5a9ee5edd901\">\n",
              "      <button class=\"colab-df-quickchart\" onclick=\"quickchart('df-426143b6-3fcf-486e-a73f-5a9ee5edd901')\"\n",
              "              title=\"Suggest charts.\"\n",
              "              style=\"display:none;\">\n",
              "\n",
              "<svg xmlns=\"http://www.w3.org/2000/svg\" height=\"24px\"viewBox=\"0 0 24 24\"\n",
              "     width=\"24px\">\n",
              "    <g>\n",
              "        <path d=\"M19 3H5c-1.1 0-2 .9-2 2v14c0 1.1.9 2 2 2h14c1.1 0 2-.9 2-2V5c0-1.1-.9-2-2-2zM9 17H7v-7h2v7zm4 0h-2V7h2v10zm4 0h-2v-4h2v4z\"/>\n",
              "    </g>\n",
              "</svg>\n",
              "      </button>\n",
              "    </div>\n",
              "\n",
              "<style>\n",
              "  .colab-df-quickchart {\n",
              "    background-color: #E8F0FE;\n",
              "    border: none;\n",
              "    border-radius: 50%;\n",
              "    cursor: pointer;\n",
              "    display: none;\n",
              "    fill: #1967D2;\n",
              "    height: 32px;\n",
              "    padding: 0 0 0 0;\n",
              "    width: 32px;\n",
              "  }\n",
              "\n",
              "  .colab-df-quickchart:hover {\n",
              "    background-color: #E2EBFA;\n",
              "    box-shadow: 0px 1px 2px rgba(60, 64, 67, 0.3), 0px 1px 3px 1px rgba(60, 64, 67, 0.15);\n",
              "    fill: #174EA6;\n",
              "  }\n",
              "\n",
              "  [theme=dark] .colab-df-quickchart {\n",
              "    background-color: #3B4455;\n",
              "    fill: #D2E3FC;\n",
              "  }\n",
              "\n",
              "  [theme=dark] .colab-df-quickchart:hover {\n",
              "    background-color: #434B5C;\n",
              "    box-shadow: 0px 1px 3px 1px rgba(0, 0, 0, 0.15);\n",
              "    filter: drop-shadow(0px 1px 2px rgba(0, 0, 0, 0.3));\n",
              "    fill: #FFFFFF;\n",
              "  }\n",
              "</style>\n",
              "\n",
              "    <script>\n",
              "      async function quickchart(key) {\n",
              "        const containerElement = document.querySelector('#' + key);\n",
              "        const charts = await google.colab.kernel.invokeFunction(\n",
              "            'suggestCharts', [key], {});\n",
              "      }\n",
              "    </script>\n",
              "\n",
              "      <script>\n",
              "\n",
              "function displayQuickchartButton(domScope) {\n",
              "  let quickchartButtonEl =\n",
              "    domScope.querySelector('#df-426143b6-3fcf-486e-a73f-5a9ee5edd901 button.colab-df-quickchart');\n",
              "  quickchartButtonEl.style.display =\n",
              "    google.colab.kernel.accessAllowed ? 'block' : 'none';\n",
              "}\n",
              "\n",
              "        displayQuickchartButton(document);\n",
              "      </script>\n",
              "      <style>\n",
              "    .colab-df-container {\n",
              "      display:flex;\n",
              "      flex-wrap:wrap;\n",
              "      gap: 12px;\n",
              "    }\n",
              "\n",
              "    .colab-df-convert {\n",
              "      background-color: #E8F0FE;\n",
              "      border: none;\n",
              "      border-radius: 50%;\n",
              "      cursor: pointer;\n",
              "      display: none;\n",
              "      fill: #1967D2;\n",
              "      height: 32px;\n",
              "      padding: 0 0 0 0;\n",
              "      width: 32px;\n",
              "    }\n",
              "\n",
              "    .colab-df-convert:hover {\n",
              "      background-color: #E2EBFA;\n",
              "      box-shadow: 0px 1px 2px rgba(60, 64, 67, 0.3), 0px 1px 3px 1px rgba(60, 64, 67, 0.15);\n",
              "      fill: #174EA6;\n",
              "    }\n",
              "\n",
              "    [theme=dark] .colab-df-convert {\n",
              "      background-color: #3B4455;\n",
              "      fill: #D2E3FC;\n",
              "    }\n",
              "\n",
              "    [theme=dark] .colab-df-convert:hover {\n",
              "      background-color: #434B5C;\n",
              "      box-shadow: 0px 1px 3px 1px rgba(0, 0, 0, 0.15);\n",
              "      filter: drop-shadow(0px 1px 2px rgba(0, 0, 0, 0.3));\n",
              "      fill: #FFFFFF;\n",
              "    }\n",
              "  </style>\n",
              "\n",
              "      <script>\n",
              "        const buttonEl =\n",
              "          document.querySelector('#df-01675423-31b4-4ccf-9a36-b8e56cebbc02 button.colab-df-convert');\n",
              "        buttonEl.style.display =\n",
              "          google.colab.kernel.accessAllowed ? 'block' : 'none';\n",
              "\n",
              "        async function convertToInteractive(key) {\n",
              "          const element = document.querySelector('#df-01675423-31b4-4ccf-9a36-b8e56cebbc02');\n",
              "          const dataTable =\n",
              "            await google.colab.kernel.invokeFunction('convertToInteractive',\n",
              "                                                     [key], {});\n",
              "          if (!dataTable) return;\n",
              "\n",
              "          const docLinkHtml = 'Like what you see? Visit the ' +\n",
              "            '<a target=\"_blank\" href=https://colab.research.google.com/notebooks/data_table.ipynb>data table notebook</a>'\n",
              "            + ' to learn more about interactive tables.';\n",
              "          element.innerHTML = '';\n",
              "          dataTable['output_type'] = 'display_data';\n",
              "          await google.colab.output.renderOutput(dataTable, element);\n",
              "          const docLink = document.createElement('div');\n",
              "          docLink.innerHTML = docLinkHtml;\n",
              "          element.appendChild(docLink);\n",
              "        }\n",
              "      </script>\n",
              "    </div>\n",
              "  </div>\n"
            ]
          },
          "metadata": {},
          "execution_count": 110
        }
      ]
    },
    {
      "cell_type": "markdown",
      "source": [
        "#### I just do it for training and it wasnt one of project's goal so I wont save this part in in our output excel file"
      ],
      "metadata": {
        "id": "ValIXiIYAn92"
      }
    },
    {
      "cell_type": "code",
      "source": [
        "# row_position = 2\n",
        "# col_position = 'k'\n",
        "# for i in full_file['جمع كل']:\n",
        "#     ws[col_position + str(row_position)].value = i\n",
        "#     row_position += 1\n",
        "\n",
        "# ws['k198'].value\n",
        "# wb.save('دیتا بیس گزارشات روزانه (3).xlsx')"
      ],
      "metadata": {
        "id": "lDg4gEdwJmIC"
      },
      "execution_count": 111,
      "outputs": []
    },
    {
      "cell_type": "markdown",
      "source": [
        "#### Finding our data by DATE by `df['target column'].loc[(df['date column'])]`"
      ],
      "metadata": {
        "id": "AiENR1gT-5GM"
      }
    },
    {
      "cell_type": "code",
      "source": [
        "# some type test\n",
        "pd.to_datetime(full_file['تاريخ'])\n",
        "type(full_file['تاريخ'][173])"
      ],
      "metadata": {
        "colab": {
          "base_uri": "https://localhost:8080/"
        },
        "id": "Rd1knK2inKBJ",
        "outputId": "3997861e-a473-47ea-f4ef-9ca1d226b0e0"
      },
      "execution_count": 112,
      "outputs": [
        {
          "output_type": "execute_result",
          "data": {
            "text/plain": [
              "pandas._libs.tslibs.timestamps.Timestamp"
            ]
          },
          "metadata": {},
          "execution_count": 112
        }
      ]
    },
    {
      "cell_type": "code",
      "source": [
        "# Locating the data that we want by date and save it in a variable\n",
        "date = input('give me a date\\n')\n",
        "date = pd.Timestamp(date)\n",
        "print(\"\\n\")\n",
        "descriptions_value = full_file['شرح'].loc[(full_file['تاريخ'] == date)]\n",
        "singleAmount_value = full_file['مقدار'].loc[(full_file['تاريخ'] == date)]\n",
        "# Determine the fullAmount_value afterwards\n",
        "number_value = full_file['شماره گزارش'].loc[(full_file['تاريخ'] == date)]\n",
        "\n",
        "unit_value = full_file['واحد'].loc[(full_file['تاريخ'] == date)]\n",
        "print(type(descriptions_value))\n",
        "print(type(singleAmount_value))\n",
        "print(type(unit_value))\n",
        "print(type(number_value))"
      ],
      "metadata": {
        "colab": {
          "base_uri": "https://localhost:8080/"
        },
        "id": "syKTgggtiAn3",
        "outputId": "0304c660-982b-43e4-8fbf-f585fcb63d57"
      },
      "execution_count": 113,
      "outputs": [
        {
          "output_type": "stream",
          "name": "stdout",
          "text": [
            "give me a date\n",
            "2023-08-08\n",
            "\n",
            "\n",
            "<class 'pandas.core.series.Series'>\n",
            "<class 'pandas.core.series.Series'>\n",
            "<class 'pandas.core.series.Series'>\n",
            "<class 'pandas.core.series.Series'>\n"
          ]
        }
      ]
    },
    {
      "cell_type": "markdown",
      "source": [
        "### moving through the final target"
      ],
      "metadata": {
        "id": "xf3H2Ppbpgl5"
      }
    },
    {
      "cell_type": "markdown",
      "source": [
        "#### Enter to the target sheet"
      ],
      "metadata": {
        "id": "3_W_DKbP4Muf"
      }
    },
    {
      "cell_type": "code",
      "source": [
        "ws_des = wb['1']"
      ],
      "metadata": {
        "id": "ATUpmLPIjd_P"
      },
      "execution_count": 114,
      "outputs": []
    },
    {
      "cell_type": "markdown",
      "source": [
        "#### Some basics things"
      ],
      "metadata": {
        "id": "ggYy4ljO4VN_"
      }
    },
    {
      "cell_type": "code",
      "source": [
        "print(f\"Total number of rows: {ws_des.max_row} \\nTotal number columns: {ws_des.max_column}\")"
      ],
      "metadata": {
        "colab": {
          "base_uri": "https://localhost:8080/"
        },
        "id": "5zZVaoODAKYa",
        "outputId": "75ccb54c-96c3-4cb2-d7e1-d101d8f292fd"
      },
      "execution_count": 115,
      "outputs": [
        {
          "output_type": "stream",
          "name": "stdout",
          "text": [
            "Total number of rows: 25 \n",
            "Total number columns: 36\n"
          ]
        }
      ]
    },
    {
      "cell_type": "code",
      "source": [
        "row_pos = 6\n",
        "col_pos = \"j\"\n",
        "ws_des[col_pos + str(row_pos)].value"
      ],
      "metadata": {
        "colab": {
          "base_uri": "https://localhost:8080/",
          "height": 35
        },
        "id": "hjjEcrPHAQGe",
        "outputId": "f760cd52-f72c-48d9-f55f-8459ee229179"
      },
      "execution_count": 116,
      "outputs": [
        {
          "output_type": "execute_result",
          "data": {
            "text/plain": [
              "'نصب پلیت های زیر سری شاسی کشی کانکس های فنی'"
            ],
            "application/vnd.google.colaboratory.intrinsic+json": {
              "type": "string"
            }
          },
          "metadata": {},
          "execution_count": 116
        }
      ]
    },
    {
      "cell_type": "markdown",
      "source": [
        "#### The Final-Step"
      ],
      "metadata": {
        "id": "RogpPRLh4cf3"
      }
    },
    {
      "cell_type": "code",
      "source": [
        "for i in descriptions_value:\n",
        "  ws_des[col_pos + str(row_pos)].value = i\n",
        "  row_pos += 1\n",
        "ws_des['j6'].value\n",
        "\n",
        "ws_des[col_pos + str(row_pos)].value\n"
      ],
      "metadata": {
        "id": "oBHm-UsjDFZi"
      },
      "execution_count": 117,
      "outputs": []
    },
    {
      "cell_type": "markdown",
      "source": [
        "#### Save it\n",
        "dont forgot to save changes on the file"
      ],
      "metadata": {
        "id": "DFdi5EuBJH6U"
      }
    },
    {
      "cell_type": "code",
      "source": [
        "wb.save('دیتا بیس گزارشات روزانه (3).xlsx')"
      ],
      "metadata": {
        "id": "_IJvhbVfHQKz"
      },
      "execution_count": 118,
      "outputs": []
    },
    {
      "cell_type": "markdown",
      "source": [
        "### Advance Mode\n",
        "here we want to make our work looks like a real project and work on details"
      ],
      "metadata": {
        "id": "PDtBIE3W5BBl"
      }
    },
    {
      "cell_type": "markdown",
      "source": [
        " #### Make the date cell dynamiclly change by our 'INPUT'\n",
        "\n",
        ">>Lets start whith changing data dynimicly\n",
        ">>The 'AF3' cell is our target date, lets see its statics value\n",
        "\n",
        ">>In >> `ws_des['AF3'].value`\n",
        "\n",
        ">>Out >> datetime.datetime(2023, 7, 1, 0, 0)\n",
        "\n",
        ">>Now lets make it equal to the value of INPUT yhat we tookit before"
      ],
      "metadata": {
        "id": "uEfA1n7a48D-"
      }
    },
    {
      "cell_type": "code",
      "source": [
        "# Fill the date cell\n",
        "# As we do it many times in past we do it here easily\n",
        "ws_des['AF3'].value = date\n",
        "ws_des['AF3'].value\n",
        "\n",
        "# Dont forget to save it\n",
        "wb.save('دیتا بیس گزارشات روزانه (3).xlsx')"
      ],
      "metadata": {
        "id": "9k4286-K4_Sm"
      },
      "execution_count": 119,
      "outputs": []
    },
    {
      "cell_type": "markdown",
      "source": [
        "#### Have a look throght the outputs that we have by our date\n",
        "\n",
        "`number_value` >> `ws_des[AF2:]`  The easiest one, we start with this, It shows us which report number is our letter\n",
        "\n",
        "`descriptions_value` >> `ws_des[J6:]` I ment it starts from J6 and move-on but code doesnt understood [J6:]\n",
        "\n",
        "`singleAmount_value` >> `ws_des[AH6:]` I ment it starts from J6 and move-on but code doesnt understood [AH6:]\n",
        "\n",
        "`unit_value` >> `ws_des[AH6:]` I ment it starts from J6 and move-on but code doesnt understood [AH6:]\n",
        "\n",
        "`totalAmount_value` >> `ws_des[AB6:]` I ment it starts from J6 and move-on but code doesnt understood [J6:]\n",
        "\n",
        "For this, we have to look through the \"description_value\" and back to the `ws[]` main sheet check when ever we seen this value again to sum-up the \"مقدار\" values together"
      ],
      "metadata": {
        "id": "aLnbIQmyEiE4"
      }
    },
    {
      "cell_type": "markdown",
      "source": [
        "#### Start from easy to hard STEP BY STEP\n",
        "\n",
        "1- number_value\n",
        "\n",
        "2- unit_value\n",
        "\n",
        "3- singleAmount_value\n",
        "\n",
        "4- totalAMountValue"
      ],
      "metadata": {
        "id": "tG3PkY-NEeDR"
      }
    },
    {
      "cell_type": "code",
      "source": [
        "# Start with number_value\n",
        "from os import WIFSIGNALED\n",
        "number_array = list()\n",
        "for i in number_value:\n",
        "  if str(i) not in number_array:\n",
        "    number_array.append(str(i))\n",
        "\n",
        "number_filed_final = number_array[0] + \" - \" + number_array[-1]\n",
        "ws_des['AF2'].value = number_filed_final\n",
        "\n",
        "# save it\n",
        "wb.save('دیتا بیس گزارشات روزانه (3).xlsx')\n",
        "ws_des['AF2'].value\n"
      ],
      "metadata": {
        "colab": {
          "base_uri": "https://localhost:8080/",
          "height": 0
        },
        "id": "y01bqxRyExcb",
        "outputId": "f5cff95a-4ae7-48dd-bf8e-07e3dcd8cc15"
      },
      "execution_count": 120,
      "outputs": [
        {
          "output_type": "execute_result",
          "data": {
            "text/plain": [
              "'105 - 105'"
            ],
            "application/vnd.google.colaboratory.intrinsic+json": {
              "type": "string"
            }
          },
          "metadata": {},
          "execution_count": 120
        }
      ]
    },
    {
      "cell_type": "code",
      "source": [
        "# Go for the unit_value\n",
        "col_pos = \"AH\"\n",
        "row_pos = 6\n",
        "for i in unit_value:\n",
        "  ws_des[col_pos + str(row_pos)].value = i\n",
        "  row_pos += 1\n",
        "ws_des['AH6'].value\n",
        "\n",
        "# Save it\n",
        "wb.save('دیتا بیس گزارشات روزانه (3).xlsx')\n",
        "\n",
        "#ws_des[col_pos + str(row_pos)].value\n"
      ],
      "metadata": {
        "id": "glE4p9wHExaR"
      },
      "execution_count": 121,
      "outputs": []
    },
    {
      "cell_type": "code",
      "source": [
        "# SingleAmount value\n",
        "col_pos = \"AE\"\n",
        "row_pos = 6\n",
        "for i in singleAmount_value:\n",
        "  if (i!= 0):\n",
        "    ws_des[col_pos + str(row_pos)].value = i\n",
        "    row_pos += 1\n",
        "  else:\n",
        "    ws_des[col_pos + str(row_pos)].value = \"\"\n",
        "    row_pos += 1\n",
        "\n",
        "ws_des['AE6'].value\n",
        "\n",
        "# Save it\n",
        "wb.save('دیتا بیس گزارشات روزانه (3).xlsx')"
      ],
      "metadata": {
        "id": "umGxPsK6ExYA"
      },
      "execution_count": 122,
      "outputs": []
    },
    {
      "cell_type": "code",
      "source": [
        "# totlaAmount_value at the end\n",
        "row_pos = 6\n",
        "col_pos = \"AB\"\n",
        "total_amount_dict = dict()\n",
        "totalAmount_value = dict()\n",
        "for i in descriptions_value:\n",
        "  total_amount_dict [i] = full_file['مقدار'].loc[(full_file['شرح'] == i)]\n",
        "\n",
        "for j in total_amount_dict.keys():\n",
        "  totalAmount_value[j] = total_amount_dict[j]\n",
        "  ws_des[col_pos + str(row_pos)].value = totalAmount_value[j].sum()\n",
        "  if (ws_des[col_pos + str(row_pos)].value == 0):\n",
        "    ws_des[col_pos + str(row_pos)].value = \"\"\n",
        "  row_pos += 1\n",
        "\n",
        "wb.save('دیتا بیس گزارشات روزانه (3).xlsx')\n",
        "ws_des[\"AB6\"].value"
      ],
      "metadata": {
        "colab": {
          "base_uri": "https://localhost:8080/",
          "height": 0
        },
        "id": "JWIc4g7qmuDE",
        "outputId": "dc06d922-b228-4051-fa9a-4331a455090e"
      },
      "execution_count": 123,
      "outputs": [
        {
          "output_type": "execute_result",
          "data": {
            "text/plain": [
              "''"
            ],
            "application/vnd.google.colaboratory.intrinsic+json": {
              "type": "string"
            }
          },
          "metadata": {},
          "execution_count": 123
        }
      ]
    },
    {
      "cell_type": "markdown",
      "source": [
        "### Now lets go ahead to another sheet and another jurney"
      ],
      "metadata": {
        "id": "C73iqGx2zYcP"
      }
    },
    {
      "cell_type": "markdown",
      "source": [
        "#### Make our sheet table to dataFrame to work with it easiley"
      ],
      "metadata": {
        "id": "__-sEK2UQKhc"
      }
    },
    {
      "cell_type": "code",
      "source": [
        "ws_human_resource = wb['نیروی انسانی']\n",
        "print(f\"Total number of rows: {ws_human_resource.max_row} \\nTotal number columns: {ws_human_resource.max_column}\")"
      ],
      "metadata": {
        "colab": {
          "base_uri": "https://localhost:8080/"
        },
        "id": "da5qzEG6QKkq",
        "outputId": "9cb58b94-83f9-4733-a8c3-809cf6c8ac02"
      },
      "execution_count": 124,
      "outputs": [
        {
          "output_type": "stream",
          "name": "stdout",
          "text": [
            "Total number of rows: 1690 \n",
            "Total number columns: 5\n"
          ]
        }
      ]
    },
    {
      "cell_type": "code",
      "source": [
        "## Extract the columns\n",
        "col1 = [ws_human_resource.cell(row=i, column=1).value\n",
        "                  for i in range(2, ws_human_resource.max_row+1)]\n",
        "\n",
        "col2 = [ws_human_resource.cell(row=i, column=2).value\n",
        "                  for i in range(2, ws_human_resource.max_row+1)]\n",
        "\n",
        "col3 = [ws_human_resource.cell(row=i, column=3).value\n",
        "                  for i in range(2, ws_human_resource.max_row+1)]\n",
        "\n",
        "col4 = [ws_human_resource.cell(row=i, column=4).value\n",
        "                  for i in range(2, ws_human_resource.max_row+1)]\n",
        "\n",
        "col5 = [ws_human_resource.cell(row=i, column=5).value\n",
        "                  for i in range(2, ws_human_resource.max_row+1)]\n",
        "## Make them dataframe\n",
        "df_col1 = pd.DataFrame(col1, columns=['رديف'])\n",
        "df_col1['رديف'] = df_col1['رديف'].fillna(0)\n",
        "\n",
        "df_col2 = pd.DataFrame(col2, columns=['تاریخ'])\n",
        "df_col2['تاریخ'] = df_col2['تاریخ'].fillna(0)\n",
        "\n",
        "df_col3 = pd.DataFrame(col3, columns=['عنوان'])\n",
        "df_col3['عنوان'] = df_col3['عنوان'].fillna(0)\n",
        "\n",
        "df_col4 = pd.DataFrame(col4, columns=['تعداد حاضر'])\n",
        "df_col4['تعداد حاضر'] = df_col4['تعداد حاضر'].fillna(0)\n",
        "\n",
        "df_col5 = pd.DataFrame(col5, columns=['پيمانكار/ ستاد'])\n",
        "df_col5['پيمانكار/ ستاد'] = df_col5['پيمانكار/ ستاد'].fillna(0)\n",
        "\n",
        "\n",
        "# Joingong the data frames as column and create the main data frame\n",
        "full_file_humanResource = pd.concat([df_col1, df_col2, df_col3, df_col4, df_col5], axis=1, join='inner')\n",
        "full_file_humanResource[:10]"
      ],
      "metadata": {
        "colab": {
          "base_uri": "https://localhost:8080/",
          "height": 363
        },
        "id": "8hLS9dL_QKdC",
        "outputId": "ccb6d92b-ba37-4c11-dd3a-45498fd6fda8"
      },
      "execution_count": 125,
      "outputs": [
        {
          "output_type": "execute_result",
          "data": {
            "text/plain": [
              "   رديف      تاریخ                        عنوان تعداد حاضر پيمانكار/ ستاد\n",
              "0   1.0 2023-05-22                   مدیر پروژه          0           ستاد\n",
              "1   2.0 2023-05-22                سرپرست کارگاه          1           ستاد\n",
              "2   3.0 2023-05-22              سرپرست دفتر فنی          0           ستاد\n",
              "3   4.0 2023-05-22                     دفتر فنی          3           ستاد\n",
              "4   5.0 2023-05-22                  سرپرست اجرا          1           ستاد\n",
              "5   6.0 2023-05-22  سرپرست ماشین الات و تجهیزات          1           ستاد\n",
              "6   7.0 2023-05-22                 کارشناس اجرا          0           ستاد\n",
              "7   8.0 2023-05-22                 اداری و مالی          0           ستاد\n",
              "8   9.0 2023-05-22               ايمني و بهداشت          0           ستاد\n",
              "9  10.0 2023-05-22                  کنترل پروژه          1           ستاد"
            ],
            "text/html": [
              "\n",
              "\n",
              "  <div id=\"df-1dbde4cc-6a2b-4b51-8b83-2ff90e06f76c\">\n",
              "    <div class=\"colab-df-container\">\n",
              "      <div>\n",
              "<style scoped>\n",
              "    .dataframe tbody tr th:only-of-type {\n",
              "        vertical-align: middle;\n",
              "    }\n",
              "\n",
              "    .dataframe tbody tr th {\n",
              "        vertical-align: top;\n",
              "    }\n",
              "\n",
              "    .dataframe thead th {\n",
              "        text-align: right;\n",
              "    }\n",
              "</style>\n",
              "<table border=\"1\" class=\"dataframe\">\n",
              "  <thead>\n",
              "    <tr style=\"text-align: right;\">\n",
              "      <th></th>\n",
              "      <th>رديف</th>\n",
              "      <th>تاریخ</th>\n",
              "      <th>عنوان</th>\n",
              "      <th>تعداد حاضر</th>\n",
              "      <th>پيمانكار/ ستاد</th>\n",
              "    </tr>\n",
              "  </thead>\n",
              "  <tbody>\n",
              "    <tr>\n",
              "      <th>0</th>\n",
              "      <td>1.0</td>\n",
              "      <td>2023-05-22</td>\n",
              "      <td>مدیر پروژه</td>\n",
              "      <td>0</td>\n",
              "      <td>ستاد</td>\n",
              "    </tr>\n",
              "    <tr>\n",
              "      <th>1</th>\n",
              "      <td>2.0</td>\n",
              "      <td>2023-05-22</td>\n",
              "      <td>سرپرست کارگاه</td>\n",
              "      <td>1</td>\n",
              "      <td>ستاد</td>\n",
              "    </tr>\n",
              "    <tr>\n",
              "      <th>2</th>\n",
              "      <td>3.0</td>\n",
              "      <td>2023-05-22</td>\n",
              "      <td>سرپرست دفتر فنی</td>\n",
              "      <td>0</td>\n",
              "      <td>ستاد</td>\n",
              "    </tr>\n",
              "    <tr>\n",
              "      <th>3</th>\n",
              "      <td>4.0</td>\n",
              "      <td>2023-05-22</td>\n",
              "      <td>دفتر فنی</td>\n",
              "      <td>3</td>\n",
              "      <td>ستاد</td>\n",
              "    </tr>\n",
              "    <tr>\n",
              "      <th>4</th>\n",
              "      <td>5.0</td>\n",
              "      <td>2023-05-22</td>\n",
              "      <td>سرپرست اجرا</td>\n",
              "      <td>1</td>\n",
              "      <td>ستاد</td>\n",
              "    </tr>\n",
              "    <tr>\n",
              "      <th>5</th>\n",
              "      <td>6.0</td>\n",
              "      <td>2023-05-22</td>\n",
              "      <td>سرپرست ماشین الات و تجهیزات</td>\n",
              "      <td>1</td>\n",
              "      <td>ستاد</td>\n",
              "    </tr>\n",
              "    <tr>\n",
              "      <th>6</th>\n",
              "      <td>7.0</td>\n",
              "      <td>2023-05-22</td>\n",
              "      <td>کارشناس اجرا</td>\n",
              "      <td>0</td>\n",
              "      <td>ستاد</td>\n",
              "    </tr>\n",
              "    <tr>\n",
              "      <th>7</th>\n",
              "      <td>8.0</td>\n",
              "      <td>2023-05-22</td>\n",
              "      <td>اداری و مالی</td>\n",
              "      <td>0</td>\n",
              "      <td>ستاد</td>\n",
              "    </tr>\n",
              "    <tr>\n",
              "      <th>8</th>\n",
              "      <td>9.0</td>\n",
              "      <td>2023-05-22</td>\n",
              "      <td>ايمني و بهداشت</td>\n",
              "      <td>0</td>\n",
              "      <td>ستاد</td>\n",
              "    </tr>\n",
              "    <tr>\n",
              "      <th>9</th>\n",
              "      <td>10.0</td>\n",
              "      <td>2023-05-22</td>\n",
              "      <td>کنترل پروژه</td>\n",
              "      <td>1</td>\n",
              "      <td>ستاد</td>\n",
              "    </tr>\n",
              "  </tbody>\n",
              "</table>\n",
              "</div>\n",
              "      <button class=\"colab-df-convert\" onclick=\"convertToInteractive('df-1dbde4cc-6a2b-4b51-8b83-2ff90e06f76c')\"\n",
              "              title=\"Convert this dataframe to an interactive table.\"\n",
              "              style=\"display:none;\">\n",
              "\n",
              "  <svg xmlns=\"http://www.w3.org/2000/svg\" height=\"24px\"viewBox=\"0 0 24 24\"\n",
              "       width=\"24px\">\n",
              "    <path d=\"M0 0h24v24H0V0z\" fill=\"none\"/>\n",
              "    <path d=\"M18.56 5.44l.94 2.06.94-2.06 2.06-.94-2.06-.94-.94-2.06-.94 2.06-2.06.94zm-11 1L8.5 8.5l.94-2.06 2.06-.94-2.06-.94L8.5 2.5l-.94 2.06-2.06.94zm10 10l.94 2.06.94-2.06 2.06-.94-2.06-.94-.94-2.06-.94 2.06-2.06.94z\"/><path d=\"M17.41 7.96l-1.37-1.37c-.4-.4-.92-.59-1.43-.59-.52 0-1.04.2-1.43.59L10.3 9.45l-7.72 7.72c-.78.78-.78 2.05 0 2.83L4 21.41c.39.39.9.59 1.41.59.51 0 1.02-.2 1.41-.59l7.78-7.78 2.81-2.81c.8-.78.8-2.07 0-2.86zM5.41 20L4 18.59l7.72-7.72 1.47 1.35L5.41 20z\"/>\n",
              "  </svg>\n",
              "      </button>\n",
              "\n",
              "\n",
              "\n",
              "    <div id=\"df-696e4328-073d-4689-92cb-23e12408ce4f\">\n",
              "      <button class=\"colab-df-quickchart\" onclick=\"quickchart('df-696e4328-073d-4689-92cb-23e12408ce4f')\"\n",
              "              title=\"Suggest charts.\"\n",
              "              style=\"display:none;\">\n",
              "\n",
              "<svg xmlns=\"http://www.w3.org/2000/svg\" height=\"24px\"viewBox=\"0 0 24 24\"\n",
              "     width=\"24px\">\n",
              "    <g>\n",
              "        <path d=\"M19 3H5c-1.1 0-2 .9-2 2v14c0 1.1.9 2 2 2h14c1.1 0 2-.9 2-2V5c0-1.1-.9-2-2-2zM9 17H7v-7h2v7zm4 0h-2V7h2v10zm4 0h-2v-4h2v4z\"/>\n",
              "    </g>\n",
              "</svg>\n",
              "      </button>\n",
              "    </div>\n",
              "\n",
              "<style>\n",
              "  .colab-df-quickchart {\n",
              "    background-color: #E8F0FE;\n",
              "    border: none;\n",
              "    border-radius: 50%;\n",
              "    cursor: pointer;\n",
              "    display: none;\n",
              "    fill: #1967D2;\n",
              "    height: 32px;\n",
              "    padding: 0 0 0 0;\n",
              "    width: 32px;\n",
              "  }\n",
              "\n",
              "  .colab-df-quickchart:hover {\n",
              "    background-color: #E2EBFA;\n",
              "    box-shadow: 0px 1px 2px rgba(60, 64, 67, 0.3), 0px 1px 3px 1px rgba(60, 64, 67, 0.15);\n",
              "    fill: #174EA6;\n",
              "  }\n",
              "\n",
              "  [theme=dark] .colab-df-quickchart {\n",
              "    background-color: #3B4455;\n",
              "    fill: #D2E3FC;\n",
              "  }\n",
              "\n",
              "  [theme=dark] .colab-df-quickchart:hover {\n",
              "    background-color: #434B5C;\n",
              "    box-shadow: 0px 1px 3px 1px rgba(0, 0, 0, 0.15);\n",
              "    filter: drop-shadow(0px 1px 2px rgba(0, 0, 0, 0.3));\n",
              "    fill: #FFFFFF;\n",
              "  }\n",
              "</style>\n",
              "\n",
              "    <script>\n",
              "      async function quickchart(key) {\n",
              "        const containerElement = document.querySelector('#' + key);\n",
              "        const charts = await google.colab.kernel.invokeFunction(\n",
              "            'suggestCharts', [key], {});\n",
              "      }\n",
              "    </script>\n",
              "\n",
              "      <script>\n",
              "\n",
              "function displayQuickchartButton(domScope) {\n",
              "  let quickchartButtonEl =\n",
              "    domScope.querySelector('#df-696e4328-073d-4689-92cb-23e12408ce4f button.colab-df-quickchart');\n",
              "  quickchartButtonEl.style.display =\n",
              "    google.colab.kernel.accessAllowed ? 'block' : 'none';\n",
              "}\n",
              "\n",
              "        displayQuickchartButton(document);\n",
              "      </script>\n",
              "      <style>\n",
              "    .colab-df-container {\n",
              "      display:flex;\n",
              "      flex-wrap:wrap;\n",
              "      gap: 12px;\n",
              "    }\n",
              "\n",
              "    .colab-df-convert {\n",
              "      background-color: #E8F0FE;\n",
              "      border: none;\n",
              "      border-radius: 50%;\n",
              "      cursor: pointer;\n",
              "      display: none;\n",
              "      fill: #1967D2;\n",
              "      height: 32px;\n",
              "      padding: 0 0 0 0;\n",
              "      width: 32px;\n",
              "    }\n",
              "\n",
              "    .colab-df-convert:hover {\n",
              "      background-color: #E2EBFA;\n",
              "      box-shadow: 0px 1px 2px rgba(60, 64, 67, 0.3), 0px 1px 3px 1px rgba(60, 64, 67, 0.15);\n",
              "      fill: #174EA6;\n",
              "    }\n",
              "\n",
              "    [theme=dark] .colab-df-convert {\n",
              "      background-color: #3B4455;\n",
              "      fill: #D2E3FC;\n",
              "    }\n",
              "\n",
              "    [theme=dark] .colab-df-convert:hover {\n",
              "      background-color: #434B5C;\n",
              "      box-shadow: 0px 1px 3px 1px rgba(0, 0, 0, 0.15);\n",
              "      filter: drop-shadow(0px 1px 2px rgba(0, 0, 0, 0.3));\n",
              "      fill: #FFFFFF;\n",
              "    }\n",
              "  </style>\n",
              "\n",
              "      <script>\n",
              "        const buttonEl =\n",
              "          document.querySelector('#df-1dbde4cc-6a2b-4b51-8b83-2ff90e06f76c button.colab-df-convert');\n",
              "        buttonEl.style.display =\n",
              "          google.colab.kernel.accessAllowed ? 'block' : 'none';\n",
              "\n",
              "        async function convertToInteractive(key) {\n",
              "          const element = document.querySelector('#df-1dbde4cc-6a2b-4b51-8b83-2ff90e06f76c');\n",
              "          const dataTable =\n",
              "            await google.colab.kernel.invokeFunction('convertToInteractive',\n",
              "                                                     [key], {});\n",
              "          if (!dataTable) return;\n",
              "\n",
              "          const docLinkHtml = 'Like what you see? Visit the ' +\n",
              "            '<a target=\"_blank\" href=https://colab.research.google.com/notebooks/data_table.ipynb>data table notebook</a>'\n",
              "            + ' to learn more about interactive tables.';\n",
              "          element.innerHTML = '';\n",
              "          dataTable['output_type'] = 'display_data';\n",
              "          await google.colab.output.renderOutput(dataTable, element);\n",
              "          const docLink = document.createElement('div');\n",
              "          docLink.innerHTML = docLinkHtml;\n",
              "          element.appendChild(docLink);\n",
              "        }\n",
              "      </script>\n",
              "    </div>\n",
              "  </div>\n"
            ]
          },
          "metadata": {},
          "execution_count": 125
        }
      ]
    },
    {
      "cell_type": "markdown",
      "source": [
        "##### Human Resource"
      ],
      "metadata": {
        "id": "ts06kimsfk2V"
      }
    },
    {
      "cell_type": "code",
      "source": [
        "# Inserting the report sheet 2\n",
        "ws_des2 = wb['2']\n",
        "print(f\"Total number of rows: {ws_des2.max_row} \\nTotal number columns: {ws_des2.max_column}\")"
      ],
      "metadata": {
        "colab": {
          "base_uri": "https://localhost:8080/"
        },
        "id": "DuLp3gHEgfLD",
        "outputId": "2da66ce9-ad4c-4c9b-da38-9ad30ea89d95"
      },
      "execution_count": 126,
      "outputs": [
        {
          "output_type": "stream",
          "name": "stdout",
          "text": [
            "Total number of rows: 39 \n",
            "Total number columns: 36\n"
          ]
        }
      ]
    },
    {
      "cell_type": "code",
      "source": [
        "# Choose what we want to selectm from humanresource\n",
        "humanResource = full_file_humanResource['عنوان'].loc[(full_file_humanResource['تاریخ'] == date)]\n",
        "count = full_file_humanResource['تعداد حاضر'].loc[(full_file_humanResource['تاریخ'] == date)]"
      ],
      "metadata": {
        "id": "VKN6d8NQQKaa"
      },
      "execution_count": 127,
      "outputs": []
    },
    {
      "cell_type": "code",
      "source": [
        "# Intitate a for loop to fill data in excel file for human resource titles\n",
        "row_pos = 6\n",
        "col_pos_1 = \"C\"\n",
        "col_pos_2 = \"O\"\n",
        "col_pos_3 = \"AA\"\n",
        "for i in humanResource[0:10]:\n",
        "  ws_des2[col_pos_1 + str(row_pos)].value = i\n",
        "  row_pos += 1\n",
        "  #print(f\"{col_pos_1}{row_pos} : {ws_des2[col_pos_1 + str(row_pos)].value}\")\n",
        "\n",
        "row_pos = 6\n",
        "for j in humanResource[10:20]:\n",
        "  ws_des2[col_pos_2 + str(row_pos)].value = j\n",
        "  row_pos += 1\n",
        "  #print(f\"{col_pos_2}{row_pos} : {ws_des2[col_pos_2 + str(row_pos)].value}\")\n",
        "\n",
        "row_pos = 6\n",
        "for k in humanResource[20:]:\n",
        "  ws_des2[col_pos_3 + str(row_pos)].value = k\n",
        "  row_pos += 1\n",
        "  if (ws_des2[col_pos_3 + str(row_pos)].value == ws_des2[col_pos_3 + str(row_pos-1)].value):\n",
        "    ws_des2[col_pos_3 + str(row_pos)].value =\"\"\n",
        "  #print(f\"{col_pos_3}{row_pos} : {ws_des2[col_pos_3 + str(row_pos)].value}\")\n",
        "\n",
        "wb.save('دیتا بیس گزارشات روزانه (3).xlsx')"
      ],
      "metadata": {
        "id": "4aPiPSDEdu1b"
      },
      "execution_count": 128,
      "outputs": []
    },
    {
      "cell_type": "code",
      "source": [
        "# Intitate a for loop to fill data in excel file for human Count\n",
        "row_pos = 6\n",
        "col_pos_1 = \"K\"\n",
        "col_pos_2 = \"W\"\n",
        "col_pos_3 = \"AI\"\n",
        "for i in count[0:10]:\n",
        "  ws_des2[col_pos_1 + str(row_pos)].value = i\n",
        "  row_pos += 1\n",
        "  #print(f\"{col_pos_1}{row_pos} : {ws_des2[col_pos_1 + str(row_pos)].value}\")\n",
        "\n",
        "row_pos = 6\n",
        "for j in count[10:20]:\n",
        "  ws_des2[col_pos_2 + str(row_pos)].value = j\n",
        "  row_pos += 1\n",
        "  #print(f\"{col_pos_2}{row_pos} : {ws_des2[col_pos_2 + str(row_pos)].value}\")\n",
        "\n",
        "row_pos = 6\n",
        "for k in count[20:]:\n",
        "  ws_des2[col_pos_3 + str(row_pos)].value = k\n",
        "  row_pos += 1\n",
        "  if (ws_des2[col_pos_3 + str(row_pos)].value == ws_des2[col_pos_3 + str(row_pos-1)].value):\n",
        "    ws_des2[col_pos_3 + str(row_pos)].value =\"\"\n",
        "  #print(f\"{col_pos_3}{row_pos} : {ws_des2[col_pos_3 + str(row_pos)].value}\")\n",
        "\n",
        "wb.save('دیتا بیس گزارشات روزانه (3).xlsx')"
      ],
      "metadata": {
        "id": "oTI8Q1bCJW19"
      },
      "execution_count": 129,
      "outputs": []
    },
    {
      "cell_type": "markdown",
      "source": [
        "##### Machinery"
      ],
      "metadata": {
        "id": "cSDasp0GfjE9"
      }
    },
    {
      "cell_type": "code",
      "source": [
        "# Insert the sheet\n",
        "ws_machinery = wb['ماشین آلات']\n",
        "print(f\"Total number of rows: {ws_machinery.max_row} \\nTotal number columns: {ws_machinery.max_column}\")"
      ],
      "metadata": {
        "colab": {
          "base_uri": "https://localhost:8080/"
        },
        "id": "t8f_f0JefjDA",
        "outputId": "eaf84321-cda0-4750-e73f-c1edd2ab59d3"
      },
      "execution_count": 130,
      "outputs": [
        {
          "output_type": "stream",
          "name": "stdout",
          "text": [
            "Total number of rows: 826 \n",
            "Total number columns: 7\n"
          ]
        }
      ]
    },
    {
      "cell_type": "code",
      "source": [
        "## Extract the columns\n",
        "col1 = [ws_machinery.cell(row=i, column=1).value\n",
        "                  for i in range(2, ws_machinery.max_row+1)]\n",
        "\n",
        "col2 = [ws_machinery.cell(row=i, column=2).value\n",
        "                  for i in range(2, ws_machinery.max_row+1)]\n",
        "\n",
        "col3 = [ws_machinery.cell(row=i, column=3).value\n",
        "                  for i in range(2, ws_machinery.max_row+1)]\n",
        "\n",
        "col4 = [ws_machinery.cell(row=i, column=4).value\n",
        "                  for i in range(2, ws_machinery.max_row+1)]\n",
        "\n",
        "col5 = [ws_machinery.cell(row=i, column=5).value\n",
        "                  for i in range(2, ws_machinery.max_row+1)]\n",
        "\n",
        "col6 = [ws_machinery.cell(row=i, column=6).value\n",
        "                  for i in range(2, ws_machinery.max_row+1)]\n",
        "\n",
        "# col7 = [ws_machinery.cell(row=i, column=7).value\n",
        "#                   for i in range(2, ws_machinery.max_row+1)]\n",
        "\n",
        "\n",
        "## Make them dataframe\n",
        "df_col1 = pd.DataFrame(col1, columns=['رديف'])\n",
        "df_col1['رديف'] = df_col1['رديف'].fillna(0)\n",
        "\n",
        "df_col2 = pd.DataFrame(col2, columns=['تاریخ'])\n",
        "df_col2['تاریخ'] = df_col2['تاریخ'].fillna(0)\n",
        "\n",
        "df_col3 = pd.DataFrame(col3, columns=['نوع'])\n",
        "df_col3['نوع'] = df_col3['نوع'].fillna(0)\n",
        "\n",
        "df_col4 = pd.DataFrame(col4, columns=['فعال'])\n",
        "df_col4['فعال'] = df_col4['فعال'].fillna(0)\n",
        "\n",
        "df_col5 = pd.DataFrame(col5, columns=['غیر فعال'])\n",
        "df_col5['غیر فعال'] = df_col5['غیر فعال'].fillna(0)\n",
        "\n",
        "df_col6 = pd.DataFrame(col6, columns=['درحال تعمیر'])\n",
        "df_col6['درحال تعمیر'] = df_col6['درحال تعمیر'].fillna(0)\n",
        "\n",
        "# df_col7 = pd.DataFrame(col7, columns=['تعداد کل'])\n",
        "# df_col7['تعداد کل'] = df_col7['تعداد کل'].fillna(0)\n",
        "\n",
        "\n",
        "# Joingong the data frames as column and create the main data frame\n",
        "full_file_machinery = pd.concat([df_col1, df_col2, df_col3, df_col4, df_col5, df_col6], axis=1, join='inner')\n",
        "full_file_machinery[:10]"
      ],
      "metadata": {
        "colab": {
          "base_uri": "https://localhost:8080/",
          "height": 363
        },
        "id": "20HKavkSfjAX",
        "outputId": "4c690be5-3975-4e92-e027-5b1b2b95951f"
      },
      "execution_count": 131,
      "outputs": [
        {
          "output_type": "execute_result",
          "data": {
            "text/plain": [
              "   رديف      تاریخ                 نوع  فعال  غیر فعال  درحال تعمیر\n",
              "0   1.0 2023-05-22               سواری   2.0       0.0            0\n",
              "1   2.0 2023-05-22  دوربین نقشه برداری   1.0       0.0            0\n",
              "2   1.0 2023-05-23               سواری   2.0       0.0            0\n",
              "3   2.0 2023-05-23  دوربین نقشه برداری   1.0       0.0            0\n",
              "4   1.0 2023-05-24               سواری   2.0       0.0            0\n",
              "5   2.0 2023-05-24  دوربین نقشه برداری   1.0       0.0            0\n",
              "6   3.0 2023-05-24               بابکت   1.0       0.0            0\n",
              "7   1.0 2023-05-25               سواری   2.0       0.0            0\n",
              "8   2.0 2023-05-25  دوربین نقشه برداری   1.0       0.0            0\n",
              "9   3.0 2023-05-25               بابکت   1.0       0.0            0"
            ],
            "text/html": [
              "\n",
              "\n",
              "  <div id=\"df-b34a7172-fc0e-4161-9635-2a9d3fd27381\">\n",
              "    <div class=\"colab-df-container\">\n",
              "      <div>\n",
              "<style scoped>\n",
              "    .dataframe tbody tr th:only-of-type {\n",
              "        vertical-align: middle;\n",
              "    }\n",
              "\n",
              "    .dataframe tbody tr th {\n",
              "        vertical-align: top;\n",
              "    }\n",
              "\n",
              "    .dataframe thead th {\n",
              "        text-align: right;\n",
              "    }\n",
              "</style>\n",
              "<table border=\"1\" class=\"dataframe\">\n",
              "  <thead>\n",
              "    <tr style=\"text-align: right;\">\n",
              "      <th></th>\n",
              "      <th>رديف</th>\n",
              "      <th>تاریخ</th>\n",
              "      <th>نوع</th>\n",
              "      <th>فعال</th>\n",
              "      <th>غیر فعال</th>\n",
              "      <th>درحال تعمیر</th>\n",
              "    </tr>\n",
              "  </thead>\n",
              "  <tbody>\n",
              "    <tr>\n",
              "      <th>0</th>\n",
              "      <td>1.0</td>\n",
              "      <td>2023-05-22</td>\n",
              "      <td>سواری</td>\n",
              "      <td>2.0</td>\n",
              "      <td>0.0</td>\n",
              "      <td>0</td>\n",
              "    </tr>\n",
              "    <tr>\n",
              "      <th>1</th>\n",
              "      <td>2.0</td>\n",
              "      <td>2023-05-22</td>\n",
              "      <td>دوربین نقشه برداری</td>\n",
              "      <td>1.0</td>\n",
              "      <td>0.0</td>\n",
              "      <td>0</td>\n",
              "    </tr>\n",
              "    <tr>\n",
              "      <th>2</th>\n",
              "      <td>1.0</td>\n",
              "      <td>2023-05-23</td>\n",
              "      <td>سواری</td>\n",
              "      <td>2.0</td>\n",
              "      <td>0.0</td>\n",
              "      <td>0</td>\n",
              "    </tr>\n",
              "    <tr>\n",
              "      <th>3</th>\n",
              "      <td>2.0</td>\n",
              "      <td>2023-05-23</td>\n",
              "      <td>دوربین نقشه برداری</td>\n",
              "      <td>1.0</td>\n",
              "      <td>0.0</td>\n",
              "      <td>0</td>\n",
              "    </tr>\n",
              "    <tr>\n",
              "      <th>4</th>\n",
              "      <td>1.0</td>\n",
              "      <td>2023-05-24</td>\n",
              "      <td>سواری</td>\n",
              "      <td>2.0</td>\n",
              "      <td>0.0</td>\n",
              "      <td>0</td>\n",
              "    </tr>\n",
              "    <tr>\n",
              "      <th>5</th>\n",
              "      <td>2.0</td>\n",
              "      <td>2023-05-24</td>\n",
              "      <td>دوربین نقشه برداری</td>\n",
              "      <td>1.0</td>\n",
              "      <td>0.0</td>\n",
              "      <td>0</td>\n",
              "    </tr>\n",
              "    <tr>\n",
              "      <th>6</th>\n",
              "      <td>3.0</td>\n",
              "      <td>2023-05-24</td>\n",
              "      <td>بابکت</td>\n",
              "      <td>1.0</td>\n",
              "      <td>0.0</td>\n",
              "      <td>0</td>\n",
              "    </tr>\n",
              "    <tr>\n",
              "      <th>7</th>\n",
              "      <td>1.0</td>\n",
              "      <td>2023-05-25</td>\n",
              "      <td>سواری</td>\n",
              "      <td>2.0</td>\n",
              "      <td>0.0</td>\n",
              "      <td>0</td>\n",
              "    </tr>\n",
              "    <tr>\n",
              "      <th>8</th>\n",
              "      <td>2.0</td>\n",
              "      <td>2023-05-25</td>\n",
              "      <td>دوربین نقشه برداری</td>\n",
              "      <td>1.0</td>\n",
              "      <td>0.0</td>\n",
              "      <td>0</td>\n",
              "    </tr>\n",
              "    <tr>\n",
              "      <th>9</th>\n",
              "      <td>3.0</td>\n",
              "      <td>2023-05-25</td>\n",
              "      <td>بابکت</td>\n",
              "      <td>1.0</td>\n",
              "      <td>0.0</td>\n",
              "      <td>0</td>\n",
              "    </tr>\n",
              "  </tbody>\n",
              "</table>\n",
              "</div>\n",
              "      <button class=\"colab-df-convert\" onclick=\"convertToInteractive('df-b34a7172-fc0e-4161-9635-2a9d3fd27381')\"\n",
              "              title=\"Convert this dataframe to an interactive table.\"\n",
              "              style=\"display:none;\">\n",
              "\n",
              "  <svg xmlns=\"http://www.w3.org/2000/svg\" height=\"24px\"viewBox=\"0 0 24 24\"\n",
              "       width=\"24px\">\n",
              "    <path d=\"M0 0h24v24H0V0z\" fill=\"none\"/>\n",
              "    <path d=\"M18.56 5.44l.94 2.06.94-2.06 2.06-.94-2.06-.94-.94-2.06-.94 2.06-2.06.94zm-11 1L8.5 8.5l.94-2.06 2.06-.94-2.06-.94L8.5 2.5l-.94 2.06-2.06.94zm10 10l.94 2.06.94-2.06 2.06-.94-2.06-.94-.94-2.06-.94 2.06-2.06.94z\"/><path d=\"M17.41 7.96l-1.37-1.37c-.4-.4-.92-.59-1.43-.59-.52 0-1.04.2-1.43.59L10.3 9.45l-7.72 7.72c-.78.78-.78 2.05 0 2.83L4 21.41c.39.39.9.59 1.41.59.51 0 1.02-.2 1.41-.59l7.78-7.78 2.81-2.81c.8-.78.8-2.07 0-2.86zM5.41 20L4 18.59l7.72-7.72 1.47 1.35L5.41 20z\"/>\n",
              "  </svg>\n",
              "      </button>\n",
              "\n",
              "\n",
              "\n",
              "    <div id=\"df-8dbc57b2-412d-4cba-85ad-19bc007472ed\">\n",
              "      <button class=\"colab-df-quickchart\" onclick=\"quickchart('df-8dbc57b2-412d-4cba-85ad-19bc007472ed')\"\n",
              "              title=\"Suggest charts.\"\n",
              "              style=\"display:none;\">\n",
              "\n",
              "<svg xmlns=\"http://www.w3.org/2000/svg\" height=\"24px\"viewBox=\"0 0 24 24\"\n",
              "     width=\"24px\">\n",
              "    <g>\n",
              "        <path d=\"M19 3H5c-1.1 0-2 .9-2 2v14c0 1.1.9 2 2 2h14c1.1 0 2-.9 2-2V5c0-1.1-.9-2-2-2zM9 17H7v-7h2v7zm4 0h-2V7h2v10zm4 0h-2v-4h2v4z\"/>\n",
              "    </g>\n",
              "</svg>\n",
              "      </button>\n",
              "    </div>\n",
              "\n",
              "<style>\n",
              "  .colab-df-quickchart {\n",
              "    background-color: #E8F0FE;\n",
              "    border: none;\n",
              "    border-radius: 50%;\n",
              "    cursor: pointer;\n",
              "    display: none;\n",
              "    fill: #1967D2;\n",
              "    height: 32px;\n",
              "    padding: 0 0 0 0;\n",
              "    width: 32px;\n",
              "  }\n",
              "\n",
              "  .colab-df-quickchart:hover {\n",
              "    background-color: #E2EBFA;\n",
              "    box-shadow: 0px 1px 2px rgba(60, 64, 67, 0.3), 0px 1px 3px 1px rgba(60, 64, 67, 0.15);\n",
              "    fill: #174EA6;\n",
              "  }\n",
              "\n",
              "  [theme=dark] .colab-df-quickchart {\n",
              "    background-color: #3B4455;\n",
              "    fill: #D2E3FC;\n",
              "  }\n",
              "\n",
              "  [theme=dark] .colab-df-quickchart:hover {\n",
              "    background-color: #434B5C;\n",
              "    box-shadow: 0px 1px 3px 1px rgba(0, 0, 0, 0.15);\n",
              "    filter: drop-shadow(0px 1px 2px rgba(0, 0, 0, 0.3));\n",
              "    fill: #FFFFFF;\n",
              "  }\n",
              "</style>\n",
              "\n",
              "    <script>\n",
              "      async function quickchart(key) {\n",
              "        const containerElement = document.querySelector('#' + key);\n",
              "        const charts = await google.colab.kernel.invokeFunction(\n",
              "            'suggestCharts', [key], {});\n",
              "      }\n",
              "    </script>\n",
              "\n",
              "      <script>\n",
              "\n",
              "function displayQuickchartButton(domScope) {\n",
              "  let quickchartButtonEl =\n",
              "    domScope.querySelector('#df-8dbc57b2-412d-4cba-85ad-19bc007472ed button.colab-df-quickchart');\n",
              "  quickchartButtonEl.style.display =\n",
              "    google.colab.kernel.accessAllowed ? 'block' : 'none';\n",
              "}\n",
              "\n",
              "        displayQuickchartButton(document);\n",
              "      </script>\n",
              "      <style>\n",
              "    .colab-df-container {\n",
              "      display:flex;\n",
              "      flex-wrap:wrap;\n",
              "      gap: 12px;\n",
              "    }\n",
              "\n",
              "    .colab-df-convert {\n",
              "      background-color: #E8F0FE;\n",
              "      border: none;\n",
              "      border-radius: 50%;\n",
              "      cursor: pointer;\n",
              "      display: none;\n",
              "      fill: #1967D2;\n",
              "      height: 32px;\n",
              "      padding: 0 0 0 0;\n",
              "      width: 32px;\n",
              "    }\n",
              "\n",
              "    .colab-df-convert:hover {\n",
              "      background-color: #E2EBFA;\n",
              "      box-shadow: 0px 1px 2px rgba(60, 64, 67, 0.3), 0px 1px 3px 1px rgba(60, 64, 67, 0.15);\n",
              "      fill: #174EA6;\n",
              "    }\n",
              "\n",
              "    [theme=dark] .colab-df-convert {\n",
              "      background-color: #3B4455;\n",
              "      fill: #D2E3FC;\n",
              "    }\n",
              "\n",
              "    [theme=dark] .colab-df-convert:hover {\n",
              "      background-color: #434B5C;\n",
              "      box-shadow: 0px 1px 3px 1px rgba(0, 0, 0, 0.15);\n",
              "      filter: drop-shadow(0px 1px 2px rgba(0, 0, 0, 0.3));\n",
              "      fill: #FFFFFF;\n",
              "    }\n",
              "  </style>\n",
              "\n",
              "      <script>\n",
              "        const buttonEl =\n",
              "          document.querySelector('#df-b34a7172-fc0e-4161-9635-2a9d3fd27381 button.colab-df-convert');\n",
              "        buttonEl.style.display =\n",
              "          google.colab.kernel.accessAllowed ? 'block' : 'none';\n",
              "\n",
              "        async function convertToInteractive(key) {\n",
              "          const element = document.querySelector('#df-b34a7172-fc0e-4161-9635-2a9d3fd27381');\n",
              "          const dataTable =\n",
              "            await google.colab.kernel.invokeFunction('convertToInteractive',\n",
              "                                                     [key], {});\n",
              "          if (!dataTable) return;\n",
              "\n",
              "          const docLinkHtml = 'Like what you see? Visit the ' +\n",
              "            '<a target=\"_blank\" href=https://colab.research.google.com/notebooks/data_table.ipynb>data table notebook</a>'\n",
              "            + ' to learn more about interactive tables.';\n",
              "          element.innerHTML = '';\n",
              "          dataTable['output_type'] = 'display_data';\n",
              "          await google.colab.output.renderOutput(dataTable, element);\n",
              "          const docLink = document.createElement('div');\n",
              "          docLink.innerHTML = docLinkHtml;\n",
              "          element.appendChild(docLink);\n",
              "        }\n",
              "      </script>\n",
              "    </div>\n",
              "  </div>\n"
            ]
          },
          "metadata": {},
          "execution_count": 131
        }
      ]
    },
    {
      "cell_type": "code",
      "source": [
        "# ws_des2[\"af3\"].value = date\n",
        "# wb.save('دیتا بیس گزارشات روزانه (3).xlsx')"
      ],
      "metadata": {
        "id": "Op3HC2QswY3X"
      },
      "execution_count": 132,
      "outputs": []
    },
    {
      "cell_type": "code",
      "source": [
        "# Choose what we want to selectm from humanresource\n",
        "title = full_file_machinery['نوع'].loc[(full_file_machinery['تاریخ'] == date)]\n",
        "acctive = full_file_machinery['فعال'].loc[(full_file_machinery['تاریخ'] == date)]\n",
        "inAcctive = full_file_machinery['غیر فعال'].loc[(full_file_machinery['تاریخ'] == date)]\n",
        "repair = full_file_machinery['درحال تعمیر'].loc[(full_file_machinery['تاریخ'] == date)]\n",
        "# Print the values and see what you get"
      ],
      "metadata": {
        "id": "q7tTU967fi9e"
      },
      "execution_count": 133,
      "outputs": []
    },
    {
      "cell_type": "code",
      "source": [
        "# Intitate a for loop to fill data in excel file Machinary_title\n",
        "count_row = 6\n",
        "row_pos = 19\n",
        "col_pos_1 = \"c\"\n",
        "col_pos_2 = \"u\"\n",
        "col_pos_state_left_1 = \"k\"\n",
        "col_pos_state_left_2 = \"m\"\n",
        "col_pos_state_left_3 = \"p\"\n",
        "col_pos_state_right_1 = \"ac\"\n",
        "col_pos_state_right_2 = \"ae\"\n",
        "col_pos_state_right_3 = \"ah\"\n",
        "\n",
        "for i in title[0:10]:\n",
        "  ws_des2[col_pos_1 + str(row_pos)].value = i\n",
        "  row_pos += 1\n",
        "  #print(f\"{col_pos_1}{row_pos} : {ws_des2[col_pos_1 + str(row_pos)].value}\")\n",
        "\n",
        "row_pos = 19\n",
        "for j in title[10:20]:\n",
        "  ws_des2[col_pos_2 + str(row_pos)].value = j\n",
        "  row_pos += 1\n",
        "  #print(f\"{col_pos_2}{row_pos} : {ws_des2[col_pos_2 + str(row_pos)].value}\")\n",
        "\n",
        "wb.save('دیتا بیس گزارشات روزانه (3).xlsx')\n"
      ],
      "metadata": {
        "id": "uRhXk3lSqQtD"
      },
      "execution_count": 134,
      "outputs": []
    },
    {
      "cell_type": "code",
      "source": [
        "# Intitate a for loop to fill data in excel file Machinary_Acctive\n",
        "row_pos = 19\n",
        "for i in acctive[0:10]:\n",
        "  ws_des2[col_pos_state_left_1 + str(row_pos)].value = i\n",
        "  row_pos += 1\n",
        "  #print(f\"{col_pos_state_left_1}{row_pos} : {ws_des2[col_pos_state_left_1 + str(row_pos)].value}\")\n",
        "\n",
        "row_pos = 19\n",
        "for j in acctive[10:20]:\n",
        "  ws_des2[col_pos_state_right_1 + str(row_pos)].value = j\n",
        "  row_pos += 1\n",
        "  #print(f\"{col_pos_state_right_1}{row_pos} : {ws_des2[col_pos_state_right_1 + str(row_pos)].value}\")\n",
        "\n",
        "\n",
        "wb.save('دیتا بیس گزارشات روزانه (3).xlsx')\n"
      ],
      "metadata": {
        "id": "0b1bPTSLsjs_"
      },
      "execution_count": 135,
      "outputs": []
    },
    {
      "cell_type": "code",
      "source": [
        "# Intitate a for loop to fill data in excel file Machinary_inAcctive\n",
        "row_pos = 19\n",
        "for i in inAcctive[0:10]:\n",
        "  ws_des2[col_pos_state_left_2 + str(row_pos)].value = i\n",
        "  row_pos += 1\n",
        "  #print(f\"{col_pos_state_left_2}{row_pos} : {ws_des2[col_pos_state_left_2 + str(row_pos)].value}\")\n",
        "\n",
        "row_pos = 19\n",
        "for i in inAcctive[10:20]:\n",
        "  ws_des2[col_pos_state_right_2 + str(row_pos)].value = j\n",
        "  row_pos += 1\n",
        "  #print(f\"{col_pos_state_right_2}{row_pos} : {ws_des2[col_pos_state_right_2 + str(row_pos)].value}\")\n",
        "\n",
        "\n",
        "wb.save('دیتا بیس گزارشات روزانه (3).xlsx')"
      ],
      "metadata": {
        "id": "3n2ogLQDSjX4"
      },
      "execution_count": 136,
      "outputs": []
    },
    {
      "cell_type": "code",
      "source": [
        "# Intitate a for loop to fill data in excel file Machinary_Repair\n",
        "\n",
        "\n",
        "row_pos = 19\n",
        "for i in repair[0:10]:\n",
        "  ws_des2[col_pos_state_left_3 + str(row_pos)].value = i\n",
        "  row_pos += 1\n",
        "  #print(f\"{col_pos_state_left_3}{row_pos} : {ws_des2[col_pos_state_left_3 + str(row_pos)].value}\")\n",
        "\n",
        "row_pos = 19\n",
        "for i in repair[10:20]:\n",
        "  ws_des2[col_pos_state_right_3 + str(row_pos)].value = j\n",
        "  row_pos += 1\n",
        "  #print(f\"{col_pos_state_right_3}{row_pos} : {ws_des2[col_pos_state_right_3 + str(row_pos)].value}\")"
      ],
      "metadata": {
        "id": "C8otURK1T6A4"
      },
      "execution_count": 137,
      "outputs": []
    },
    {
      "cell_type": "markdown",
      "source": [
        "##### Materials"
      ],
      "metadata": {
        "id": "aFDjmwdBUgq8"
      }
    },
    {
      "cell_type": "code",
      "source": [
        "ws_material = wb['مصالح وارد شده']\n",
        "#print(f\"Total number of rows: {ws_material.max_row} \\nTotal number columns: {ws_material.max_column}\")"
      ],
      "metadata": {
        "id": "uhFKpIFPUgoq"
      },
      "execution_count": 138,
      "outputs": []
    },
    {
      "cell_type": "code",
      "source": [
        "## Extract the columns\n",
        "col1 = [ws_material.cell(row=i, column=1).value\n",
        "                  for i in range(2, ws_material.max_row+1)]\n",
        "\n",
        "col2 = [ws_material.cell(row=i, column=2).value\n",
        "                  for i in range(2, ws_material.max_row+1)]\n",
        "\n",
        "col3 = [ws_material.cell(row=i, column=3).value\n",
        "                  for i in range(2, ws_material.max_row+1)]\n",
        "\n",
        "col4 = [ws_material.cell(row=i, column=4).value\n",
        "                  for i in range(2, ws_material.max_row+1)]\n",
        "\n",
        "col5 = [ws_material.cell(row=i, column=5).value\n",
        "                  for i in range(2, ws_material.max_row+1)]\n",
        "## Make them dataframe\n",
        "df_col1 = pd.DataFrame(col1, columns=['رديف'])\n",
        "df_col1['رديف'] = df_col1['رديف'].fillna(0)\n",
        "\n",
        "df_col2 = pd.DataFrame(col2, columns=['تاریخ'])\n",
        "df_col2['تاریخ'] = df_col2['تاریخ'].fillna(0)\n",
        "\n",
        "df_col3 = pd.DataFrame(col3, columns=['شرح مصالح'])\n",
        "df_col3['شرح مصالح'] = df_col3['شرح مصالح'].fillna(0)\n",
        "\n",
        "df_col4 = pd.DataFrame(col4, columns=['مقدار'])\n",
        "df_col4['مقدار'] = df_col4['مقدار'].fillna(0)\n",
        "\n",
        "df_col5 = pd.DataFrame(col5, columns=['واحد'])\n",
        "df_col5['واحد'] = df_col5['واحد'].fillna(0)\n",
        "\n",
        "\n",
        "# Joingong the data frames as column and create the main data frame\n",
        "full_file_materials = pd.concat([df_col1, df_col2, df_col3, df_col4, df_col5], axis=1, join='inner')\n",
        "full_file_materials[:10]"
      ],
      "metadata": {
        "colab": {
          "base_uri": "https://localhost:8080/",
          "height": 363
        },
        "id": "TsGVV-nFUgkA",
        "outputId": "ed226fd6-5460-4f23-f1ae-e7d2d46cbb0e"
      },
      "execution_count": 139,
      "outputs": [
        {
          "output_type": "execute_result",
          "data": {
            "text/plain": [
              "   رديف                تاریخ             شرح مصالح  مقدار    واحد\n",
              "0   0.0                    0  ميلگرد آجدار سايز 12   10.0      تن\n",
              "1   0.0                    0  ميلگرد آجدار سايز 14    4.5      تن\n",
              "2   0.0                    0  ميلگرد آجدار سايز 16    4.5      تن\n",
              "3   0.0                    0  ميلگرد آجدار سايز 20    4.5      تن\n",
              "4   0.0                    0  ميلگرد آجدار سايز 25   57.0      تن\n",
              "5   0.0                    0  ميلگرد آجدار سايز 28    9.0      تن\n",
              "6   0.0                    0  ميلگرد آجدار سايز 32    4.5      تن\n",
              "7   1.0  2023-05-31 00:00:00         کانکس 12 متری    1.0  دستگاه\n",
              "8   1.0  2023-06-02 00:00:00         کانکس 12 متری    1.0  دستگاه\n",
              "9   1.0  2023-06-04 00:00:00                  ماسه    2.0      تن"
            ],
            "text/html": [
              "\n",
              "\n",
              "  <div id=\"df-92739f65-4249-486e-83ac-2de998af20c6\">\n",
              "    <div class=\"colab-df-container\">\n",
              "      <div>\n",
              "<style scoped>\n",
              "    .dataframe tbody tr th:only-of-type {\n",
              "        vertical-align: middle;\n",
              "    }\n",
              "\n",
              "    .dataframe tbody tr th {\n",
              "        vertical-align: top;\n",
              "    }\n",
              "\n",
              "    .dataframe thead th {\n",
              "        text-align: right;\n",
              "    }\n",
              "</style>\n",
              "<table border=\"1\" class=\"dataframe\">\n",
              "  <thead>\n",
              "    <tr style=\"text-align: right;\">\n",
              "      <th></th>\n",
              "      <th>رديف</th>\n",
              "      <th>تاریخ</th>\n",
              "      <th>شرح مصالح</th>\n",
              "      <th>مقدار</th>\n",
              "      <th>واحد</th>\n",
              "    </tr>\n",
              "  </thead>\n",
              "  <tbody>\n",
              "    <tr>\n",
              "      <th>0</th>\n",
              "      <td>0.0</td>\n",
              "      <td>0</td>\n",
              "      <td>ميلگرد آجدار سايز 12</td>\n",
              "      <td>10.0</td>\n",
              "      <td>تن</td>\n",
              "    </tr>\n",
              "    <tr>\n",
              "      <th>1</th>\n",
              "      <td>0.0</td>\n",
              "      <td>0</td>\n",
              "      <td>ميلگرد آجدار سايز 14</td>\n",
              "      <td>4.5</td>\n",
              "      <td>تن</td>\n",
              "    </tr>\n",
              "    <tr>\n",
              "      <th>2</th>\n",
              "      <td>0.0</td>\n",
              "      <td>0</td>\n",
              "      <td>ميلگرد آجدار سايز 16</td>\n",
              "      <td>4.5</td>\n",
              "      <td>تن</td>\n",
              "    </tr>\n",
              "    <tr>\n",
              "      <th>3</th>\n",
              "      <td>0.0</td>\n",
              "      <td>0</td>\n",
              "      <td>ميلگرد آجدار سايز 20</td>\n",
              "      <td>4.5</td>\n",
              "      <td>تن</td>\n",
              "    </tr>\n",
              "    <tr>\n",
              "      <th>4</th>\n",
              "      <td>0.0</td>\n",
              "      <td>0</td>\n",
              "      <td>ميلگرد آجدار سايز 25</td>\n",
              "      <td>57.0</td>\n",
              "      <td>تن</td>\n",
              "    </tr>\n",
              "    <tr>\n",
              "      <th>5</th>\n",
              "      <td>0.0</td>\n",
              "      <td>0</td>\n",
              "      <td>ميلگرد آجدار سايز 28</td>\n",
              "      <td>9.0</td>\n",
              "      <td>تن</td>\n",
              "    </tr>\n",
              "    <tr>\n",
              "      <th>6</th>\n",
              "      <td>0.0</td>\n",
              "      <td>0</td>\n",
              "      <td>ميلگرد آجدار سايز 32</td>\n",
              "      <td>4.5</td>\n",
              "      <td>تن</td>\n",
              "    </tr>\n",
              "    <tr>\n",
              "      <th>7</th>\n",
              "      <td>1.0</td>\n",
              "      <td>2023-05-31 00:00:00</td>\n",
              "      <td>کانکس 12 متری</td>\n",
              "      <td>1.0</td>\n",
              "      <td>دستگاه</td>\n",
              "    </tr>\n",
              "    <tr>\n",
              "      <th>8</th>\n",
              "      <td>1.0</td>\n",
              "      <td>2023-06-02 00:00:00</td>\n",
              "      <td>کانکس 12 متری</td>\n",
              "      <td>1.0</td>\n",
              "      <td>دستگاه</td>\n",
              "    </tr>\n",
              "    <tr>\n",
              "      <th>9</th>\n",
              "      <td>1.0</td>\n",
              "      <td>2023-06-04 00:00:00</td>\n",
              "      <td>ماسه</td>\n",
              "      <td>2.0</td>\n",
              "      <td>تن</td>\n",
              "    </tr>\n",
              "  </tbody>\n",
              "</table>\n",
              "</div>\n",
              "      <button class=\"colab-df-convert\" onclick=\"convertToInteractive('df-92739f65-4249-486e-83ac-2de998af20c6')\"\n",
              "              title=\"Convert this dataframe to an interactive table.\"\n",
              "              style=\"display:none;\">\n",
              "\n",
              "  <svg xmlns=\"http://www.w3.org/2000/svg\" height=\"24px\"viewBox=\"0 0 24 24\"\n",
              "       width=\"24px\">\n",
              "    <path d=\"M0 0h24v24H0V0z\" fill=\"none\"/>\n",
              "    <path d=\"M18.56 5.44l.94 2.06.94-2.06 2.06-.94-2.06-.94-.94-2.06-.94 2.06-2.06.94zm-11 1L8.5 8.5l.94-2.06 2.06-.94-2.06-.94L8.5 2.5l-.94 2.06-2.06.94zm10 10l.94 2.06.94-2.06 2.06-.94-2.06-.94-.94-2.06-.94 2.06-2.06.94z\"/><path d=\"M17.41 7.96l-1.37-1.37c-.4-.4-.92-.59-1.43-.59-.52 0-1.04.2-1.43.59L10.3 9.45l-7.72 7.72c-.78.78-.78 2.05 0 2.83L4 21.41c.39.39.9.59 1.41.59.51 0 1.02-.2 1.41-.59l7.78-7.78 2.81-2.81c.8-.78.8-2.07 0-2.86zM5.41 20L4 18.59l7.72-7.72 1.47 1.35L5.41 20z\"/>\n",
              "  </svg>\n",
              "      </button>\n",
              "\n",
              "\n",
              "\n",
              "    <div id=\"df-1eaceaff-95c0-45f4-9b9f-12c561c91518\">\n",
              "      <button class=\"colab-df-quickchart\" onclick=\"quickchart('df-1eaceaff-95c0-45f4-9b9f-12c561c91518')\"\n",
              "              title=\"Suggest charts.\"\n",
              "              style=\"display:none;\">\n",
              "\n",
              "<svg xmlns=\"http://www.w3.org/2000/svg\" height=\"24px\"viewBox=\"0 0 24 24\"\n",
              "     width=\"24px\">\n",
              "    <g>\n",
              "        <path d=\"M19 3H5c-1.1 0-2 .9-2 2v14c0 1.1.9 2 2 2h14c1.1 0 2-.9 2-2V5c0-1.1-.9-2-2-2zM9 17H7v-7h2v7zm4 0h-2V7h2v10zm4 0h-2v-4h2v4z\"/>\n",
              "    </g>\n",
              "</svg>\n",
              "      </button>\n",
              "    </div>\n",
              "\n",
              "<style>\n",
              "  .colab-df-quickchart {\n",
              "    background-color: #E8F0FE;\n",
              "    border: none;\n",
              "    border-radius: 50%;\n",
              "    cursor: pointer;\n",
              "    display: none;\n",
              "    fill: #1967D2;\n",
              "    height: 32px;\n",
              "    padding: 0 0 0 0;\n",
              "    width: 32px;\n",
              "  }\n",
              "\n",
              "  .colab-df-quickchart:hover {\n",
              "    background-color: #E2EBFA;\n",
              "    box-shadow: 0px 1px 2px rgba(60, 64, 67, 0.3), 0px 1px 3px 1px rgba(60, 64, 67, 0.15);\n",
              "    fill: #174EA6;\n",
              "  }\n",
              "\n",
              "  [theme=dark] .colab-df-quickchart {\n",
              "    background-color: #3B4455;\n",
              "    fill: #D2E3FC;\n",
              "  }\n",
              "\n",
              "  [theme=dark] .colab-df-quickchart:hover {\n",
              "    background-color: #434B5C;\n",
              "    box-shadow: 0px 1px 3px 1px rgba(0, 0, 0, 0.15);\n",
              "    filter: drop-shadow(0px 1px 2px rgba(0, 0, 0, 0.3));\n",
              "    fill: #FFFFFF;\n",
              "  }\n",
              "</style>\n",
              "\n",
              "    <script>\n",
              "      async function quickchart(key) {\n",
              "        const containerElement = document.querySelector('#' + key);\n",
              "        const charts = await google.colab.kernel.invokeFunction(\n",
              "            'suggestCharts', [key], {});\n",
              "      }\n",
              "    </script>\n",
              "\n",
              "      <script>\n",
              "\n",
              "function displayQuickchartButton(domScope) {\n",
              "  let quickchartButtonEl =\n",
              "    domScope.querySelector('#df-1eaceaff-95c0-45f4-9b9f-12c561c91518 button.colab-df-quickchart');\n",
              "  quickchartButtonEl.style.display =\n",
              "    google.colab.kernel.accessAllowed ? 'block' : 'none';\n",
              "}\n",
              "\n",
              "        displayQuickchartButton(document);\n",
              "      </script>\n",
              "      <style>\n",
              "    .colab-df-container {\n",
              "      display:flex;\n",
              "      flex-wrap:wrap;\n",
              "      gap: 12px;\n",
              "    }\n",
              "\n",
              "    .colab-df-convert {\n",
              "      background-color: #E8F0FE;\n",
              "      border: none;\n",
              "      border-radius: 50%;\n",
              "      cursor: pointer;\n",
              "      display: none;\n",
              "      fill: #1967D2;\n",
              "      height: 32px;\n",
              "      padding: 0 0 0 0;\n",
              "      width: 32px;\n",
              "    }\n",
              "\n",
              "    .colab-df-convert:hover {\n",
              "      background-color: #E2EBFA;\n",
              "      box-shadow: 0px 1px 2px rgba(60, 64, 67, 0.3), 0px 1px 3px 1px rgba(60, 64, 67, 0.15);\n",
              "      fill: #174EA6;\n",
              "    }\n",
              "\n",
              "    [theme=dark] .colab-df-convert {\n",
              "      background-color: #3B4455;\n",
              "      fill: #D2E3FC;\n",
              "    }\n",
              "\n",
              "    [theme=dark] .colab-df-convert:hover {\n",
              "      background-color: #434B5C;\n",
              "      box-shadow: 0px 1px 3px 1px rgba(0, 0, 0, 0.15);\n",
              "      filter: drop-shadow(0px 1px 2px rgba(0, 0, 0, 0.3));\n",
              "      fill: #FFFFFF;\n",
              "    }\n",
              "  </style>\n",
              "\n",
              "      <script>\n",
              "        const buttonEl =\n",
              "          document.querySelector('#df-92739f65-4249-486e-83ac-2de998af20c6 button.colab-df-convert');\n",
              "        buttonEl.style.display =\n",
              "          google.colab.kernel.accessAllowed ? 'block' : 'none';\n",
              "\n",
              "        async function convertToInteractive(key) {\n",
              "          const element = document.querySelector('#df-92739f65-4249-486e-83ac-2de998af20c6');\n",
              "          const dataTable =\n",
              "            await google.colab.kernel.invokeFunction('convertToInteractive',\n",
              "                                                     [key], {});\n",
              "          if (!dataTable) return;\n",
              "\n",
              "          const docLinkHtml = 'Like what you see? Visit the ' +\n",
              "            '<a target=\"_blank\" href=https://colab.research.google.com/notebooks/data_table.ipynb>data table notebook</a>'\n",
              "            + ' to learn more about interactive tables.';\n",
              "          element.innerHTML = '';\n",
              "          dataTable['output_type'] = 'display_data';\n",
              "          await google.colab.output.renderOutput(dataTable, element);\n",
              "          const docLink = document.createElement('div');\n",
              "          docLink.innerHTML = docLinkHtml;\n",
              "          element.appendChild(docLink);\n",
              "        }\n",
              "      </script>\n",
              "    </div>\n",
              "  </div>\n"
            ]
          },
          "metadata": {},
          "execution_count": 139
        }
      ]
    },
    {
      "cell_type": "code",
      "source": [
        "# Choose what we want to selectm from Materials\n",
        "material = full_file_materials['شرح مصالح'].loc[(full_file_materials['تاریخ'] == date)]\n",
        "amount = full_file_materials['مقدار'].loc[(full_file_materials['تاریخ'] == date)]\n",
        "unit = full_file_materials['واحد'].loc[(full_file_materials['تاریخ'] == date)]\n",
        "#material"
      ],
      "metadata": {
        "id": "QzFv7CwIUghY"
      },
      "execution_count": 140,
      "outputs": []
    },
    {
      "cell_type": "code",
      "source": [
        "# Intitate a for loop to fill data in excel file for material_title\n",
        "row_pos = 31\n",
        "col_pos_1 = \"c\"\n",
        "col_pos_2 = \"o\"\n",
        "col_pos_3 = \"aa\"\n",
        "\n",
        "for i in material[0:10]:\n",
        "  ws_des2[col_pos_1 + str(row_pos)].value = i\n",
        "  row_pos += 1\n",
        "  #print(f\"{col_pos_1}{row_pos} : {ws_des2[col_pos_1 + str(row_pos)].value}\")\n",
        "\n",
        "row_pos = 6\n",
        "for j in material[10:20]:\n",
        "  ws_des2[col_pos_2 + str(row_pos)].value = j\n",
        "  row_pos += 1\n",
        "  #print(f\"{col_pos_2}{row_pos} : {ws_des2[col_pos_2 + str(row_pos)].value}\")\n",
        "\n",
        "row_pos = 6\n",
        "for k in material[20:]:\n",
        "  ws_des2[col_pos_3 + str(row_pos)].value = k\n",
        "  row_pos += 1\n",
        "  if (ws_des2[col_pos_3 + str(row_pos)].value == ws_des2[col_pos_3 + str(row_pos-1)].value):\n",
        "    ws_des2[col_pos_3 + str(row_pos)].value =\"\"\n",
        "  #print(f\"{col_pos_3}{row_pos} : {ws_des2[col_pos_3 + str(row_pos)].value}\")\n",
        "\n",
        "wb.save('دیتا بیس گزارشات روزانه (3).xlsx')"
      ],
      "metadata": {
        "id": "kcmwbI-fW72A"
      },
      "execution_count": 141,
      "outputs": []
    },
    {
      "cell_type": "code",
      "source": [
        "# Intitate a for loop to fill data in excel file for material_amount\n",
        "col_pos_state_left_1 = \"I\"\n",
        "col_pos_state_left_2 = \"K\"\n",
        "col_pos_state_middle_1 = \"U\"\n",
        "col_pos_state_middle_2 = \"W\"\n",
        "col_pos_state_right_1 = \"AG\"\n",
        "col_pos_state_right_3 = \"AI\"\n",
        "\n",
        "for i in amount[0:10]:\n",
        "  ws_des2[col_pos_state_left_1 + str(row_pos)].value = i\n",
        "  row_pos += 1\n",
        "  #print(f\"{col_pos_state_left_1}{row_pos} : {ws_des2[col_pos_state_left_1 + str(row_pos)].value}\")\n",
        "\n",
        "row_pos = 6\n",
        "for j in amount[10:20]:\n",
        "  ws_des2[col_pos_state_middle_1 + str(row_pos)].value = j\n",
        "  row_pos += 1\n",
        "  #print(f\"{col_pos_state_middle_1}{row_pos} : {ws_des2[col_pos_state_middle_1 + str(row_pos)].value}\")\n",
        "\n",
        "row_pos = 6\n",
        "for k in amount[20:]:\n",
        "  ws_des2[col_pos_state_right_1 + str(row_pos)].value = k\n",
        "  row_pos += 1\n",
        "  if (ws_des2[col_pos_state_right_1 + str(row_pos)].value == ws_des2[col_pos_state_right_1 + str(row_pos-1)].value):\n",
        "    ws_des2[col_pos_state_right_1 + str(row_pos)].value =\"\"\n",
        "  #print(f\"{col_pos_state_right_1}{row_pos} : {ws_des2[col_pos_state_right_1 + str(row_pos)].value}\")\n",
        "\n",
        "wb.save('دیتا بیس گزارشات روزانه (3).xlsx')"
      ],
      "metadata": {
        "id": "FipLlE5IW7z4"
      },
      "execution_count": 142,
      "outputs": []
    },
    {
      "cell_type": "code",
      "source": [
        "# Intitate a for loop to fill data in excel file for material_amount\n",
        "for i in unit[0:10]:\n",
        "  ws_des2[col_pos_state_left_2 + str(row_pos)].value = i\n",
        "  row_pos += 1\n",
        "  #print(f\"{col_pos_state_left_2}{row_pos} : {ws_des2[col_pos_state_left_2 + str(row_pos)].value}\")\n",
        "\n",
        "row_pos = 6\n",
        "for j in unit[10:20]:\n",
        "  ws_des2[col_pos_state_middle_2 + str(row_pos)].value = j\n",
        "  row_pos += 1\n",
        "  #print(f\"{col_pos_state_middle_2}{row_pos} : {ws_des2[col_pos_state_middle_2 + str(row_pos)].value}\")\n",
        "\n",
        "row_pos = 6\n",
        "for k in unit[20:]:\n",
        "  ws_des2[col_pos_state_right_3 + str(row_pos)].value = k\n",
        "  row_pos += 1\n",
        "  if (ws_des2[col_pos_state_right_3 + str(row_pos)].value == ws_des2[col_pos_state_right_3 + str(row_pos-1)].value):\n",
        "    ws_des2[col_pos_state_right_3 + str(row_pos)].value =\"\"\n",
        "  #print(f\"{col_pos_state_right_3}{row_pos} : {ws_des2[col_pos_state_right_3 + str(row_pos)].value}\")\n",
        "\n",
        "wb.save('دیتا بیس گزارشات روزانه (3).xlsx')"
      ],
      "metadata": {
        "id": "MuuW3p7qW7xY"
      },
      "execution_count": 143,
      "outputs": []
    },
    {
      "cell_type": "code",
      "source": [],
      "metadata": {
        "id": "u1fyqLmrW7uw"
      },
      "execution_count": 143,
      "outputs": []
    }
  ]
}