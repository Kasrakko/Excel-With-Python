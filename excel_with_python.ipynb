{
  "nbformat": 4,
  "nbformat_minor": 0,
  "metadata": {
    "colab": {
      "provenance": [],
      "collapsed_sections": [
        "AoZfkzUVC9yq",
        "uJnQCSyeDl7q",
        "vTOS6vYrC9py",
        "UPzH4cvDLGig",
        "CAuca1Yr-UGh",
        "nlmbjeeL-clB",
        "Zydn3WA2-kg5"
      ],
      "authorship_tag": "ABX9TyPYw947j+q3yLfnY55fYSvO",
      "include_colab_link": true
    },
    "kernelspec": {
      "name": "python3",
      "display_name": "Python 3"
    },
    "language_info": {
      "name": "python"
    }
  },
  "cells": [
    {
      "cell_type": "markdown",
      "metadata": {
        "id": "view-in-github",
        "colab_type": "text"
      },
      "source": [
        "<a href=\"https://colab.research.google.com/github/Kasrakko/Excel-With-Python/blob/main/excel_with_python.ipynb\" target=\"_parent\"><img src=\"https://colab.research.google.com/assets/colab-badge.svg\" alt=\"Open In Colab\"/></a>"
      ]
    },
    {
      "cell_type": "markdown",
      "source": [
        "# workimg with excel in python"
      ],
      "metadata": {
        "id": "MSCq4d28sxzg"
      }
    },
    {
      "cell_type": "markdown",
      "source": [
        "## Import the librarries"
      ],
      "metadata": {
        "id": "dkFszdivA7vi"
      }
    },
    {
      "cell_type": "code",
      "source": [
        "import openpyxl as pyx\n",
        "import numpy as np\n",
        "import pandas as pd\n",
        "import matplotlib.pyplot as plt"
      ],
      "metadata": {
        "id": "8MH8f2ivAqBd"
      },
      "execution_count": 262,
      "outputs": []
    },
    {
      "cell_type": "markdown",
      "source": [
        "## Open the file"
      ],
      "metadata": {
        "id": "5mTDwItXCAjz"
      }
    },
    {
      "cell_type": "code",
      "source": [
        "wb = pyx.load_workbook('دیتا بیس گزارشات روزانه (3).xlsx')"
      ],
      "metadata": {
        "id": "avV4AD7XCE3b"
      },
      "execution_count": 263,
      "outputs": []
    },
    {
      "cell_type": "markdown",
      "source": [
        "## Select the sheet that we want"
      ],
      "metadata": {
        "id": "0JfgkOY9CE1a"
      }
    },
    {
      "cell_type": "code",
      "source": [
        "ws = wb['عملیات اجرایی']"
      ],
      "metadata": {
        "id": "g6vF2DFmCEy6"
      },
      "execution_count": 264,
      "outputs": []
    },
    {
      "cell_type": "markdown",
      "source": [
        "## Basic things for start"
      ],
      "metadata": {
        "id": "eyTn6PhOCEwK"
      }
    },
    {
      "cell_type": "markdown",
      "source": [
        "### Count the rows and columns"
      ],
      "metadata": {
        "id": "AoZfkzUVC9yq"
      }
    },
    {
      "cell_type": "code",
      "source": [
        "print(f\"Total number of rows: {ws.max_row} \\nTotal number columns: {ws.max_column}\")"
      ],
      "metadata": {
        "colab": {
          "base_uri": "https://localhost:8080/"
        },
        "id": "k8MQB4DnFyXy",
        "outputId": "860468d3-fcee-42c5-93f3-6a7f5318594e"
      },
      "execution_count": 265,
      "outputs": [
        {
          "output_type": "stream",
          "name": "stdout",
          "text": [
            "Total number of rows: 200 \n",
            "Total number columns: 11\n"
          ]
        }
      ]
    },
    {
      "cell_type": "markdown",
      "source": [
        "### Reading data from a cell"
      ],
      "metadata": {
        "id": "eqcHgNJjDmp6"
      }
    },
    {
      "cell_type": "markdown",
      "source": [
        "#### The value of exact cell read be like this"
      ],
      "metadata": {
        "id": "uJnQCSyeDl7q"
      }
    },
    {
      "cell_type": "code",
      "source": [
        "print(f\"The value of cell A1 is: {ws['f2'].value}\")"
      ],
      "metadata": {
        "colab": {
          "base_uri": "https://localhost:8080/"
        },
        "id": "pDzQhlrZC9uF",
        "outputId": "85957e6b-31b0-4979-da06-508cd89c30db"
      },
      "execution_count": 266,
      "outputs": [
        {
          "output_type": "stream",
          "name": "stdout",
          "text": [
            "The value of cell A1 is: اجرای عملیات تخریب دیوار ضلع جنوبی کارگاه\n"
          ]
        }
      ]
    },
    {
      "cell_type": "markdown",
      "source": [
        "#### Reading data from multiple cells"
      ],
      "metadata": {
        "id": "vTOS6vYrC9py"
      }
    },
    {
      "cell_type": "code",
      "source": [
        "values = [ws.cell(row=1, column=i).value\n",
        "          for i in range(1, ws.max_column+1)]\n",
        "print(values)"
      ],
      "metadata": {
        "colab": {
          "base_uri": "https://localhost:8080/"
        },
        "id": "NWGVz1E4C9nr",
        "outputId": "d973a1d1-79ae-4cf4-f4f1-eb9e5f24a073"
      },
      "execution_count": 267,
      "outputs": [
        {
          "output_type": "stream",
          "name": "stdout",
          "text": [
            "['ردیف', 'تاریخ', 'شماره گزارش', 'موضوع', 'تراز', 'شرح', 'حجم كل', 'مقدار', 'واحد', 'کد WBS', None]\n"
          ]
        }
      ]
    },
    {
      "cell_type": "code",
      "source": [
        "myColumnValues = [ws.cell(row=i, column=6).value\n",
        "                  for i in range(2, ws.max_row+1)]\n",
        "# if we want to get data in specefic area we could write any array in `range()`\n",
        "for i in myColumnValues:\n",
        "  print (i)\n"
      ],
      "metadata": {
        "colab": {
          "base_uri": "https://localhost:8080/"
        },
        "id": "jYyWfMAXC9i6",
        "outputId": "6102eb95-5319-433d-9e67-b84abc6ce336"
      },
      "execution_count": 268,
      "outputs": [
        {
          "output_type": "stream",
          "name": "stdout",
          "text": [
            "اجرای عملیات تخریب دیوار ضلع جنوبی کارگاه\n",
            "اجرایی زیرسازی و پایه گذاری حصار کارگاه ضلع جنوبی\n",
            "اجرای عملیات تخریب دیوار ضلع جنوبی کارگاه\n",
            "اجرایی زیرسازی و پایه گذاری حصار کارگاه ضلع جنوبی\n",
            "تعمیر و اصلاحیه برق کارگاه\n",
            "اجرای عملیات پایه گذاری صفحه ستون کانکس های قسمت اداری\n",
            "اجرای عملیات رگلاژ سطح کانکس های اداری\n",
            "نقاشی و باز سازی ساختمان موجود در کارگاه (اسکان کارگری)\n",
            "اجرای عملیات پایه گذاری صفحه ستون کانکس های قسمت اداری\n",
            "اجرای عملیات رگلاژ سطح کانکس های اداری\n",
            "نقاشی و باز سازی ساختمان موجود در کارگاه (اسکان کارگری)\n",
            "اجرای عملیات پایه گذاری صفحه ستون کانکس های قسمت اداری\n",
            "اجرای عملیات رگلاژ سطح کانکس های اداری\n",
            "اجرای عملیات پایه گذاری صفحه ستون کانکس های قسمت اداری\n",
            "اجرای عملیات رگلاژ سطح کانکس های اداری\n",
            "انتقال و جابجایی منبع آب (کارفرما)\n",
            "اجرای عملیات پایه گذاری صفحه ستون کانکس های قسمت اداری\n",
            "اجرای عملیات رگلاژ سطح کانکس های اداری\n",
            "انتقال و جابجایی منبع آب (کارفرما)\n",
            "تخلیه وزنه و کالسکه تاور کرین\n",
            "اجرای آرماتور بندی شبکه و  جانمایی صفحه ستون کانکس های اداری\n",
            "انتقال و جابجایی منبع آب (کارفرما)\n",
            "اجرا و اصلاحیه خط فاضلاب\n",
            "زنگ زدایی آرماتور ها\n",
            "اجرای آرماتور بندی شبکه و  جانمایی صفحه ستون کانکس های اداری\n",
            "اجرا و اصلاحیه خط فاضلاب\n",
            "زنگ زدایی آرماتور ها\n",
            "اجرای آرماتور بندی شبکه و  جانمایی صفحه ستون کانکس های اداری\n",
            "اجرا و اصلاحیه خط فاضلاب\n",
            "زنگ زدایی آرماتور ها\n",
            "تخلیه کانکس 12 متری\n",
            "اجرای آرماتور بندی شبکه و  جانمایی صفحه ستون کانکس های اداری\n",
            "بتن ریزی پایه ستون کانکس های اداری\n",
            "نصب کولرگازی ساختمان کارگری\n",
            "تخلیه کانکس 12 متری اداری\n",
            "حمل نخاله های کارگاه\n",
            "زنگ زدایی میلگرد ها\n",
            "نظافت کارگاه اطراف آرماتور های ستون ها\n",
            "تخلیه بلوک\n",
            "تخلیه ماسه\n",
            "تخلیه سیمان کیسه ای\n",
            "زنگ زادیی میلگرد ها\n",
            "زنگ زادیی میلگرد ها\n",
            "خاک ریزی و تسطیح جهت کانکس های اداری\n",
            "زنگ زادیی میلگرد ها\n",
            "آماده سازی و تسطیح جهت کانکس های اداری\n",
            "نظافت کارگاه\n",
            "زنگ زادیی میلگرد ها\n",
            "نظافت کارگاه\n",
            "تخلیه کانتینر 12 متری انبار\n",
            "جابجای 2 کانکس\n",
            "زیرسازی جهت جاگذاری کانتینر 12 متری انبار\n",
            "زیرسازی جهت جاگذاری کانتینر 12 متری انبار\n",
            "زنگ زدایی آرماتور ها\n",
            "زیرسازی جهت جاگذاری کانتینر 12 متری انبار\n",
            "زنگ زدایی آرماتور ها\n",
            "تخلیه کامپیوتر ها\n",
            "زنگ زدایی آرماتور ها\n",
            "زنگ زدایی آرماتور ها\n",
            "تعیین مقدار کاهش ضخامت میلگرد های انتظار دیوارهای برشی و ستون ها\n",
            "بررسی و پی گیری روش حفاظت کاتودی\n",
            "تهیه لیستوفر دیوار حائل\n",
            "زنگ زدایی آرماتور ها\n",
            "بررسي و تهيه ليستوفر ستون ها و ديوارهاي برشي\n",
            "بررسی و پی گیری روش حفاظت کاتودی ميلگرد ها\n",
            "ارائه لیستوفر دیوار حائل به كارفرماي محترم\n",
            "زنگ زدایی آرماتور ها\n",
            "بررسي و تهيه ليستوفر ستون ها و ديوارهاي برشي\n",
            "بررسی و پی گیری روش حفاظت کاتودی ميلگرد ها\n",
            "زنگ زدایی آرماتور ها\n",
            "بررسي و تهيه ليستوفر ستون ها و ديوارهاي برشي\n",
            "بررسی و پی گیری روش حفاظت کاتودی ميلگرد ها\n",
            "زنگ زدایی آرماتور ها\n",
            "بررسي و تهيه ليستوفر ستون ها و ديوارهاي برشي\n",
            "بررسی و پی گیری روش حفاظت کاتودی ميلگرد ها\n",
            "زنگ زدایی آرماتور ها\n",
            "بررسي و تهيه ليستوفر ستون ها و ديوارهاي برشي\n",
            "بررسی و پی گیری روش حفاظت کاتودی ميلگرد ها\n",
            "بررسي مغايرت هاي نقشه هاي سازه\n",
            "زنگ زدایی آرماتور ها\n",
            "بررسي و تهيه ليستوفر ستون ها و ديوارهاي حائل\n",
            "بررسی و پی گیری روش حفاظت کاتودی ميلگرد ها\n",
            "بررسي مغايرت هاي نقشه هاي سازه\n",
            "تجهيز شاپ آرماتور بندي\n",
            "اصلاح برنامه زمانبندي مطابق نظر كارفرماي محترم\n",
            "زنگ زدایی آرماتور ها\n",
            "بررسي و تهيه ليستوفر ستون ها و ديوارهاي حائل\n",
            "بررسی و پی گیری روش حفاظت کاتودی ميلگرد ها\n",
            "بررسي مغايرت هاي نقشه هاي سازه\n",
            "تجهيز شاپ آرماتور بندي\n",
            "اصلاح برنامه زمانبندي مطابق نظر كارفرماي محترم\n",
            "زنگ زدایی آرماتور ها\n",
            "بررسي و تهيه ليستوفر ستون ها و ديوارهاي حائل\n",
            "بررسی و پی گیری روش حفاظت کاتودی ميلگرد ها\n",
            "بررسي مغايرت هاي نقشه هاي سازه\n",
            "تجهيز شاپ آرماتور بندي\n",
            "اصلاح برنامه زمانبندي مطابق نظر كارفرماي محترم\n",
            "زنگ زدایی آرماتور ها\n",
            "بررسي و تهيه ليستوفر ستون ها و ديوارهاي حائل\n",
            "بررسي مغايرت هاي نقشه هاي سازه\n",
            "آغاز به كار شاپ آرماتور بندي\n",
            "اصلاح برنامه زمانبندي مطابق نظر كارفرماي محترم\n",
            "تخليه بخشي از سكشن هاي تاور 12 تن\n",
            "زنگ زدایی آرماتور ها\n",
            "بررسي و تهيه ليستوفر ستون ها و ديوارهاي حائل\n",
            "بررسي مغايرت هاي نقشه هاي سازه\n",
            "خم و برش آرماتور هاي ستون ها و ديوار هاي حائل\n",
            "اصلاح برنامه زمانبندي مطابق نظر كارفرماي محترم\n",
            "تخليه بخشي از سكشن هاي تاور 12 تن\n",
            "زنگ زدایی آرماتور ها\n",
            "بررسي و تهيه ليستوفر ستون ها و ديوارهاي حائل\n",
            "بررسي مغايرت هاي نقشه هاي سازه\n",
            "خم و برش آرماتور هاي ستون ها و ديوار هاي حائل\n",
            "اصلاح برنامه زمانبندي مطابق نظر كارفرماي محترم\n",
            "تخليه بخشي از سكشن هاي تاور 12 تن\n",
            "زنگ زدایی آرماتور ها با سنگ فرز\n",
            "بررسي و تهيه ليستوفر ستون ها و ديوارهاي حائل\n",
            "بررسي مغايرت هاي نقشه هاي سازه\n",
            "خم و برش آرماتور هاي ستون ها و ديوار هاي حائل\n",
            "اصلاح برنامه زمانبندي مطابق نظر كارفرماي محترم\n",
            "زنگ زدایی آرماتور ها با سنگ فرز\n",
            "بررسي و تهيه ليستوفر ستون ها و ديوارهاي حائل\n",
            "بررسي مغايرت هاي نقشه هاي سازه\n",
            "خم و برش آرماتور هاي ستون ها و ديوار هاي حائل\n",
            "اصلاح برنامه زمانبندي مطابق نظر كارفرماي محترم\n",
            "تدارك اجاره واتر جت جهت زنگ زدايي آرماتورها\n",
            "زنگ زدایی آرماتور ها با سنگ فرز\n",
            "بررسي و تهيه ليستوفر ستون ها و ديوارهاي حائل\n",
            "بررسي مغايرت هاي نقشه هاي سازه\n",
            "خم و برش آرماتور هاي ستون ها و ديوار هاي حائل\n",
            "اصلاح برنامه زمانبندي مطابق نظر كارفرماي محترم\n",
            "تدارك اجاره واتر جت جهت زنگ زدايي آرماتورها\n",
            "زنگ زدایی آرماتور ها توسط واتر جت\n",
            "بررسي و تهيه ليستوفر ستون ها و ديوارهاي حائل\n",
            "بررسي مغايرت هاي نقشه هاي سازه\n",
            "خم و برش آرماتور هاي ستون ها و ديوار هاي حائل\n",
            "اصلاح برنامه زمانبندي مطابق نظر كارفرماي محترم\n",
            "زنگ زدایی آرماتور ها توسط واتر پلاست\n",
            "خم و برش آرماتور هاي ستون ها و ديوار هاي حائل\n",
            "زنگ زدایی آرماتور ها توسط واتر پلاست\n",
            "خم و برش آرماتور هاي ستون ها و ديوار هاي حائل\n",
            "زنگ زدایی آرماتور ها توسط واتر پلاست\n",
            "خم و برش آرماتور هاي ستون ها و ديوار هاي حائل\n",
            "زنگ زدایی آرماتور ها توسط واتر پلاست\n",
            "خم و برش آرماتور هاي ستون ها و ديوار هاي حائل\n",
            "زنگ زدایی آرماتور ها توسط فرچه سيمي\n",
            "زنگ زدایی آرماتور ها توسط فرچه سيمي\n",
            "خم و برش آرماتور هاي ستون ها و ديوار هاي حائل\n",
            "زنگ زدایی آرماتور ها توسط فرچه سيمي\n",
            "خم و برش آرماتور هاي ستون ها و ديوار هاي حائل\n",
            "زنگ زدایی آرماتور ها توسط فرچه سيمي و سند بلاست با آب ديوارهاي حائل و ستون ها\n",
            "خم و برش آرماتور هاي ستون ها و ديوار هاي حائل\n",
            "زنگ زدایی آرماتور ها توسط فرچه سيمي و سند بلاست با آب ديوارهاي حائل و ستون ها\n",
            "خم و برش آرماتور هاي ستون ها و ديوار هاي حائل\n",
            "زنگ زدایی آرماتور ها توسط فرچه سيمي و سند بلاست با آب ديوارهاي حائل و ستون ها\n",
            "خم و برش آرماتور هاي ستون ها و ديوار هاي حائل\n",
            "زنگ زدايي با فرچه سيمي ضلع شرقي\n",
            "خم و برش آرماتور هاي ستون ها و ديوار هاي حائل\n",
            "زنگ زدايي با فرچه سيمي ضلع شرقي\n",
            "خم و برش آرماتور هاي ستون ها و ديوار هاي حائل\n",
            "خم و برش آرماتور هاي ستون ها و ديوار هاي حائل\n",
            "آماده سازي واتر جت جديد\n",
            "زنگ زدايي آرماتورها توسط سندبلاست با آب ضلع جنوبي محور 2 / L تا M\n",
            "زنگ زدايي آرماتورها توسط سندبلاست با آب ضلع جنوبي محور 2 / L تا H\n",
            "زنگ زدايي آرماتورها توسط سندبلاست با آب ضلع جنوبي محور 2 / H تا C\n",
            "اجراي عمليات تجهيزكارگاه (ورود 2 عدد كانكس 6 متري)\n",
            "زنگ زدايي آرماتورها توسط سندبلاست با آب ضلع جنوبي محور 2 / C تا B\n",
            "اجراي عمليات تجهيزكارگاه (ورود 2 عدد كانكس 6 متري - و زيرسازي محل استقرار كانكس ها)\n",
            "تجهيز كارگاه زيرسازي محل استقرار كانكس ها\n",
            "تجهيز گارگاه اجراي عايق حرارتي بام سرويس ها \n",
            "تجهيز كارگاه (اجراي عمليات نصب ستون هاي فلزي) جهت استقرار كانكس \n",
            "خم و برش آرماتور هاي ستون ها و ديوار هاي حائل\n",
            "تجهيز كارگاه (اجراي عمليات نصب ستون هاي فلزي) جهت استقرار كانكس \n",
            "خم و برش آرماتور هاي ستون ها و ديوار هاي حائل\n",
            "تجهيز كارگاه (اجراي عمليات نصب ستون هاي فلزي) جهت استقرار كانكس \n",
            "تجهيز كارگاه (نصب كولر دفاتر فني و اداري)\n",
            "نصب تاور كرين 12 تن\n",
            "خم و برش آرماتور هاي ستون ها و ديوار هاي حائل\n",
            "تجهيز كارگاه (اجراي عمليات نصب ستون هاي فلزي) جهت استقرار كانكس \n",
            "تجهيز كارگاه (نصب كولر دفاتر فني و اداري)\n",
            "نصب تاور كرين 12 تن\n",
            "خم و برش آرماتور هاي ستون ها و ديوار هاي حائل\n",
            "تجهيز كارگاه (نصب كولر دفاتر فني و اداري)\n",
            "نصب تاور كرين 12 تن\n",
            "تجهيز كارگاه (نصب كولر دفاتر فني و اداري)\n",
            "نصب تاور كرين 12 تن\n",
            "تجهيز كارگاه (نصب كولر دفاتر فني و اداري)\n",
            "نصب تاور كرين 12 تن\n",
            "نصب تاور كرين 12 تن\n",
            "خم و برش آرماتور هاي ستون ها و ديوار هاي حائل\n",
            "نصب تاور كرين 12 تن\n",
            "خم و برش آرماتور هاي ستون ها و ديوار هاي حائل\n",
            "غیر فعال\n",
            "خم و برش آرماتور هاي ستون ها و ديوار هاي حائل\n",
            "زنگ زدايي آرماتور ديوارهاي حائل و ستونها سندبلاست با آب\n",
            "زنگ زدايي آرماتور ديوارهاي حائل و ستونها سندبلاست با آب\n",
            "خم و برش آرماتور هاي ستون ها و ديوار هاي حائل\n",
            "زنگ زدايي آرماتور ديوارهاي حائل و ستونها سندبلاست با آب\n",
            "زنگ زدايي آرماتور ديوارهاي حائل و ستونها سندبلاست\n"
          ]
        }
      ]
    },
    {
      "cell_type": "markdown",
      "source": [
        "#### Reading data from any range of columns"
      ],
      "metadata": {
        "id": "UPzH4cvDLGig"
      }
    },
    {
      "cell_type": "code",
      "source": [
        "my_report_list = list()\n",
        "data_list = list()\n",
        "\n",
        "for value in ws.iter_rows(\n",
        "    min_row=1, max_row=11, min_col=1, max_col=6,\n",
        "    values_only=True):\n",
        "  my_report_list.append(value)\n",
        "\n",
        "for i in my_report_list[1:]:\n",
        "  data_list.append(i)\n",
        "#data_list\n",
        "\n",
        "## Make it numPy array, so we can get shape of its\n",
        "data_list = np.array(data_list)\n",
        "data_list.shape\n"
      ],
      "metadata": {
        "colab": {
          "base_uri": "https://localhost:8080/"
        },
        "id": "QyIYGB4BLGga",
        "outputId": "abe38c72-2315-43c5-a397-19be6f57eafd"
      },
      "execution_count": 269,
      "outputs": [
        {
          "output_type": "execute_result",
          "data": {
            "text/plain": [
              "(10, 6)"
            ]
          },
          "metadata": {},
          "execution_count": 269
        }
      ]
    },
    {
      "cell_type": "markdown",
      "source": [
        "### Writing into excel file"
      ],
      "metadata": {
        "id": "aGzr4wE-CEcC"
      }
    },
    {
      "cell_type": "markdown",
      "source": [
        "#### `ws['Your cell location'] = 'The data that U want to add'`"
      ],
      "metadata": {
        "id": "T5SXLcDuCEaS"
      }
    },
    {
      "cell_type": "markdown",
      "source": [
        "#### `wb.save('ديتابيس گزارس روزانه.xlsx')`"
      ],
      "metadata": {
        "id": "MLPOYnPJh5v1"
      }
    },
    {
      "cell_type": "markdown",
      "source": [
        "row_position = 173\n",
        "col_position = 7\n",
        "\n",
        "total_value = ((ws.cell(row=row_position, column=col_position).value)*\n",
        "               (ws.cell(row=row_position, column=col_position+1).value))\n",
        "\n",
        "ws.cell(row=173,column=11).value=total_value\n",
        "# wb.save('دیتا بیس گزارشات روزانه (3).xlsx')"
      ],
      "metadata": {
        "id": "EK24ekWmje7Q"
      }
    },
    {
      "cell_type": "markdown",
      "source": [
        "#### Remmember that if u want to edit the file while you had id open somewhere you will reach to an eroor"
      ],
      "metadata": {
        "id": "y4ynzg2Ph5t3"
      }
    },
    {
      "cell_type": "markdown",
      "source": [
        "### Make our file to a Dataframe to change it with Pandas and felixiable to changing"
      ],
      "metadata": {
        "id": "E3mRgLPri3M7"
      }
    },
    {
      "cell_type": "markdown",
      "source": [
        "#### Make all the column a list()"
      ],
      "metadata": {
        "id": "CAuca1Yr-UGh"
      }
    },
    {
      "cell_type": "code",
      "source": [
        "col1 = [ws.cell(row=i, column=1).value\n",
        "                  for i in range(2, ws.max_row+1)]\n",
        "## if we want to get data in specefic area we could write any array in `range()`\n",
        "\n",
        "len(col1)"
      ],
      "metadata": {
        "colab": {
          "base_uri": "https://localhost:8080/"
        },
        "id": "os9hgPkOBXcc",
        "outputId": "7ad6bb8a-8034-4dab-d6de-c8e126c280ae"
      },
      "execution_count": 270,
      "outputs": [
        {
          "output_type": "execute_result",
          "data": {
            "text/plain": [
              "199"
            ]
          },
          "metadata": {},
          "execution_count": 270
        }
      ]
    },
    {
      "cell_type": "code",
      "source": [
        "col2 = [ws.cell(row=i, column=2).value\n",
        "                  for i in range(2, ws.max_row+1)]\n",
        "## if we want to get data in specefic area we could write any array in `range()`\n",
        "\n",
        "len(col2)"
      ],
      "metadata": {
        "colab": {
          "base_uri": "https://localhost:8080/"
        },
        "id": "zuJbhk_EBXWe",
        "outputId": "34c6c001-0d25-4a21-d7de-494f00c318d7"
      },
      "execution_count": 271,
      "outputs": [
        {
          "output_type": "execute_result",
          "data": {
            "text/plain": [
              "199"
            ]
          },
          "metadata": {},
          "execution_count": 271
        }
      ]
    },
    {
      "cell_type": "code",
      "source": [
        "col3 = [ws.cell(row=i, column=3).value\n",
        "                  for i in range(2, ws.max_row+1)]\n",
        "## if we want to get data in specefic area we could write any array in `range()`\n",
        "\n",
        "len(col3)"
      ],
      "metadata": {
        "colab": {
          "base_uri": "https://localhost:8080/"
        },
        "id": "0c6Cap2oBXQE",
        "outputId": "94d4bd4c-1142-4d4e-c43a-4d58064d18bd"
      },
      "execution_count": 272,
      "outputs": [
        {
          "output_type": "execute_result",
          "data": {
            "text/plain": [
              "199"
            ]
          },
          "metadata": {},
          "execution_count": 272
        }
      ]
    },
    {
      "cell_type": "code",
      "source": [
        "col4 = [ws.cell(row=i, column=4).value\n",
        "                  for i in range(2, ws.max_row+1)]\n",
        "## if we want to get data in specefic area we could write any array in `range()`\n",
        "\n",
        "len(col4)"
      ],
      "metadata": {
        "colab": {
          "base_uri": "https://localhost:8080/"
        },
        "id": "qU2NrU2mBXIE",
        "outputId": "6675fb48-094a-47a4-9733-9ff85b2a0f07"
      },
      "execution_count": 273,
      "outputs": [
        {
          "output_type": "execute_result",
          "data": {
            "text/plain": [
              "199"
            ]
          },
          "metadata": {},
          "execution_count": 273
        }
      ]
    },
    {
      "cell_type": "code",
      "source": [
        "col5 = [ws.cell(row=i, column=5).value\n",
        "                  for i in range(2, ws.max_row+1)]\n",
        "## if we want to get data in specefic area we could write any array in `range()`\n",
        "\n",
        "len(col5)"
      ],
      "metadata": {
        "colab": {
          "base_uri": "https://localhost:8080/"
        },
        "id": "aqnISln7BW_s",
        "outputId": "bb95e0b7-1f5e-4057-8a12-b396661271af"
      },
      "execution_count": 274,
      "outputs": [
        {
          "output_type": "execute_result",
          "data": {
            "text/plain": [
              "199"
            ]
          },
          "metadata": {},
          "execution_count": 274
        }
      ]
    },
    {
      "cell_type": "code",
      "source": [
        "col6 = [ws.cell(row=i, column=6).value\n",
        "                  for i in range(2, ws.max_row+1)]\n",
        "## if we want to get data in specefic area we could write any array in `range()`\n",
        "\n",
        "len(col6)"
      ],
      "metadata": {
        "colab": {
          "base_uri": "https://localhost:8080/"
        },
        "id": "_zrD0XTQBYmc",
        "outputId": "94d74b4a-4a6d-4880-842b-36510ba0924b"
      },
      "execution_count": 275,
      "outputs": [
        {
          "output_type": "execute_result",
          "data": {
            "text/plain": [
              "199"
            ]
          },
          "metadata": {},
          "execution_count": 275
        }
      ]
    },
    {
      "cell_type": "code",
      "source": [
        "col7 = [ws.cell(row=i, column=7).value\n",
        "                  for i in range(2, ws.max_row+1)]\n",
        "## if we want to get data in specefic area we could write any array in `range()`\n",
        "\n",
        "len(col7)"
      ],
      "metadata": {
        "colab": {
          "base_uri": "https://localhost:8080/"
        },
        "id": "zw61AAHMje4v",
        "outputId": "53e2df06-bc68-4037-aa42-552a019b1201"
      },
      "execution_count": 276,
      "outputs": [
        {
          "output_type": "execute_result",
          "data": {
            "text/plain": [
              "199"
            ]
          },
          "metadata": {},
          "execution_count": 276
        }
      ]
    },
    {
      "cell_type": "code",
      "source": [
        "col8 = [ws.cell(row=i, column=8).value\n",
        "                  for i in range(2, ws.max_row+1)]\n",
        "len(col8)\n",
        "## if we want to get data in specefic area we could write any array in `range()`\n",
        "# len(col8)"
      ],
      "metadata": {
        "colab": {
          "base_uri": "https://localhost:8080/"
        },
        "id": "eRAEbvRxje2D",
        "outputId": "dcfc4650-4956-4cf0-d4b8-e1e258a643fb"
      },
      "execution_count": 277,
      "outputs": [
        {
          "output_type": "execute_result",
          "data": {
            "text/plain": [
              "199"
            ]
          },
          "metadata": {},
          "execution_count": 277
        }
      ]
    },
    {
      "cell_type": "code",
      "source": [
        "col9 = [ws.cell(row=i, column=9).value\n",
        "                  for i in range(2, ws.max_row+1)]\n",
        "## if we want to get data in specefic area we could write any array in `range()`\n",
        "\n",
        "len(col9)"
      ],
      "metadata": {
        "colab": {
          "base_uri": "https://localhost:8080/"
        },
        "id": "L4zMCBXJDPRN",
        "outputId": "dba0720f-2a71-470f-d96e-1f9d0b156d76"
      },
      "execution_count": 278,
      "outputs": [
        {
          "output_type": "execute_result",
          "data": {
            "text/plain": [
              "199"
            ]
          },
          "metadata": {},
          "execution_count": 278
        }
      ]
    },
    {
      "cell_type": "code",
      "source": [
        "col10 = [ws.cell(row=i, column=10).value\n",
        "                  for i in range(2, ws.max_row+1)]\n",
        "## if we want to get data in specefic area we could write any array in `range()`\n",
        "\n",
        "len(col10)"
      ],
      "metadata": {
        "colab": {
          "base_uri": "https://localhost:8080/"
        },
        "id": "oHdvRAHoDPOu",
        "outputId": "c6fce424-02fb-4462-cd71-cb9ee0ef2ac4"
      },
      "execution_count": 279,
      "outputs": [
        {
          "output_type": "execute_result",
          "data": {
            "text/plain": [
              "199"
            ]
          },
          "metadata": {},
          "execution_count": 279
        }
      ]
    },
    {
      "cell_type": "markdown",
      "source": [
        "#### Now make all of the lists to a datagram"
      ],
      "metadata": {
        "id": "nlmbjeeL-clB"
      }
    },
    {
      "cell_type": "code",
      "source": [
        "# We have to convert the list to data frame to work with pandas and make the null values to zero\n",
        "# Do it for ALL Column\n",
        "\n",
        "df_col1 = pd.DataFrame(col1, columns=['رديف'])\n",
        "df_col1['رديف'] = df_col1['رديف'].fillna(0)\n",
        "\n",
        "df_col2 = pd.DataFrame(col2, columns=['تاريخ'])\n",
        "df_col2['تاريخ'] = df_col2['تاريخ'].fillna(0)\n",
        "\n",
        "\n",
        "df_col3 = pd.DataFrame(col3, columns=['شماره گزارش'])\n",
        "df_col3['شماره گزارش'] = df_col3['شماره گزارش'].fillna(0)\n",
        "\n",
        "\n",
        "df_col4 = pd.DataFrame(col4, columns=['موضوع'])\n",
        "df_col4['موضوع'] = df_col4['موضوع'].fillna(0)\n",
        "\n",
        "\n",
        "df_col5 = pd.DataFrame(col5, columns=['تراز'])\n",
        "df_col5['تراز'] = df_col5['تراز'].fillna(0)\n",
        "\n",
        "\n",
        "df_col6 = pd.DataFrame(col6, columns=['شرح'])\n",
        "df_col6['شرح'] = df_col6['شرح'].fillna(0)\n",
        "\n",
        "\n",
        "df_col7 = pd.DataFrame(col7, columns=['حجم كل'])\n",
        "df_col7['حجم كل'] = df_col7['حجم كل'].fillna(0)\n",
        "\n",
        "\n",
        "\n",
        "df_col8 = pd.DataFrame(col8, columns=['مقدار'])\n",
        "df_col8['مقدار'] = df_col8['مقدار'].fillna(0)\n",
        "\n",
        "df_col9 = df = pd.DataFrame(col9, columns=['واحد'])\n",
        "df_col9['واحد'] = df_col9['واحد'].fillna(0)\n",
        "\n",
        "df_col10 = df = pd.DataFrame(col10, columns=['كد WBS'])\n",
        "df_col10['كد WBS'] = df_col10['كد WBS'].fillna(0)\n",
        "\n",
        "print (df_col1['رديف'][171])\n",
        "print (df_col2['تاريخ'][171])\n",
        "print (df_col3['شماره گزارش'][171])\n",
        "print (df_col4['موضوع'][171])\n",
        "print (df_col5['تراز'][171])\n",
        "print (df_col6['شرح'][171])\n",
        "print (df_col7['حجم كل'][171])\n",
        "print (df_col8['مقدار'][171])\n",
        "print (df_col9['واحد'][171])\n",
        "print (df_col10['كد WBS'][171])"
      ],
      "metadata": {
        "colab": {
          "base_uri": "https://localhost:8080/"
        },
        "id": "SSLaSlHXRWlK",
        "outputId": "bd9c3801-62aa-46ce-af58-a1aa317f7eeb"
      },
      "execution_count": 280,
      "outputs": [
        {
          "output_type": "stream",
          "name": "stdout",
          "text": [
            "0.0\n",
            "2023-07-19 00:00:00\n",
            "85\n",
            "0\n",
            "0\n",
            "خم و برش آرماتور هاي ستون ها و ديوار هاي حائل\n",
            "43.249\n",
            "2.478\n",
            "تن\n",
            "0\n"
          ]
        }
      ]
    },
    {
      "cell_type": "markdown",
      "source": [
        "#### Join all of the Daaframes and make a table"
      ],
      "metadata": {
        "id": "Zydn3WA2-kg5"
      }
    },
    {
      "cell_type": "code",
      "source": [
        "# Joingong the data frames as column and create the main data frame\n",
        "full_file = pd.concat([df_col1, df_col2, df_col3, df_col4, df_col5, df_col6, df_col7, df_col8, df_col9, df_col10], axis=1, join='inner')\n",
        "display(full_file)"
      ],
      "metadata": {
        "colab": {
          "base_uri": "https://localhost:8080/",
          "height": 0
        },
        "id": "gsPU2dJBWilr",
        "outputId": "7611dda3-2784-4b58-a04f-ffd6f7aa1c3d"
      },
      "execution_count": 281,
      "outputs": [
        {
          "output_type": "display_data",
          "data": {
            "text/plain": [
              "     رديف      تاريخ  شماره گزارش  موضوع  تراز  \\\n",
              "0     1.0 2023-05-22           27      0     0   \n",
              "1     2.0 2023-05-22           27      0     0   \n",
              "2     1.0 2023-05-23           28      0     0   \n",
              "3     2.0 2023-05-23           28      0     0   \n",
              "4     3.0 2023-05-23           28      0     0   \n",
              "..    ...        ...          ...    ...   ...   \n",
              "194   0.0 2023-07-29           95      0     0   \n",
              "195   0.0 2023-07-30           96      0     0   \n",
              "196   0.0 2023-07-30           96      0     0   \n",
              "197   0.0 2023-07-31           97      0     0   \n",
              "198   0.0 2023-08-01           98      0     0   \n",
              "\n",
              "                                                   شرح  حجم كل  مقدار واحد  \\\n",
              "0            اجرای عملیات تخریب دیوار ضلع جنوبی کارگاه    0.00   0.00    0   \n",
              "1    اجرایی زیرسازی و پایه گذاری حصار کارگاه ضلع جنوبی    0.00   0.00    0   \n",
              "2            اجرای عملیات تخریب دیوار ضلع جنوبی کارگاه    0.00   0.00    0   \n",
              "3    اجرایی زیرسازی و پایه گذاری حصار کارگاه ضلع جنوبی    0.00   0.00    0   \n",
              "4                           تعمیر و اصلاحیه برق کارگاه    0.00   0.00    0   \n",
              "..                                                 ...     ...    ...  ...   \n",
              "194  زنگ زدايي آرماتور ديوارهاي حائل و ستونها سندبل...    0.00   0.00    0   \n",
              "195  زنگ زدايي آرماتور ديوارهاي حائل و ستونها سندبل...    0.00   0.00    0   \n",
              "196      خم و برش آرماتور هاي ستون ها و ديوار هاي حائل   54.28   7.86   تن   \n",
              "197  زنگ زدايي آرماتور ديوارهاي حائل و ستونها سندبل...    0.00   0.00    0   \n",
              "198  زنگ زدايي آرماتور ديوارهاي حائل و ستونها سندبلاست    0.00   0.00    0   \n",
              "\n",
              "    كد WBS  \n",
              "0    1.4.1  \n",
              "1    1.4.1  \n",
              "2    1.4.1  \n",
              "3    1.4.1  \n",
              "4    1.4.1  \n",
              "..     ...  \n",
              "194      0  \n",
              "195      0  \n",
              "196      0  \n",
              "197      0  \n",
              "198      0  \n",
              "\n",
              "[199 rows x 10 columns]"
            ],
            "text/html": [
              "\n",
              "\n",
              "  <div id=\"df-f976a2a1-5272-474f-aa40-95627c8dae76\">\n",
              "    <div class=\"colab-df-container\">\n",
              "      <div>\n",
              "<style scoped>\n",
              "    .dataframe tbody tr th:only-of-type {\n",
              "        vertical-align: middle;\n",
              "    }\n",
              "\n",
              "    .dataframe tbody tr th {\n",
              "        vertical-align: top;\n",
              "    }\n",
              "\n",
              "    .dataframe thead th {\n",
              "        text-align: right;\n",
              "    }\n",
              "</style>\n",
              "<table border=\"1\" class=\"dataframe\">\n",
              "  <thead>\n",
              "    <tr style=\"text-align: right;\">\n",
              "      <th></th>\n",
              "      <th>رديف</th>\n",
              "      <th>تاريخ</th>\n",
              "      <th>شماره گزارش</th>\n",
              "      <th>موضوع</th>\n",
              "      <th>تراز</th>\n",
              "      <th>شرح</th>\n",
              "      <th>حجم كل</th>\n",
              "      <th>مقدار</th>\n",
              "      <th>واحد</th>\n",
              "      <th>كد WBS</th>\n",
              "    </tr>\n",
              "  </thead>\n",
              "  <tbody>\n",
              "    <tr>\n",
              "      <th>0</th>\n",
              "      <td>1.0</td>\n",
              "      <td>2023-05-22</td>\n",
              "      <td>27</td>\n",
              "      <td>0</td>\n",
              "      <td>0</td>\n",
              "      <td>اجرای عملیات تخریب دیوار ضلع جنوبی کارگاه</td>\n",
              "      <td>0.00</td>\n",
              "      <td>0.00</td>\n",
              "      <td>0</td>\n",
              "      <td>1.4.1</td>\n",
              "    </tr>\n",
              "    <tr>\n",
              "      <th>1</th>\n",
              "      <td>2.0</td>\n",
              "      <td>2023-05-22</td>\n",
              "      <td>27</td>\n",
              "      <td>0</td>\n",
              "      <td>0</td>\n",
              "      <td>اجرایی زیرسازی و پایه گذاری حصار کارگاه ضلع جنوبی</td>\n",
              "      <td>0.00</td>\n",
              "      <td>0.00</td>\n",
              "      <td>0</td>\n",
              "      <td>1.4.1</td>\n",
              "    </tr>\n",
              "    <tr>\n",
              "      <th>2</th>\n",
              "      <td>1.0</td>\n",
              "      <td>2023-05-23</td>\n",
              "      <td>28</td>\n",
              "      <td>0</td>\n",
              "      <td>0</td>\n",
              "      <td>اجرای عملیات تخریب دیوار ضلع جنوبی کارگاه</td>\n",
              "      <td>0.00</td>\n",
              "      <td>0.00</td>\n",
              "      <td>0</td>\n",
              "      <td>1.4.1</td>\n",
              "    </tr>\n",
              "    <tr>\n",
              "      <th>3</th>\n",
              "      <td>2.0</td>\n",
              "      <td>2023-05-23</td>\n",
              "      <td>28</td>\n",
              "      <td>0</td>\n",
              "      <td>0</td>\n",
              "      <td>اجرایی زیرسازی و پایه گذاری حصار کارگاه ضلع جنوبی</td>\n",
              "      <td>0.00</td>\n",
              "      <td>0.00</td>\n",
              "      <td>0</td>\n",
              "      <td>1.4.1</td>\n",
              "    </tr>\n",
              "    <tr>\n",
              "      <th>4</th>\n",
              "      <td>3.0</td>\n",
              "      <td>2023-05-23</td>\n",
              "      <td>28</td>\n",
              "      <td>0</td>\n",
              "      <td>0</td>\n",
              "      <td>تعمیر و اصلاحیه برق کارگاه</td>\n",
              "      <td>0.00</td>\n",
              "      <td>0.00</td>\n",
              "      <td>0</td>\n",
              "      <td>1.4.1</td>\n",
              "    </tr>\n",
              "    <tr>\n",
              "      <th>...</th>\n",
              "      <td>...</td>\n",
              "      <td>...</td>\n",
              "      <td>...</td>\n",
              "      <td>...</td>\n",
              "      <td>...</td>\n",
              "      <td>...</td>\n",
              "      <td>...</td>\n",
              "      <td>...</td>\n",
              "      <td>...</td>\n",
              "      <td>...</td>\n",
              "    </tr>\n",
              "    <tr>\n",
              "      <th>194</th>\n",
              "      <td>0.0</td>\n",
              "      <td>2023-07-29</td>\n",
              "      <td>95</td>\n",
              "      <td>0</td>\n",
              "      <td>0</td>\n",
              "      <td>زنگ زدايي آرماتور ديوارهاي حائل و ستونها سندبل...</td>\n",
              "      <td>0.00</td>\n",
              "      <td>0.00</td>\n",
              "      <td>0</td>\n",
              "      <td>0</td>\n",
              "    </tr>\n",
              "    <tr>\n",
              "      <th>195</th>\n",
              "      <td>0.0</td>\n",
              "      <td>2023-07-30</td>\n",
              "      <td>96</td>\n",
              "      <td>0</td>\n",
              "      <td>0</td>\n",
              "      <td>زنگ زدايي آرماتور ديوارهاي حائل و ستونها سندبل...</td>\n",
              "      <td>0.00</td>\n",
              "      <td>0.00</td>\n",
              "      <td>0</td>\n",
              "      <td>0</td>\n",
              "    </tr>\n",
              "    <tr>\n",
              "      <th>196</th>\n",
              "      <td>0.0</td>\n",
              "      <td>2023-07-30</td>\n",
              "      <td>96</td>\n",
              "      <td>0</td>\n",
              "      <td>0</td>\n",
              "      <td>خم و برش آرماتور هاي ستون ها و ديوار هاي حائل</td>\n",
              "      <td>54.28</td>\n",
              "      <td>7.86</td>\n",
              "      <td>تن</td>\n",
              "      <td>0</td>\n",
              "    </tr>\n",
              "    <tr>\n",
              "      <th>197</th>\n",
              "      <td>0.0</td>\n",
              "      <td>2023-07-31</td>\n",
              "      <td>97</td>\n",
              "      <td>0</td>\n",
              "      <td>0</td>\n",
              "      <td>زنگ زدايي آرماتور ديوارهاي حائل و ستونها سندبل...</td>\n",
              "      <td>0.00</td>\n",
              "      <td>0.00</td>\n",
              "      <td>0</td>\n",
              "      <td>0</td>\n",
              "    </tr>\n",
              "    <tr>\n",
              "      <th>198</th>\n",
              "      <td>0.0</td>\n",
              "      <td>2023-08-01</td>\n",
              "      <td>98</td>\n",
              "      <td>0</td>\n",
              "      <td>0</td>\n",
              "      <td>زنگ زدايي آرماتور ديوارهاي حائل و ستونها سندبلاست</td>\n",
              "      <td>0.00</td>\n",
              "      <td>0.00</td>\n",
              "      <td>0</td>\n",
              "      <td>0</td>\n",
              "    </tr>\n",
              "  </tbody>\n",
              "</table>\n",
              "<p>199 rows × 10 columns</p>\n",
              "</div>\n",
              "      <button class=\"colab-df-convert\" onclick=\"convertToInteractive('df-f976a2a1-5272-474f-aa40-95627c8dae76')\"\n",
              "              title=\"Convert this dataframe to an interactive table.\"\n",
              "              style=\"display:none;\">\n",
              "\n",
              "  <svg xmlns=\"http://www.w3.org/2000/svg\" height=\"24px\"viewBox=\"0 0 24 24\"\n",
              "       width=\"24px\">\n",
              "    <path d=\"M0 0h24v24H0V0z\" fill=\"none\"/>\n",
              "    <path d=\"M18.56 5.44l.94 2.06.94-2.06 2.06-.94-2.06-.94-.94-2.06-.94 2.06-2.06.94zm-11 1L8.5 8.5l.94-2.06 2.06-.94-2.06-.94L8.5 2.5l-.94 2.06-2.06.94zm10 10l.94 2.06.94-2.06 2.06-.94-2.06-.94-.94-2.06-.94 2.06-2.06.94z\"/><path d=\"M17.41 7.96l-1.37-1.37c-.4-.4-.92-.59-1.43-.59-.52 0-1.04.2-1.43.59L10.3 9.45l-7.72 7.72c-.78.78-.78 2.05 0 2.83L4 21.41c.39.39.9.59 1.41.59.51 0 1.02-.2 1.41-.59l7.78-7.78 2.81-2.81c.8-.78.8-2.07 0-2.86zM5.41 20L4 18.59l7.72-7.72 1.47 1.35L5.41 20z\"/>\n",
              "  </svg>\n",
              "      </button>\n",
              "\n",
              "\n",
              "\n",
              "    <div id=\"df-9aecbbb0-e5bf-4407-b228-1750cc4b844d\">\n",
              "      <button class=\"colab-df-quickchart\" onclick=\"quickchart('df-9aecbbb0-e5bf-4407-b228-1750cc4b844d')\"\n",
              "              title=\"Suggest charts.\"\n",
              "              style=\"display:none;\">\n",
              "\n",
              "<svg xmlns=\"http://www.w3.org/2000/svg\" height=\"24px\"viewBox=\"0 0 24 24\"\n",
              "     width=\"24px\">\n",
              "    <g>\n",
              "        <path d=\"M19 3H5c-1.1 0-2 .9-2 2v14c0 1.1.9 2 2 2h14c1.1 0 2-.9 2-2V5c0-1.1-.9-2-2-2zM9 17H7v-7h2v7zm4 0h-2V7h2v10zm4 0h-2v-4h2v4z\"/>\n",
              "    </g>\n",
              "</svg>\n",
              "      </button>\n",
              "    </div>\n",
              "\n",
              "<style>\n",
              "  .colab-df-quickchart {\n",
              "    background-color: #E8F0FE;\n",
              "    border: none;\n",
              "    border-radius: 50%;\n",
              "    cursor: pointer;\n",
              "    display: none;\n",
              "    fill: #1967D2;\n",
              "    height: 32px;\n",
              "    padding: 0 0 0 0;\n",
              "    width: 32px;\n",
              "  }\n",
              "\n",
              "  .colab-df-quickchart:hover {\n",
              "    background-color: #E2EBFA;\n",
              "    box-shadow: 0px 1px 2px rgba(60, 64, 67, 0.3), 0px 1px 3px 1px rgba(60, 64, 67, 0.15);\n",
              "    fill: #174EA6;\n",
              "  }\n",
              "\n",
              "  [theme=dark] .colab-df-quickchart {\n",
              "    background-color: #3B4455;\n",
              "    fill: #D2E3FC;\n",
              "  }\n",
              "\n",
              "  [theme=dark] .colab-df-quickchart:hover {\n",
              "    background-color: #434B5C;\n",
              "    box-shadow: 0px 1px 3px 1px rgba(0, 0, 0, 0.15);\n",
              "    filter: drop-shadow(0px 1px 2px rgba(0, 0, 0, 0.3));\n",
              "    fill: #FFFFFF;\n",
              "  }\n",
              "</style>\n",
              "\n",
              "    <script>\n",
              "      async function quickchart(key) {\n",
              "        const containerElement = document.querySelector('#' + key);\n",
              "        const charts = await google.colab.kernel.invokeFunction(\n",
              "            'suggestCharts', [key], {});\n",
              "      }\n",
              "    </script>\n",
              "\n",
              "      <script>\n",
              "\n",
              "function displayQuickchartButton(domScope) {\n",
              "  let quickchartButtonEl =\n",
              "    domScope.querySelector('#df-9aecbbb0-e5bf-4407-b228-1750cc4b844d button.colab-df-quickchart');\n",
              "  quickchartButtonEl.style.display =\n",
              "    google.colab.kernel.accessAllowed ? 'block' : 'none';\n",
              "}\n",
              "\n",
              "        displayQuickchartButton(document);\n",
              "      </script>\n",
              "      <style>\n",
              "    .colab-df-container {\n",
              "      display:flex;\n",
              "      flex-wrap:wrap;\n",
              "      gap: 12px;\n",
              "    }\n",
              "\n",
              "    .colab-df-convert {\n",
              "      background-color: #E8F0FE;\n",
              "      border: none;\n",
              "      border-radius: 50%;\n",
              "      cursor: pointer;\n",
              "      display: none;\n",
              "      fill: #1967D2;\n",
              "      height: 32px;\n",
              "      padding: 0 0 0 0;\n",
              "      width: 32px;\n",
              "    }\n",
              "\n",
              "    .colab-df-convert:hover {\n",
              "      background-color: #E2EBFA;\n",
              "      box-shadow: 0px 1px 2px rgba(60, 64, 67, 0.3), 0px 1px 3px 1px rgba(60, 64, 67, 0.15);\n",
              "      fill: #174EA6;\n",
              "    }\n",
              "\n",
              "    [theme=dark] .colab-df-convert {\n",
              "      background-color: #3B4455;\n",
              "      fill: #D2E3FC;\n",
              "    }\n",
              "\n",
              "    [theme=dark] .colab-df-convert:hover {\n",
              "      background-color: #434B5C;\n",
              "      box-shadow: 0px 1px 3px 1px rgba(0, 0, 0, 0.15);\n",
              "      filter: drop-shadow(0px 1px 2px rgba(0, 0, 0, 0.3));\n",
              "      fill: #FFFFFF;\n",
              "    }\n",
              "  </style>\n",
              "\n",
              "      <script>\n",
              "        const buttonEl =\n",
              "          document.querySelector('#df-f976a2a1-5272-474f-aa40-95627c8dae76 button.colab-df-convert');\n",
              "        buttonEl.style.display =\n",
              "          google.colab.kernel.accessAllowed ? 'block' : 'none';\n",
              "\n",
              "        async function convertToInteractive(key) {\n",
              "          const element = document.querySelector('#df-f976a2a1-5272-474f-aa40-95627c8dae76');\n",
              "          const dataTable =\n",
              "            await google.colab.kernel.invokeFunction('convertToInteractive',\n",
              "                                                     [key], {});\n",
              "          if (!dataTable) return;\n",
              "\n",
              "          const docLinkHtml = 'Like what you see? Visit the ' +\n",
              "            '<a target=\"_blank\" href=https://colab.research.google.com/notebooks/data_table.ipynb>data table notebook</a>'\n",
              "            + ' to learn more about interactive tables.';\n",
              "          element.innerHTML = '';\n",
              "          dataTable['output_type'] = 'display_data';\n",
              "          await google.colab.output.renderOutput(dataTable, element);\n",
              "          const docLink = document.createElement('div');\n",
              "          docLink.innerHTML = docLinkHtml;\n",
              "          element.appendChild(docLink);\n",
              "        }\n",
              "      </script>\n",
              "    </div>\n",
              "  </div>\n"
            ]
          },
          "metadata": {}
        }
      ]
    },
    {
      "cell_type": "markdown",
      "source": [
        "#### Add a column to table for total price"
      ],
      "metadata": {
        "id": "dTNn99JW-rqp"
      }
    },
    {
      "cell_type": "code",
      "source": [
        "# Adding new column as total calculator\n",
        "total = full_file['مقدار'] * full_file['حجم كل']\n",
        "full_file['جمع كل'] = total\n",
        "full_file\n",
        "#full_file['جمع كل'][171]"
      ],
      "metadata": {
        "colab": {
          "base_uri": "https://localhost:8080/",
          "height": 424
        },
        "id": "8QxCGaWcZr7l",
        "outputId": "0a362385-cdea-4e5b-c1a3-ec29c2c87885"
      },
      "execution_count": 282,
      "outputs": [
        {
          "output_type": "execute_result",
          "data": {
            "text/plain": [
              "     رديف      تاريخ  شماره گزارش  موضوع  تراز  \\\n",
              "0     1.0 2023-05-22           27      0     0   \n",
              "1     2.0 2023-05-22           27      0     0   \n",
              "2     1.0 2023-05-23           28      0     0   \n",
              "3     2.0 2023-05-23           28      0     0   \n",
              "4     3.0 2023-05-23           28      0     0   \n",
              "..    ...        ...          ...    ...   ...   \n",
              "194   0.0 2023-07-29           95      0     0   \n",
              "195   0.0 2023-07-30           96      0     0   \n",
              "196   0.0 2023-07-30           96      0     0   \n",
              "197   0.0 2023-07-31           97      0     0   \n",
              "198   0.0 2023-08-01           98      0     0   \n",
              "\n",
              "                                                   شرح  حجم كل  مقدار واحد  \\\n",
              "0            اجرای عملیات تخریب دیوار ضلع جنوبی کارگاه    0.00   0.00    0   \n",
              "1    اجرایی زیرسازی و پایه گذاری حصار کارگاه ضلع جنوبی    0.00   0.00    0   \n",
              "2            اجرای عملیات تخریب دیوار ضلع جنوبی کارگاه    0.00   0.00    0   \n",
              "3    اجرایی زیرسازی و پایه گذاری حصار کارگاه ضلع جنوبی    0.00   0.00    0   \n",
              "4                           تعمیر و اصلاحیه برق کارگاه    0.00   0.00    0   \n",
              "..                                                 ...     ...    ...  ...   \n",
              "194  زنگ زدايي آرماتور ديوارهاي حائل و ستونها سندبل...    0.00   0.00    0   \n",
              "195  زنگ زدايي آرماتور ديوارهاي حائل و ستونها سندبل...    0.00   0.00    0   \n",
              "196      خم و برش آرماتور هاي ستون ها و ديوار هاي حائل   54.28   7.86   تن   \n",
              "197  زنگ زدايي آرماتور ديوارهاي حائل و ستونها سندبل...    0.00   0.00    0   \n",
              "198  زنگ زدايي آرماتور ديوارهاي حائل و ستونها سندبلاست    0.00   0.00    0   \n",
              "\n",
              "    كد WBS    جمع كل  \n",
              "0    1.4.1    0.0000  \n",
              "1    1.4.1    0.0000  \n",
              "2    1.4.1    0.0000  \n",
              "3    1.4.1    0.0000  \n",
              "4    1.4.1    0.0000  \n",
              "..     ...       ...  \n",
              "194      0    0.0000  \n",
              "195      0    0.0000  \n",
              "196      0  426.6408  \n",
              "197      0    0.0000  \n",
              "198      0    0.0000  \n",
              "\n",
              "[199 rows x 11 columns]"
            ],
            "text/html": [
              "\n",
              "\n",
              "  <div id=\"df-396ab713-e127-4799-8595-88fa23780e0c\">\n",
              "    <div class=\"colab-df-container\">\n",
              "      <div>\n",
              "<style scoped>\n",
              "    .dataframe tbody tr th:only-of-type {\n",
              "        vertical-align: middle;\n",
              "    }\n",
              "\n",
              "    .dataframe tbody tr th {\n",
              "        vertical-align: top;\n",
              "    }\n",
              "\n",
              "    .dataframe thead th {\n",
              "        text-align: right;\n",
              "    }\n",
              "</style>\n",
              "<table border=\"1\" class=\"dataframe\">\n",
              "  <thead>\n",
              "    <tr style=\"text-align: right;\">\n",
              "      <th></th>\n",
              "      <th>رديف</th>\n",
              "      <th>تاريخ</th>\n",
              "      <th>شماره گزارش</th>\n",
              "      <th>موضوع</th>\n",
              "      <th>تراز</th>\n",
              "      <th>شرح</th>\n",
              "      <th>حجم كل</th>\n",
              "      <th>مقدار</th>\n",
              "      <th>واحد</th>\n",
              "      <th>كد WBS</th>\n",
              "      <th>جمع كل</th>\n",
              "    </tr>\n",
              "  </thead>\n",
              "  <tbody>\n",
              "    <tr>\n",
              "      <th>0</th>\n",
              "      <td>1.0</td>\n",
              "      <td>2023-05-22</td>\n",
              "      <td>27</td>\n",
              "      <td>0</td>\n",
              "      <td>0</td>\n",
              "      <td>اجرای عملیات تخریب دیوار ضلع جنوبی کارگاه</td>\n",
              "      <td>0.00</td>\n",
              "      <td>0.00</td>\n",
              "      <td>0</td>\n",
              "      <td>1.4.1</td>\n",
              "      <td>0.0000</td>\n",
              "    </tr>\n",
              "    <tr>\n",
              "      <th>1</th>\n",
              "      <td>2.0</td>\n",
              "      <td>2023-05-22</td>\n",
              "      <td>27</td>\n",
              "      <td>0</td>\n",
              "      <td>0</td>\n",
              "      <td>اجرایی زیرسازی و پایه گذاری حصار کارگاه ضلع جنوبی</td>\n",
              "      <td>0.00</td>\n",
              "      <td>0.00</td>\n",
              "      <td>0</td>\n",
              "      <td>1.4.1</td>\n",
              "      <td>0.0000</td>\n",
              "    </tr>\n",
              "    <tr>\n",
              "      <th>2</th>\n",
              "      <td>1.0</td>\n",
              "      <td>2023-05-23</td>\n",
              "      <td>28</td>\n",
              "      <td>0</td>\n",
              "      <td>0</td>\n",
              "      <td>اجرای عملیات تخریب دیوار ضلع جنوبی کارگاه</td>\n",
              "      <td>0.00</td>\n",
              "      <td>0.00</td>\n",
              "      <td>0</td>\n",
              "      <td>1.4.1</td>\n",
              "      <td>0.0000</td>\n",
              "    </tr>\n",
              "    <tr>\n",
              "      <th>3</th>\n",
              "      <td>2.0</td>\n",
              "      <td>2023-05-23</td>\n",
              "      <td>28</td>\n",
              "      <td>0</td>\n",
              "      <td>0</td>\n",
              "      <td>اجرایی زیرسازی و پایه گذاری حصار کارگاه ضلع جنوبی</td>\n",
              "      <td>0.00</td>\n",
              "      <td>0.00</td>\n",
              "      <td>0</td>\n",
              "      <td>1.4.1</td>\n",
              "      <td>0.0000</td>\n",
              "    </tr>\n",
              "    <tr>\n",
              "      <th>4</th>\n",
              "      <td>3.0</td>\n",
              "      <td>2023-05-23</td>\n",
              "      <td>28</td>\n",
              "      <td>0</td>\n",
              "      <td>0</td>\n",
              "      <td>تعمیر و اصلاحیه برق کارگاه</td>\n",
              "      <td>0.00</td>\n",
              "      <td>0.00</td>\n",
              "      <td>0</td>\n",
              "      <td>1.4.1</td>\n",
              "      <td>0.0000</td>\n",
              "    </tr>\n",
              "    <tr>\n",
              "      <th>...</th>\n",
              "      <td>...</td>\n",
              "      <td>...</td>\n",
              "      <td>...</td>\n",
              "      <td>...</td>\n",
              "      <td>...</td>\n",
              "      <td>...</td>\n",
              "      <td>...</td>\n",
              "      <td>...</td>\n",
              "      <td>...</td>\n",
              "      <td>...</td>\n",
              "      <td>...</td>\n",
              "    </tr>\n",
              "    <tr>\n",
              "      <th>194</th>\n",
              "      <td>0.0</td>\n",
              "      <td>2023-07-29</td>\n",
              "      <td>95</td>\n",
              "      <td>0</td>\n",
              "      <td>0</td>\n",
              "      <td>زنگ زدايي آرماتور ديوارهاي حائل و ستونها سندبل...</td>\n",
              "      <td>0.00</td>\n",
              "      <td>0.00</td>\n",
              "      <td>0</td>\n",
              "      <td>0</td>\n",
              "      <td>0.0000</td>\n",
              "    </tr>\n",
              "    <tr>\n",
              "      <th>195</th>\n",
              "      <td>0.0</td>\n",
              "      <td>2023-07-30</td>\n",
              "      <td>96</td>\n",
              "      <td>0</td>\n",
              "      <td>0</td>\n",
              "      <td>زنگ زدايي آرماتور ديوارهاي حائل و ستونها سندبل...</td>\n",
              "      <td>0.00</td>\n",
              "      <td>0.00</td>\n",
              "      <td>0</td>\n",
              "      <td>0</td>\n",
              "      <td>0.0000</td>\n",
              "    </tr>\n",
              "    <tr>\n",
              "      <th>196</th>\n",
              "      <td>0.0</td>\n",
              "      <td>2023-07-30</td>\n",
              "      <td>96</td>\n",
              "      <td>0</td>\n",
              "      <td>0</td>\n",
              "      <td>خم و برش آرماتور هاي ستون ها و ديوار هاي حائل</td>\n",
              "      <td>54.28</td>\n",
              "      <td>7.86</td>\n",
              "      <td>تن</td>\n",
              "      <td>0</td>\n",
              "      <td>426.6408</td>\n",
              "    </tr>\n",
              "    <tr>\n",
              "      <th>197</th>\n",
              "      <td>0.0</td>\n",
              "      <td>2023-07-31</td>\n",
              "      <td>97</td>\n",
              "      <td>0</td>\n",
              "      <td>0</td>\n",
              "      <td>زنگ زدايي آرماتور ديوارهاي حائل و ستونها سندبل...</td>\n",
              "      <td>0.00</td>\n",
              "      <td>0.00</td>\n",
              "      <td>0</td>\n",
              "      <td>0</td>\n",
              "      <td>0.0000</td>\n",
              "    </tr>\n",
              "    <tr>\n",
              "      <th>198</th>\n",
              "      <td>0.0</td>\n",
              "      <td>2023-08-01</td>\n",
              "      <td>98</td>\n",
              "      <td>0</td>\n",
              "      <td>0</td>\n",
              "      <td>زنگ زدايي آرماتور ديوارهاي حائل و ستونها سندبلاست</td>\n",
              "      <td>0.00</td>\n",
              "      <td>0.00</td>\n",
              "      <td>0</td>\n",
              "      <td>0</td>\n",
              "      <td>0.0000</td>\n",
              "    </tr>\n",
              "  </tbody>\n",
              "</table>\n",
              "<p>199 rows × 11 columns</p>\n",
              "</div>\n",
              "      <button class=\"colab-df-convert\" onclick=\"convertToInteractive('df-396ab713-e127-4799-8595-88fa23780e0c')\"\n",
              "              title=\"Convert this dataframe to an interactive table.\"\n",
              "              style=\"display:none;\">\n",
              "\n",
              "  <svg xmlns=\"http://www.w3.org/2000/svg\" height=\"24px\"viewBox=\"0 0 24 24\"\n",
              "       width=\"24px\">\n",
              "    <path d=\"M0 0h24v24H0V0z\" fill=\"none\"/>\n",
              "    <path d=\"M18.56 5.44l.94 2.06.94-2.06 2.06-.94-2.06-.94-.94-2.06-.94 2.06-2.06.94zm-11 1L8.5 8.5l.94-2.06 2.06-.94-2.06-.94L8.5 2.5l-.94 2.06-2.06.94zm10 10l.94 2.06.94-2.06 2.06-.94-2.06-.94-.94-2.06-.94 2.06-2.06.94z\"/><path d=\"M17.41 7.96l-1.37-1.37c-.4-.4-.92-.59-1.43-.59-.52 0-1.04.2-1.43.59L10.3 9.45l-7.72 7.72c-.78.78-.78 2.05 0 2.83L4 21.41c.39.39.9.59 1.41.59.51 0 1.02-.2 1.41-.59l7.78-7.78 2.81-2.81c.8-.78.8-2.07 0-2.86zM5.41 20L4 18.59l7.72-7.72 1.47 1.35L5.41 20z\"/>\n",
              "  </svg>\n",
              "      </button>\n",
              "\n",
              "\n",
              "\n",
              "    <div id=\"df-09f161d1-7504-4ad9-83a3-36002dfea1bc\">\n",
              "      <button class=\"colab-df-quickchart\" onclick=\"quickchart('df-09f161d1-7504-4ad9-83a3-36002dfea1bc')\"\n",
              "              title=\"Suggest charts.\"\n",
              "              style=\"display:none;\">\n",
              "\n",
              "<svg xmlns=\"http://www.w3.org/2000/svg\" height=\"24px\"viewBox=\"0 0 24 24\"\n",
              "     width=\"24px\">\n",
              "    <g>\n",
              "        <path d=\"M19 3H5c-1.1 0-2 .9-2 2v14c0 1.1.9 2 2 2h14c1.1 0 2-.9 2-2V5c0-1.1-.9-2-2-2zM9 17H7v-7h2v7zm4 0h-2V7h2v10zm4 0h-2v-4h2v4z\"/>\n",
              "    </g>\n",
              "</svg>\n",
              "      </button>\n",
              "    </div>\n",
              "\n",
              "<style>\n",
              "  .colab-df-quickchart {\n",
              "    background-color: #E8F0FE;\n",
              "    border: none;\n",
              "    border-radius: 50%;\n",
              "    cursor: pointer;\n",
              "    display: none;\n",
              "    fill: #1967D2;\n",
              "    height: 32px;\n",
              "    padding: 0 0 0 0;\n",
              "    width: 32px;\n",
              "  }\n",
              "\n",
              "  .colab-df-quickchart:hover {\n",
              "    background-color: #E2EBFA;\n",
              "    box-shadow: 0px 1px 2px rgba(60, 64, 67, 0.3), 0px 1px 3px 1px rgba(60, 64, 67, 0.15);\n",
              "    fill: #174EA6;\n",
              "  }\n",
              "\n",
              "  [theme=dark] .colab-df-quickchart {\n",
              "    background-color: #3B4455;\n",
              "    fill: #D2E3FC;\n",
              "  }\n",
              "\n",
              "  [theme=dark] .colab-df-quickchart:hover {\n",
              "    background-color: #434B5C;\n",
              "    box-shadow: 0px 1px 3px 1px rgba(0, 0, 0, 0.15);\n",
              "    filter: drop-shadow(0px 1px 2px rgba(0, 0, 0, 0.3));\n",
              "    fill: #FFFFFF;\n",
              "  }\n",
              "</style>\n",
              "\n",
              "    <script>\n",
              "      async function quickchart(key) {\n",
              "        const containerElement = document.querySelector('#' + key);\n",
              "        const charts = await google.colab.kernel.invokeFunction(\n",
              "            'suggestCharts', [key], {});\n",
              "      }\n",
              "    </script>\n",
              "\n",
              "      <script>\n",
              "\n",
              "function displayQuickchartButton(domScope) {\n",
              "  let quickchartButtonEl =\n",
              "    domScope.querySelector('#df-09f161d1-7504-4ad9-83a3-36002dfea1bc button.colab-df-quickchart');\n",
              "  quickchartButtonEl.style.display =\n",
              "    google.colab.kernel.accessAllowed ? 'block' : 'none';\n",
              "}\n",
              "\n",
              "        displayQuickchartButton(document);\n",
              "      </script>\n",
              "      <style>\n",
              "    .colab-df-container {\n",
              "      display:flex;\n",
              "      flex-wrap:wrap;\n",
              "      gap: 12px;\n",
              "    }\n",
              "\n",
              "    .colab-df-convert {\n",
              "      background-color: #E8F0FE;\n",
              "      border: none;\n",
              "      border-radius: 50%;\n",
              "      cursor: pointer;\n",
              "      display: none;\n",
              "      fill: #1967D2;\n",
              "      height: 32px;\n",
              "      padding: 0 0 0 0;\n",
              "      width: 32px;\n",
              "    }\n",
              "\n",
              "    .colab-df-convert:hover {\n",
              "      background-color: #E2EBFA;\n",
              "      box-shadow: 0px 1px 2px rgba(60, 64, 67, 0.3), 0px 1px 3px 1px rgba(60, 64, 67, 0.15);\n",
              "      fill: #174EA6;\n",
              "    }\n",
              "\n",
              "    [theme=dark] .colab-df-convert {\n",
              "      background-color: #3B4455;\n",
              "      fill: #D2E3FC;\n",
              "    }\n",
              "\n",
              "    [theme=dark] .colab-df-convert:hover {\n",
              "      background-color: #434B5C;\n",
              "      box-shadow: 0px 1px 3px 1px rgba(0, 0, 0, 0.15);\n",
              "      filter: drop-shadow(0px 1px 2px rgba(0, 0, 0, 0.3));\n",
              "      fill: #FFFFFF;\n",
              "    }\n",
              "  </style>\n",
              "\n",
              "      <script>\n",
              "        const buttonEl =\n",
              "          document.querySelector('#df-396ab713-e127-4799-8595-88fa23780e0c button.colab-df-convert');\n",
              "        buttonEl.style.display =\n",
              "          google.colab.kernel.accessAllowed ? 'block' : 'none';\n",
              "\n",
              "        async function convertToInteractive(key) {\n",
              "          const element = document.querySelector('#df-396ab713-e127-4799-8595-88fa23780e0c');\n",
              "          const dataTable =\n",
              "            await google.colab.kernel.invokeFunction('convertToInteractive',\n",
              "                                                     [key], {});\n",
              "          if (!dataTable) return;\n",
              "\n",
              "          const docLinkHtml = 'Like what you see? Visit the ' +\n",
              "            '<a target=\"_blank\" href=https://colab.research.google.com/notebooks/data_table.ipynb>data table notebook</a>'\n",
              "            + ' to learn more about interactive tables.';\n",
              "          element.innerHTML = '';\n",
              "          dataTable['output_type'] = 'display_data';\n",
              "          await google.colab.output.renderOutput(dataTable, element);\n",
              "          const docLink = document.createElement('div');\n",
              "          docLink.innerHTML = docLinkHtml;\n",
              "          element.appendChild(docLink);\n",
              "        }\n",
              "      </script>\n",
              "    </div>\n",
              "  </div>\n"
            ]
          },
          "metadata": {},
          "execution_count": 282
        }
      ]
    },
    {
      "cell_type": "code",
      "source": [
        "row_position = 2\n",
        "col_position = 'k'\n",
        "for i in full_file['جمع كل']:\n",
        "    ws[col_position + str(row_position)].value = i\n",
        "    row_position += 1\n",
        "\n",
        "ws['k198'].value\n",
        "wb.save('دیتا بیس گزارشات روزانه (3).xlsx')"
      ],
      "metadata": {
        "id": "lDg4gEdwJmIC"
      },
      "execution_count": 283,
      "outputs": []
    },
    {
      "cell_type": "code",
      "source": [
        "# some type test\n",
        "pd.to_datetime(full_file['تاريخ'])\n",
        "type(full_file['تاريخ'][173])"
      ],
      "metadata": {
        "colab": {
          "base_uri": "https://localhost:8080/"
        },
        "id": "Rd1knK2inKBJ",
        "outputId": "8e1f9fbd-a5ae-4b13-98e6-11ae7d748680"
      },
      "execution_count": 284,
      "outputs": [
        {
          "output_type": "execute_result",
          "data": {
            "text/plain": [
              "pandas._libs.tslibs.timestamps.Timestamp"
            ]
          },
          "metadata": {},
          "execution_count": 284
        }
      ]
    },
    {
      "cell_type": "markdown",
      "source": [
        "#### Finding our data by DATE by `df['target column'].loc[(df['date column'])]`"
      ],
      "metadata": {
        "id": "AiENR1gT-5GM"
      }
    },
    {
      "cell_type": "code",
      "source": [
        "# Locating the data that we want by date and save it in a variable\n",
        "date = input('give me a date\\n')\n",
        "date = pd.Timestamp(date)\n",
        "print(\"\\n\")\n",
        "my_value = full_file['شرح'].loc[(full_file['تاريخ'] == date)]\n",
        "type(my_value)"
      ],
      "metadata": {
        "colab": {
          "base_uri": "https://localhost:8080/"
        },
        "id": "syKTgggtiAn3",
        "outputId": "31504a9c-60bd-4d30-ae7f-3d841a6c0a46"
      },
      "execution_count": 285,
      "outputs": [
        {
          "output_type": "stream",
          "name": "stdout",
          "text": [
            "give me a date\n",
            "2023-07-27\n",
            "\n",
            "\n"
          ]
        },
        {
          "output_type": "execute_result",
          "data": {
            "text/plain": [
              "pandas.core.series.Series"
            ]
          },
          "metadata": {},
          "execution_count": 285
        }
      ]
    },
    {
      "cell_type": "code",
      "source": [
        "for i in my_value:\n",
        "  print(\"1\")"
      ],
      "metadata": {
        "colab": {
          "base_uri": "https://localhost:8080/"
        },
        "id": "UmlSxy4HBYgB",
        "outputId": "f21e5f42-1d91-47f4-f4ef-7e53b93e1cd2"
      },
      "execution_count": 286,
      "outputs": [
        {
          "output_type": "stream",
          "name": "stdout",
          "text": [
            "1\n",
            "1\n",
            "1\n"
          ]
        }
      ]
    },
    {
      "cell_type": "markdown",
      "source": [
        "### moving through the final target"
      ],
      "metadata": {
        "id": "xf3H2Ppbpgl5"
      }
    },
    {
      "cell_type": "code",
      "source": [
        "ws_des = wb['1']"
      ],
      "metadata": {
        "id": "ATUpmLPIjd_P"
      },
      "execution_count": 287,
      "outputs": []
    },
    {
      "cell_type": "code",
      "source": [
        "print(f\"Total number of rows: {ws_des.max_row} \\nTotal number columns: {ws_des.max_column}\")"
      ],
      "metadata": {
        "colab": {
          "base_uri": "https://localhost:8080/"
        },
        "id": "5zZVaoODAKYa",
        "outputId": "65dabc9a-bb6f-464b-bd37-803e9c50e778"
      },
      "execution_count": 288,
      "outputs": [
        {
          "output_type": "stream",
          "name": "stdout",
          "text": [
            "Total number of rows: 25 \n",
            "Total number columns: 36\n"
          ]
        }
      ]
    },
    {
      "cell_type": "code",
      "source": [
        "row_pos = 6\n",
        "col_pos = \"j\"\n",
        "ws_des[col_pos + str(row_pos)].value"
      ],
      "metadata": {
        "colab": {
          "base_uri": "https://localhost:8080/",
          "height": 35
        },
        "id": "hjjEcrPHAQGe",
        "outputId": "cb9a5b11-2d90-456d-c156-2f6fc8df1bd6"
      },
      "execution_count": 289,
      "outputs": [
        {
          "output_type": "execute_result",
          "data": {
            "text/plain": [
              "'زنگ زدايي آرماتور ديوارهاي حائل و ستونها سندبلاست'"
            ],
            "application/vnd.google.colaboratory.intrinsic+json": {
              "type": "string"
            }
          },
          "metadata": {},
          "execution_count": 289
        }
      ]
    },
    {
      "cell_type": "code",
      "source": [
        "for i in my_value:\n",
        "  ws_des[col_pos + str(row_pos)].value = i\n",
        "  row_pos += 1\n",
        "ws_des['j6'].value\n",
        "\n",
        "ws_des[col_pos + str(row_pos)].value\n"
      ],
      "metadata": {
        "id": "oBHm-UsjDFZi"
      },
      "execution_count": 290,
      "outputs": []
    },
    {
      "cell_type": "markdown",
      "source": [
        "#### Save it"
      ],
      "metadata": {
        "id": "DFdi5EuBJH6U"
      }
    },
    {
      "cell_type": "code",
      "source": [
        "wb.save('دیتا بیس گزارشات روزانه (3).xlsx')"
      ],
      "metadata": {
        "id": "_IJvhbVfHQKz"
      },
      "execution_count": 291,
      "outputs": []
    }
  ]
}